{
  "cells": [
    {
      "cell_type": "markdown",
      "metadata": {
        "id": "NM6IQlbiPxd0"
      },
      "source": [
        "https://bit.ly/FEML-10-ensemble"
      ]
    },
    {
      "cell_type": "code",
      "execution_count": 1,
      "metadata": {
        "id": "qtcjt-1Tz0mt"
      },
      "outputs": [],
      "source": [
        "import pandas as pd\n",
        "import numpy as np\n",
        "from sklearn.ensemble import RandomForestRegressor\n",
        "from sklearn.model_selection import train_test_split\n",
        "from matplotlib import pyplot as plt\n",
        "from sklearn.model_selection import GridSearchCV\n",
        "from sklearn.metrics import make_scorer\n",
        "from sklearn.metrics import r2_score\n",
        "from sklearn.model_selection import ShuffleSplit"
      ]
    },
    {
      "cell_type": "code",
      "execution_count": 2,
      "metadata": {
        "colab": {
          "base_uri": "https://localhost:8080/"
        },
        "id": "Kh9qPR79PygW",
        "outputId": "1bca4251-d97e-4d60-a95a-8a909feee61e"
      },
      "outputs": [
        {
          "name": "stdout",
          "output_type": "stream",
          "text": [
            "--2023-04-21 17:04:34--  https://drive.google.com/uc?id=1UyGD0iuIsO0Q7mBn8YY6lSuCc8r5MGzH\n",
            "Resolving drive.google.com (drive.google.com)... 173.194.205.138, 173.194.205.113, 173.194.205.139, ...\n",
            "Connecting to drive.google.com (drive.google.com)|173.194.205.138|:443... connected.\n",
            "HTTP request sent, awaiting response... 303 See Other\n",
            "Location: https://doc-0o-84-docs.googleusercontent.com/docs/securesc/ha0ro937gcuc7l7deffksulhg5h7mbp1/02lvnojqhr3hj094bndlb4vtqcccb50r/1682085825000/02611596255248067438/*/1UyGD0iuIsO0Q7mBn8YY6lSuCc8r5MGzH?uuid=f4691e86-11ac-4fc8-bbdf-41a521614c97 [following]\n",
            "Warning: wildcards not supported in HTTP.\n",
            "--2023-04-21 17:04:36--  https://doc-0o-84-docs.googleusercontent.com/docs/securesc/ha0ro937gcuc7l7deffksulhg5h7mbp1/02lvnojqhr3hj094bndlb4vtqcccb50r/1682085825000/02611596255248067438/*/1UyGD0iuIsO0Q7mBn8YY6lSuCc8r5MGzH?uuid=f4691e86-11ac-4fc8-bbdf-41a521614c97\n",
            "Resolving doc-0o-84-docs.googleusercontent.com (doc-0o-84-docs.googleusercontent.com)... 172.217.17.129\n",
            "Connecting to doc-0o-84-docs.googleusercontent.com (doc-0o-84-docs.googleusercontent.com)|172.217.17.129|:443... connected.\n",
            "HTTP request sent, awaiting response... 200 OK\n",
            "Length: 460676 (450K) [text/csv]\n",
            "Saving to: 'train.csv'\n",
            "\n",
            "train.csv           100%[===================>] 449.88K  1.00MB/s    in 0.4s    \n",
            "\n",
            "2023-04-21 17:04:37 (1.00 MB/s) - 'train.csv' saved [460676/460676]\n",
            "\n"
          ]
        }
      ],
      "source": [
        "!wget 'https://drive.google.com/uc?id=1UyGD0iuIsO0Q7mBn8YY6lSuCc8r5MGzH' -O train.csv"
      ]
    },
    {
      "cell_type": "code",
      "execution_count": 3,
      "metadata": {
        "id": "MkYXcbMaz0m5"
      },
      "outputs": [],
      "source": [
        "data = pd.read_csv('train.csv')"
      ]
    },
    {
      "cell_type": "code",
      "execution_count": 4,
      "metadata": {
        "colab": {
          "base_uri": "https://localhost:8080/",
          "height": 299
        },
        "id": "5dfSehsC1Mtb",
        "outputId": "dae3c62d-3197-408e-de3d-7f27c052f91b"
      },
      "outputs": [
        {
          "data": {
            "text/html": [
              "<div>\n",
              "<style scoped>\n",
              "    .dataframe tbody tr th:only-of-type {\n",
              "        vertical-align: middle;\n",
              "    }\n",
              "\n",
              "    .dataframe tbody tr th {\n",
              "        vertical-align: top;\n",
              "    }\n",
              "\n",
              "    .dataframe thead th {\n",
              "        text-align: right;\n",
              "    }\n",
              "</style>\n",
              "<table border=\"1\" class=\"dataframe\">\n",
              "  <thead>\n",
              "    <tr style=\"text-align: right;\">\n",
              "      <th></th>\n",
              "      <th>Id</th>\n",
              "      <th>MSSubClass</th>\n",
              "      <th>MSZoning</th>\n",
              "      <th>LotFrontage</th>\n",
              "      <th>LotArea</th>\n",
              "      <th>Street</th>\n",
              "      <th>Alley</th>\n",
              "      <th>LotShape</th>\n",
              "      <th>LandContour</th>\n",
              "      <th>Utilities</th>\n",
              "      <th>...</th>\n",
              "      <th>PoolArea</th>\n",
              "      <th>PoolQC</th>\n",
              "      <th>Fence</th>\n",
              "      <th>MiscFeature</th>\n",
              "      <th>MiscVal</th>\n",
              "      <th>MoSold</th>\n",
              "      <th>YrSold</th>\n",
              "      <th>SaleType</th>\n",
              "      <th>SaleCondition</th>\n",
              "      <th>SalePrice</th>\n",
              "    </tr>\n",
              "  </thead>\n",
              "  <tbody>\n",
              "    <tr>\n",
              "      <th>0</th>\n",
              "      <td>1</td>\n",
              "      <td>60</td>\n",
              "      <td>RL</td>\n",
              "      <td>65.0</td>\n",
              "      <td>8450</td>\n",
              "      <td>Pave</td>\n",
              "      <td>NaN</td>\n",
              "      <td>Reg</td>\n",
              "      <td>Lvl</td>\n",
              "      <td>AllPub</td>\n",
              "      <td>...</td>\n",
              "      <td>0</td>\n",
              "      <td>NaN</td>\n",
              "      <td>NaN</td>\n",
              "      <td>NaN</td>\n",
              "      <td>0</td>\n",
              "      <td>2</td>\n",
              "      <td>2008</td>\n",
              "      <td>WD</td>\n",
              "      <td>Normal</td>\n",
              "      <td>208500</td>\n",
              "    </tr>\n",
              "    <tr>\n",
              "      <th>1</th>\n",
              "      <td>2</td>\n",
              "      <td>20</td>\n",
              "      <td>RL</td>\n",
              "      <td>80.0</td>\n",
              "      <td>9600</td>\n",
              "      <td>Pave</td>\n",
              "      <td>NaN</td>\n",
              "      <td>Reg</td>\n",
              "      <td>Lvl</td>\n",
              "      <td>AllPub</td>\n",
              "      <td>...</td>\n",
              "      <td>0</td>\n",
              "      <td>NaN</td>\n",
              "      <td>NaN</td>\n",
              "      <td>NaN</td>\n",
              "      <td>0</td>\n",
              "      <td>5</td>\n",
              "      <td>2007</td>\n",
              "      <td>WD</td>\n",
              "      <td>Normal</td>\n",
              "      <td>181500</td>\n",
              "    </tr>\n",
              "    <tr>\n",
              "      <th>2</th>\n",
              "      <td>3</td>\n",
              "      <td>60</td>\n",
              "      <td>RL</td>\n",
              "      <td>68.0</td>\n",
              "      <td>11250</td>\n",
              "      <td>Pave</td>\n",
              "      <td>NaN</td>\n",
              "      <td>IR1</td>\n",
              "      <td>Lvl</td>\n",
              "      <td>AllPub</td>\n",
              "      <td>...</td>\n",
              "      <td>0</td>\n",
              "      <td>NaN</td>\n",
              "      <td>NaN</td>\n",
              "      <td>NaN</td>\n",
              "      <td>0</td>\n",
              "      <td>9</td>\n",
              "      <td>2008</td>\n",
              "      <td>WD</td>\n",
              "      <td>Normal</td>\n",
              "      <td>223500</td>\n",
              "    </tr>\n",
              "    <tr>\n",
              "      <th>3</th>\n",
              "      <td>4</td>\n",
              "      <td>70</td>\n",
              "      <td>RL</td>\n",
              "      <td>60.0</td>\n",
              "      <td>9550</td>\n",
              "      <td>Pave</td>\n",
              "      <td>NaN</td>\n",
              "      <td>IR1</td>\n",
              "      <td>Lvl</td>\n",
              "      <td>AllPub</td>\n",
              "      <td>...</td>\n",
              "      <td>0</td>\n",
              "      <td>NaN</td>\n",
              "      <td>NaN</td>\n",
              "      <td>NaN</td>\n",
              "      <td>0</td>\n",
              "      <td>2</td>\n",
              "      <td>2006</td>\n",
              "      <td>WD</td>\n",
              "      <td>Abnorml</td>\n",
              "      <td>140000</td>\n",
              "    </tr>\n",
              "    <tr>\n",
              "      <th>4</th>\n",
              "      <td>5</td>\n",
              "      <td>60</td>\n",
              "      <td>RL</td>\n",
              "      <td>84.0</td>\n",
              "      <td>14260</td>\n",
              "      <td>Pave</td>\n",
              "      <td>NaN</td>\n",
              "      <td>IR1</td>\n",
              "      <td>Lvl</td>\n",
              "      <td>AllPub</td>\n",
              "      <td>...</td>\n",
              "      <td>0</td>\n",
              "      <td>NaN</td>\n",
              "      <td>NaN</td>\n",
              "      <td>NaN</td>\n",
              "      <td>0</td>\n",
              "      <td>12</td>\n",
              "      <td>2008</td>\n",
              "      <td>WD</td>\n",
              "      <td>Normal</td>\n",
              "      <td>250000</td>\n",
              "    </tr>\n",
              "  </tbody>\n",
              "</table>\n",
              "<p>5 rows × 81 columns</p>\n",
              "</div>"
            ],
            "text/plain": [
              "   Id  MSSubClass MSZoning  LotFrontage  LotArea Street Alley LotShape  \\\n",
              "0   1          60       RL         65.0     8450   Pave   NaN      Reg   \n",
              "1   2          20       RL         80.0     9600   Pave   NaN      Reg   \n",
              "2   3          60       RL         68.0    11250   Pave   NaN      IR1   \n",
              "3   4          70       RL         60.0     9550   Pave   NaN      IR1   \n",
              "4   5          60       RL         84.0    14260   Pave   NaN      IR1   \n",
              "\n",
              "  LandContour Utilities  ... PoolArea PoolQC Fence MiscFeature MiscVal MoSold  \\\n",
              "0         Lvl    AllPub  ...        0    NaN   NaN         NaN       0      2   \n",
              "1         Lvl    AllPub  ...        0    NaN   NaN         NaN       0      5   \n",
              "2         Lvl    AllPub  ...        0    NaN   NaN         NaN       0      9   \n",
              "3         Lvl    AllPub  ...        0    NaN   NaN         NaN       0      2   \n",
              "4         Lvl    AllPub  ...        0    NaN   NaN         NaN       0     12   \n",
              "\n",
              "  YrSold  SaleType  SaleCondition  SalePrice  \n",
              "0   2008        WD         Normal     208500  \n",
              "1   2007        WD         Normal     181500  \n",
              "2   2008        WD         Normal     223500  \n",
              "3   2006        WD        Abnorml     140000  \n",
              "4   2008        WD         Normal     250000  \n",
              "\n",
              "[5 rows x 81 columns]"
            ]
          },
          "execution_count": 4,
          "metadata": {},
          "output_type": "execute_result"
        }
      ],
      "source": [
        "data.head()"
      ]
    },
    {
      "cell_type": "code",
      "execution_count": 5,
      "metadata": {
        "colab": {
          "base_uri": "https://localhost:8080/"
        },
        "id": "90ch1_Xqz0m9",
        "outputId": "c27f9097-ba03-46c3-c695-84cb36ec8e1d"
      },
      "outputs": [
        {
          "data": {
            "text/plain": [
              "((1022, 80), (438, 80))"
            ]
          },
          "execution_count": 5,
          "metadata": {},
          "output_type": "execute_result"
        }
      ],
      "source": [
        "# Разделяем на тренировочные и тестовые данные\n",
        "\n",
        "X_train, X_test, y_train, y_test = train_test_split(data.drop(columns='SalePrice'),\n",
        "                                                    data['SalePrice'],\n",
        "                                                    test_size=0.3,\n",
        "                                                    random_state=42)\n",
        "X_train.shape, X_test.shape"
      ]
    },
    {
      "cell_type": "code",
      "execution_count": 6,
      "metadata": {
        "colab": {
          "base_uri": "https://localhost:8080/"
        },
        "id": "8ezuS0G-QlLw",
        "outputId": "7a9964a4-3586-45c8-e57a-2fabe679c071"
      },
      "outputs": [
        {
          "data": {
            "text/plain": [
              "Index(['MSZoning', 'Street', 'Alley', 'LotShape', 'LandContour', 'Utilities',\n",
              "       'LotConfig', 'LandSlope', 'Neighborhood', 'Condition1', 'Condition2',\n",
              "       'BldgType', 'HouseStyle', 'RoofStyle', 'RoofMatl', 'Exterior1st',\n",
              "       'Exterior2nd', 'MasVnrType', 'ExterQual', 'ExterCond', 'Foundation',\n",
              "       'BsmtQual', 'BsmtCond', 'BsmtExposure', 'BsmtFinType1', 'BsmtFinType2',\n",
              "       'Heating', 'HeatingQC', 'CentralAir', 'Electrical', 'KitchenQual',\n",
              "       'Functional', 'FireplaceQu', 'GarageType', 'GarageFinish', 'GarageQual',\n",
              "       'GarageCond', 'PavedDrive', 'PoolQC', 'Fence', 'MiscFeature',\n",
              "       'SaleType', 'SaleCondition'],\n",
              "      dtype='object')"
            ]
          },
          "execution_count": 6,
          "metadata": {},
          "output_type": "execute_result"
        }
      ],
      "source": [
        "# Находим категориальные признаки\n",
        "\n",
        "categorials = X_train.select_dtypes('object').columns\n",
        "categorials"
      ]
    },
    {
      "cell_type": "code",
      "execution_count": 7,
      "metadata": {
        "id": "X1zKpAJFz0m9"
      },
      "outputs": [],
      "source": [
        "# закодируем пропущенные значений строкой, факт пропущенного значения тоже может нести в себе информацию\n",
        "X_train[categorials] = X_train[categorials].fillna('nan')\n",
        "X_test[categorials] = X_test[categorials].fillna('nan')"
      ]
    },
    {
      "cell_type": "code",
      "execution_count": 8,
      "metadata": {
        "colab": {
          "base_uri": "https://localhost:8080/",
          "height": 299
        },
        "id": "Ym8QnGbzz0m-",
        "outputId": "d4b1ab85-f4c2-4687-efee-0175fec0252a"
      },
      "outputs": [
        {
          "data": {
            "text/html": [
              "<div>\n",
              "<style scoped>\n",
              "    .dataframe tbody tr th:only-of-type {\n",
              "        vertical-align: middle;\n",
              "    }\n",
              "\n",
              "    .dataframe tbody tr th {\n",
              "        vertical-align: top;\n",
              "    }\n",
              "\n",
              "    .dataframe thead th {\n",
              "        text-align: right;\n",
              "    }\n",
              "</style>\n",
              "<table border=\"1\" class=\"dataframe\">\n",
              "  <thead>\n",
              "    <tr style=\"text-align: right;\">\n",
              "      <th></th>\n",
              "      <th>MSSubClass</th>\n",
              "      <th>LotFrontage</th>\n",
              "      <th>LotArea</th>\n",
              "      <th>OverallQual</th>\n",
              "      <th>OverallCond</th>\n",
              "      <th>YearBuilt</th>\n",
              "      <th>YearRemodAdd</th>\n",
              "      <th>MasVnrArea</th>\n",
              "      <th>BsmtFinSF1</th>\n",
              "      <th>BsmtFinSF2</th>\n",
              "      <th>...</th>\n",
              "      <th>GarageArea</th>\n",
              "      <th>WoodDeckSF</th>\n",
              "      <th>OpenPorchSF</th>\n",
              "      <th>EnclosedPorch</th>\n",
              "      <th>3SsnPorch</th>\n",
              "      <th>ScreenPorch</th>\n",
              "      <th>PoolArea</th>\n",
              "      <th>MiscVal</th>\n",
              "      <th>MoSold</th>\n",
              "      <th>YrSold</th>\n",
              "    </tr>\n",
              "  </thead>\n",
              "  <tbody>\n",
              "    <tr>\n",
              "      <th>135</th>\n",
              "      <td>20</td>\n",
              "      <td>80.0</td>\n",
              "      <td>10400</td>\n",
              "      <td>7</td>\n",
              "      <td>6</td>\n",
              "      <td>1970</td>\n",
              "      <td>1970</td>\n",
              "      <td>288.0</td>\n",
              "      <td>0</td>\n",
              "      <td>0</td>\n",
              "      <td>...</td>\n",
              "      <td>530</td>\n",
              "      <td>98</td>\n",
              "      <td>0</td>\n",
              "      <td>0</td>\n",
              "      <td>0</td>\n",
              "      <td>0</td>\n",
              "      <td>0</td>\n",
              "      <td>0</td>\n",
              "      <td>5</td>\n",
              "      <td>2008</td>\n",
              "    </tr>\n",
              "    <tr>\n",
              "      <th>1452</th>\n",
              "      <td>180</td>\n",
              "      <td>35.0</td>\n",
              "      <td>3675</td>\n",
              "      <td>5</td>\n",
              "      <td>5</td>\n",
              "      <td>2005</td>\n",
              "      <td>2005</td>\n",
              "      <td>80.0</td>\n",
              "      <td>547</td>\n",
              "      <td>0</td>\n",
              "      <td>...</td>\n",
              "      <td>525</td>\n",
              "      <td>0</td>\n",
              "      <td>28</td>\n",
              "      <td>0</td>\n",
              "      <td>0</td>\n",
              "      <td>0</td>\n",
              "      <td>0</td>\n",
              "      <td>0</td>\n",
              "      <td>5</td>\n",
              "      <td>2006</td>\n",
              "    </tr>\n",
              "    <tr>\n",
              "      <th>762</th>\n",
              "      <td>60</td>\n",
              "      <td>72.0</td>\n",
              "      <td>8640</td>\n",
              "      <td>7</td>\n",
              "      <td>5</td>\n",
              "      <td>2009</td>\n",
              "      <td>2009</td>\n",
              "      <td>0.0</td>\n",
              "      <td>24</td>\n",
              "      <td>0</td>\n",
              "      <td>...</td>\n",
              "      <td>614</td>\n",
              "      <td>169</td>\n",
              "      <td>45</td>\n",
              "      <td>0</td>\n",
              "      <td>0</td>\n",
              "      <td>0</td>\n",
              "      <td>0</td>\n",
              "      <td>0</td>\n",
              "      <td>6</td>\n",
              "      <td>2010</td>\n",
              "    </tr>\n",
              "    <tr>\n",
              "      <th>932</th>\n",
              "      <td>20</td>\n",
              "      <td>84.0</td>\n",
              "      <td>11670</td>\n",
              "      <td>9</td>\n",
              "      <td>5</td>\n",
              "      <td>2006</td>\n",
              "      <td>2006</td>\n",
              "      <td>302.0</td>\n",
              "      <td>0</td>\n",
              "      <td>0</td>\n",
              "      <td>...</td>\n",
              "      <td>788</td>\n",
              "      <td>0</td>\n",
              "      <td>191</td>\n",
              "      <td>0</td>\n",
              "      <td>0</td>\n",
              "      <td>0</td>\n",
              "      <td>0</td>\n",
              "      <td>0</td>\n",
              "      <td>3</td>\n",
              "      <td>2007</td>\n",
              "    </tr>\n",
              "    <tr>\n",
              "      <th>435</th>\n",
              "      <td>60</td>\n",
              "      <td>43.0</td>\n",
              "      <td>10667</td>\n",
              "      <td>7</td>\n",
              "      <td>6</td>\n",
              "      <td>1996</td>\n",
              "      <td>1996</td>\n",
              "      <td>0.0</td>\n",
              "      <td>385</td>\n",
              "      <td>344</td>\n",
              "      <td>...</td>\n",
              "      <td>550</td>\n",
              "      <td>158</td>\n",
              "      <td>61</td>\n",
              "      <td>0</td>\n",
              "      <td>0</td>\n",
              "      <td>0</td>\n",
              "      <td>0</td>\n",
              "      <td>0</td>\n",
              "      <td>4</td>\n",
              "      <td>2009</td>\n",
              "    </tr>\n",
              "  </tbody>\n",
              "</table>\n",
              "<p>5 rows × 36 columns</p>\n",
              "</div>"
            ],
            "text/plain": [
              "      MSSubClass  LotFrontage  LotArea  OverallQual  OverallCond  YearBuilt  \\\n",
              "135           20         80.0    10400            7            6       1970   \n",
              "1452         180         35.0     3675            5            5       2005   \n",
              "762           60         72.0     8640            7            5       2009   \n",
              "932           20         84.0    11670            9            5       2006   \n",
              "435           60         43.0    10667            7            6       1996   \n",
              "\n",
              "      YearRemodAdd  MasVnrArea  BsmtFinSF1  BsmtFinSF2  ...  GarageArea  \\\n",
              "135           1970       288.0           0           0  ...         530   \n",
              "1452          2005        80.0         547           0  ...         525   \n",
              "762           2009         0.0          24           0  ...         614   \n",
              "932           2006       302.0           0           0  ...         788   \n",
              "435           1996         0.0         385         344  ...         550   \n",
              "\n",
              "      WoodDeckSF  OpenPorchSF  EnclosedPorch  3SsnPorch  ScreenPorch  \\\n",
              "135           98            0              0          0            0   \n",
              "1452           0           28              0          0            0   \n",
              "762          169           45              0          0            0   \n",
              "932            0          191              0          0            0   \n",
              "435          158           61              0          0            0   \n",
              "\n",
              "      PoolArea  MiscVal  MoSold  YrSold  \n",
              "135          0        0       5    2008  \n",
              "1452         0        0       5    2006  \n",
              "762          0        0       6    2010  \n",
              "932          0        0       3    2007  \n",
              "435          0        0       4    2009  \n",
              "\n",
              "[5 rows x 36 columns]"
            ]
          },
          "execution_count": 8,
          "metadata": {},
          "output_type": "execute_result"
        }
      ],
      "source": [
        "# отфильтруем непрерывные признаки\n",
        "integer = X_train.select_dtypes(['int', 'float']).columns.tolist()\n",
        "integer.remove('Id')\n",
        "X_train[integer].head()"
      ]
    },
    {
      "cell_type": "code",
      "execution_count": 9,
      "metadata": {
        "id": "B0yS1rFsz0m_"
      },
      "outputs": [],
      "source": [
        "# Создаем дамми-переменные для категорий\n",
        "dummy_train = pd.get_dummies(X_train[categorials], columns=categorials)\n",
        "dummy_test = pd.get_dummies(X_test[categorials], columns=categorials)\n",
        "\n",
        "dummy_cols = list(set(dummy_train) & set(dummy_test))   # set intersection\n",
        "\n",
        "\n",
        "dummy_train = dummy_train[dummy_cols]\n",
        "dummy_test = dummy_test[dummy_cols]\n",
        "\n",
        "# Заменяем пропуски на специальное значение -999, чтобы деревья могли их отличить\n",
        "X_train = pd.concat([X_train[integer].fillna(-999), dummy_train], axis=1)\n",
        "\n",
        "X_test = pd.concat([X_test[integer].fillna(-999), dummy_test], axis=1)"
      ]
    },
    {
      "cell_type": "code",
      "execution_count": 10,
      "metadata": {},
      "outputs": [
        {
          "data": {
            "text/plain": [
              "((1022, 233), (438, 233), 233)"
            ]
          },
          "execution_count": 10,
          "metadata": {},
          "output_type": "execute_result"
        }
      ],
      "source": [
        "dummy_train.shape, dummy_test.shape, len(dummy_cols)"
      ]
    },
    {
      "cell_type": "code",
      "execution_count": 11,
      "metadata": {},
      "outputs": [
        {
          "data": {
            "text/plain": [
              "((1022, 269), (438, 269))"
            ]
          },
          "execution_count": 11,
          "metadata": {},
          "output_type": "execute_result"
        }
      ],
      "source": [
        "X_train.shape, X_test.shape"
      ]
    },
    {
      "cell_type": "code",
      "execution_count": 12,
      "metadata": {
        "colab": {
          "base_uri": "https://localhost:8080/",
          "height": 317
        },
        "id": "7_WizSkWI8LR",
        "outputId": "38544a1e-7239-4ef1-e195-7c2c804af13e"
      },
      "outputs": [
        {
          "data": {
            "text/html": [
              "<div>\n",
              "<style scoped>\n",
              "    .dataframe tbody tr th:only-of-type {\n",
              "        vertical-align: middle;\n",
              "    }\n",
              "\n",
              "    .dataframe tbody tr th {\n",
              "        vertical-align: top;\n",
              "    }\n",
              "\n",
              "    .dataframe thead th {\n",
              "        text-align: right;\n",
              "    }\n",
              "</style>\n",
              "<table border=\"1\" class=\"dataframe\">\n",
              "  <thead>\n",
              "    <tr style=\"text-align: right;\">\n",
              "      <th></th>\n",
              "      <th>MSSubClass</th>\n",
              "      <th>LotFrontage</th>\n",
              "      <th>LotArea</th>\n",
              "      <th>OverallQual</th>\n",
              "      <th>OverallCond</th>\n",
              "      <th>YearBuilt</th>\n",
              "      <th>YearRemodAdd</th>\n",
              "      <th>MasVnrArea</th>\n",
              "      <th>BsmtFinSF1</th>\n",
              "      <th>BsmtFinSF2</th>\n",
              "      <th>...</th>\n",
              "      <th>GarageFinish_RFn</th>\n",
              "      <th>Neighborhood_IDOTRR</th>\n",
              "      <th>MasVnrType_None</th>\n",
              "      <th>CentralAir_Y</th>\n",
              "      <th>BsmtExposure_No</th>\n",
              "      <th>HouseStyle_1.5Unf</th>\n",
              "      <th>Neighborhood_Edwards</th>\n",
              "      <th>GarageCond_Fa</th>\n",
              "      <th>GarageFinish_Fin</th>\n",
              "      <th>FireplaceQu_Fa</th>\n",
              "    </tr>\n",
              "  </thead>\n",
              "  <tbody>\n",
              "    <tr>\n",
              "      <th>135</th>\n",
              "      <td>20</td>\n",
              "      <td>80.0</td>\n",
              "      <td>10400</td>\n",
              "      <td>7</td>\n",
              "      <td>6</td>\n",
              "      <td>1970</td>\n",
              "      <td>1970</td>\n",
              "      <td>288.0</td>\n",
              "      <td>0</td>\n",
              "      <td>0</td>\n",
              "      <td>...</td>\n",
              "      <td>0</td>\n",
              "      <td>0</td>\n",
              "      <td>0</td>\n",
              "      <td>1</td>\n",
              "      <td>1</td>\n",
              "      <td>0</td>\n",
              "      <td>0</td>\n",
              "      <td>0</td>\n",
              "      <td>0</td>\n",
              "      <td>0</td>\n",
              "    </tr>\n",
              "    <tr>\n",
              "      <th>1452</th>\n",
              "      <td>180</td>\n",
              "      <td>35.0</td>\n",
              "      <td>3675</td>\n",
              "      <td>5</td>\n",
              "      <td>5</td>\n",
              "      <td>2005</td>\n",
              "      <td>2005</td>\n",
              "      <td>80.0</td>\n",
              "      <td>547</td>\n",
              "      <td>0</td>\n",
              "      <td>...</td>\n",
              "      <td>0</td>\n",
              "      <td>0</td>\n",
              "      <td>0</td>\n",
              "      <td>1</td>\n",
              "      <td>0</td>\n",
              "      <td>0</td>\n",
              "      <td>1</td>\n",
              "      <td>0</td>\n",
              "      <td>1</td>\n",
              "      <td>0</td>\n",
              "    </tr>\n",
              "    <tr>\n",
              "      <th>762</th>\n",
              "      <td>60</td>\n",
              "      <td>72.0</td>\n",
              "      <td>8640</td>\n",
              "      <td>7</td>\n",
              "      <td>5</td>\n",
              "      <td>2009</td>\n",
              "      <td>2009</td>\n",
              "      <td>0.0</td>\n",
              "      <td>24</td>\n",
              "      <td>0</td>\n",
              "      <td>...</td>\n",
              "      <td>0</td>\n",
              "      <td>0</td>\n",
              "      <td>1</td>\n",
              "      <td>1</td>\n",
              "      <td>0</td>\n",
              "      <td>0</td>\n",
              "      <td>0</td>\n",
              "      <td>0</td>\n",
              "      <td>0</td>\n",
              "      <td>0</td>\n",
              "    </tr>\n",
              "    <tr>\n",
              "      <th>932</th>\n",
              "      <td>20</td>\n",
              "      <td>84.0</td>\n",
              "      <td>11670</td>\n",
              "      <td>9</td>\n",
              "      <td>5</td>\n",
              "      <td>2006</td>\n",
              "      <td>2006</td>\n",
              "      <td>302.0</td>\n",
              "      <td>0</td>\n",
              "      <td>0</td>\n",
              "      <td>...</td>\n",
              "      <td>0</td>\n",
              "      <td>0</td>\n",
              "      <td>0</td>\n",
              "      <td>1</td>\n",
              "      <td>1</td>\n",
              "      <td>0</td>\n",
              "      <td>0</td>\n",
              "      <td>0</td>\n",
              "      <td>1</td>\n",
              "      <td>0</td>\n",
              "    </tr>\n",
              "    <tr>\n",
              "      <th>435</th>\n",
              "      <td>60</td>\n",
              "      <td>43.0</td>\n",
              "      <td>10667</td>\n",
              "      <td>7</td>\n",
              "      <td>6</td>\n",
              "      <td>1996</td>\n",
              "      <td>1996</td>\n",
              "      <td>0.0</td>\n",
              "      <td>385</td>\n",
              "      <td>344</td>\n",
              "      <td>...</td>\n",
              "      <td>1</td>\n",
              "      <td>0</td>\n",
              "      <td>1</td>\n",
              "      <td>1</td>\n",
              "      <td>0</td>\n",
              "      <td>0</td>\n",
              "      <td>0</td>\n",
              "      <td>0</td>\n",
              "      <td>0</td>\n",
              "      <td>0</td>\n",
              "    </tr>\n",
              "  </tbody>\n",
              "</table>\n",
              "<p>5 rows × 269 columns</p>\n",
              "</div>"
            ],
            "text/plain": [
              "      MSSubClass  LotFrontage  LotArea  OverallQual  OverallCond  YearBuilt  \\\n",
              "135           20         80.0    10400            7            6       1970   \n",
              "1452         180         35.0     3675            5            5       2005   \n",
              "762           60         72.0     8640            7            5       2009   \n",
              "932           20         84.0    11670            9            5       2006   \n",
              "435           60         43.0    10667            7            6       1996   \n",
              "\n",
              "      YearRemodAdd  MasVnrArea  BsmtFinSF1  BsmtFinSF2  ...  GarageFinish_RFn  \\\n",
              "135           1970       288.0           0           0  ...                 0   \n",
              "1452          2005        80.0         547           0  ...                 0   \n",
              "762           2009         0.0          24           0  ...                 0   \n",
              "932           2006       302.0           0           0  ...                 0   \n",
              "435           1996         0.0         385         344  ...                 1   \n",
              "\n",
              "      Neighborhood_IDOTRR  MasVnrType_None  CentralAir_Y  BsmtExposure_No  \\\n",
              "135                     0                0             1                1   \n",
              "1452                    0                0             1                0   \n",
              "762                     0                1             1                0   \n",
              "932                     0                0             1                1   \n",
              "435                     0                1             1                0   \n",
              "\n",
              "      HouseStyle_1.5Unf  Neighborhood_Edwards  GarageCond_Fa  \\\n",
              "135                   0                     0              0   \n",
              "1452                  0                     1              0   \n",
              "762                   0                     0              0   \n",
              "932                   0                     0              0   \n",
              "435                   0                     0              0   \n",
              "\n",
              "      GarageFinish_Fin  FireplaceQu_Fa  \n",
              "135                  0               0  \n",
              "1452                 1               0  \n",
              "762                  0               0  \n",
              "932                  1               0  \n",
              "435                  0               0  \n",
              "\n",
              "[5 rows x 269 columns]"
            ]
          },
          "execution_count": 12,
          "metadata": {},
          "output_type": "execute_result"
        }
      ],
      "source": [
        "X_train.head()"
      ]
    },
    {
      "cell_type": "markdown",
      "metadata": {
        "id": "ihcQMvaV0K96"
      },
      "source": [
        "## Бэггинг"
      ]
    },
    {
      "cell_type": "code",
      "execution_count": 13,
      "metadata": {},
      "outputs": [],
      "source": [
        "results ={}"
      ]
    },
    {
      "cell_type": "code",
      "execution_count": 14,
      "metadata": {
        "id": "rrfCc-w_0KJG"
      },
      "outputs": [],
      "source": [
        "from sklearn.ensemble import  BaggingRegressor\n",
        "from sklearn.neighbors import KNeighborsRegressor\n",
        "from sklearn.tree import DecisionTreeRegressor"
      ]
    },
    {
      "cell_type": "code",
      "execution_count": 15,
      "metadata": {
        "colab": {
          "base_uri": "https://localhost:8080/"
        },
        "id": "RuCVBf941sgH",
        "outputId": "3893c11c-b0b5-461b-884f-ee9342a8b5dd"
      },
      "outputs": [],
      "source": [
        "dt = DecisionTreeRegressor(random_state=10)\n",
        "dt.fit(X_train, y_train)\n",
        "results['DecisionTreeRegressor'] =  dt.score(X_train, y_train), dt.score(X_test, y_test)"
      ]
    },
    {
      "cell_type": "code",
      "execution_count": 16,
      "metadata": {},
      "outputs": [
        {
          "data": {
            "text/plain": [
              "{'DecisionTreeRegressor': (1.0, 0.7556540509485441)}"
            ]
          },
          "execution_count": 16,
          "metadata": {},
          "output_type": "execute_result"
        }
      ],
      "source": [
        "results"
      ]
    },
    {
      "cell_type": "code",
      "execution_count": 17,
      "metadata": {},
      "outputs": [
        {
          "data": {
            "text/plain": [
              "(20, 1955, (1022, 269))"
            ]
          },
          "execution_count": 17,
          "metadata": {},
          "output_type": "execute_result"
        }
      ],
      "source": [
        "dt.tree_.max_depth, dt.tree_.node_count, X_train.shape # the tree is overfitted"
      ]
    },
    {
      "cell_type": "code",
      "execution_count": 18,
      "metadata": {
        "id": "dFeG-sAI1TBg"
      },
      "outputs": [],
      "source": [
        "bagging = BaggingRegressor(DecisionTreeRegressor(),\n",
        "                           n_estimators=10, # количество деревьев\n",
        "                           max_samples=0.5, # доля объектов для обучения каждого дерева\n",
        "                           max_features=0.5,# доля признаков для обучения каждого дерева\n",
        "                           random_state=10)"
      ]
    },
    {
      "cell_type": "code",
      "execution_count": 19,
      "metadata": {
        "colab": {
          "base_uri": "https://localhost:8080/"
        },
        "id": "fq4DnZHL0_-9",
        "outputId": "62db85b5-06e5-48c3-acca-0c27a6298db8"
      },
      "outputs": [
        {
          "data": {
            "text/plain": [
              "BaggingRegressor(base_estimator=DecisionTreeRegressor(), max_features=0.5,\n",
              "                 max_samples=0.5, random_state=10)"
            ]
          },
          "execution_count": 19,
          "metadata": {},
          "output_type": "execute_result"
        }
      ],
      "source": [
        "bagging.fit(X_train, y_train)"
      ]
    },
    {
      "cell_type": "code",
      "execution_count": 20,
      "metadata": {},
      "outputs": [],
      "source": [
        "results['BaggingRegressor with DT'] = bagging.score(X_train, y_train), bagging.score(X_test, y_test)"
      ]
    },
    {
      "cell_type": "code",
      "execution_count": 21,
      "metadata": {
        "colab": {
          "base_uri": "https://localhost:8080/"
        },
        "id": "P2f-b8eB1-tf",
        "outputId": "d3bc9287-cacb-44be-ea20-ea95a075657f"
      },
      "outputs": [],
      "source": [
        "kn = KNeighborsRegressor()\n",
        "kn.fit(X_train, y_train)\n",
        "\n",
        "results['KNeighborsRegressor'] = kn.score(X_train, y_train), kn.score(X_test, y_test)"
      ]
    },
    {
      "cell_type": "code",
      "execution_count": 22,
      "metadata": {
        "id": "MXP2GEnz1YYj"
      },
      "outputs": [],
      "source": [
        "bagging = BaggingRegressor(KNeighborsRegressor(),\n",
        "                           n_estimators=100,\n",
        "                           max_samples=0.5,\n",
        "                           max_features=0.5,\n",
        "                           random_state=10)"
      ]
    },
    {
      "cell_type": "code",
      "execution_count": 23,
      "metadata": {
        "colab": {
          "base_uri": "https://localhost:8080/"
        },
        "id": "tXIq5Ejy1bDH",
        "outputId": "993ad6db-cd64-4241-dd2f-8c6f6a4c70cb"
      },
      "outputs": [
        {
          "data": {
            "text/plain": [
              "BaggingRegressor(base_estimator=KNeighborsRegressor(), max_features=0.5,\n",
              "                 max_samples=0.5, n_estimators=100, random_state=10)"
            ]
          },
          "execution_count": 23,
          "metadata": {},
          "output_type": "execute_result"
        }
      ],
      "source": [
        "bagging.fit(X_train, y_train)"
      ]
    },
    {
      "cell_type": "code",
      "execution_count": 24,
      "metadata": {
        "colab": {
          "base_uri": "https://localhost:8080/"
        },
        "id": "Qj8S9J_q1bHa",
        "outputId": "fb3baca3-89e8-4b23-b244-185fd1a4be2d"
      },
      "outputs": [],
      "source": [
        "results['BaggingRegressor with KNN'] = bagging.score(X_train, y_train), bagging.score(X_test, y_test)"
      ]
    },
    {
      "cell_type": "markdown",
      "metadata": {
        "id": "UlQ0dTFLTEAv"
      },
      "source": [
        "### RandomForest"
      ]
    },
    {
      "cell_type": "code",
      "execution_count": 25,
      "metadata": {
        "colab": {
          "base_uri": "https://localhost:8080/"
        },
        "id": "_ffu_hbgz0m_",
        "outputId": "653b26ca-6a50-428e-bf1b-56621ed366c3"
      },
      "outputs": [
        {
          "data": {
            "text/plain": [
              "RandomForestRegressor(random_state=10)"
            ]
          },
          "execution_count": 25,
          "metadata": {},
          "output_type": "execute_result"
        }
      ],
      "source": [
        "# Создаем модель RandomForest\n",
        "clf_rf = RandomForestRegressor(random_state=10)\n",
        "clf_rf.fit(X_train, y_train)"
      ]
    },
    {
      "cell_type": "code",
      "execution_count": 26,
      "metadata": {},
      "outputs": [],
      "source": [
        "results['RandomForestRegressor'] = clf_rf.score(X_train, y_train), clf_rf.score(X_test, y_test)"
      ]
    },
    {
      "cell_type": "code",
      "execution_count": 27,
      "metadata": {},
      "outputs": [
        {
          "data": {
            "text/html": [
              "<style type=\"text/css\">\n",
              "#T_be691_row0_col1 {\n",
              "  width: 10em;\n",
              "  background: linear-gradient(90deg, coral 100.0%, transparent 100.0%);\n",
              "}\n",
              "#T_be691_row1_col1 {\n",
              "  width: 10em;\n",
              "  background: linear-gradient(90deg, coral 92.8%, transparent 92.8%);\n",
              "}\n",
              "#T_be691_row2_col1 {\n",
              "  width: 10em;\n",
              "  background: linear-gradient(90deg, coral 84.4%, transparent 84.4%);\n",
              "}\n",
              "#T_be691_row3_col1 {\n",
              "  width: 10em;\n",
              "  background: linear-gradient(90deg, coral 80.3%, transparent 80.3%);\n",
              "}\n",
              "#T_be691_row4_col1 {\n",
              "  width: 10em;\n",
              "  background: linear-gradient(90deg, coral 75.5%, transparent 75.5%);\n",
              "}\n",
              "</style>\n",
              "<table id=\"T_be691\">\n",
              "  <thead>\n",
              "    <tr>\n",
              "      <th class=\"blank level0\" >&nbsp;</th>\n",
              "      <th id=\"T_be691_level0_col0\" class=\"col_heading level0 col0\" >Train</th>\n",
              "      <th id=\"T_be691_level0_col1\" class=\"col_heading level0 col1\" >Test</th>\n",
              "    </tr>\n",
              "  </thead>\n",
              "  <tbody>\n",
              "    <tr>\n",
              "      <th id=\"T_be691_level0_row0\" class=\"row_heading level0 row0\" >RandomForestRegressor</th>\n",
              "      <td id=\"T_be691_row0_col0\" class=\"data row0 col0\" >0.978221</td>\n",
              "      <td id=\"T_be691_row0_col1\" class=\"data row0 col1\" >0.895704</td>\n",
              "    </tr>\n",
              "    <tr>\n",
              "      <th id=\"T_be691_level0_row1\" class=\"row_heading level0 row1\" >BaggingRegressor with DT</th>\n",
              "      <td id=\"T_be691_row1_col0\" class=\"data row1 col0\" >0.908956</td>\n",
              "      <td id=\"T_be691_row1_col1\" class=\"data row1 col1\" >0.831366</td>\n",
              "    </tr>\n",
              "    <tr>\n",
              "      <th id=\"T_be691_level0_row2\" class=\"row_heading level0 row2\" >DecisionTreeRegressor</th>\n",
              "      <td id=\"T_be691_row2_col0\" class=\"data row2 col0\" >1.000000</td>\n",
              "      <td id=\"T_be691_row2_col1\" class=\"data row2 col1\" >0.755654</td>\n",
              "    </tr>\n",
              "    <tr>\n",
              "      <th id=\"T_be691_level0_row3\" class=\"row_heading level0 row3\" >BaggingRegressor with KNN</th>\n",
              "      <td id=\"T_be691_row3_col0\" class=\"data row3 col0\" >0.746539</td>\n",
              "      <td id=\"T_be691_row3_col1\" class=\"data row3 col1\" >0.718983</td>\n",
              "    </tr>\n",
              "    <tr>\n",
              "      <th id=\"T_be691_level0_row4\" class=\"row_heading level0 row4\" >KNeighborsRegressor</th>\n",
              "      <td id=\"T_be691_row4_col0\" class=\"data row4 col0\" >0.750185</td>\n",
              "      <td id=\"T_be691_row4_col1\" class=\"data row4 col1\" >0.676139</td>\n",
              "    </tr>\n",
              "  </tbody>\n",
              "</table>\n"
            ],
            "text/plain": [
              "<pandas.io.formats.style.Styler at 0x7fe91f20eee0>"
            ]
          },
          "execution_count": 27,
          "metadata": {},
          "output_type": "execute_result"
        }
      ],
      "source": [
        "pd.DataFrame.from_dict(results, orient='index', columns=['Train', 'Test']).sort_values(by='Test', ascending=False).style.bar(subset=['Test'], color= 'coral')"
      ]
    },
    {
      "cell_type": "code",
      "execution_count": 28,
      "metadata": {
        "id": "fkh8jy7Zz0nC"
      },
      "outputs": [],
      "source": [
        "# Выявляем наиболее важные признаки и выводим на график. Большое значение имеет признак Overall Qual, остальные почти равны нулю\n",
        "\n",
        "imp = pd.Series(clf_rf.feature_importances_)"
      ]
    },
    {
      "cell_type": "code",
      "execution_count": 29,
      "metadata": {
        "id": "a1y_Yk7yz0nD"
      },
      "outputs": [],
      "source": [
        "imp.index = pd.Series(X_train.columns)"
      ]
    },
    {
      "cell_type": "code",
      "execution_count": 30,
      "metadata": {
        "colab": {
          "base_uri": "https://localhost:8080/"
        },
        "id": "E_kAl6egTN5K",
        "outputId": "48d31d42-e2fa-4d43-a728-ec4a1644bdff"
      },
      "outputs": [
        {
          "data": {
            "image/png": "[encoded data removed]",
            "text/plain": [
              "<Figure size 1000x600 with 1 Axes>"
            ]
          },
          "metadata": {},
          "output_type": "display_data"
        }
      ],
      "source": [
        "import matplotlib.cm as cm\n",
        "\n",
        "imp = imp.sort_values(ascending=False)\n",
        "imp = imp.head(10)\n",
        "\n",
        "cmap = cm.get_cmap('coolwarm')                   # \n",
        "norm = plt.Normalize(imp.min(), imp.max())      # normalize the colors\n",
        "colors = [cmap(norm(value)) for value in imp]   # map the normalized values to colors\n",
        "\n",
        "ax = imp.plot(kind='barh', title='Feature Importances', figsize=(10, 6), color= colors)\n",
        "plt.xlabel('Gini importance');"
      ]
    },
    {
      "cell_type": "code",
      "execution_count": 31,
      "metadata": {
        "colab": {
          "base_uri": "https://localhost:8080/",
          "height": 295
        },
        "id": "Ezg9a7nlz0nD",
        "outputId": "1b19ae8e-0857-4192-d867-db5d79e3e661"
      },
      "outputs": [
        {
          "data": {
            "image/png": "[encoded data removed]",
            "text/plain": [
              "<Figure size 640x480 with 1 Axes>"
            ]
          },
          "metadata": {},
          "output_type": "display_data"
        }
      ],
      "source": [
        "plt.title('Top 5 feature importances')\n",
        "plt.xlabel('Features')\n",
        "plt.ylabel('Gini')\n",
        "plt.bar(imp.head().index, imp.head())\n",
        "plt.show()"
      ]
    },
    {
      "cell_type": "markdown",
      "metadata": {
        "id": "PqvgYDpT0Tx1"
      },
      "source": [
        "## Стекинг"
      ]
    },
    {
      "cell_type": "code",
      "execution_count": 32,
      "metadata": {
        "id": "ExfQ01quz0nE"
      },
      "outputs": [],
      "source": [
        "from sklearn.ensemble import StackingRegressor\n",
        "from sklearn.linear_model import LinearRegression\n",
        "from sklearn.neighbors import KNeighborsRegressor\n",
        "from sklearn.tree import DecisionTreeRegressor\n",
        "from sklearn.linear_model import RidgeCV"
      ]
    },
    {
      "cell_type": "code",
      "execution_count": 33,
      "metadata": {
        "id": "vPsuVFCOz0nE"
      },
      "outputs": [],
      "source": [
        "# Создаем стэккинг и обучаем его на наших данных \n",
        "\n",
        "Regressor = StackingRegressor(\n",
        "    [\n",
        "        ('LinearRegression', LinearRegression()),\n",
        "        ('KNeighborsRegressor', KNeighborsRegressor()),\n",
        "        ('DecisionTree', DecisionTreeRegressor())\n",
        "    ], RidgeCV())"
      ]
    },
    {
      "cell_type": "code",
      "execution_count": 34,
      "metadata": {
        "colab": {
          "base_uri": "https://localhost:8080/"
        },
        "id": "AloJkNmbz0nE",
        "outputId": "d05cf8ae-1312-497b-bd27-bb283a9394ba"
      },
      "outputs": [
        {
          "data": {
            "text/plain": [
              "StackingRegressor(estimators=[('LinearRegression', LinearRegression()),\n",
              "                              ('KNeighborsRegressor', KNeighborsRegressor()),\n",
              "                              ('DecisionTree', DecisionTreeRegressor())],\n",
              "                  final_estimator=RidgeCV(alphas=array([ 0.1,  1. , 10. ])))"
            ]
          },
          "execution_count": 34,
          "metadata": {},
          "output_type": "execute_result"
        }
      ],
      "source": [
        "Regressor.fit(X_train, y_train)"
      ]
    },
    {
      "cell_type": "code",
      "execution_count": 35,
      "metadata": {},
      "outputs": [],
      "source": [
        "results['StackingRegressor'] = Regressor.score(X_train, y_train), Regressor.score(X_test, y_test)"
      ]
    },
    {
      "cell_type": "code",
      "execution_count": 36,
      "metadata": {
        "colab": {
          "base_uri": "https://localhost:8080/"
        },
        "id": "QEDrmuoLTdY3",
        "outputId": "9e8613a2-16cc-471b-a594-994f91615b28"
      },
      "outputs": [
        {
          "name": "stdout",
          "output_type": "stream",
          "text": [
            "Score on train  0.9569742758560256\n",
            "Score on test  0.8618890311559873\n"
          ]
        }
      ],
      "source": [
        "print(f'Score on train  {Regressor.score(X_train, y_train)}')\n",
        "print(f'Score on test  {Regressor.score(X_test, y_test)}')"
      ]
    },
    {
      "cell_type": "code",
      "execution_count": 37,
      "metadata": {
        "colab": {
          "base_uri": "https://localhost:8080/"
        },
        "id": "sc8zBKZOz0nF",
        "outputId": "62f08e20-c946-45e7-d8fb-208b6e80c559"
      },
      "outputs": [
        {
          "name": "stdout",
          "output_type": "stream",
          "text": [
            "Score on train  with model LinearRegression 0.9324813510011759\n",
            "Score on test  with model LinearRegression 0.8089579218167005\n",
            "Score on train  with model KNeighborsRegressor 0.750184842189582\n",
            "Score on test  with model KNeighborsRegressor 0.676138613361793\n",
            "Score on train  with model DecisionTree 1.0\n",
            "Score on test  with model DecisionTree 0.768240297489187\n"
          ]
        }
      ],
      "source": [
        "for i in Regressor.named_estimators:\n",
        "    print(f'Score on train  with model {i} {Regressor.named_estimators_[i].score(X_train, y_train)}')\n",
        "    print(f'Score on test  with model {i} {Regressor.named_estimators_[i].score(X_test, y_test)}')"
      ]
    },
    {
      "cell_type": "markdown",
      "metadata": {
        "id": "2s_FqILrz0nF"
      },
      "source": [
        "Лучше всех справилась Линейная регрессия.\n",
        "Деревья решений, как и предполагалось, переобучилась. Алгоритм ближайшего соседа тоже не плохо справилась с задачей. "
      ]
    },
    {
      "cell_type": "markdown",
      "metadata": {
        "id": "pzI5afrSCUsL"
      },
      "source": [
        "## Бустинг"
      ]
    },
    {
      "cell_type": "code",
      "execution_count": 38,
      "metadata": {
        "id": "WcEZUKKBTrnr"
      },
      "outputs": [],
      "source": [
        "from sklearn.ensemble import GradientBoostingRegressor\n",
        "\n",
        "boosting = GradientBoostingRegressor(n_estimators=100,\n",
        "                                     random_state=10)"
      ]
    },
    {
      "cell_type": "code",
      "execution_count": 39,
      "metadata": {
        "colab": {
          "base_uri": "https://localhost:8080/"
        },
        "id": "ao-tHtyLTrI8",
        "outputId": "8b517cf2-b37b-409e-b60c-06ddb49f3ffa"
      },
      "outputs": [
        {
          "data": {
            "text/plain": [
              "GradientBoostingRegressor(random_state=10)"
            ]
          },
          "execution_count": 39,
          "metadata": {},
          "output_type": "execute_result"
        }
      ],
      "source": [
        "boosting.fit(X_train, y_train)"
      ]
    },
    {
      "cell_type": "code",
      "execution_count": 40,
      "metadata": {},
      "outputs": [],
      "source": [
        "results['StackingRegressor'] = Regressor.score(X_train, y_train), Regressor.score(X_test, y_test)"
      ]
    },
    {
      "cell_type": "code",
      "execution_count": 41,
      "metadata": {
        "colab": {
          "base_uri": "https://localhost:8080/"
        },
        "id": "-uD7ki0gTrI-",
        "outputId": "a67ece52-916b-469e-dae8-501ee2decf2f"
      },
      "outputs": [
        {
          "data": {
            "text/plain": [
              "0.9715180667981475"
            ]
          },
          "execution_count": 41,
          "metadata": {},
          "output_type": "execute_result"
        }
      ],
      "source": [
        "boosting.score(X_train, y_train)"
      ]
    },
    {
      "cell_type": "code",
      "execution_count": 42,
      "metadata": {
        "colab": {
          "base_uri": "https://localhost:8080/"
        },
        "id": "aCtGjHK2TrI-",
        "outputId": "d9e968d3-0819-40b7-b8de-25133e968bb4"
      },
      "outputs": [
        {
          "data": {
            "text/plain": [
              "0.914321550864855"
            ]
          },
          "execution_count": 42,
          "metadata": {},
          "output_type": "execute_result"
        }
      ],
      "source": [
        "boosting.score(X_test, y_test)"
      ]
    },
    {
      "cell_type": "markdown",
      "metadata": {
        "id": "AAluyC7FU6C-"
      },
      "source": [
        "### lightgbm"
      ]
    },
    {
      "cell_type": "code",
      "execution_count": 43,
      "metadata": {
        "id": "Qp0iN4znAoFI"
      },
      "outputs": [],
      "source": [
        "try:\n",
        "  from lightgbm import LGBMRegressor\n",
        "except:\n",
        "  !pip install lightgbm\n",
        "  from lightgbm import LGBMRegressor"
      ]
    },
    {
      "cell_type": "code",
      "execution_count": 44,
      "metadata": {
        "colab": {
          "base_uri": "https://localhost:8080/"
        },
        "id": "UAyC_tjrAswB",
        "outputId": "acbe1411-85e6-4610-f5cf-5602870d8299"
      },
      "outputs": [],
      "source": [
        "lgbm = LGBMRegressor(random_state=10)"
      ]
    },
    {
      "cell_type": "code",
      "execution_count": 45,
      "metadata": {},
      "outputs": [],
      "source": [
        "# lgbm.fit(X_train, y_train)"
      ]
    },
    {
      "cell_type": "code",
      "execution_count": 58,
      "metadata": {},
      "outputs": [],
      "source": [
        "results['LGBMRegressor'] = 0,0        #lgbm.score(X_train, y_train), lgbm.score(X_test, y_test)"
      ]
    },
    {
      "attachments": {},
      "cell_type": "markdown",
      "metadata": {
        "id": "AJgSl3LNU8Cj"
      },
      "source": [
        "### xgboost (eXtreme Gradient Boosting)"
      ]
    },
    {
      "cell_type": "code",
      "execution_count": 59,
      "metadata": {
        "id": "qA34ZWXyUKfI"
      },
      "outputs": [],
      "source": [
        "try:\n",
        "  from xgboost import XGBRegressor\n",
        "except:\n",
        "  !pip install xgboost\n",
        "  from xgboost import XGBRegressor"
      ]
    },
    {
      "cell_type": "code",
      "execution_count": 60,
      "metadata": {
        "colab": {
          "base_uri": "https://localhost:8080/"
        },
        "id": "RHMPNVFTUKfJ",
        "outputId": "53bc60be-57c5-4669-b552-d40016641493"
      },
      "outputs": [
        {
          "data": {
            "text/plain": [
              "XGBRegressor(base_score=None, booster=None, callbacks=None,\n",
              "             colsample_bylevel=None, colsample_bynode=None,\n",
              "             colsample_bytree=None, early_stopping_rounds=None,\n",
              "             enable_categorical=False, eval_metric=None, feature_types=None,\n",
              "             gamma=None, gpu_id=None, grow_policy=None, importance_type=None,\n",
              "             interaction_constraints=None, learning_rate=None, max_bin=None,\n",
              "             max_cat_threshold=None, max_cat_to_onehot=None,\n",
              "             max_delta_step=None, max_depth=None, max_leaves=None,\n",
              "             min_child_weight=None, missing=nan, monotone_constraints=None,\n",
              "             n_estimators=100, n_jobs=None, num_parallel_tree=None,\n",
              "             predictor=None, random_state=10, ...)"
            ]
          },
          "execution_count": 60,
          "metadata": {},
          "output_type": "execute_result"
        }
      ],
      "source": [
        "xgb = XGBRegressor(random_state=10)\n",
        "xgb.fit(X_train, y_train)"
      ]
    },
    {
      "cell_type": "code",
      "execution_count": 61,
      "metadata": {},
      "outputs": [],
      "source": [
        "results['XGBRegressor'] = xgb.score(X_train, y_train), xgb.score(X_test, y_test)"
      ]
    },
    {
      "cell_type": "code",
      "execution_count": 62,
      "metadata": {
        "colab": {
          "base_uri": "https://localhost:8080/"
        },
        "id": "k_l_OW_UUKfL",
        "outputId": "89611d8c-458e-454a-fc9c-de0c3a50cbb2"
      },
      "outputs": [
        {
          "data": {
            "text/plain": [
              "0.9998573389871543"
            ]
          },
          "execution_count": 62,
          "metadata": {},
          "output_type": "execute_result"
        }
      ],
      "source": [
        "xgb.score(X_train, y_train)"
      ]
    },
    {
      "cell_type": "code",
      "execution_count": 63,
      "metadata": {
        "colab": {
          "base_uri": "https://localhost:8080/"
        },
        "id": "WQIO4HKwUKfM",
        "outputId": "fe8aeba9-b33e-4c15-e2a0-69e2bf1ab89c"
      },
      "outputs": [
        {
          "data": {
            "text/plain": [
              "0.8964189757251795"
            ]
          },
          "execution_count": 63,
          "metadata": {},
          "output_type": "execute_result"
        }
      ],
      "source": [
        "xgb.score(X_test, y_test)"
      ]
    },
    {
      "cell_type": "markdown",
      "metadata": {
        "id": "MYeiJvMdU9g1"
      },
      "source": [
        "### catboost"
      ]
    },
    {
      "cell_type": "code",
      "execution_count": 64,
      "metadata": {
        "colab": {
          "base_uri": "https://localhost:8080/"
        },
        "id": "Sq51T8djUXUG",
        "outputId": "72eceb9e-9c7c-49f5-a6a4-63538516954d"
      },
      "outputs": [],
      "source": [
        "try:\n",
        "  from catboost import CatBoostRegressor\n",
        "except:\n",
        "  !pip install catboost\n",
        "  from catboost import CatBoostRegressor"
      ]
    },
    {
      "cell_type": "code",
      "execution_count": 65,
      "metadata": {
        "colab": {
          "base_uri": "https://localhost:8080/"
        },
        "id": "yhZUP8rwUTPN",
        "outputId": "62213c04-4153-4e13-fd77-c3ca7a4ead15"
      },
      "outputs": [
        {
          "data": {
            "text/plain": [
              "<catboost.core.CatBoostRegressor at 0x7fe8fac52c70>"
            ]
          },
          "execution_count": 65,
          "metadata": {},
          "output_type": "execute_result"
        }
      ],
      "source": [
        "cat = CatBoostRegressor(random_state=10, verbose=0)\n",
        "cat.fit(X_train, y_train)"
      ]
    },
    {
      "cell_type": "code",
      "execution_count": 66,
      "metadata": {},
      "outputs": [],
      "source": [
        "results['CatBoostRegressor'] = cat.score(X_train, y_train), cat.score(X_test, y_test)"
      ]
    },
    {
      "cell_type": "code",
      "execution_count": 69,
      "metadata": {},
      "outputs": [
        {
          "data": {
            "text/html": [
              "<style type=\"text/css\">\n",
              "#T_c660b_row0_col1 {\n",
              "  width: 10em;\n",
              "  background: linear-gradient(90deg, coral 100.0%, transparent 100.0%);\n",
              "}\n",
              "#T_c660b_row1_col1, #T_c660b_row2_col1 {\n",
              "  width: 10em;\n",
              "  background: linear-gradient(90deg, coral 97.6%, transparent 97.6%);\n",
              "}\n",
              "#T_c660b_row3_col1 {\n",
              "  width: 10em;\n",
              "  background: linear-gradient(90deg, coral 93.9%, transparent 93.9%);\n",
              "}\n",
              "#T_c660b_row4_col1 {\n",
              "  width: 10em;\n",
              "  background: linear-gradient(90deg, coral 90.6%, transparent 90.6%);\n",
              "}\n",
              "#T_c660b_row5_col1 {\n",
              "  width: 10em;\n",
              "  background: linear-gradient(90deg, coral 82.3%, transparent 82.3%);\n",
              "}\n",
              "#T_c660b_row6_col1 {\n",
              "  width: 10em;\n",
              "  background: linear-gradient(90deg, coral 78.3%, transparent 78.3%);\n",
              "}\n",
              "#T_c660b_row7_col1 {\n",
              "  width: 10em;\n",
              "  background: linear-gradient(90deg, coral 73.6%, transparent 73.6%);\n",
              "}\n",
              "#T_c660b_row8_col1 {\n",
              "  width: 10em;\n",
              "}\n",
              "</style>\n",
              "<table id=\"T_c660b\">\n",
              "  <thead>\n",
              "    <tr>\n",
              "      <th class=\"blank level0\" >&nbsp;</th>\n",
              "      <th id=\"T_c660b_level0_col0\" class=\"col_heading level0 col0\" >Train</th>\n",
              "      <th id=\"T_c660b_level0_col1\" class=\"col_heading level0 col1\" >Test</th>\n",
              "    </tr>\n",
              "  </thead>\n",
              "  <tbody>\n",
              "    <tr>\n",
              "      <th id=\"T_c660b_level0_row0\" class=\"row_heading level0 row0\" >CatBoostRegressor</th>\n",
              "      <td id=\"T_c660b_row0_col0\" class=\"data row0 col0\" >0.995795</td>\n",
              "      <td id=\"T_c660b_row0_col1\" class=\"data row0 col1\" >0.918053</td>\n",
              "    </tr>\n",
              "    <tr>\n",
              "      <th id=\"T_c660b_level0_row1\" class=\"row_heading level0 row1\" >XGBRegressor</th>\n",
              "      <td id=\"T_c660b_row1_col0\" class=\"data row1 col0\" >0.999857</td>\n",
              "      <td id=\"T_c660b_row1_col1\" class=\"data row1 col1\" >0.896419</td>\n",
              "    </tr>\n",
              "    <tr>\n",
              "      <th id=\"T_c660b_level0_row2\" class=\"row_heading level0 row2\" >RandomForestRegressor</th>\n",
              "      <td id=\"T_c660b_row2_col0\" class=\"data row2 col0\" >0.978221</td>\n",
              "      <td id=\"T_c660b_row2_col1\" class=\"data row2 col1\" >0.895704</td>\n",
              "    </tr>\n",
              "    <tr>\n",
              "      <th id=\"T_c660b_level0_row3\" class=\"row_heading level0 row3\" >StackingRegressor</th>\n",
              "      <td id=\"T_c660b_row3_col0\" class=\"data row3 col0\" >0.956974</td>\n",
              "      <td id=\"T_c660b_row3_col1\" class=\"data row3 col1\" >0.861889</td>\n",
              "    </tr>\n",
              "    <tr>\n",
              "      <th id=\"T_c660b_level0_row4\" class=\"row_heading level0 row4\" >BaggingRegressor with DT</th>\n",
              "      <td id=\"T_c660b_row4_col0\" class=\"data row4 col0\" >0.908956</td>\n",
              "      <td id=\"T_c660b_row4_col1\" class=\"data row4 col1\" >0.831366</td>\n",
              "    </tr>\n",
              "    <tr>\n",
              "      <th id=\"T_c660b_level0_row5\" class=\"row_heading level0 row5\" >DecisionTreeRegressor</th>\n",
              "      <td id=\"T_c660b_row5_col0\" class=\"data row5 col0\" >1.000000</td>\n",
              "      <td id=\"T_c660b_row5_col1\" class=\"data row5 col1\" >0.755654</td>\n",
              "    </tr>\n",
              "    <tr>\n",
              "      <th id=\"T_c660b_level0_row6\" class=\"row_heading level0 row6\" >BaggingRegressor with KNN</th>\n",
              "      <td id=\"T_c660b_row6_col0\" class=\"data row6 col0\" >0.746539</td>\n",
              "      <td id=\"T_c660b_row6_col1\" class=\"data row6 col1\" >0.718983</td>\n",
              "    </tr>\n",
              "    <tr>\n",
              "      <th id=\"T_c660b_level0_row7\" class=\"row_heading level0 row7\" >KNeighborsRegressor</th>\n",
              "      <td id=\"T_c660b_row7_col0\" class=\"data row7 col0\" >0.750185</td>\n",
              "      <td id=\"T_c660b_row7_col1\" class=\"data row7 col1\" >0.676139</td>\n",
              "    </tr>\n",
              "    <tr>\n",
              "      <th id=\"T_c660b_level0_row8\" class=\"row_heading level0 row8\" >LGBMRegressor</th>\n",
              "      <td id=\"T_c660b_row8_col0\" class=\"data row8 col0\" >0.000000</td>\n",
              "      <td id=\"T_c660b_row8_col1\" class=\"data row8 col1\" >0.000000</td>\n",
              "    </tr>\n",
              "  </tbody>\n",
              "</table>\n"
            ],
            "text/plain": [
              "<pandas.io.formats.style.Styler at 0x7fe8fbe2a760>"
            ]
          },
          "execution_count": 69,
          "metadata": {},
          "output_type": "execute_result"
        }
      ],
      "source": [
        "pd.DataFrame.from_dict(results, orient='index', columns=['Train', 'Test']).sort_values(by='Test', ascending=False).style.bar(subset=['Test'], color= 'coral')"
      ]
    },
    {
      "cell_type": "markdown",
      "metadata": {
        "id": "fTVjLNXtoJcp"
      },
      "source": [
        "# Дополнительные материалы:\n",
        "1. Ансамбли в машинном обучении - https://dyakonov.org/2019/04/19/%D0%B0%D0%BD%D1%81%D0%B0%D0%BC%D0%B1%D0%BB%D0%B8-%D0%B2-%D0%BC%D0%B0%D1%88%D0%B8%D0%BD%D0%BD%D0%BE%D0%BC-%D0%BE%D0%B1%D1%83%D1%87%D0%B5%D0%BD%D0%B8%D0%B8/\n",
        "2. Ансамблевые методы: бэггинг, бустинг и стекинг - https://neurohive.io/ru/osnovy-data-science/ansamblevye-metody-begging-busting-i-steking/\n",
        "3. Бэггинг и бутстрап + композиции в целом - https://habr.com/ru/company/ods/blog/324402/\n",
        "4. Бэггинг и случайный лес - https://youtu.be/rawnIo_XtYY\n",
        "5. Бустинг - https://medium.com/mlreview/gradient-boosting-from-scratch-1e317ae4587d\n",
        "6. CatBoost против Light GBM против XGBoost - https://machinelearningmastery.ru/catboost-vs-light-gbm-vs-xgboost-5f93620723db/\n"
      ]
    }
  ],
  "metadata": {
    "colab": {
      "collapsed_sections": [
        "UlQ0dTFLTEAv",
        "PqvgYDpT0Tx1",
        "AAluyC7FU6C-",
        "AJgSl3LNU8Cj"
      ],
      "provenance": [],
      "toc_visible": true
    },
    "kernelspec": {
      "display_name": "Python 3",
      "language": "python",
      "name": "python3"
    },
    "language_info": {
      "codemirror_mode": {
        "name": "ipython",
        "version": 3
      },
      "file_extension": ".py",
      "mimetype": "text/x-python",
      "name": "python",
      "nbconvert_exporter": "python",
      "pygments_lexer": "ipython3",
      "version": "3.9.13"
    }
  },
  "nbformat": 4,
  "nbformat_minor": 0
}
