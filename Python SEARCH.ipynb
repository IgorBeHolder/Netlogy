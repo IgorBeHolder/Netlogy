{
 "cells": [
  {
   "cell_type": "markdown",
   "metadata": {},
   "source": [
    "# search from  notebook"
   ]
  },
  {
   "cell_type": "code",
   "execution_count": 10,
   "metadata": {},
   "outputs": [],
   "source": [
    "# !ls"
   ]
  },
  {
   "cell_type": "code",
   "execution_count": 1,
   "metadata": {},
   "outputs": [
    {
     "name": "stdout",
     "output_type": "stream",
     "text": [
      "Netology Pandas_JOIN_HW.ipynb\n",
      "Netology stats_Practice_AB.ipynb\n",
      "Netology stats_A_B-testing HW.ipynb\n",
      "Netology Pandas_basics.ipynb\n",
      "Netology Pandas_PIVOT_and_PYMYSTEM.ipynb\n",
      "Netology Pandas HW_SQL.ipynb\n",
      "ABD-22 LABa.ipynb\n",
      "Netology Pandas_JOIN.ipynb\n",
      "ABD-22 Total HW.ipynb\n",
      "Netology Pandas_JOIN_SQL_HW .ipynb\n",
      "Python_Tricks.ipynb\n",
      "Netology Pandas_functions_groupby.ipynb\n",
      "Netology stats Визуализация данных HW.ipynb\n",
      "NETOLOGY PySpark Лекция 7.ipynb\n",
      "lecture_04_andas.ipynb\n",
      "Netology Pandas HW funcs group.ipynb\n",
      "Netology Pandas_presentation_mode.ipynb\n",
      "ABD-22 LABa -Kuzmin Pandas.ipynb\n"
     ]
    }
   ],
   "source": [
    "import glob\n",
    "\n",
    "# pattern = '../**/*.ipynb'\n",
    "pattern = '*.ipynb'\n",
    "\n",
    "# q = 'SQL'\n",
    "# q = input()\n",
    "inq = input('Input search strings separated by whitespace:').split()\n",
    "\n",
    "for filepath in glob.iglob(pattern, recursive=True):\n",
    "    with open(filepath, encoding='UTF-8') as file:\n",
    "        # print(file)\n",
    "        s = file.read()\n",
    "        found = 1\n",
    "        for search_str in inq:\n",
    "            # if (s.find( q ) > -1):\n",
    "            found = found * (s.find( search_str ) > -1)\n",
    "                \n",
    "        if found == 1:\n",
    "            print(filepath)"
   ]
  },
  {
   "cell_type": "code",
   "execution_count": null,
   "metadata": {},
   "outputs": [],
   "source": [
    "data = pd.read_csv('/Users/velo1/SynologyDrive/GIT_syno/data/power.csv')\n",
    "data.head()"
   ]
  }
 ],
 "metadata": {
  "kernelspec": {
   "display_name": "Python 3.10.5 64-bit",
   "language": "python",
   "name": "python3"
  },
  "language_info": {
   "codemirror_mode": {
    "name": "ipython",
    "version": 3
   },
   "file_extension": ".py",
   "mimetype": "text/x-python",
   "name": "python",
   "nbconvert_exporter": "python",
   "pygments_lexer": "ipython3",
   "version": "3.10.5"
  },
  "orig_nbformat": 4,
  "vscode": {
   "interpreter": {
    "hash": "aee8b7b246df8f9039afb4144a1f6fd8d2ca17a180786b69acc140d282b71a49"
   }
  }
 },
 "nbformat": 4,
 "nbformat_minor": 2
}
