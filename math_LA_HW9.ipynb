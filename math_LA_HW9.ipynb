{
  "cells": [
    {
      "attachments": {},
      "cell_type": "markdown",
      "metadata": {},
      "source": [
        "> Игорь Сорочан DSU-31\n",
        "# Домашнее задание `\"Центральная предельная теорема и статистика\"`"
      ]
    },
    {
      "cell_type": "markdown",
      "metadata": {
        "id": "1xu7dfnnhkhe"
      },
      "source": [
        "## Задание."
      ]
    },
    {
      "cell_type": "markdown",
      "metadata": {
        "id": "uI8KNiPUhkly"
      },
      "source": [
        "В этом задании нужно убедиться, что ЦПТ действительно работает.\n",
        "\n",
        "Создайте случайную величину из [любого выбранного вами распределения](https://docs.scipy.org/doc/scipy/reference/stats.html), для разных значений `n` сгенерируйте 1000 выборок размера `n`. Постройте гистрограммы средних этих выборок и сделайте выводы."
      ]
    },
    {
      "cell_type": "code",
      "execution_count": null,
      "metadata": {
        "id": "QrRvwD__Iu3j"
      },
      "outputs": [],
      "source": [
        "import pandas as pd\n",
        "import numpy as np\n",
        "import matplotlib.pyplot as plt\n",
        "import scipy.stats as sts\n",
        "%matplotlib inline"
      ]
    },
    {
      "cell_type": "code",
      "execution_count": null,
      "metadata": {
        "id": "ZvGvPtzViURC"
      },
      "outputs": [],
      "source": [
        "rv = ### YOUR CODE HERE\n",
        "sample = rv.rvs(size=1000)"
      ]
    },
    {
      "cell_type": "code",
      "execution_count": null,
      "metadata": {
        "id": "XSpWp8P3iUfO"
      },
      "outputs": [],
      "source": [
        "x = np.linspace(0,2,100)\n",
        "pdf = rv.pdf(x)\n",
        "plt.hist(sample, density=True, bins=30, label='sample histogram')\n",
        "plt.plot(x, pdf, label='theoretical pdf', alpha=0.5)\n",
        "plt.legend()\n",
        "plt.ylabel('fraction of samples, $f(x)$')\n",
        "plt.xlabel('$x$')\n",
        "plt.show()"
      ]
    },
    {
      "cell_type": "code",
      "execution_count": null,
      "metadata": {
        "id": "Rm7dyNaRib1G"
      },
      "outputs": [],
      "source": [
        "n1 = 2                # Размеры выборок \n",
        "# YOUR CODE HERE\n",
        "\n",
        "a1 = np.array([])     # Массивы для сохранения средних по выборкам\n",
        "# YOUR CODE HERE\n",
        "\n",
        "samples_count = 1000  # Количество повторов генерации\n",
        "\n",
        "for number in range(samples_count): \n",
        "    sample1 = rv.rvs(size=n1)               # На каждом цикле генерируем выборки указанных размеров\n",
        "    # YOUR CODE HERE\n",
        "    a1 = np.append(a1, sample1.mean())      # Считаем среднее по каждой выборке и добавляем в массив средних\n",
        "    # YOUR CODE HERE"
      ]
    },
    {
      "cell_type": "code",
      "execution_count": null,
      "metadata": {
        "id": "vEkIWfggib5p"
      },
      "outputs": [],
      "source": [
        "label_1 = 'sample of ' + str(n1) + ' histogram'   # Подписи для графиков\n",
        "# YOUR CODE HERE\n",
        "plt.hist(a1, density=True, label=label_1)         # Строим графики\n",
        "# YOUR CODE HERE\n",
        "\n",
        "plt.legend() \n",
        "plt.ylabel('samples means')\n",
        "plt.xlabel('$x$')"
      ]
    }
  ],
  "metadata": {
    "colab": {
      "collapsed_sections": [],
      "name": "HW_9_upd",
      "provenance": []
    },
    "kernelspec": {
      "display_name": "Python 3",
      "language": "python",
      "name": "python3"
    },
    "language_info": {
      "name": "python",
      "version": "3.11.1"
    },
    "vscode": {
      "interpreter": {
        "hash": "aee8b7b246df8f9039afb4144a1f6fd8d2ca17a180786b69acc140d282b71a49"
      }
    }
  },
  "nbformat": 4,
  "nbformat_minor": 0
}
