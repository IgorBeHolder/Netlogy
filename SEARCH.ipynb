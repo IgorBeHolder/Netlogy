{
 "cells": [
  {
   "cell_type": "markdown",
   "metadata": {},
   "source": [
    "# `Searching Notebooks for a Code Snippet`  \n",
    "From September 2022 I started learning Python online.\n",
    "Until everything is settled in my head,  \n",
    "I am faced with the need to search for my own code snippets among all this variety of information.  \n",
    "This piece of code will help you look up your Python notebooks.  \n",
    "It seems to me it's quicker than using a 'grep'.\n",
    "You can define a strict search logic or case sensetive one.  \n",
    "Hope it helps.  \n",
    "Enjoy)"
   ]
  },
  {
   "cell_type": "code",
   "execution_count": 2,
   "metadata": {},
   "outputs": [
    {
     "name": "stdout",
     "output_type": "stream",
     "text": [
      "Looking for: ['cuda', 'msi'] in *.ipynb files\n",
      "Incl. all occurrences: True\n",
      "Case sensitive: False\n",
      "File:          : Search result:\n",
      "................................................................................\n",
      "/Users/velo1/SynologyDrive/GIT_syno/Mac/Netology/stats_A_B_testing_HW.ipynb\n",
      "               : cuDALFy7M7Nmz8/d///d| MsICAEhGWAAAyQgLACAZ| \n",
      "/Users/velo1/SynologyDrive/GIT_syno/Mac/Netology/stats_case_study_Darwinbooks_recommend.ipynb\n",
      "               : cuDAAQoVKsTevXsZPnw4| MSIEYwePZorV67w+eef0| \n",
      "/Users/velo1/SynologyDrive/GIT_syno/Mac/Netology/ML_Сlustering_inclass.ipynb\n",
      "               : cuDAGDBgQo0aNijPOOCO| MSiUTs/44+sf87+uQ6Sq| \n",
      "/Users/velo1/SynologyDrive/GIT_syno/Mac/Netology/MathPlotLib_VIZ3.ipynb\n",
      "               : cuDAAd7ylreg67pNPrIs| mSicGtiMzOJKeklA/7D8| \n",
      "/Users/velo1/SynologyDrive/GIT_syno/Mac/Netology/ML_Feature_engineering_HW.ipynb\n",
      "               : cuDAAdq3b6+sxMTHx2Nh| mSIQEUQfwKhLHA/j0+kI| \n",
      "/Users/velo1/SynologyDrive/GIT_syno/Mac/Netology/DLS_simpsons_baseline.ipynb\n",
      "               : cuda_output = !ldcon| mSI6aBHoKlQ29KgjtxPt| \n",
      "/Users/velo1/SynologyDrive/GIT_syno/Mac/Netology/stats_t_Tests.ipynb\n",
      "               : CuDAROahzxEh6niIAxTP| MSIEcwvgObMmYMJEyZgz| \n",
      "/Users/velo1/SynologyDrive/GIT_syno/Mac/Netology/ML_feature_selection_lection.ipynb\n",
      "               : CUdACqDYUiD35AOrZPSN| msI66hjoGDuuN4KC3CA+| \n",
      "/Users/velo1/SynologyDrive/GIT_syno/Mac/Netology/ML_Подбор_параметров_и_итоговая_практика(решение).ipynb\n",
      "               : cuDAQHiAAjfbaZ2nvlxv| msIscJiyifbF6Wgt3pmZ| \n",
      "/Users/velo1/SynologyDrive/GIT_syno/Mac/Netology/stats_Confidence_Intervals.ipynb\n",
      "               : cuDAANavj+WGG2zcd18e| MSi8WQSqU4f/684QdDAA| \n",
      "/Users/velo1/SynologyDrive/GIT_syno/Mac/Netology/DLS_linreg_regularization.ipynb\n",
      "               : cUdApgCuDbmWZsdOivLl| mSivbRNW5c8nhkpFpni4| \n",
      "/Users/velo1/SynologyDrive/GIT_syno/Mac/Netology/ML_log_regression_SVM.ipynb\n",
      "               : cuDA2Nnbnzp1vv/02TdP| mSIC4UXN/AZdLlclmtVo| \n",
      "/Users/velo1/SynologyDrive/GIT_syno/Mac/Netology/ML_Outliers_features_generation_HW.ipynb\n",
      "               : cuDA+/PDDGDlyZGzdurV| mSIHn/8cbPDQysw3TMAA| \n",
      "/Users/velo1/SynologyDrive/GIT_syno/Mac/Netology/ABD_22_Total_HW.ipynb\n",
      "               : cUdAm9u3ynuELCo0rm4Q| msi8dz//ULH+XH7nPYV6| \n",
      "/Users/velo1/SynologyDrive/GIT_syno/Mac/Netology/MathPlotLib_VIZ.ipynb\n",
      "               : cuDA5Z8+ePQU/F8cx9u/| MsioV3tr1DbHIsge6BzH| \n",
      "/Users/velo1/SynologyDrive/GIT_syno/Mac/Netology/stats_DispAnalysis_ABtests.ipynb\n",
      "               : cuDA0Noa+vj9KlS6NHjx| MsICAEhGWAAAyQgLACAZ| \n",
      "/Users/velo1/SynologyDrive/GIT_syno/Mac/Netology/math_LA_Masterclass.ipynb\n",
      "               : cuDAAWzevFliAdpYAoD0| mSIKly4sHJzc1NNmzY1u| \n",
      "/Users/velo1/SynologyDrive/GIT_syno/Mac/Netology/math_LA_HW_Capstone.ipynb\n",
      "               : cuDAAY28sRDZS6lW0nOu| MSIjIwkJCaF3794cPny4| \n",
      "/Users/velo1/SynologyDrive/GIT_syno/Mac/Netology/ML_decision_trees.ipynb\n",
      "               : cuDAAdNZikWLFlX//v2d| MSiYQFX/zAjv/2uJ0Tlx| \n",
      "/Users/velo1/SynologyDrive/GIT_syno/Mac/Netology/ML_Clustering_algorithms_HW.ipynb\n",
      "               : cuDaiCEguVVWPBG0dUIz| MSIwpff8mDxpknolGTmI| \n",
      "/Users/velo1/SynologyDrive/GIT_syno/Mac/Netology/REGEX_practice.ipynb\n",
      "               : cuDA4MBbinboxHjEucI7| msIVdc/gSrSGj/pJ+3yl| \n"
     ]
    }
   ],
   "source": [
    "import glob\n",
    "import os\n",
    "\n",
    "# Search pattern: one level up in the directory hierarchy\n",
    "# pattern = '../**/*.ipynb'\n",
    "pattern = '*.ipynb'\n",
    "\n",
    "dir_path = os.getcwd()\n",
    "# Search logic: All occurrences must be found\n",
    "all_occurs = True\n",
    "\n",
    "# Case sensitive search\n",
    "case_sens = False\n",
    "\n",
    "# Result length\n",
    "res_length = 20\n",
    "\n",
    "# Search strings\n",
    "# inq = ['kwarg', 'arg']\n",
    "inq = input('Input search strings separated by whitespace:').split()\n",
    "\n",
    "# Print search information\n",
    "print(f'Looking for: {inq} in {pattern} files')\n",
    "print(f'Incl. all occurrences: {all_occurs}')\n",
    "print(f'Case sensitive: {case_sens}')\n",
    "print('File:', \" \"*8, ': Search result:')\n",
    "print('.'*80)\n",
    "\n",
    "for filepath in glob.iglob(pattern, recursive=True): # recursive= True: include subfolders\n",
    "\n",
    "    with open(filepath, encoding='UTF-8') as file:\n",
    "\n",
    "        s = file.read()\n",
    "        chunk = ''\n",
    "        for search_str in inq:\n",
    "            if case_sens:\n",
    "                ind = s.find( search_str )\n",
    "            else:\n",
    "                ind = s.lower().find( search_str.lower() )\n",
    "\n",
    "            found = ( ind != -1 ) \n",
    "            \n",
    "            # Concatenate the chunks and print the result if any chunks were found\n",
    "            if found:\n",
    "                chunk +=  (s[ind:ind + res_length]) + \"| \"\n",
    "            if (not found) and all_occurs:\n",
    "                break       \n",
    "            \n",
    "                     \n",
    "        if found:\n",
    "            # print(dir_path + '/' + filepath.ljust(50),\" \"*3 + \":\", chunk)\n",
    "            print(dir_path + '/' + filepath +\"\\n\" + \" \"*15 + \":\", chunk)"
   ]
  },
  {
   "cell_type": "code",
   "execution_count": null,
   "metadata": {},
   "outputs": [],
   "source": [
    "check_na(df)"
   ]
  },
  {
   "cell_type": "code",
   "execution_count": null,
   "metadata": {},
   "outputs": [],
   "source": [
    "# data = pd.read_csv('/Users/velo1/SynologyDrive/GIT_syno/data/video_games_sales.csv')\n",
    "# data.head()"
   ]
  },
  {
   "cell_type": "code",
   "execution_count": null,
   "metadata": {},
   "outputs": [],
   "source": [
    "!ls"
   ]
  },
  {
   "attachments": {},
   "cell_type": "markdown",
   "metadata": {},
   "source": [
    "#### `Renaming files in a folder`"
   ]
  },
  {
   "cell_type": "code",
   "execution_count": 236,
   "metadata": {},
   "outputs": [],
   "source": [
    "import os\n",
    "\n",
    "def rename_files_in_dir(dir_path):\n",
    "    '''Rename all files in a directory by removing the prefix \"NETOLOGY_\"'''\n",
    "    for count, filename in enumerate(os.listdir(dir_path)):\n",
    "\n",
    "        # new_filename = filename.replace(\"._\", \"_\")        \n",
    "        # new_filename = filename.replace(\"NETOLOGY_\", \"\")\n",
    "        new_filename = filename.replace(\" \", \"_\")  \n",
    "        # dst = \"file_\" + str(count) + \".ext\"\n",
    "        src = dir_path + '/' + filename\n",
    "        dst = dir_path + '/' + new_filename\n",
    "        \n",
    "        # rename() function will rename all the files \n",
    "        os.rename(src, dst)\n",
    "\n",
    "\n",
    "# rename_files_in_dir(\"path/to/dir\")\n",
    "\n",
    "# rename all files in current folder\n",
    "rename_files_in_dir( os.getcwd() )"
   ]
  },
  {
   "cell_type": "code",
   "execution_count": 1,
   "metadata": {},
   "outputs": [
    {
     "name": "stdout",
     "output_type": "stream",
     "text": [
      "Note: you may need to restart the kernel to use updated packages.\n"
     ]
    }
   ],
   "source": [
    "# freeze the environment to requirements.txt\n",
    "pip freeze > requirements.txt"
   ]
  }
 ],
 "metadata": {
  "kernelspec": {
   "display_name": "base",
   "language": "python",
   "name": "python3"
  },
  "language_info": {
   "codemirror_mode": {
    "name": "ipython",
    "version": 3
   },
   "file_extension": ".py",
   "mimetype": "text/x-python",
   "name": "python",
   "nbconvert_exporter": "python",
   "pygments_lexer": "ipython3",
   "version": "3.11.3"
  },
  "orig_nbformat": 4,
  "vscode": {
   "interpreter": {
    "hash": "3f0fc0265faf3f010b6ea13d4d06fa8f6d9bd8f9a0a69886dc52220c62e8c74f"
   }
  }
 },
 "nbformat": 4,
 "nbformat_minor": 2
}
