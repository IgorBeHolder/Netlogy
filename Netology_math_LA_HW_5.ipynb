{
  "cells": [
    {
      "attachments": {},
      "cell_type": "markdown",
      "metadata": {},
      "source": [
        "> Игорь Сорочан DSU-31\n",
        "# Домашнее задание `\"Функции нескольких переменных\"`"
      ]
    },
    {
      "cell_type": "markdown",
      "metadata": {
        "id": "t69IZulqTZMz"
      },
      "source": [
        "## Уровень 0:\n"
      ]
    },
    {
      "cell_type": "markdown",
      "metadata": {
        "id": "9JUikPzroAL8"
      },
      "source": [
        "### Задание 1"
      ]
    },
    {
      "cell_type": "markdown",
      "metadata": {
        "id": "ya8BlSO5nQ9a"
      },
      "source": [
        "Посчитайте частные производные функций:\n",
        "\n",
        "1) $f(x,y)=2x^2y^3 + 1/x + y^2x + 7$\n",
        "\n",
        "2) $f(x,y)=x^2y - sin(xy) + cos(x^2) + 6y$"
      ]
    },
    {
      "cell_type": "code",
      "execution_count": 1,
      "metadata": {},
      "outputs": [],
      "source": [
        "import sympy as sp\n",
        "from sympy.plotting import plot\n",
        "import numpy as np\n",
        "import matplotlib.pyplot as plt\n",
        "\n",
        "x, y, z = sp.symbols('x y z')"
      ]
    },
    {
      "attachments": {},
      "cell_type": "markdown",
      "metadata": {},
      "source": [
        "* $f(x,y)=2x^2y^3 + 1/x + y^2x + 7$"
      ]
    },
    {
      "cell_type": "code",
      "execution_count": 27,
      "metadata": {},
      "outputs": [
        {
          "data": {
            "text/latex": [
              "$\\displaystyle 4 x y^{3} + y^{2} - \\frac{1}{x^{2}}$"
            ],
            "text/plain": [
              "4*x*y**3 + y**2 - 1/x**2"
            ]
          },
          "execution_count": 27,
          "metadata": {},
          "output_type": "execute_result"
        }
      ],
      "source": [
        "# derivative respect to x\n",
        "dx = sp.diff(2*x**2*y**3+1/x+y**2*x+7,x)\n",
        "dx"
      ]
    },
    {
      "cell_type": "code",
      "execution_count": 28,
      "metadata": {},
      "outputs": [
        {
          "data": {
            "text/latex": [
              "$\\displaystyle 6 x^{2} y^{2} + 2 x y$"
            ],
            "text/plain": [
              "6*x**2*y**2 + 2*x*y"
            ]
          },
          "execution_count": 28,
          "metadata": {},
          "output_type": "execute_result"
        }
      ],
      "source": [
        "# derivative respect to y\n",
        "dy = sp.diff(2*x**2*y**3+1/x+y**2*x+7,y)\n",
        "dy"
      ]
    },
    {
      "attachments": {},
      "cell_type": "markdown",
      "metadata": {},
      "source": [
        "* $f(x,y)=x^2y - sin(xy) + cos(x^2) + 6y$"
      ]
    },
    {
      "cell_type": "code",
      "execution_count": 6,
      "metadata": {},
      "outputs": [
        {
          "data": {
            "text/latex": [
              "$\\displaystyle 2 x y - 2 x \\sin{\\left(x^{2} \\right)} - y \\cos{\\left(x y \\right)}$"
            ],
            "text/plain": [
              "2*x*y - 2*x*sin(x**2) - y*cos(x*y)"
            ]
          },
          "execution_count": 6,
          "metadata": {},
          "output_type": "execute_result"
        }
      ],
      "source": [
        "# derivative respect to x\n",
        "sp.diff(x**2*y-sp.sin(x*y)+sp.cos(x**2)+6*y,x)"
      ]
    },
    {
      "cell_type": "code",
      "execution_count": 7,
      "metadata": {
        "id": "p2gC3FEFnY08"
      },
      "outputs": [
        {
          "data": {
            "text/latex": [
              "$\\displaystyle x^{2} - x \\cos{\\left(x y \\right)} + 6$"
            ],
            "text/plain": [
              "x**2 - x*cos(x*y) + 6"
            ]
          },
          "execution_count": 7,
          "metadata": {},
          "output_type": "execute_result"
        }
      ],
      "source": [
        "# derivative respect to y\n",
        "sp.diff(x**2*y-sp.sin(x*y)+sp.cos(x**2)+6*y,y)"
      ]
    },
    {
      "cell_type": "markdown",
      "metadata": {
        "id": "qZxS_tEVTapE"
      },
      "source": [
        "## Уровень 1:"
      ]
    },
    {
      "cell_type": "markdown",
      "metadata": {
        "id": "gUB5Tx31oDZB"
      },
      "source": [
        "### Задание 2"
      ]
    },
    {
      "cell_type": "markdown",
      "metadata": {
        "id": "Jh-pEPj-TcDQ"
      },
      "source": [
        "Вычислите градиент функции:\n",
        "\n",
        "$f(x,y)=2x^2y^3 + 1/x + y^2x + 7$\n",
        "\n",
        "в точке $(1,2)$"
      ]
    },
    {
      "cell_type": "code",
      "execution_count": 29,
      "metadata": {
        "id": "uco5UzhWoHAP"
      },
      "outputs": [
        {
          "data": {
            "text/latex": [
              "$\\displaystyle 4 x y^{3} + y^{2} - \\frac{1}{x^{2}}$"
            ],
            "text/plain": [
              "4*x*y**3 + y**2 - 1/x**2"
            ]
          },
          "execution_count": 29,
          "metadata": {},
          "output_type": "execute_result"
        }
      ],
      "source": [
        "# dx = sp.diff(2*x**2*y**3+1/x+y**2*x+7,x)\n",
        "dx"
      ]
    },
    {
      "cell_type": "code",
      "execution_count": 30,
      "metadata": {},
      "outputs": [
        {
          "data": {
            "text/latex": [
              "$\\displaystyle 6 x^{2} y^{2} + 2 x y$"
            ],
            "text/plain": [
              "6*x**2*y**2 + 2*x*y"
            ]
          },
          "execution_count": 30,
          "metadata": {},
          "output_type": "execute_result"
        }
      ],
      "source": [
        "# dy = sp.diff(2*x**2*y**3+1/x+y**2*x+7,y)\n",
        "dy"
      ]
    },
    {
      "cell_type": "code",
      "execution_count": 35,
      "metadata": {},
      "outputs": [
        {
          "data": {
            "text/latex": [
              "$\\displaystyle 35.0$"
            ],
            "text/plain": [
              "35.0000000000000"
            ]
          },
          "execution_count": 35,
          "metadata": {},
          "output_type": "execute_result"
        }
      ],
      "source": [
        "dx.evalf(subs={x: 1,y:2})"
      ]
    },
    {
      "cell_type": "code",
      "execution_count": 33,
      "metadata": {},
      "outputs": [
        {
          "data": {
            "text/latex": [
              "$\\displaystyle 28.0$"
            ],
            "text/plain": [
              "28.0000000000000"
            ]
          },
          "execution_count": 33,
          "metadata": {},
          "output_type": "execute_result"
        }
      ],
      "source": [
        "dy.evalf(subs={x: 1,y: 2})"
      ]
    },
    {
      "attachments": {},
      "cell_type": "markdown",
      "metadata": {},
      "source": [
        "$(\\nabla f)_{(1,2)} = 35\\hat j + 28\\hat i$"
      ]
    },
    {
      "cell_type": "markdown",
      "metadata": {
        "id": "8VarIpdkxpGK"
      },
      "source": [
        "### Задание 3"
      ]
    },
    {
      "cell_type": "markdown",
      "metadata": {
        "id": "GWBRQp39xpIj"
      },
      "source": [
        "Постройте трехмерный график функции\n",
        "\n",
        "$f(x)=x_2^2-x_1^2 x_2 + 2 x_1 x_2$"
      ]
    },
    {
      "cell_type": "code",
      "execution_count": 59,
      "metadata": {
        "id": "p44HQDIUxpgx"
      },
      "outputs": [
        {
          "data": {
            "image/png": "[encoded data removed]",
            "text/plain": [
              "<Figure size 640x480 with 2 Axes>"
            ]
          },
          "metadata": {},
          "output_type": "display_data"
        }
      ],
      "source": [
        "from mpl_toolkits.mplot3d import Axes3D\n",
        "\n",
        "import matplotlib.pyplot as plt\n",
        "from matplotlib import cm\n",
        "from matplotlib.ticker import LinearLocator, FormatStrFormatter\n",
        "import numpy as np\n",
        "\n",
        "fig = plt.figure()\n",
        "ax = fig.add_subplot(111, projection='3d')\n",
        "\n",
        "\n",
        "# Данные X-X2, Y-X1\n",
        "X = np.arange(-2, 3, 0.1)\n",
        "Y = np.arange(-2, 3, 0.1)\n",
        "X, Y = np.meshgrid(X, Y)\n",
        "Z = X**2 - (Y**2)*X + 2*X*Y\n",
        "\n",
        "\n",
        "# График поверхности\n",
        "surf = ax.plot_surface(X, Y, Z, cmap=cm.ocean_r,\n",
        "                       linewidth=0, antialiased=False)\n",
        "\n",
        "# Настройка оси z\n",
        "ax.set_zlim(-20, 30.0)\n",
        "ax.zaxis.set_major_locator(LinearLocator(10))\n",
        "ax.zaxis.set_major_formatter(FormatStrFormatter('%.f'))\n",
        "\n",
        "# Цветовая легенда\n",
        "fig.colorbar(surf, shrink=0.5, aspect=10)\n",
        "\n",
        "ax.azim = 15\n",
        "# ax.dist = 10\n",
        "ax.elev = 30\n",
        "\n",
        "plt.show()"
      ]
    }
  ],
  "metadata": {
    "colab": {
      "collapsed_sections": [],
      "name": "HW_5_upd",
      "provenance": []
    },
    "kernelspec": {
      "display_name": "base",
      "language": "python",
      "name": "python3"
    },
    "language_info": {
      "codemirror_mode": {
        "name": "ipython",
        "version": 3
      },
      "file_extension": ".py",
      "mimetype": "text/x-python",
      "name": "python",
      "nbconvert_exporter": "python",
      "pygments_lexer": "ipython3",
      "version": "3.9.13"
    },
    "vscode": {
      "interpreter": {
        "hash": "3f0fc0265faf3f010b6ea13d4d06fa8f6d9bd8f9a0a69886dc52220c62e8c74f"
      }
    }
  },
  "nbformat": 4,
  "nbformat_minor": 0
}
