{
 "cells": [
  {
   "cell_type": "markdown",
   "metadata": {},
   "source": [
    "## Decorator\n",
    "https://tproger.ru/translations/demystifying-decorators-in-python/"
   ]
  },
  {
   "cell_type": "code",
   "execution_count": 68,
   "metadata": {},
   "outputs": [],
   "source": [
    "def benchmark( func  ): \n",
    "    import time\n",
    "    print('Start1')\n",
    "    def wrapper():    # обертка без аргументов\n",
    "        start = time.time()\n",
    "        print('Start2')\n",
    "        func()\n",
    "        end = time.time()\n",
    "        print('[*] Время выполнения: {} секунд.'.format(end-start))\n",
    "    return wrapper"
   ]
  },
  {
   "cell_type": "code",
   "execution_count": 108,
   "metadata": {},
   "outputs": [
    {
     "name": "stdout",
     "output_type": "stream",
     "text": [
      "\n",
      "[*] Время выполнения: 0.8740363121032715 секунд.\n"
     ]
    }
   ],
   "source": [
    "@benchmark      # вызываем benchmark  с аргументом fetch_webpage (пока без аргументов)\n",
    "                # декоратор перхватвает исполнение кода на себя и если в нем не будет обертки, то fetch_webpage не будет исполнен\n",
    "def fetch_webpage():\n",
    "    import requests\n",
    "    webpage = requests.get( 'https://google.com')\n",
    "\n",
    "fetch_webpage()"
   ]
  },
  {
   "cell_type": "code",
   "execution_count": 95,
   "metadata": {},
   "outputs": [],
   "source": [
    "def benchmark(func):\n",
    "    import time\n",
    "    \n",
    "    def wrapper(*args, **kwargs):             # обертка с аргументами\n",
    "        print(*args,**kwargs)                          # аргументы, переданные в  fetch_webpage \n",
    "        start = time.time()\n",
    "        return_value = func(*args, **kwargs)  # которые передаются в функцию\n",
    "        end = time.time()\n",
    "        print('[*] Время выполнения: {} секунд.'.format(end-start))\n",
    "        return return_value                   # функция что-то возвращает (webpage.headers)\n",
    "    return wrapper"
   ]
  },
  {
   "cell_type": "code",
   "execution_count": 105,
   "metadata": {},
   "outputs": [
    {
     "name": "stdout",
     "output_type": "stream",
     "text": [
      "https://google.com\n",
      "[*] Время выполнения: 0.8915116786956787 секунд.\n",
      "{'Date': 'Wed, 09 Nov 2022 19:38:09 GMT', 'Expires': '-1', 'Cache-Control': 'private, max-age=0', 'Content-Type': 'text/html; charset=ISO-8859-1', 'P3P': 'CP=\"This is not a P3P policy! See g.co/p3phelp for more info.\"', 'Content-Encoding': 'gzip', 'Server': 'gws', 'X-XSS-Protection': '0', 'X-Frame-Options': 'SAMEORIGIN', 'Set-Cookie': '1P_JAR=2022-11-09-19; expires=Fri, 09-Dec-2022 19:38:09 GMT; path=/; domain=.google.com; Secure, AEC=AakniGOll1x-0q86vE1P1cb6ZPJB_TJ4XZ4o6PDJc-KWbtu_XeTrKo3rSA; expires=Mon, 08-May-2023 19:38:09 GMT; path=/; domain=.google.com; Secure; HttpOnly; SameSite=lax, NID=511=kIQS9ETLegOjFDc_14tFL7uM2vC3kwE45NJ_TB_EMNJvfd6O_HWNkNPzy6aK-37ONtrD3RjGmgihZS9HegSX13dFR_gVDTDcL7pVAauxU2ObtJ5mNNY3VZ8U4TnwEdbEa4qSKJjcfgt_wthdp4dv87X4q7lTVkKHw2qpgJeG9bU; expires=Thu, 11-May-2023 19:38:09 GMT; path=/; domain=.google.com; HttpOnly', 'Alt-Svc': 'h3=\":443\"; ma=2592000,h3-29=\":443\"; ma=2592000,h3-Q050=\":443\"; ma=2592000,h3-Q046=\":443\"; ma=2592000,h3-Q043=\":443\"; ma=2592000,quic=\":443\"; ma=2592000; v=\"46,43\"', 'Transfer-Encoding': 'chunked'}\n"
     ]
    }
   ],
   "source": [
    "@benchmark  # вызываем benchmark  с аргументом fetch_webpage \n",
    "def fetch_webpage(url):\n",
    "    import requests\n",
    "    webpage = requests.get(url)\n",
    "    return webpage.headers\n",
    "    # https://www.geeksforgeeks.org/response-methods-python-requests/?ref=lbp\n",
    "\n",
    "webpage = fetch_webpage('https://google.com')\n",
    "print(webpage)"
   ]
  },
  {
   "cell_type": "code",
   "execution_count": 106,
   "metadata": {},
   "outputs": [
    {
     "name": "stdout",
     "output_type": "stream",
     "text": [
      "https://proglib.io/\n",
      "[*] Время выполнения: 1.0998127460479736 секунд.\n"
     ]
    },
    {
     "data": {
      "text/plain": [
       "{'Server': 'nginx', 'Content-Type': 'text/html; charset=UTF-8', 'Transfer-Encoding': 'chunked', 'Connection': 'keep-alive', 'Set-Cookie': 'PHPSESSID=694611d1412e1284747791223016516e; path=/; secure; HttpOnly; SameSite=lax', 'Cache-Control': 'max-age=0, must-revalidate, no-cache, private', 'Date': 'Wed, 09 Nov 2022 19:38:12 GMT', 'Access-Control-Allow-Headers': 'origin, content-type, accept', 'Access-Control-Allow-Origin': '*', 'Access-Control-Allow-Methods': 'POST, GET, PUT, DELETE, PATCH, OPTIONS', 'Expires': 'Wed, 09 Nov 2022 19:38:12 GMT', 'X-Request-Time': '1668022692.4791', 'X-Frame-Options': 'DENY', 'Strict-Transport-Security': 'max-age=63072000; includeSubdomains; preload', 'X-Content-Type-Options': 'nosniff', 'X-XSS-Protection': '1; mode=block', 'Content-Encoding': 'gzip'}"
      ]
     },
     "execution_count": 106,
     "metadata": {},
     "output_type": "execute_result"
    }
   ],
   "source": [
    "fetch_webpage('https://proglib.io/')"
   ]
  },
  {
   "cell_type": "code",
   "execution_count": 107,
   "metadata": {},
   "outputs": [
    {
     "name": "stdout",
     "output_type": "stream",
     "text": [
      "https://rostoprint.ru\n",
      "[*] Время выполнения: 3.4512102603912354 секунд.\n",
      "{'Connection': 'Keep-Alive', 'Keep-Alive': 'timeout=5, max=100', 'content-type': 'text/html; charset=UTF-8', 'x-ua-compatible': 'IE=edge', 'last-modified': 'Fri, 14 Oct 2022 07:26:51 GMT', 'link': '<https://www.rostoprint.ru/wp-json/>; rel=\"https://api.w.org/\", <https://www.rostoprint.ru/wp-json/wp/v2/pages/41667>; rel=\"alternate\"; type=\"application/json\"', 'transfer-encoding': 'chunked', 'content-encoding': 'br', 'vary': 'Accept-Encoding', 'date': 'Wed, 09 Nov 2022 19:38:18 GMT', 'server': 'LiteSpeed', 'alt-svc': 'h3=\":443\"; ma=2592000, h3-29=\":443\"; ma=2592000, h3-Q050=\":443\"; ma=2592000, h3-Q046=\":443\"; ma=2592000, h3-Q043=\":443\"; ma=2592000, quic=\":443\"; ma=2592000; v=\"43,46\"'}\n"
     ]
    }
   ],
   "source": [
    "webpage = fetch_webpage('https://rostoprint.ru')\n",
    "print(webpage)"
   ]
  },
  {
   "cell_type": "code",
   "execution_count": 111,
   "metadata": {},
   "outputs": [
    {
     "data": {
      "text/plain": [
       "'мы не будем печатаь hello world, потому что внутри нет обертки'"
      ]
     },
     "execution_count": 111,
     "metadata": {},
     "output_type": "execute_result"
    }
   ],
   "source": [
    "def decorator(func):\n",
    "     return 'мы не будем печатаь hello world, потому что внутри нет обертки'\n",
    "\n",
    "@decorator\n",
    "def hello_world():\n",
    "     print('hello world')\n",
    "\n",
    "hello_world"
   ]
  }
 ],
 "metadata": {
  "kernelspec": {
   "display_name": "Python 3.9.12 ('base')",
   "language": "python",
   "name": "python3"
  },
  "language_info": {
   "codemirror_mode": {
    "name": "ipython",
    "version": 3
   },
   "file_extension": ".py",
   "mimetype": "text/x-python",
   "name": "python",
   "nbconvert_exporter": "python",
   "pygments_lexer": "ipython3",
   "version": "3.9.12"
  },
  "orig_nbformat": 4,
  "vscode": {
   "interpreter": {
    "hash": "1abbd7892a022d3441221772633dd6f1b6cdc84f0286f0c90eec2562b4369ab8"
   }
  }
 },
 "nbformat": 4,
 "nbformat_minor": 2
}
