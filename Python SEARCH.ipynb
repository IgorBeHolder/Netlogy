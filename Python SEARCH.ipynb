{
 "cells": [
  {
   "cell_type": "markdown",
   "metadata": {},
   "source": [
    "# search from  notebook"
   ]
  },
  {
   "cell_type": "code",
   "execution_count": null,
   "metadata": {},
   "outputs": [],
   "source": [
    "!ls"
   ]
  },
  {
   "cell_type": "code",
   "execution_count": 1,
   "metadata": {},
   "outputs": [
    {
     "name": "stdout",
     "output_type": "stream",
     "text": [
<<<<<<< HEAD
      "Netlogy ERRORS_DATES HW.ipynb\n",
      "Netology Pandas_JOIN_HW.ipynb\n",
      "Netology Python list dict.ipynb\n",
      "Constraint Programming.ipynb\n",
      "Netology_SCRAPING PARSING.ipynb\n",
      "Netology Python CLASSES.ipynb\n",
      "DLS Python Base.ipynb\n",
      "Netology Pandas HW_SQL.ipynb\n",
      "Netlogy ERRORS_DATES .ipynb\n",
      "Netology Python _Bases2.ipynb\n",
      "Python_9_Numpy Matrix.ipynb\n",
      "Netology Pandas_JOIN_SQL_HW .ipynb\n",
      "Netology_REGEX_practice.ipynb\n",
      "Python_Tricks.ipynb\n",
      "DLS  simpsons_baseline.ipynb\n",
      "Netology Python_7_ERRORS_DATETIME.ipynb\n",
      "NETOLOGY PySpark Лекция 7.ipynb\n",
      "lecture_04_andas.ipynb\n",
      "Netology_Python_FILES Read-Write_and_pip JSON.ipynb\n",
      "Netology Python intro.ipynb\n",
      "Netology Python  LAB.ipynb\n",
      "Netology Python Datatypes LOOPs.ipynb\n"
=======
      "Netology Pandas HW funcs group.ipynb\n",
      "Netology Pandas_JOIN_HW.ipynb\n",
      "Netology RegEx .ipynb\n",
      "Netology_REGEX_practice.ipynb\n"
>>>>>>> bb21871e87c8e9bbf8d7eb8b09823bc2849d65e1
     ]
    }
   ],
   "source": [
    "import glob\n",
    "\n",
    "# pattern = '../**/*.ipynb'\n",
    "pattern = '*.ipynb'\n",
    "\n",
    "# q = 'SQL'\n",
    "q = input()\n",
    "# q = 'permut'\n",
    "\n",
    "for filepath in glob.iglob(pattern, recursive=True):\n",
    "    with open(filepath, encoding='UTF-8') as file:\n",
    "        # print(file)\n",
    "        s = file.read()\n",
    "        if (s.find( q ) > -1):\n",
    "            print(filepath)"
   ]
  }
 ],
 "metadata": {
  "kernelspec": {
   "display_name": "Python 3.10.5 64-bit",
   "language": "python",
   "name": "python3"
  },
  "language_info": {
   "codemirror_mode": {
    "name": "ipython",
    "version": 3
   },
   "file_extension": ".py",
   "mimetype": "text/x-python",
   "name": "python",
   "nbconvert_exporter": "python",
   "pygments_lexer": "ipython3",
<<<<<<< HEAD
   "version": "3.10.5 (v3.10.5:f377153967, Jun  6 2022, 12:36:10) [Clang 13.0.0 (clang-1300.0.29.30)]"
=======
   "version": "3.10.9"
>>>>>>> bb21871e87c8e9bbf8d7eb8b09823bc2849d65e1
  },
  "orig_nbformat": 4,
  "vscode": {
   "interpreter": {
    "hash": "aee8b7b246df8f9039afb4144a1f6fd8d2ca17a180786b69acc140d282b71a49"
   }
  }
 },
 "nbformat": 4,
 "nbformat_minor": 2
}
