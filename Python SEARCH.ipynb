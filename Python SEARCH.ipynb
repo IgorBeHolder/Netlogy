{
 "cells": [
  {
   "cell_type": "markdown",
   "metadata": {},
   "source": [
    "# search from  notebook"
   ]
  },
  {
   "cell_type": "code",
   "execution_count": null,
   "metadata": {},
   "outputs": [],
   "source": [
    "!ls"
   ]
  },
  {
   "cell_type": "code",
   "execution_count": 9,
   "metadata": {},
   "outputs": [
    {
     "name": "stdout",
     "output_type": "stream",
     "text": [
      "Netology Pandas_JOIN_HW.ipynb\n",
      "Netology python DICT Recursion HW3.ipynb\n",
      "Netology Pandas_pivot_and_str.ipynb\n",
      "Netology_SCRAPING PARSING.ipynb\n",
      "DLS Python Base.ipynb\n",
      "Netology Pandas_PIVOT_and_PYMYSTEM.ipynb\n",
      "Netology python HW classes 20221017.ipynb\n",
      "ABD-22 Total HW.ipynb\n",
      "Netology Pandas_JOIN_SQL_HW .ipynb\n",
      "Netology Python  FUNCTIONS DICTS_sorting args  kwargs.ipynb\n",
      "Netology_REGEX_practice.ipynb\n",
      "Python_Tricks.ipynb\n",
      "DLS  simpsons_baseline.ipynb\n",
      "Netology Pandas_functions_groupby.ipynb\n",
      "Netology Python HW2.ipynb\n",
      "lecture_04_andas.ipynb\n",
      "Netology Pandas HW funcs group.ipynb\n",
      "Netology Python  LAB.ipynb\n",
      "Netology Numpy _HW.ipynb\n"
     ]
    }
   ],
   "source": [
    "import glob\n",
    "\n",
    "# pattern = '../**/*.ipynb'\n",
    "pattern = '*.ipynb'\n",
    "\n",
    "# q = 'SQL'\n",
    "q = input()\n",
    "# q = 'permut'\n",
    "\n",
    "for filepath in glob.iglob(pattern, recursive=True):\n",
    "    with open(filepath, encoding='UTF-8') as file:\n",
    "        # print(file)\n",
    "        s = file.read()\n",
    "        if (s.find( q ) > -1):\n",
    "            print(filepath)"
   ]
  }
 ],
 "metadata": {
  "kernelspec": {
   "display_name": "Python 3.10.5 64-bit",
   "language": "python",
   "name": "python3"
  },
  "language_info": {
   "codemirror_mode": {
    "name": "ipython",
    "version": 3
   },
   "file_extension": ".py",
   "mimetype": "text/x-python",
   "name": "python",
   "nbconvert_exporter": "python",
   "pygments_lexer": "ipython3",
   "version": "3.10.5"
  },
  "orig_nbformat": 4,
  "vscode": {
   "interpreter": {
    "hash": "aee8b7b246df8f9039afb4144a1f6fd8d2ca17a180786b69acc140d282b71a49"
   }
  }
 },
 "nbformat": 4,
 "nbformat_minor": 2
}
