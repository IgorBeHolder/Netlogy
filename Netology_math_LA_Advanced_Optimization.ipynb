{
  "cells": [
    {
      "cell_type": "markdown",
      "metadata": {
        "id": "view-in-github",
        "colab_type": "text"
      },
      "source": [
        "<a href=\"https://colab.research.google.com/github/IgorBeHolder/Netlogy/blob/main/Netology_math_LA_Advanced_Optimization.ipynb\" target=\"_parent\"><img src=\"https://colab.research.google.com/assets/colab-badge.svg\" alt=\"Open In Colab\"/></a>"
      ]
    },
    {
      "cell_type": "markdown",
      "metadata": {
        "id": "AQaeV6WjpZ9p"
      },
      "source": [
        "# Продвинутая оптимизация"
      ]
    },
    {
      "cell_type": "markdown",
      "metadata": {
        "id": "GFqe0NCkpZ98"
      },
      "source": [
        "### Задание тестовой функции Розенброка"
      ]
    },
    {
      "cell_type": "markdown",
      "metadata": {
        "id": "1xkeygi7pZ9-"
      },
      "source": [
        "Необходимые библиотеки"
      ]
    },
    {
      "cell_type": "code",
      "execution_count": null,
      "metadata": {
        "id": "YhCW7F_3pZ-A"
      },
      "outputs": [],
      "source": [
        "import numpy as np\n",
        "from mpl_toolkits.mplot3d import Axes3D\n",
        "import matplotlib.pyplot as plt\n",
        "from matplotlib import cm\n",
        "from matplotlib.ticker import LinearLocator, FormatStrFormatter"
      ]
    },
    {
      "cell_type": "markdown",
      "metadata": {
        "id": "V2WR-tLTpZ-E"
      },
      "source": [
        "Определение функции"
      ]
    },
    {
      "cell_type": "code",
      "execution_count": null,
      "metadata": {
        "id": "7Q3Rf-p4pZ-K"
      },
      "outputs": [],
      "source": [
        "def rosenbrock(x):\n",
        "    return np.sum(100.0*(x[1:]-x[:-1]**2.0)**2.0 + (1-x[:-1])**2.0, axis=0)"
      ]
    },
    {
      "cell_type": "markdown",
      "metadata": {
        "id": "yHuW0lnwpZ-M"
      },
      "source": [
        "Визуализация"
      ]
    },
    {
      "cell_type": "code",
      "execution_count": null,
      "metadata": {
        "id": "NWAKsVOJpZ-N"
      },
      "outputs": [],
      "source": [
        "fig = plt.figure(figsize=[10, 7])\n",
        "ax = fig.gca(projection='3d')\n",
        "ax.view_init(45, 30)\n",
        "\n",
        "X = np.arange(-2, 2, 0.1)\n",
        "Y = np.arange(-1, 3, 0.1)\n",
        "X, Y = np.meshgrid(X, Y)\n",
        "Z = rosenbrock(np.array([X,Y]))\n",
        "\n",
        "surf = ax.plot_surface(X, Y, Z, cmap='bwr')\n",
        "plt.show()"
      ]
    },
    {
      "cell_type": "markdown",
      "metadata": {
        "id": "mFA-0j2jpZ-P"
      },
      "source": [
        "### Методы нулевого порядка (прямы методы)"
      ]
    },
    {
      "cell_type": "markdown",
      "metadata": {
        "id": "YR-vX7b9pZ-R"
      },
      "source": [
        "Воспользуемся методом <b>Нелдера-Мида</b> из билиотеки scipy"
      ]
    },
    {
      "cell_type": "code",
      "execution_count": null,
      "metadata": {
        "id": "1ZGker_DpZ-S"
      },
      "outputs": [],
      "source": [
        "from scipy.optimize import minimize"
      ]
    },
    {
      "cell_type": "markdown",
      "metadata": {
        "id": "CX-cInz6pZ-V"
      },
      "source": [
        "Выберем случайную начальную точку $X_0$"
      ]
    },
    {
      "cell_type": "code",
      "execution_count": null,
      "metadata": {
        "id": "E9JOiEs2pZ-W"
      },
      "outputs": [],
      "source": [
        "x0=np.array([1.2,0.7,2.1])"
      ]
    },
    {
      "cell_type": "markdown",
      "metadata": {
        "id": "BZG9YovZpZ-X"
      },
      "source": [
        "Используем функцию `minimize`"
      ]
    },
    {
      "cell_type": "code",
      "execution_count": null,
      "metadata": {
        "id": "05mso5ZvpZ-Y"
      },
      "outputs": [],
      "source": [
        "res = minimize(rosenbrock, x0, method='nelder-mead',options={'xtol':1e-8,'disp':True})"
      ]
    },
    {
      "cell_type": "markdown",
      "metadata": {
        "id": "BFvY7A9IpZ-Z"
      },
      "source": [
        "### Методы первого порядка"
      ]
    },
    {
      "cell_type": "markdown",
      "metadata": {
        "id": "lRdFBB1qpZ-Z"
      },
      "source": [
        "Функция для вычисления первой производной в явном виде"
      ]
    },
    {
      "cell_type": "code",
      "execution_count": null,
      "metadata": {
        "id": "kqD7G0q9pZ-a"
      },
      "outputs": [],
      "source": [
        "def rosen_der (x):\n",
        "    xm = x [1: -1]\n",
        "    xm_m1 = x [: - 2]\n",
        "    xm_p1 = x [2:]\n",
        "    der = np.zeros_like (x)\n",
        "    der [1: -1] = 200 * (xm-xm_m1 ** 2) - 400 * (xm_p1 - xm ** 2) * xm - 2 * (1-xm)\n",
        "    der [0] = -400 * x [0] * (x [1] -x [0] ** 2) - 2 * (1-x [0])\n",
        "    der [-1] = 200 * (x [-1] -x [-2] ** 2)\n",
        "    return der"
      ]
    },
    {
      "cell_type": "code",
      "execution_count": null,
      "metadata": {
        "id": "cya_f8YMpZ-b"
      },
      "outputs": [],
      "source": [
        "rosen_der(np.array([0,0]))"
      ]
    },
    {
      "cell_type": "markdown",
      "metadata": {
        "id": "j0YFqd7opZ-c"
      },
      "source": [
        "Воспользуемся методом <b>BFGS (Алгоритм Broyden–Fletcher–Goldfarb–Shanno)</b>"
      ]
    },
    {
      "cell_type": "code",
      "execution_count": null,
      "metadata": {
        "id": "YIxiKaS3pZ-c"
      },
      "outputs": [],
      "source": [
        "res = minimize(rosenbrock, x0, method='BFGS',jac=rosen_der, options={'disp':True})"
      ]
    },
    {
      "cell_type": "markdown",
      "metadata": {
        "id": "aefeULxUpZ-d"
      },
      "source": [
        "### Методы второго порядка"
      ]
    },
    {
      "cell_type": "markdown",
      "metadata": {
        "id": "x7Id-JJzpZ-e"
      },
      "source": [
        "Функция для вычисления второй производной в явном виде"
      ]
    },
    {
      "cell_type": "code",
      "execution_count": null,
      "metadata": {
        "id": "-kC-qzU4pZ-f"
      },
      "outputs": [],
      "source": [
        "def rosen_hess(x):\n",
        "    x = np.asarray(x)\n",
        "    H = np.diag(-400*x[:-1],1) - np.diag(400*x[:-1],-1)\n",
        "    diagonal = np.zeros_like(x)\n",
        "    diagonal[0] = 1200*x[0]**2-400*x[1]+2\n",
        "    diagonal[-1] = 200\n",
        "    diagonal[1:-1] = 202 + 1200*x[1:-1]**2 - 400*x[2:]\n",
        "    H = H + np.diag(diagonal)\n",
        "    return H"
      ]
    },
    {
      "cell_type": "markdown",
      "metadata": {
        "id": "4sJYLHnCpZ-g"
      },
      "source": [
        "Воспользуемся методом <b>Newton-CG</b>"
      ]
    },
    {
      "cell_type": "code",
      "execution_count": null,
      "metadata": {
        "id": "7Mbfj7F0pZ-g"
      },
      "outputs": [],
      "source": [
        "res = minimize(rosenbrock, x0, method='Newton-CG',jac=rosen_der,hess=rosen_hess, options={'disp':True})"
      ]
    },
    {
      "cell_type": "code",
      "execution_count": null,
      "metadata": {
        "id": "XIQg3lFEpZ-h"
      },
      "outputs": [],
      "source": [
        "56+89+34"
      ]
    },
    {
      "cell_type": "markdown",
      "metadata": {
        "id": "tDZfZrvfpZ-h"
      },
      "source": [
        "### Эволюционные методы"
      ]
    },
    {
      "cell_type": "markdown",
      "metadata": {
        "id": "HrXDAnpypZ-i"
      },
      "source": [
        "Исследуем метод дифференциальной эволюции"
      ]
    },
    {
      "cell_type": "code",
      "execution_count": null,
      "metadata": {
        "id": "hfEDazvlpZ-i"
      },
      "outputs": [],
      "source": [
        "from scipy.optimize import differential_evolution"
      ]
    },
    {
      "cell_type": "markdown",
      "metadata": {
        "id": "-EJnU_2vpZ-j"
      },
      "source": [
        "Зададим границы генерации начальных значений"
      ]
    },
    {
      "cell_type": "code",
      "execution_count": null,
      "metadata": {
        "id": "DYV0tROgpZ-j"
      },
      "outputs": [],
      "source": [
        "bounds = [(-10,10),(-10,10),(-10,10),(-10,10)]"
      ]
    },
    {
      "cell_type": "markdown",
      "metadata": {
        "id": "GanSiwMVpZ-k"
      },
      "source": [
        "Используем метод с настройками свобоных параметров (recombination, mutation, popsize и другие)"
      ]
    },
    {
      "cell_type": "code",
      "execution_count": null,
      "metadata": {
        "id": "-cIe7tSmpZ-k"
      },
      "outputs": [],
      "source": [
        "result = differential_evolution(rosenbrock, bounds, seed=21, tol=0.1, recombination=0.3)\n",
        "result"
      ]
    },
    {
      "cell_type": "code",
      "execution_count": null,
      "metadata": {
        "id": "V9iLzmRLpZ-l"
      },
      "outputs": [],
      "source": []
    }
  ],
  "metadata": {
    "kernelspec": {
      "display_name": "Python 3",
      "language": "python",
      "name": "python3"
    },
    "language_info": {
      "codemirror_mode": {
        "name": "ipython",
        "version": 3
      },
      "file_extension": ".py",
      "mimetype": "text/x-python",
      "name": "python",
      "nbconvert_exporter": "python",
      "pygments_lexer": "ipython3",
      "version": "3.7.6"
    },
    "colab": {
      "provenance": [],
      "include_colab_link": true
    }
  },
  "nbformat": 4,
  "nbformat_minor": 0
}