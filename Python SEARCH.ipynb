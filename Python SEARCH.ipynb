{
 "cells": [
  {
   "cell_type": "markdown",
   "metadata": {},
   "source": [
    "# search from  notebook"
   ]
  },
  {
   "cell_type": "code",
   "execution_count": null,
   "metadata": {},
   "outputs": [],
   "source": [
    "!ls"
   ]
  },
  {
   "cell_type": "code",
   "execution_count": 5,
   "metadata": {},
   "outputs": [
    {
     "name": "stdout",
     "output_type": "stream",
     "text": [
      "Netology Pandas_basics.ipynb\n",
      "Netology_SCRAPING PARSING.ipynb\n",
      "Python PARSING.ipynb\n",
      "Python SEARCH.ipynb\n"
     ]
    }
   ],
   "source": [
    "import glob\n",
    "\n",
    "# pattern = '../**/*.ipynb'\n",
    "pattern = '*.ipynb'\n",
    "\n",
    "# q = 'SQL'\n",
    "q = 'parsing'\n",
    "# q = 'permut'\n",
    "\n",
    "for filepath in glob.iglob(pattern, recursive=True):\n",
    "    with open(filepath, encoding='UTF-8') as file:\n",
    "        # print(file)\n",
    "        s = file.read()\n",
    "        if (s.find( q ) > -1):\n",
    "            print(filepath)"
   ]
  }
 ],
 "metadata": {
  "kernelspec": {
   "display_name": "Python 3.10.8 64-bit (microsoft store)",
   "language": "python",
   "name": "python3"
  },
  "language_info": {
   "codemirror_mode": {
    "name": "ipython",
    "version": 3
   },
   "file_extension": ".py",
   "mimetype": "text/x-python",
   "name": "python",
   "nbconvert_exporter": "python",
   "pygments_lexer": "ipython3",
   "version": "3.10.8"
  },
  "orig_nbformat": 4,
  "vscode": {
   "interpreter": {
    "hash": "62904c1132972672803069004015d497d78640672cb35a40da7f1355a4c1bbc5"
   }
  }
 },
 "nbformat": 4,
 "nbformat_minor": 2
}
