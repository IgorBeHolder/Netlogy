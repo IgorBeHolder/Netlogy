{
 "cells": [
  {
   "cell_type": "markdown",
   "metadata": {},
   "source": [
    ">Igor Sorochan DSU-31"
   ]
  },
  {
   "attachments": {},
   "cell_type": "markdown",
   "metadata": {},
   "source": []
  },
  {
   "cell_type": "code",
   "execution_count": 2,
   "metadata": {},
   "outputs": [
    {
     "name": "stdout",
     "output_type": "stream",
     "text": [
      "pandas               imported as pd  version: 2.0.1\n",
      "numpy                imported as np  version: 1.23.5\n"
     ]
    }
   ],
   "source": [
    "soft_list = {'pandas': 'pd', 'numpy': 'np'}            \n",
    "for  package in soft_list.keys():                      \n",
    "    exec(f'import {package} as {soft_list[package]}')\n",
    "    print(f'{package:<20} imported as {soft_list[package]}  version: {eval(soft_list[package]).__version__}')"
   ]
  },
  {
   "cell_type": "code",
   "execution_count": 7,
   "metadata": {},
   "outputs": [
    {
     "name": "stdout",
     "output_type": "stream",
     "text": [
      "brown\n"
     ]
    }
   ],
   "source": [
    "from sklearn.feature_extraction.text import TfidfVectorizer\n",
    "\n",
    "# Define the corpus\n",
    "corpus = [\n",
    "    \"the quick brown fox jumps over the lazy dog\",\n",
    "    \"the quick brown dog jumps over the lazy cat\",\n",
    "    \"the quick brown cat jumps over the lazy mouse\"\n",
    "]\n",
    "\n",
    "# Create a TfidfVectorizer object and fit it to the corpus\n",
    "vectorizer = TfidfVectorizer()\n",
    "vectorizer.fit(corpus)\n",
    "\n",
    "# Define the tf-idf value you want to search for\n",
    "target_tfidf_value = 0.3\n",
    "\n",
    "# Get the feature names and corresponding tf-idf scores\n",
    "feature_names = vectorizer.get_feature_names_out()\n",
    "tfidf_scores = vectorizer.idf_    # idf_ is the inverse document frequency\n",
    "\n",
    "# Find the index of the word with the closest tf-idf score to the target value\n",
    "idx = min(range(len(tfidf_scores)), key=lambda i: abs(tfidf_scores[i]-target_tfidf_value))\n",
    "\n",
    "# Get the word at that index\n",
    "target_word = feature_names[idx]\n",
    "\n",
    "# Print the target word\n",
    "print(target_word)\n"
   ]
  },
  {
   "cell_type": "code",
   "execution_count": 6,
   "metadata": {},
   "outputs": [
    {
     "data": {
      "text/plain": [
       "range(0, 10)"
      ]
     },
     "execution_count": 6,
     "metadata": {},
     "output_type": "execute_result"
    }
   ],
   "source": [
    "range(len(tfidf_scores))"
   ]
  },
  {
   "cell_type": "code",
   "execution_count": 4,
   "metadata": {},
   "outputs": [
    {
     "name": "stdout",
     "output_type": "stream",
     "text": [
      "university.degree -> 1835370264374687961\n",
      "high.school -> -7435984630818763484\n",
      "illiterate -> -5257600257932904723\n"
     ]
    }
   ],
   "source": [
    "for s in ('university.degree', 'high.school', 'illiterate'):\n",
    "    print(s, '->', hash(s))"
   ]
  },
  {
   "cell_type": "code",
   "execution_count": 5,
   "metadata": {},
   "outputs": [
    {
     "name": "stdout",
     "output_type": "stream",
     "text": [
      "university.degree -> 11\n",
      "high.school -> 16\n",
      "illiterate -> 2\n"
     ]
    }
   ],
   "source": [
    "hash_space = 25 # \n",
    "for s in ('university.degree', 'high.school', 'illiterate'):\n",
    "    print(s, '->', hash(s) % hash_space)"
   ]
  },
  {
   "cell_type": "code",
   "execution_count": 6,
   "metadata": {},
   "outputs": [
    {
     "name": "stdout",
     "output_type": "stream",
     "text": [
      "job=student -> 12\n",
      "marital=single -> 15\n",
      "day_of_week=mon -> 19\n"
     ]
    },
    {
     "data": {
      "text/html": [
       "<div>\n",
       "<style scoped>\n",
       "    .dataframe tbody tr th:only-of-type {\n",
       "        vertical-align: middle;\n",
       "    }\n",
       "\n",
       "    .dataframe tbody tr th {\n",
       "        vertical-align: top;\n",
       "    }\n",
       "\n",
       "    .dataframe thead th {\n",
       "        text-align: right;\n",
       "    }\n",
       "</style>\n",
       "<table border=\"1\" class=\"dataframe\">\n",
       "  <thead>\n",
       "    <tr style=\"text-align: right;\">\n",
       "      <th></th>\n",
       "      <th>0</th>\n",
       "      <th>1</th>\n",
       "      <th>2</th>\n",
       "      <th>3</th>\n",
       "      <th>4</th>\n",
       "      <th>5</th>\n",
       "      <th>6</th>\n",
       "      <th>7</th>\n",
       "      <th>8</th>\n",
       "      <th>9</th>\n",
       "      <th>...</th>\n",
       "      <th>15</th>\n",
       "      <th>16</th>\n",
       "      <th>17</th>\n",
       "      <th>18</th>\n",
       "      <th>19</th>\n",
       "      <th>20</th>\n",
       "      <th>21</th>\n",
       "      <th>22</th>\n",
       "      <th>23</th>\n",
       "      <th>24</th>\n",
       "    </tr>\n",
       "  </thead>\n",
       "  <tbody>\n",
       "    <tr>\n",
       "      <th>0</th>\n",
       "      <td>0.0</td>\n",
       "      <td>0.0</td>\n",
       "      <td>0.0</td>\n",
       "      <td>0.0</td>\n",
       "      <td>0.0</td>\n",
       "      <td>0.0</td>\n",
       "      <td>0.0</td>\n",
       "      <td>0.0</td>\n",
       "      <td>0.0</td>\n",
       "      <td>0.0</td>\n",
       "      <td>...</td>\n",
       "      <td>1.0</td>\n",
       "      <td>0.0</td>\n",
       "      <td>0.0</td>\n",
       "      <td>0.0</td>\n",
       "      <td>1.0</td>\n",
       "      <td>0.0</td>\n",
       "      <td>0.0</td>\n",
       "      <td>0.0</td>\n",
       "      <td>0.0</td>\n",
       "      <td>0.0</td>\n",
       "    </tr>\n",
       "  </tbody>\n",
       "</table>\n",
       "<p>1 rows × 25 columns</p>\n",
       "</div>"
      ],
      "text/plain": [
       "    0    1    2    3    4    5    6    7    8    9   ...   15   16   17   18   \n",
       "0  0.0  0.0  0.0  0.0  0.0  0.0  0.0  0.0  0.0  0.0  ...  1.0  0.0  0.0  0.0  \\\n",
       "\n",
       "    19   20   21   22   23   24  \n",
       "0  1.0  0.0  0.0  0.0  0.0  0.0  \n",
       "\n",
       "[1 rows x 25 columns]"
      ]
     },
     "execution_count": 6,
     "metadata": {},
     "output_type": "execute_result"
    }
   ],
   "source": [
    "hashing_example = pd.DataFrame([{i: 0.0 for i in range(hash_space)}])\n",
    "for s in ('job=student', 'marital=single', 'day_of_week=mon'):\n",
    "    print(s, '->', hash(s) % hash_space)\n",
    "    hashing_example.loc[0, hash(s) % hash_space] = 1\n",
    "hashing_example"
   ]
  },
  {
   "cell_type": "code",
   "execution_count": 5,
   "metadata": {},
   "outputs": [
    {
     "data": {
      "text/plain": [
       "{'Friday',\n",
       " 'Monday',\n",
       " 'Thursday',\n",
       " 'Tuesday',\n",
       " 'Wednesday',\n",
       " 'abcd',\n",
       " 'g',\n",
       " 'h',\n",
       " 'j',\n",
       " 'k'}"
      ]
     },
     "execution_count": 5,
     "metadata": {},
     "output_type": "execute_result"
    }
   ],
   "source": [
    "st= set()\n",
    "st.add('abcd')\n",
    "st.update([\"Monday\", \"Tuesday\", \"Wednesday\", \"Thursday\", \"Friday\"])\n",
    "st.update('ghjkhk')\n",
    "st"
   ]
  },
  {
   "attachments": {},
   "cell_type": "markdown",
   "metadata": {},
   "source": [
    "### Removing duplicates from list by hand.\n"
   ]
  },
  {
   "cell_type": "code",
   "execution_count": 30,
   "metadata": {},
   "outputs": [
    {
     "name": "stdout",
     "output_type": "stream",
     "text": [
      "8. If BK0007 is in ['BK0001', 'BK0002', 'BK0003', 'BK0004', 'BK0004', 'BK0005', 'BK0001', 'BK0006']\n",
      "7. If BK0006 is in ['BK0001', 'BK0002', 'BK0003', 'BK0004', 'BK0004', 'BK0005', 'BK0001']\n",
      "6. If BK0001 is in ['BK0001', 'BK0002', 'BK0003', 'BK0004', 'BK0004', 'BK0005']\n",
      "5. If BK0005 is in ['BK0001', 'BK0002', 'BK0003', 'BK0004', 'BK0004']\n",
      "4. If BK0004 is in ['BK0001', 'BK0002', 'BK0003', 'BK0004']\n",
      "3. If BK0004 is in ['BK0001', 'BK0002', 'BK0003']\n",
      "2. If BK0003 is in ['BK0001', 'BK0002']\n",
      "1. If BK0002 is in ['BK0001']\n",
      "['BK0001', 'BK0002', 'BK0003', 'BK0004', 'BK0005', 'BK0006', 'BK0007']\n"
     ]
    }
   ],
   "source": [
    "\t\n",
    "bankStatement=[\"BK0001\",\"BK0002\",\"BK0003\",\"BK0004\",\"BK0004\",\"BK0005\",\"BK0001\",\"BK0006\",\"BK0007\"] # 9 items in the list\n",
    "\n",
    "for ind in range(len(bankStatement)-1, 0, -1):              #   iterate from the end of the list to the beginning\n",
    "    print(f'{ind}. If {bankStatement[ind]} is in {bankStatement[:ind]}')    #   print the ind and the list up to that ind\n",
    "    if bankStatement[ind] in bankStatement[:ind]:           #   if the ind is in the list up to that ind\n",
    "        bankStatement.pop(ind)                              #   remove the ind from the list\n",
    "print(bankStatement)\n"
   ]
  },
  {
   "cell_type": "code",
   "execution_count": 39,
   "metadata": {},
   "outputs": [
    {
     "name": "stdout",
     "output_type": "stream",
     "text": [
      "['BK0001', 'BK0002', 'BK0003', 'BK0004', 'BK0004', 'BK0005', 'BK0001', 'BK0006', 'BK0007']\n"
     ]
    },
    {
     "data": {
      "text/plain": [
       "['BK0001', 'BK0002', 'BK0003', 'BK0004', 'BK0005', 'BK0006', 'BK0007']"
      ]
     },
     "execution_count": 39,
     "metadata": {},
     "output_type": "execute_result"
    }
   ],
   "source": [
    "bankStatement=[\"BK0001\",\"BK0002\",\"BK0003\",\"BK0004\",\"BK0004\",\"BK0005\",\"BK0001\",\"BK0006\",\"BK0007\"]\n",
    "print(bankStatement)\n",
    "bankStatement_wo_duplicates = list(dict.fromkeys(bankStatement)) # or list(set(bankStatement))\n",
    "bankStatement_wo_duplicates\n"
   ]
  },
  {
   "cell_type": "code",
   "execution_count": 3,
   "metadata": {},
   "outputs": [],
   "source": [
    "c = 3 + 4j"
   ]
  },
  {
   "cell_type": "code",
   "execution_count": 7,
   "metadata": {},
   "outputs": [
    {
     "data": {
      "text/plain": [
       "0.173"
      ]
     },
     "execution_count": 7,
     "metadata": {},
     "output_type": "execute_result"
    }
   ],
   "source": [
    "x = 0.173\n",
    "n,d = x.as_integer_ratio()\n",
    "n/d"
   ]
  },
  {
   "cell_type": "code",
   "execution_count": 2,
   "metadata": {},
   "outputs": [
    {
     "name": "stderr",
     "output_type": "stream",
     "text": [
      "usage: ipykernel_launcher.py [-h] [--debug DEBUG]\n",
      "ipykernel_launcher.py: error: unrecognized arguments: --ip=127.0.0.1 --stdin=9013 --control=9006 --hb=9005 --Session.signature_scheme=\"hmac-sha256\" --Session.key=b\"81c5e04f-362b-4c27-a724-a63cb90c603f\" --shell=9007 --transport=\"tcp\" --iopub=9014 --f=/Users/velo1/Library/Jupyter/runtime/kernel-v2-785GFeCJ0N6Ogrp.json\n"
     ]
    },
    {
     "ename": "SystemExit",
     "evalue": "2",
     "output_type": "error",
     "traceback": [
      "An exception has occurred, use %tb to see the full traceback.\n",
      "\u001b[0;31mSystemExit\u001b[0m\u001b[0;31m:\u001b[0m 2\n"
     ]
    }
   ],
   "source": [
    "%tb # traceback\n",
    "import argparse\n",
    "import os\n",
    "from collections import ChainMap\n",
    "\n",
    "defaults = {\"debug\": False}\n",
    "\n",
    "parser = argparse.ArgumentParser()\n",
    "parser.add_argument(\"--debug\")\n",
    "args = parser.parse_args()\n",
    "cli_args = {key: value for key, value in vars(args).items() if value}\n",
    "\n",
    "config = ChainMap(cli_args, os.environ, defaults)\n",
    "\n",
    "print(config.get(\"debug\"))"
   ]
  }
 ],
 "metadata": {
  "kernelspec": {
   "display_name": ".venv",
   "language": "python",
   "name": "python3"
  },
  "language_info": {
   "codemirror_mode": {
    "name": "ipython",
    "version": 3
   },
   "file_extension": ".py",
   "mimetype": "text/x-python",
   "name": "python",
   "nbconvert_exporter": "python",
   "pygments_lexer": "ipython3",
   "version": "3.9.13"
  },
  "orig_nbformat": 4
 },
 "nbformat": 4,
 "nbformat_minor": 2
}
