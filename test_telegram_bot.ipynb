{
 "cells": [
  {
   "cell_type": "code",
   "execution_count": 19,
   "metadata": {},
   "outputs": [],
   "source": [
    "import telegram # pip install python-telegram-bot\n",
    "import asyncio\n",
    "import nest_asyncio # pip install nest_asyncio\n",
    "import os\n",
    "from dotenv import load_dotenv\n",
    "import datetime\n",
    "\n",
    "\n",
    "load_dotenv(\".env\")\n",
    "nest_asyncio.apply()\n",
    "\n",
    "bot_token = os.getenv('TELEGRAM_BOT_TOKEN')\n",
    "bot = telegram.Bot(token=bot_token)\n",
    "chat_id = os.getenv('TELEGRAM_CHAT_ID')\n"
   ]
  },
  {
   "cell_type": "code",
   "execution_count": 18,
   "metadata": {},
   "outputs": [],
   "source": [
    "async def send_alarm_message():\n",
    "    # Get the current timestamp\n",
    "    current_time = datetime.datetime.now().strftime(\"%Y-%m-%d %H:%M:%S\")\n",
    "\n",
    "    # Compose the message with the timestamp\n",
    "    message = f\"The long routine has finished at {current_time}!\" + os.linesep + \"You can now check the results.\"\n",
    "\n",
    "    await bot.send_message(chat_id=chat_id, text=message)\n",
    "\n",
    "# Call this function when the long routine is finished\n",
    "asyncio.run(send_alarm_message())\n"
   ]
  }
 ],
 "metadata": {
  "kernelspec": {
   "display_name": "venv",
   "language": "python",
   "name": "python3"
  },
  "language_info": {
   "codemirror_mode": {
    "name": "ipython",
    "version": 3
   },
   "file_extension": ".py",
   "mimetype": "text/x-python",
   "name": "python",
   "nbconvert_exporter": "python",
   "pygments_lexer": "ipython3",
   "version": "3.11.3"
  },
  "orig_nbformat": 4
 },
 "nbformat": 4,
 "nbformat_minor": 2
}
