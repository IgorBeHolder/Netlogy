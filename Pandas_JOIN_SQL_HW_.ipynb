{
 "cells": [
  {
   "cell_type": "markdown",
   "metadata": {
    "slideshow": {
     "slide_type": "slide"
    }
   },
   "source": [
    "### HW Pandas\n",
    "\n",
    "Сорочан Игорь \n",
    "\n",
    "Задание 1\n",
    "\n",
    "Для датафрейма log из материалов занятия создайте столбец source_type по правилам:\n",
    "\n",
    "* если источник traffic_source равен Yandex или Google, то в source_type ставится organic;\n",
    "* для источников paid и email из России ставим ad;\n",
    "* для источников paid и email не из России ставим other;\n",
    "* все остальные варианты берём из traffic_source без изменений."
   ]
  },
  {
   "cell_type": "code",
   "execution_count": 1,
   "metadata": {
    "slideshow": {
     "slide_type": "skip"
    }
   },
   "outputs": [],
   "source": [
    "import pandas as pd"
   ]
  },
  {
   "cell_type": "code",
   "execution_count": 2,
   "metadata": {},
   "outputs": [],
   "source": [
    "# # !pip install requests\n",
    "import requests\n",
    "\n",
    "url = 'https://files.grouplens.org/datasets/movielens/ml-25m.zip'\n",
    "# качаем весь архив (25 млн)\n",
    " \n",
    "content = requests.get(url)\n",
    "\n",
    "# unzip the content\n",
    "from io import BytesIO\n",
    "from zipfile import ZipFile"
   ]
  },
  {
   "cell_type": "code",
   "execution_count": 3,
   "metadata": {},
   "outputs": [],
   "source": [
    "f = ZipFile(BytesIO(content.content))  # zipfile.ZipFile"
   ]
  },
  {
   "cell_type": "markdown",
   "metadata": {},
   "source": [
    "открываем ratings"
   ]
  },
  {
   "cell_type": "code",
   "execution_count": 4,
   "metadata": {},
   "outputs": [
    {
     "name": "stdout",
     "output_type": "stream",
     "text": [
      "\\\\che-ds\\CS_IgSor\\GIT_syno\\data\\adult.csv\n",
      "\\\\che-ds\\CS_IgSor\\GIT_syno\\data\\keywords.csv\n",
      "\\\\che-ds\\CS_IgSor\\GIT_syno\\data\\power.csv\n",
      "\\\\che-ds\\CS_IgSor\\GIT_syno\\data\\sales_db.csv\n",
      "\\\\che-ds\\CS_IgSor\\GIT_syno\\data\\tags.csv\n",
      "\\\\che-ds\\CS_IgSor\\GIT_syno\\data\\transactions.csv\n",
      "\\\\che-ds\\CS_IgSor\\GIT_syno\\data\\visit_log.csv\n",
      "\\\\che-ds\\CS_IgSor\\GIT_syno\\data\\visit_log2.csv\n",
      "\\\\che-ds\\CS_IgSor\\GIT_syno\\data\\journey-springfield\\sample_submission.csv\n",
      "\\\\che-ds\\CS_IgSor\\GIT_syno\\data\\ml-latest-small\\links.csv\n",
      "\\\\che-ds\\CS_IgSor\\GIT_syno\\data\\ml-latest-small\\movies.csv\n",
      "\\\\che-ds\\CS_IgSor\\GIT_syno\\data\\ml-latest-small\\ratings.csv\n",
      "\\\\che-ds\\CS_IgSor\\GIT_syno\\data\\ml-latest-small\\tags.csv\n",
      "\\\\che-ds\\CS_IgSor\\GIT_syno\\Welltory\\data_for_test.csv\n"
     ]
    }
   ],
   "source": [
    "import os, fnmatch\n",
    "\n",
    "def find(pattern, path): # match a pattern\n",
    "    result = []\n",
    "    for root, dirs, files in os.walk(path):\n",
    "        for name in files:\n",
    "            if fnmatch.fnmatch(name, pattern):\n",
    "                print(f'{root}\\{name}')                \n",
    "                result.append(os.path.join(root, name))\n",
    "    return result \n",
    "\n",
    "path = r'\\\\che-ds\\CS_IgSor\\GIT_syno'   \n",
    "res = find('*.csv', path ) "
   ]
  },
  {
   "cell_type": "code",
   "execution_count": 13,
   "metadata": {},
   "outputs": [
    {
     "data": {
      "text/html": [
       "<div>\n",
       "<style scoped>\n",
       "    .dataframe tbody tr th:only-of-type {\n",
       "        vertical-align: middle;\n",
       "    }\n",
       "\n",
       "    .dataframe tbody tr th {\n",
       "        vertical-align: top;\n",
       "    }\n",
       "\n",
       "    .dataframe thead th {\n",
       "        text-align: right;\n",
       "    }\n",
       "</style>\n",
       "<table border=\"1\" class=\"dataframe\">\n",
       "  <thead>\n",
       "    <tr style=\"text-align: right;\">\n",
       "      <th></th>\n",
       "      <th>timestamp</th>\n",
       "      <th>visit_id</th>\n",
       "      <th>url</th>\n",
       "      <th>region</th>\n",
       "      <th>user_id</th>\n",
       "      <th>traffic_source</th>\n",
       "    </tr>\n",
       "  </thead>\n",
       "  <tbody>\n",
       "    <tr>\n",
       "      <th>18933</th>\n",
       "      <td>1550094288</td>\n",
       "      <td>57e5ba8560</td>\n",
       "      <td>https://host.ru/c2382eb3d6afc8d0f3</td>\n",
       "      <td>Belarus</td>\n",
       "      <td>98b19810d0</td>\n",
       "      <td>paid</td>\n",
       "    </tr>\n",
       "    <tr>\n",
       "      <th>18934</th>\n",
       "      <td>1550094296</td>\n",
       "      <td>6f9389ec1b</td>\n",
       "      <td>https://host.ru/f1eb4601740d627ab0</td>\n",
       "      <td>Russia</td>\n",
       "      <td>32ebb20c13</td>\n",
       "      <td>paid</td>\n",
       "    </tr>\n",
       "    <tr>\n",
       "      <th>18935</th>\n",
       "      <td>1550094308</td>\n",
       "      <td>e8cf2eb8e6</td>\n",
       "      <td>https://host.ru/a5dda93e70318570c0</td>\n",
       "      <td>Belarus</td>\n",
       "      <td>b85baa8c73</td>\n",
       "      <td>yandex</td>\n",
       "    </tr>\n",
       "    <tr>\n",
       "      <th>18936</th>\n",
       "      <td>1550094314</td>\n",
       "      <td>79530b9a67</td>\n",
       "      <td>https://host.ru/6fda01ec57f23abc9e</td>\n",
       "      <td>Russia</td>\n",
       "      <td>e154b06121</td>\n",
       "      <td>paid</td>\n",
       "    </tr>\n",
       "    <tr>\n",
       "      <th>18937</th>\n",
       "      <td>1550094323</td>\n",
       "      <td>b3b634f824</td>\n",
       "      <td>https://host.ru/39fa884393666d45fc</td>\n",
       "      <td>Russia</td>\n",
       "      <td>7d27a58fb8</td>\n",
       "      <td>email</td>\n",
       "    </tr>\n",
       "  </tbody>\n",
       "</table>\n",
       "</div>"
      ],
      "text/plain": [
       "        timestamp    visit_id                                 url   region  \\\n",
       "18933  1550094288  57e5ba8560  https://host.ru/c2382eb3d6afc8d0f3  Belarus   \n",
       "18934  1550094296  6f9389ec1b  https://host.ru/f1eb4601740d627ab0   Russia   \n",
       "18935  1550094308  e8cf2eb8e6  https://host.ru/a5dda93e70318570c0  Belarus   \n",
       "18936  1550094314  79530b9a67  https://host.ru/6fda01ec57f23abc9e   Russia   \n",
       "18937  1550094323  b3b634f824  https://host.ru/39fa884393666d45fc   Russia   \n",
       "\n",
       "          user_id traffic_source  \n",
       "18933  98b19810d0           paid  \n",
       "18934  32ebb20c13           paid  \n",
       "18935  b85baa8c73         yandex  \n",
       "18936  e154b06121           paid  \n",
       "18937  7d27a58fb8          email  "
      ]
     },
     "execution_count": 13,
     "metadata": {},
     "output_type": "execute_result"
    }
   ],
   "source": [
    "visit = pd.read_csv(r'\\\\che-ds\\CS_IgSor\\GIT_syno\\data\\visit_log2.csv', sep = \";\")\n",
    "visit.tail()"
   ]
  },
  {
   "cell_type": "code",
   "execution_count": 14,
   "metadata": {},
   "outputs": [
    {
     "data": {
      "text/plain": [
       "direct    7013\n",
       "email     3875\n",
       "yandex    2900\n",
       "paid      2643\n",
       "google    2507\n",
       "Name: traffic_source, dtype: int64"
      ]
     },
     "execution_count": 14,
     "metadata": {},
     "output_type": "execute_result"
    }
   ],
   "source": [
    "visit.traffic_source.value_counts()"
   ]
  },
  {
   "cell_type": "code",
   "execution_count": 15,
   "metadata": {},
   "outputs": [],
   "source": [
    "def type_of_source(df):\n",
    "    \"\"\" source_type по правилам:\n",
    "\n",
    "    * если источник traffic_source равен Yandex или Google, то в source_type ставится organic;\n",
    "    * для источников paid и email из России ставим ad;\n",
    "    * для источников paid и email не из России ставим other;\n",
    "    * все остальные варианты берём из traffic_source без изменений.\"\"\"\n",
    "\n",
    "    if df['traffic_source'] in ('Yandex','Google'):\n",
    "        return 'organic'\n",
    "    elif df['traffic_source'] in ('email','paid') and 'Russia' in df['region']:\n",
    "        return 'ad'\n"
   ]
  },
  {
   "cell_type": "code",
   "execution_count": 16,
   "metadata": {},
   "outputs": [
    {
     "data": {
      "text/html": [
       "<div>\n",
       "<style scoped>\n",
       "    .dataframe tbody tr th:only-of-type {\n",
       "        vertical-align: middle;\n",
       "    }\n",
       "\n",
       "    .dataframe tbody tr th {\n",
       "        vertical-align: top;\n",
       "    }\n",
       "\n",
       "    .dataframe thead th {\n",
       "        text-align: right;\n",
       "    }\n",
       "</style>\n",
       "<table border=\"1\" class=\"dataframe\">\n",
       "  <thead>\n",
       "    <tr style=\"text-align: right;\">\n",
       "      <th></th>\n",
       "      <th>timestamp</th>\n",
       "      <th>visit_id</th>\n",
       "      <th>url</th>\n",
       "      <th>region</th>\n",
       "      <th>user_id</th>\n",
       "      <th>traffic_source</th>\n",
       "      <th>source_type</th>\n",
       "    </tr>\n",
       "  </thead>\n",
       "  <tbody>\n",
       "    <tr>\n",
       "      <th>0</th>\n",
       "      <td>1549980692</td>\n",
       "      <td>e3b0c44298</td>\n",
       "      <td>https://host.ru/3c19b4ef7371864fa3</td>\n",
       "      <td>Russia</td>\n",
       "      <td>b1613cc09f</td>\n",
       "      <td>yandex</td>\n",
       "      <td>NaN</td>\n",
       "    </tr>\n",
       "    <tr>\n",
       "      <th>1</th>\n",
       "      <td>1549980704</td>\n",
       "      <td>6e340b9cff</td>\n",
       "      <td>https://host.ru/c8d9213a31839f9a3a</td>\n",
       "      <td>Russia</td>\n",
       "      <td>4c3ec14bee</td>\n",
       "      <td>direct</td>\n",
       "      <td>NaN</td>\n",
       "    </tr>\n",
       "    <tr>\n",
       "      <th>2</th>\n",
       "      <td>1549980715</td>\n",
       "      <td>96a296d224</td>\n",
       "      <td>https://host.ru/b8b58337d272ee7b15</td>\n",
       "      <td>Russia</td>\n",
       "      <td>a8c40697fb</td>\n",
       "      <td>yandex</td>\n",
       "      <td>NaN</td>\n",
       "    </tr>\n",
       "    <tr>\n",
       "      <th>3</th>\n",
       "      <td>1549980725</td>\n",
       "      <td>709e80c884</td>\n",
       "      <td>https://host.ru/b8b58337d272ee7b15</td>\n",
       "      <td>Russia</td>\n",
       "      <td>521ac1d6a0</td>\n",
       "      <td>yandex</td>\n",
       "      <td>NaN</td>\n",
       "    </tr>\n",
       "    <tr>\n",
       "      <th>4</th>\n",
       "      <td>1549980736</td>\n",
       "      <td>df3f619804</td>\n",
       "      <td>https://host.ru/b8b58337d272ee7b15</td>\n",
       "      <td>Russia</td>\n",
       "      <td>d7323c571c</td>\n",
       "      <td>yandex</td>\n",
       "      <td>NaN</td>\n",
       "    </tr>\n",
       "    <tr>\n",
       "      <th>...</th>\n",
       "      <td>...</td>\n",
       "      <td>...</td>\n",
       "      <td>...</td>\n",
       "      <td>...</td>\n",
       "      <td>...</td>\n",
       "      <td>...</td>\n",
       "      <td>...</td>\n",
       "    </tr>\n",
       "    <tr>\n",
       "      <th>18933</th>\n",
       "      <td>1550094288</td>\n",
       "      <td>57e5ba8560</td>\n",
       "      <td>https://host.ru/c2382eb3d6afc8d0f3</td>\n",
       "      <td>Belarus</td>\n",
       "      <td>98b19810d0</td>\n",
       "      <td>paid</td>\n",
       "      <td>NaN</td>\n",
       "    </tr>\n",
       "    <tr>\n",
       "      <th>18934</th>\n",
       "      <td>1550094296</td>\n",
       "      <td>6f9389ec1b</td>\n",
       "      <td>https://host.ru/f1eb4601740d627ab0</td>\n",
       "      <td>Russia</td>\n",
       "      <td>32ebb20c13</td>\n",
       "      <td>paid</td>\n",
       "      <td>NaN</td>\n",
       "    </tr>\n",
       "    <tr>\n",
       "      <th>18935</th>\n",
       "      <td>1550094308</td>\n",
       "      <td>e8cf2eb8e6</td>\n",
       "      <td>https://host.ru/a5dda93e70318570c0</td>\n",
       "      <td>Belarus</td>\n",
       "      <td>b85baa8c73</td>\n",
       "      <td>yandex</td>\n",
       "      <td>NaN</td>\n",
       "    </tr>\n",
       "    <tr>\n",
       "      <th>18936</th>\n",
       "      <td>1550094314</td>\n",
       "      <td>79530b9a67</td>\n",
       "      <td>https://host.ru/6fda01ec57f23abc9e</td>\n",
       "      <td>Russia</td>\n",
       "      <td>e154b06121</td>\n",
       "      <td>paid</td>\n",
       "      <td>NaN</td>\n",
       "    </tr>\n",
       "    <tr>\n",
       "      <th>18937</th>\n",
       "      <td>1550094323</td>\n",
       "      <td>b3b634f824</td>\n",
       "      <td>https://host.ru/39fa884393666d45fc</td>\n",
       "      <td>Russia</td>\n",
       "      <td>7d27a58fb8</td>\n",
       "      <td>email</td>\n",
       "      <td>NaN</td>\n",
       "    </tr>\n",
       "  </tbody>\n",
       "</table>\n",
       "<p>18938 rows × 7 columns</p>\n",
       "</div>"
      ],
      "text/plain": [
       "        timestamp    visit_id                                 url   region  \\\n",
       "0      1549980692  e3b0c44298  https://host.ru/3c19b4ef7371864fa3   Russia   \n",
       "1      1549980704  6e340b9cff  https://host.ru/c8d9213a31839f9a3a   Russia   \n",
       "2      1549980715  96a296d224  https://host.ru/b8b58337d272ee7b15   Russia   \n",
       "3      1549980725  709e80c884  https://host.ru/b8b58337d272ee7b15   Russia   \n",
       "4      1549980736  df3f619804  https://host.ru/b8b58337d272ee7b15   Russia   \n",
       "...           ...         ...                                 ...      ...   \n",
       "18933  1550094288  57e5ba8560  https://host.ru/c2382eb3d6afc8d0f3  Belarus   \n",
       "18934  1550094296  6f9389ec1b  https://host.ru/f1eb4601740d627ab0   Russia   \n",
       "18935  1550094308  e8cf2eb8e6  https://host.ru/a5dda93e70318570c0  Belarus   \n",
       "18936  1550094314  79530b9a67  https://host.ru/6fda01ec57f23abc9e   Russia   \n",
       "18937  1550094323  b3b634f824  https://host.ru/39fa884393666d45fc   Russia   \n",
       "\n",
       "          user_id traffic_source source_type  \n",
       "0      b1613cc09f         yandex         NaN  \n",
       "1      4c3ec14bee         direct         NaN  \n",
       "2      a8c40697fb         yandex         NaN  \n",
       "3      521ac1d6a0         yandex         NaN  \n",
       "4      d7323c571c         yandex         NaN  \n",
       "...           ...            ...         ...  \n",
       "18933  98b19810d0           paid         NaN  \n",
       "18934  32ebb20c13           paid         NaN  \n",
       "18935  b85baa8c73         yandex         NaN  \n",
       "18936  e154b06121           paid         NaN  \n",
       "18937  7d27a58fb8          email         NaN  \n",
       "\n",
       "[18938 rows x 7 columns]"
      ]
     },
     "execution_count": 16,
     "metadata": {},
     "output_type": "execute_result"
    }
   ],
   "source": [
    "visit['source_type'] = visit.apply(lambda x: type_of_source )\n",
    "visit"
   ]
  },
  {
   "cell_type": "markdown",
   "metadata": {},
   "source": [
    "открываем movies"
   ]
  },
  {
   "cell_type": "code",
   "execution_count": 17,
   "metadata": {
    "slideshow": {
     "slide_type": "subslide"
    }
   },
   "outputs": [
    {
     "data": {
      "text/html": [
       "<div>\n",
       "<style scoped>\n",
       "    .dataframe tbody tr th:only-of-type {\n",
       "        vertical-align: middle;\n",
       "    }\n",
       "\n",
       "    .dataframe tbody tr th {\n",
       "        vertical-align: top;\n",
       "    }\n",
       "\n",
       "    .dataframe thead th {\n",
       "        text-align: right;\n",
       "    }\n",
       "</style>\n",
       "<table border=\"1\" class=\"dataframe\">\n",
       "  <thead>\n",
       "    <tr style=\"text-align: right;\">\n",
       "      <th></th>\n",
       "      <th>movieId</th>\n",
       "      <th>title</th>\n",
       "      <th>genres</th>\n",
       "    </tr>\n",
       "  </thead>\n",
       "  <tbody>\n",
       "    <tr>\n",
       "      <th>0</th>\n",
       "      <td>1</td>\n",
       "      <td>Toy Story (1995)</td>\n",
       "      <td>Adventure|Animation|Children|Comedy|Fantasy</td>\n",
       "    </tr>\n",
       "    <tr>\n",
       "      <th>1</th>\n",
       "      <td>2</td>\n",
       "      <td>Jumanji (1995)</td>\n",
       "      <td>Adventure|Children|Fantasy</td>\n",
       "    </tr>\n",
       "    <tr>\n",
       "      <th>2</th>\n",
       "      <td>3</td>\n",
       "      <td>Grumpier Old Men (1995)</td>\n",
       "      <td>Comedy|Romance</td>\n",
       "    </tr>\n",
       "    <tr>\n",
       "      <th>3</th>\n",
       "      <td>4</td>\n",
       "      <td>Waiting to Exhale (1995)</td>\n",
       "      <td>Comedy|Drama|Romance</td>\n",
       "    </tr>\n",
       "    <tr>\n",
       "      <th>4</th>\n",
       "      <td>5</td>\n",
       "      <td>Father of the Bride Part II (1995)</td>\n",
       "      <td>Comedy</td>\n",
       "    </tr>\n",
       "  </tbody>\n",
       "</table>\n",
       "</div>"
      ],
      "text/plain": [
       "   movieId                               title  \\\n",
       "0        1                    Toy Story (1995)   \n",
       "1        2                      Jumanji (1995)   \n",
       "2        3             Grumpier Old Men (1995)   \n",
       "3        4            Waiting to Exhale (1995)   \n",
       "4        5  Father of the Bride Part II (1995)   \n",
       "\n",
       "                                        genres  \n",
       "0  Adventure|Animation|Children|Comedy|Fantasy  \n",
       "1                   Adventure|Children|Fantasy  \n",
       "2                               Comedy|Romance  \n",
       "3                         Comedy|Drama|Romance  \n",
       "4                                       Comedy  "
      ]
     },
     "execution_count": 17,
     "metadata": {},
     "output_type": "execute_result"
    }
   ],
   "source": [
    "with f.open('ml-25m/movies.csv', 'r') as unzipped_file:    #  zipfile.ZipExtFile \n",
    "   movies = pd.read_csv(unzipped_file)\n",
    "movies.head()"
   ]
  },
  {
   "cell_type": "markdown",
   "metadata": {},
   "source": [
    "Join on='movieId'"
   ]
  },
  {
   "cell_type": "code",
   "execution_count": 18,
   "metadata": {},
   "outputs": [
    {
     "ename": "NameError",
     "evalue": "name 'ratings' is not defined",
     "output_type": "error",
     "traceback": [
      "\u001b[1;31m---------------------------------------------------------------------------\u001b[0m",
      "\u001b[1;31mNameError\u001b[0m                                 Traceback (most recent call last)",
      "Cell \u001b[1;32mIn [18], line 1\u001b[0m\n\u001b[1;32m----> 1\u001b[0m ratings \u001b[39m=\u001b[39m ratings\u001b[39m.\u001b[39mloc[ (\u001b[39m5\u001b[39m \u001b[39m==\u001b[39m ratings\u001b[39m.\u001b[39mrating)   ] \n",
      "\u001b[1;31mNameError\u001b[0m: name 'ratings' is not defined"
     ]
    }
   ],
   "source": [
    "ratings = ratings.loc[ (5 == ratings.rating)   ] "
   ]
  },
  {
   "cell_type": "code",
   "execution_count": null,
   "metadata": {},
   "outputs": [
    {
     "data": {
      "text/html": [
       "<div>\n",
       "<style scoped>\n",
       "    .dataframe tbody tr th:only-of-type {\n",
       "        vertical-align: middle;\n",
       "    }\n",
       "\n",
       "    .dataframe tbody tr th {\n",
       "        vertical-align: top;\n",
       "    }\n",
       "\n",
       "    .dataframe thead th {\n",
       "        text-align: right;\n",
       "    }\n",
       "</style>\n",
       "<table border=\"1\" class=\"dataframe\">\n",
       "  <thead>\n",
       "    <tr style=\"text-align: right;\">\n",
       "      <th></th>\n",
       "      <th>userId</th>\n",
       "      <th>movieId</th>\n",
       "      <th>rating</th>\n",
       "      <th>timestamp</th>\n",
       "      <th>title</th>\n",
       "      <th>genres</th>\n",
       "    </tr>\n",
       "  </thead>\n",
       "  <tbody>\n",
       "    <tr>\n",
       "      <th>0</th>\n",
       "      <td>1</td>\n",
       "      <td>296</td>\n",
       "      <td>5.0</td>\n",
       "      <td>1147880044</td>\n",
       "      <td>Pulp Fiction (1994)</td>\n",
       "      <td>Comedy|Crime|Drama|Thriller</td>\n",
       "    </tr>\n",
       "    <tr>\n",
       "      <th>1</th>\n",
       "      <td>1</td>\n",
       "      <td>307</td>\n",
       "      <td>5.0</td>\n",
       "      <td>1147868828</td>\n",
       "      <td>Three Colors: Blue (Trois couleurs: Bleu) (1993)</td>\n",
       "      <td>Drama</td>\n",
       "    </tr>\n",
       "    <tr>\n",
       "      <th>2</th>\n",
       "      <td>1</td>\n",
       "      <td>665</td>\n",
       "      <td>5.0</td>\n",
       "      <td>1147878820</td>\n",
       "      <td>Underground (1995)</td>\n",
       "      <td>Comedy|Drama|War</td>\n",
       "    </tr>\n",
       "    <tr>\n",
       "      <th>3</th>\n",
       "      <td>1</td>\n",
       "      <td>1237</td>\n",
       "      <td>5.0</td>\n",
       "      <td>1147868839</td>\n",
       "      <td>Seventh Seal, The (Sjunde inseglet, Det) (1957)</td>\n",
       "      <td>Drama</td>\n",
       "    </tr>\n",
       "    <tr>\n",
       "      <th>4</th>\n",
       "      <td>1</td>\n",
       "      <td>2632</td>\n",
       "      <td>5.0</td>\n",
       "      <td>1147878248</td>\n",
       "      <td>Saragossa Manuscript, The (Rekopis znaleziony ...</td>\n",
       "      <td>Adventure|Drama|Mystery</td>\n",
       "    </tr>\n",
       "    <tr>\n",
       "      <th>...</th>\n",
       "      <td>...</td>\n",
       "      <td>...</td>\n",
       "      <td>...</td>\n",
       "      <td>...</td>\n",
       "      <td>...</td>\n",
       "      <td>...</td>\n",
       "    </tr>\n",
       "    <tr>\n",
       "      <th>3612469</th>\n",
       "      <td>162541</td>\n",
       "      <td>5952</td>\n",
       "      <td>5.0</td>\n",
       "      <td>1240952617</td>\n",
       "      <td>Lord of the Rings: The Two Towers, The (2002)</td>\n",
       "      <td>Adventure|Fantasy</td>\n",
       "    </tr>\n",
       "    <tr>\n",
       "      <th>3612470</th>\n",
       "      <td>162541</td>\n",
       "      <td>6104</td>\n",
       "      <td>5.0</td>\n",
       "      <td>1240953565</td>\n",
       "      <td>Monty Python Live at the Hollywood Bowl (1982)</td>\n",
       "      <td>Comedy</td>\n",
       "    </tr>\n",
       "    <tr>\n",
       "      <th>3612471</th>\n",
       "      <td>162541</td>\n",
       "      <td>7153</td>\n",
       "      <td>5.0</td>\n",
       "      <td>1240952613</td>\n",
       "      <td>Lord of the Rings: The Return of the King, The...</td>\n",
       "      <td>Action|Adventure|Drama|Fantasy</td>\n",
       "    </tr>\n",
       "    <tr>\n",
       "      <th>3612472</th>\n",
       "      <td>162541</td>\n",
       "      <td>7193</td>\n",
       "      <td>5.0</td>\n",
       "      <td>1240950032</td>\n",
       "      <td>Adventures of Ford Fairlane, The (1990)</td>\n",
       "      <td>Action|Comedy</td>\n",
       "    </tr>\n",
       "    <tr>\n",
       "      <th>3612473</th>\n",
       "      <td>162541</td>\n",
       "      <td>63876</td>\n",
       "      <td>5.0</td>\n",
       "      <td>1240952515</td>\n",
       "      <td>Milk (2008)</td>\n",
       "      <td>Drama</td>\n",
       "    </tr>\n",
       "  </tbody>\n",
       "</table>\n",
       "<p>3612474 rows × 6 columns</p>\n",
       "</div>"
      ],
      "text/plain": [
       "         userId  movieId  rating   timestamp  \\\n",
       "0             1      296     5.0  1147880044   \n",
       "1             1      307     5.0  1147868828   \n",
       "2             1      665     5.0  1147878820   \n",
       "3             1     1237     5.0  1147868839   \n",
       "4             1     2632     5.0  1147878248   \n",
       "...         ...      ...     ...         ...   \n",
       "3612469  162541     5952     5.0  1240952617   \n",
       "3612470  162541     6104     5.0  1240953565   \n",
       "3612471  162541     7153     5.0  1240952613   \n",
       "3612472  162541     7193     5.0  1240950032   \n",
       "3612473  162541    63876     5.0  1240952515   \n",
       "\n",
       "                                                     title  \\\n",
       "0                                      Pulp Fiction (1994)   \n",
       "1         Three Colors: Blue (Trois couleurs: Bleu) (1993)   \n",
       "2                                       Underground (1995)   \n",
       "3          Seventh Seal, The (Sjunde inseglet, Det) (1957)   \n",
       "4        Saragossa Manuscript, The (Rekopis znaleziony ...   \n",
       "...                                                    ...   \n",
       "3612469      Lord of the Rings: The Two Towers, The (2002)   \n",
       "3612470     Monty Python Live at the Hollywood Bowl (1982)   \n",
       "3612471  Lord of the Rings: The Return of the King, The...   \n",
       "3612472            Adventures of Ford Fairlane, The (1990)   \n",
       "3612473                                        Milk (2008)   \n",
       "\n",
       "                                 genres  \n",
       "0           Comedy|Crime|Drama|Thriller  \n",
       "1                                 Drama  \n",
       "2                      Comedy|Drama|War  \n",
       "3                                 Drama  \n",
       "4               Adventure|Drama|Mystery  \n",
       "...                                 ...  \n",
       "3612469               Adventure|Fantasy  \n",
       "3612470                          Comedy  \n",
       "3612471  Action|Adventure|Drama|Fantasy  \n",
       "3612472                   Action|Comedy  \n",
       "3612473                           Drama  \n",
       "\n",
       "[3612474 rows x 6 columns]"
      ]
     },
     "execution_count": 17,
     "metadata": {},
     "output_type": "execute_result"
    }
   ],
   "source": [
    "joined = ratings.merge(movies, on='movieId', how='left')\n",
    "joined"
   ]
  },
  {
   "cell_type": "markdown",
   "metadata": {},
   "source": [
    "группируем по названию, считаем кол-во и сортируем (без разницы по какому столбцу, тк count везде одинаковый )"
   ]
  },
  {
   "cell_type": "code",
   "execution_count": null,
   "metadata": {
    "slideshow": {
     "slide_type": "slide"
    }
   },
   "outputs": [
    {
     "data": {
      "text/html": [
       "<div>\n",
       "<style scoped>\n",
       "    .dataframe tbody tr th:only-of-type {\n",
       "        vertical-align: middle;\n",
       "    }\n",
       "\n",
       "    .dataframe tbody tr th {\n",
       "        vertical-align: top;\n",
       "    }\n",
       "\n",
       "    .dataframe thead th {\n",
       "        text-align: right;\n",
       "    }\n",
       "</style>\n",
       "<table border=\"1\" class=\"dataframe\">\n",
       "  <thead>\n",
       "    <tr style=\"text-align: right;\">\n",
       "      <th></th>\n",
       "      <th>userId</th>\n",
       "      <th>movieId</th>\n",
       "      <th>rating</th>\n",
       "      <th>timestamp</th>\n",
       "      <th>genres</th>\n",
       "    </tr>\n",
       "    <tr>\n",
       "      <th>title</th>\n",
       "      <th></th>\n",
       "      <th></th>\n",
       "      <th></th>\n",
       "      <th></th>\n",
       "      <th></th>\n",
       "    </tr>\n",
       "  </thead>\n",
       "  <tbody>\n",
       "    <tr>\n",
       "      <th>Shawshank Redemption, The (1994)</th>\n",
       "      <td>39553</td>\n",
       "      <td>39553</td>\n",
       "      <td>39553</td>\n",
       "      <td>39553</td>\n",
       "      <td>39553</td>\n",
       "    </tr>\n",
       "  </tbody>\n",
       "</table>\n",
       "</div>"
      ],
      "text/plain": [
       "                                  userId  movieId  rating  timestamp  genres\n",
       "title                                                                       \n",
       "Shawshank Redemption, The (1994)   39553    39553   39553      39553   39553"
      ]
     },
     "execution_count": 18,
     "metadata": {},
     "output_type": "execute_result"
    }
   ],
   "source": [
    "joined.groupby('title').count().sort_values('rating', ascending=False).head(1)\n",
    "# joined.head()"
   ]
  },
  {
   "cell_type": "markdown",
   "metadata": {},
   "source": [
    "## Задание 2\n",
    "По данным файла power.csv посчитайте суммарное потребление стран Прибалтики (Латвия, Литва и Эстония)\n",
    "\n",
    "категорий 4, 12 и 21 за период с 2005 по 2010 года. \n",
    "\n",
    "Не учитывайте в расчетах отрицательные значения quantity."
   ]
  },
  {
   "cell_type": "code",
   "execution_count": null,
   "metadata": {},
   "outputs": [
    {
     "data": {
      "text/html": [
       "<div>\n",
       "<style scoped>\n",
       "    .dataframe tbody tr th:only-of-type {\n",
       "        vertical-align: middle;\n",
       "    }\n",
       "\n",
       "    .dataframe tbody tr th {\n",
       "        vertical-align: top;\n",
       "    }\n",
       "\n",
       "    .dataframe thead th {\n",
       "        text-align: right;\n",
       "    }\n",
       "</style>\n",
       "<table border=\"1\" class=\"dataframe\">\n",
       "  <thead>\n",
       "    <tr style=\"text-align: right;\">\n",
       "      <th></th>\n",
       "      <th>country</th>\n",
       "      <th>year</th>\n",
       "      <th>quantity</th>\n",
       "      <th>category</th>\n",
       "    </tr>\n",
       "  </thead>\n",
       "  <tbody>\n",
       "    <tr>\n",
       "      <th>544571</th>\n",
       "      <td>Portugal</td>\n",
       "      <td>2011</td>\n",
       "      <td>4.0</td>\n",
       "      <td>32</td>\n",
       "    </tr>\n",
       "    <tr>\n",
       "      <th>852825</th>\n",
       "      <td>Bangladesh</td>\n",
       "      <td>2008</td>\n",
       "      <td>240.0</td>\n",
       "      <td>43</td>\n",
       "    </tr>\n",
       "    <tr>\n",
       "      <th>463047</th>\n",
       "      <td>Belize</td>\n",
       "      <td>1991</td>\n",
       "      <td>41.0</td>\n",
       "      <td>27</td>\n",
       "    </tr>\n",
       "  </tbody>\n",
       "</table>\n",
       "</div>"
      ],
      "text/plain": [
       "           country  year  quantity  category\n",
       "544571    Portugal  2011       4.0        32\n",
       "852825  Bangladesh  2008     240.0        43\n",
       "463047      Belize  1991      41.0        27"
      ]
     },
     "execution_count": 19,
     "metadata": {},
     "output_type": "execute_result"
    }
   ],
   "source": [
    "url = r\"\\\\che-ds\\CS_IgSor\\GIT_syno\\data\\power.csv\"\n",
    "# content = requests.get(url)\n",
    "# content\n",
    "power = pd.read_csv(url)\n",
    "power.sample(3)\n"
   ]
  },
  {
   "cell_type": "code",
   "execution_count": null,
   "metadata": {},
   "outputs": [
    {
     "data": {
      "text/plain": [
       "array(['Estonia', 'State of Palestine', 'Timor-Leste'], dtype=object)"
      ]
     },
     "execution_count": 20,
     "metadata": {},
     "output_type": "execute_result"
    }
   ],
   "source": [
    "power[ power['country'].str.contains('est', case=False) ]['country'].unique()"
   ]
  },
  {
   "cell_type": "code",
   "execution_count": null,
   "metadata": {},
   "outputs": [
    {
     "data": {
      "text/plain": [
       "array(['Lithuania'], dtype=object)"
      ]
     },
     "execution_count": 21,
     "metadata": {},
     "output_type": "execute_result"
    }
   ],
   "source": [
    "power[ power.country.str.contains('lit', case=False) ].country.unique()"
   ]
  },
  {
   "cell_type": "code",
   "execution_count": null,
   "metadata": {},
   "outputs": [
    {
     "data": {
      "text/plain": [
       "array(['Latvia'], dtype=object)"
      ]
     },
     "execution_count": 22,
     "metadata": {},
     "output_type": "execute_result"
    }
   ],
   "source": [
    "power[ power.country.str.contains('tv', case=False) ].country.unique()"
   ]
  },
  {
   "cell_type": "code",
   "execution_count": null,
   "metadata": {},
   "outputs": [],
   "source": [
    "# f_df = power.loc[ (power.country == 'Latvia') | (power.country == 'Estonia') | (power.country == 'Lithuania') ]    # in ['Латвия', 'Литва', 'Эстония']"
   ]
  },
  {
   "cell_type": "code",
   "execution_count": null,
   "metadata": {},
   "outputs": [],
   "source": [
    "f_df = power.loc[ power.country.isin(['Latvia', 'Estonia', 'Lithuania']) ]\n",
    "f_df = f_df.loc[ f_df.category.isin([4, 12 , 21])  ] \n",
    "# f_df = f_df.loc[ (2004 < f_df.year) & (f_df.year < 2011 )  ] \n",
    "f_df = f_df.loc[ f_df['year'].between(2005, 2010)  ] \n",
    "\n",
    "f_df = f_df.loc[ (f_df.quantity > 0  )  ] "
   ]
  },
  {
   "cell_type": "code",
   "execution_count": null,
   "metadata": {},
   "outputs": [
    {
     "data": {
      "text/html": [
       "<div>\n",
       "<style scoped>\n",
       "    .dataframe tbody tr th:only-of-type {\n",
       "        vertical-align: middle;\n",
       "    }\n",
       "\n",
       "    .dataframe tbody tr th {\n",
       "        vertical-align: top;\n",
       "    }\n",
       "\n",
       "    .dataframe thead th {\n",
       "        text-align: right;\n",
       "    }\n",
       "</style>\n",
       "<table border=\"1\" class=\"dataframe\">\n",
       "  <thead>\n",
       "    <tr style=\"text-align: right;\">\n",
       "      <th></th>\n",
       "      <th>country</th>\n",
       "      <th>year</th>\n",
       "      <th>quantity</th>\n",
       "      <th>category</th>\n",
       "    </tr>\n",
       "  </thead>\n",
       "  <tbody>\n",
       "    <tr>\n",
       "      <th>10617</th>\n",
       "      <td>Estonia</td>\n",
       "      <td>2008</td>\n",
       "      <td>1.0</td>\n",
       "      <td>4</td>\n",
       "    </tr>\n",
       "    <tr>\n",
       "      <th>10620</th>\n",
       "      <td>Estonia</td>\n",
       "      <td>2005</td>\n",
       "      <td>1.0</td>\n",
       "      <td>4</td>\n",
       "    </tr>\n",
       "    <tr>\n",
       "      <th>11156</th>\n",
       "      <td>Lithuania</td>\n",
       "      <td>2008</td>\n",
       "      <td>1.0</td>\n",
       "      <td>4</td>\n",
       "    </tr>\n",
       "    <tr>\n",
       "      <th>11158</th>\n",
       "      <td>Lithuania</td>\n",
       "      <td>2006</td>\n",
       "      <td>1.0</td>\n",
       "      <td>4</td>\n",
       "    </tr>\n",
       "    <tr>\n",
       "      <th>11159</th>\n",
       "      <td>Lithuania</td>\n",
       "      <td>2005</td>\n",
       "      <td>1.0</td>\n",
       "      <td>4</td>\n",
       "    </tr>\n",
       "    <tr>\n",
       "      <th>...</th>\n",
       "      <td>...</td>\n",
       "      <td>...</td>\n",
       "      <td>...</td>\n",
       "      <td>...</td>\n",
       "    </tr>\n",
       "    <tr>\n",
       "      <th>253982</th>\n",
       "      <td>Lithuania</td>\n",
       "      <td>2009</td>\n",
       "      <td>98.0</td>\n",
       "      <td>21</td>\n",
       "    </tr>\n",
       "    <tr>\n",
       "      <th>253983</th>\n",
       "      <td>Lithuania</td>\n",
       "      <td>2008</td>\n",
       "      <td>54.0</td>\n",
       "      <td>21</td>\n",
       "    </tr>\n",
       "    <tr>\n",
       "      <th>253984</th>\n",
       "      <td>Lithuania</td>\n",
       "      <td>2007</td>\n",
       "      <td>47.0</td>\n",
       "      <td>21</td>\n",
       "    </tr>\n",
       "    <tr>\n",
       "      <th>253985</th>\n",
       "      <td>Lithuania</td>\n",
       "      <td>2006</td>\n",
       "      <td>31.0</td>\n",
       "      <td>21</td>\n",
       "    </tr>\n",
       "    <tr>\n",
       "      <th>253986</th>\n",
       "      <td>Lithuania</td>\n",
       "      <td>2005</td>\n",
       "      <td>1.0</td>\n",
       "      <td>21</td>\n",
       "    </tr>\n",
       "  </tbody>\n",
       "</table>\n",
       "<p>347 rows × 4 columns</p>\n",
       "</div>"
      ],
      "text/plain": [
       "          country  year  quantity  category\n",
       "10617     Estonia  2008       1.0         4\n",
       "10620     Estonia  2005       1.0         4\n",
       "11156   Lithuania  2008       1.0         4\n",
       "11158   Lithuania  2006       1.0         4\n",
       "11159   Lithuania  2005       1.0         4\n",
       "...           ...   ...       ...       ...\n",
       "253982  Lithuania  2009      98.0        21\n",
       "253983  Lithuania  2008      54.0        21\n",
       "253984  Lithuania  2007      47.0        21\n",
       "253985  Lithuania  2006      31.0        21\n",
       "253986  Lithuania  2005       1.0        21\n",
       "\n",
       "[347 rows x 4 columns]"
      ]
     },
     "execution_count": 25,
     "metadata": {},
     "output_type": "execute_result"
    }
   ],
   "source": [
    "f_df"
   ]
  },
  {
   "cell_type": "code",
   "execution_count": null,
   "metadata": {},
   "outputs": [],
   "source": [
    "# f_df.head()"
   ]
  },
  {
   "cell_type": "code",
   "execution_count": null,
   "metadata": {},
   "outputs": [
    {
     "data": {
      "text/plain": [
       "country\n",
       "Lithuania    122296.0\n",
       "Estonia       63440.0\n",
       "Latvia        54844.0\n",
       "Name: quantity, dtype: float64"
      ]
     },
     "execution_count": 27,
     "metadata": {},
     "output_type": "execute_result"
    }
   ],
   "source": [
    "f_df.groupby('country')['quantity'].sum().sort_values(ascending=False)"
   ]
  },
  {
   "cell_type": "code",
   "execution_count": null,
   "metadata": {},
   "outputs": [
    {
     "data": {
      "text/html": [
       "<div>\n",
       "<style scoped>\n",
       "    .dataframe tbody tr th:only-of-type {\n",
       "        vertical-align: middle;\n",
       "    }\n",
       "\n",
       "    .dataframe tbody tr th {\n",
       "        vertical-align: top;\n",
       "    }\n",
       "\n",
       "    .dataframe thead th {\n",
       "        text-align: right;\n",
       "    }\n",
       "</style>\n",
       "<table border=\"1\" class=\"dataframe\">\n",
       "  <thead>\n",
       "    <tr style=\"text-align: right;\">\n",
       "      <th></th>\n",
       "      <th>quantity</th>\n",
       "    </tr>\n",
       "    <tr>\n",
       "      <th>country</th>\n",
       "      <th></th>\n",
       "    </tr>\n",
       "  </thead>\n",
       "  <tbody>\n",
       "    <tr>\n",
       "      <th>Lithuania</th>\n",
       "      <td>122296.0</td>\n",
       "    </tr>\n",
       "    <tr>\n",
       "      <th>Estonia</th>\n",
       "      <td>63440.0</td>\n",
       "    </tr>\n",
       "    <tr>\n",
       "      <th>Latvia</th>\n",
       "      <td>54844.0</td>\n",
       "    </tr>\n",
       "  </tbody>\n",
       "</table>\n",
       "</div>"
      ],
      "text/plain": [
       "           quantity\n",
       "country            \n",
       "Lithuania  122296.0\n",
       "Estonia     63440.0\n",
       "Latvia      54844.0"
      ]
     },
     "execution_count": 28,
     "metadata": {},
     "output_type": "execute_result"
    }
   ],
   "source": [
    "f_df.groupby('country').agg({\"quantity\": sum}).sort_values(by='quantity',ascending=False)"
   ]
  },
  {
   "cell_type": "markdown",
   "metadata": {},
   "source": [
    "попробуем с ранжированием"
   ]
  },
  {
   "cell_type": "code",
   "execution_count": null,
   "metadata": {},
   "outputs": [
    {
     "data": {
      "text/html": [
       "<div>\n",
       "<style scoped>\n",
       "    .dataframe tbody tr th:only-of-type {\n",
       "        vertical-align: middle;\n",
       "    }\n",
       "\n",
       "    .dataframe tbody tr th {\n",
       "        vertical-align: top;\n",
       "    }\n",
       "\n",
       "    .dataframe thead th {\n",
       "        text-align: right;\n",
       "    }\n",
       "</style>\n",
       "<table border=\"1\" class=\"dataframe\">\n",
       "  <thead>\n",
       "    <tr style=\"text-align: right;\">\n",
       "      <th></th>\n",
       "      <th>country</th>\n",
       "      <th>year</th>\n",
       "      <th>quantity</th>\n",
       "      <th>category</th>\n",
       "      <th>rnk</th>\n",
       "    </tr>\n",
       "  </thead>\n",
       "  <tbody>\n",
       "    <tr>\n",
       "      <th>248673</th>\n",
       "      <td>Lithuania</td>\n",
       "      <td>2009</td>\n",
       "      <td>4909.0</td>\n",
       "      <td>21</td>\n",
       "      <td>1.0</td>\n",
       "    </tr>\n",
       "    <tr>\n",
       "      <th>243152</th>\n",
       "      <td>Lithuania</td>\n",
       "      <td>2009</td>\n",
       "      <td>4689.0</td>\n",
       "      <td>21</td>\n",
       "      <td>2.0</td>\n",
       "    </tr>\n",
       "    <tr>\n",
       "      <th>247350</th>\n",
       "      <td>Estonia</td>\n",
       "      <td>2010</td>\n",
       "      <td>2751.0</td>\n",
       "      <td>21</td>\n",
       "      <td>1.0</td>\n",
       "    </tr>\n",
       "    <tr>\n",
       "      <th>241829</th>\n",
       "      <td>Estonia</td>\n",
       "      <td>2010</td>\n",
       "      <td>2729.0</td>\n",
       "      <td>21</td>\n",
       "      <td>2.0</td>\n",
       "    </tr>\n",
       "    <tr>\n",
       "      <th>248550</th>\n",
       "      <td>Latvia</td>\n",
       "      <td>2010</td>\n",
       "      <td>2580.0</td>\n",
       "      <td>21</td>\n",
       "      <td>1.0</td>\n",
       "    </tr>\n",
       "    <tr>\n",
       "      <th>243029</th>\n",
       "      <td>Latvia</td>\n",
       "      <td>2010</td>\n",
       "      <td>2557.0</td>\n",
       "      <td>21</td>\n",
       "      <td>2.0</td>\n",
       "    </tr>\n",
       "  </tbody>\n",
       "</table>\n",
       "</div>"
      ],
      "text/plain": [
       "          country  year  quantity  category  rnk\n",
       "248673  Lithuania  2009    4909.0        21  1.0\n",
       "243152  Lithuania  2009    4689.0        21  2.0\n",
       "247350    Estonia  2010    2751.0        21  1.0\n",
       "241829    Estonia  2010    2729.0        21  2.0\n",
       "248550     Latvia  2010    2580.0        21  1.0\n",
       "243029     Latvia  2010    2557.0        21  2.0"
      ]
     },
     "execution_count": 29,
     "metadata": {},
     "output_type": "execute_result"
    }
   ],
   "source": [
    "# f_df.groupby('country').agg({\"quantity\": sum}).cumcount()\n",
    "\n",
    "(\n",
    "    f_df.assign(\n",
    "        rnk=f_df.groupby([\"country\"])[\"quantity\"].rank(\n",
    "            method=\"first\", ascending=False\n",
    "        )\n",
    "    )\n",
    "    .query(\"rnk <3\")\n",
    "    .sort_values([\"quantity\", \"rnk\"],ascending=False)\n",
    ")"
   ]
  },
  {
   "cell_type": "markdown",
   "metadata": {},
   "source": [
    "средствами SQL"
   ]
  },
  {
   "cell_type": "code",
   "execution_count": null,
   "metadata": {},
   "outputs": [],
   "source": [
    "!pip install -q pandasql\n",
    "from pandasql import sqldf"
   ]
  },
  {
   "cell_type": "code",
   "execution_count": null,
   "metadata": {},
   "outputs": [
    {
     "name": "stdout",
     "output_type": "stream",
     "text": [
      "CPU times: total: 12.2 s\n",
      "Wall time: 17.5 s\n"
     ]
    },
    {
     "data": {
      "text/html": [
       "<div>\n",
       "<style scoped>\n",
       "    .dataframe tbody tr th:only-of-type {\n",
       "        vertical-align: middle;\n",
       "    }\n",
       "\n",
       "    .dataframe tbody tr th {\n",
       "        vertical-align: top;\n",
       "    }\n",
       "\n",
       "    .dataframe thead th {\n",
       "        text-align: right;\n",
       "    }\n",
       "</style>\n",
       "<table border=\"1\" class=\"dataframe\">\n",
       "  <thead>\n",
       "    <tr style=\"text-align: right;\">\n",
       "      <th></th>\n",
       "      <th>country</th>\n",
       "      <th>SUM(quantity)</th>\n",
       "    </tr>\n",
       "  </thead>\n",
       "  <tbody>\n",
       "    <tr>\n",
       "      <th>0</th>\n",
       "      <td>Lithuania</td>\n",
       "      <td>122296.0</td>\n",
       "    </tr>\n",
       "    <tr>\n",
       "      <th>1</th>\n",
       "      <td>Estonia</td>\n",
       "      <td>63440.0</td>\n",
       "    </tr>\n",
       "    <tr>\n",
       "      <th>2</th>\n",
       "      <td>Latvia</td>\n",
       "      <td>54844.0</td>\n",
       "    </tr>\n",
       "  </tbody>\n",
       "</table>\n",
       "</div>"
      ],
      "text/plain": [
       "     country  SUM(quantity)\n",
       "0  Lithuania       122296.0\n",
       "1    Estonia        63440.0\n",
       "2     Latvia        54844.0"
      ]
     },
     "execution_count": 31,
     "metadata": {},
     "output_type": "execute_result"
    }
   ],
   "source": [
    "%%time\n",
    "query = \"SELECT country, SUM(quantity) \\\n",
    "    FROM power \\\n",
    "    WHERE country IN ('Latvia', 'Estonia', 'Lithuania') AND category IN (4, 12 , 21) \\\n",
    "    AND year BETWEEN 2005 AND 2010 AND quantity >0 \\\n",
    "    GROUP BY country \\\n",
    "    ORDER BY 2 DESC\"\n",
    "df_group = sqldf(query)\n",
    "df_group.head(10)"
   ]
  },
  {
   "cell_type": "markdown",
   "metadata": {},
   "source": [
    "pandasql значительно медленнее нативных методов библиотеки pandas"
   ]
  },
  {
   "cell_type": "code",
   "execution_count": null,
   "metadata": {},
   "outputs": [
    {
     "name": "stdout",
     "output_type": "stream",
     "text": [
      "Collecting duckdb\n",
      "  Downloading duckdb-0.6.0-cp310-cp310-win_amd64.whl (9.0 MB)\n",
      "     ---------------------------------------- 9.0/9.0 MB 1.9 MB/s eta 0:00:00\n",
      "Requirement already satisfied: numpy>=1.14 in d:\\users\\max\\appdata\\local\\packages\\pythonsoftwarefoundation.python.3.10_qbz5n2kfra8p0\\localcache\\local-packages\\python310\\site-packages (from duckdb) (1.23.4)\n",
      "Installing collected packages: duckdb\n",
      "Successfully installed duckdb-0.6.0\n"
     ]
    }
   ],
   "source": [
    "!pip install duckdb\n",
    "import duckdb"
   ]
  },
  {
   "cell_type": "code",
   "execution_count": null,
   "metadata": {},
   "outputs": [
    {
     "name": "stdout",
     "output_type": "stream",
     "text": [
      "CPU times: total: 62.5 ms\n",
      "Wall time: 29 ms\n"
     ]
    },
    {
     "data": {
      "text/html": [
       "<div>\n",
       "<style scoped>\n",
       "    .dataframe tbody tr th:only-of-type {\n",
       "        vertical-align: middle;\n",
       "    }\n",
       "\n",
       "    .dataframe tbody tr th {\n",
       "        vertical-align: top;\n",
       "    }\n",
       "\n",
       "    .dataframe thead th {\n",
       "        text-align: right;\n",
       "    }\n",
       "</style>\n",
       "<table border=\"1\" class=\"dataframe\">\n",
       "  <thead>\n",
       "    <tr style=\"text-align: right;\">\n",
       "      <th></th>\n",
       "      <th>country</th>\n",
       "      <th>sum(quantity)</th>\n",
       "    </tr>\n",
       "  </thead>\n",
       "  <tbody>\n",
       "    <tr>\n",
       "      <th>0</th>\n",
       "      <td>Lithuania</td>\n",
       "      <td>122296.0</td>\n",
       "    </tr>\n",
       "    <tr>\n",
       "      <th>1</th>\n",
       "      <td>Estonia</td>\n",
       "      <td>63440.0</td>\n",
       "    </tr>\n",
       "    <tr>\n",
       "      <th>2</th>\n",
       "      <td>Latvia</td>\n",
       "      <td>54844.0</td>\n",
       "    </tr>\n",
       "  </tbody>\n",
       "</table>\n",
       "</div>"
      ],
      "text/plain": [
       "     country  sum(quantity)\n",
       "0  Lithuania       122296.0\n",
       "1    Estonia        63440.0\n",
       "2     Latvia        54844.0"
      ]
     },
     "execution_count": 33,
     "metadata": {},
     "output_type": "execute_result"
    }
   ],
   "source": [
    "%%time\n",
    "duckdb.query(\"SELECT country, SUM(quantity) \\\n",
    "    FROM power \\\n",
    "    WHERE country IN ('Latvia', 'Estonia', 'Lithuania') AND category IN (4, 12 , 21) \\\n",
    "    AND year BETWEEN 2005 AND 2010 AND quantity >0 \\\n",
    "    GROUP BY country \\\n",
    "    ORDER BY 2 DESC\").df()\n",
    "                 \n"
   ]
  },
  {
   "cell_type": "markdown",
   "metadata": {},
   "source": [
    "duckdb в 600 раз быстрее  pandasql!!!"
   ]
  },
  {
   "cell_type": "markdown",
   "metadata": {},
   "source": [
    "## Задание 3\n",
    "\n",
    "Выберите страницу любого сайта с табличными данными. Импортируйте таблицы в pandas dataframe.\n",
    "\n",
    "Примеры страниц (необязательно брать именно эти):\n",
    "\n",
    "https://fortrader.org/quotes\n",
    "www.finanz.ru...om-vremeni"
   ]
  },
  {
   "cell_type": "code",
   "execution_count": 27,
   "metadata": {},
   "outputs": [],
   "source": [
    "# !pip3 install lxml\n",
    "import lxml "
   ]
  },
  {
   "cell_type": "code",
   "execution_count": 28,
   "metadata": {},
   "outputs": [
    {
     "ename": "ImportError",
     "evalue": "lxml not found, please install it",
     "output_type": "error",
     "traceback": [
      "\u001b[1;31m---------------------------------------------------------------------------\u001b[0m",
      "\u001b[1;31mImportError\u001b[0m                               Traceback (most recent call last)",
      "Cell \u001b[1;32mIn [28], line 1\u001b[0m\n\u001b[1;32m----> 1\u001b[0m some_df \u001b[39m=\u001b[39m pd\u001b[39m.\u001b[39;49mread_html(\u001b[39m'\u001b[39;49m\u001b[39mhttps://infotables.ru/drugie/1316-spisok-vus-tablitsa#spisok\u001b[39;49m\u001b[39m'\u001b[39;49m)\n\u001b[0;32m      2\u001b[0m \u001b[39m# pd.set_option('display.max_colwidth', -1)\u001b[39;00m\n",
      "File \u001b[1;32m~\\AppData\\Local\\Packages\\PythonSoftwareFoundation.Python.3.10_qbz5n2kfra8p0\\LocalCache\\local-packages\\Python310\\site-packages\\pandas\\util\\_decorators.py:331\u001b[0m, in \u001b[0;36mdeprecate_nonkeyword_arguments.<locals>.decorate.<locals>.wrapper\u001b[1;34m(*args, **kwargs)\u001b[0m\n\u001b[0;32m    325\u001b[0m \u001b[39mif\u001b[39;00m \u001b[39mlen\u001b[39m(args) \u001b[39m>\u001b[39m num_allow_args:\n\u001b[0;32m    326\u001b[0m     warnings\u001b[39m.\u001b[39mwarn(\n\u001b[0;32m    327\u001b[0m         msg\u001b[39m.\u001b[39mformat(arguments\u001b[39m=\u001b[39m_format_argument_list(allow_args)),\n\u001b[0;32m    328\u001b[0m         \u001b[39mFutureWarning\u001b[39;00m,\n\u001b[0;32m    329\u001b[0m         stacklevel\u001b[39m=\u001b[39mfind_stack_level(),\n\u001b[0;32m    330\u001b[0m     )\n\u001b[1;32m--> 331\u001b[0m \u001b[39mreturn\u001b[39;00m func(\u001b[39m*\u001b[39margs, \u001b[39m*\u001b[39m\u001b[39m*\u001b[39mkwargs)\n",
      "File \u001b[1;32m~\\AppData\\Local\\Packages\\PythonSoftwareFoundation.Python.3.10_qbz5n2kfra8p0\\LocalCache\\local-packages\\Python310\\site-packages\\pandas\\io\\html.py:1205\u001b[0m, in \u001b[0;36mread_html\u001b[1;34m(io, match, flavor, header, index_col, skiprows, attrs, parse_dates, thousands, encoding, decimal, converters, na_values, keep_default_na, displayed_only, extract_links)\u001b[0m\n\u001b[0;32m   1201\u001b[0m validate_header_arg(header)\n\u001b[0;32m   1203\u001b[0m io \u001b[39m=\u001b[39m stringify_path(io)\n\u001b[1;32m-> 1205\u001b[0m \u001b[39mreturn\u001b[39;00m _parse(\n\u001b[0;32m   1206\u001b[0m     flavor\u001b[39m=\u001b[39;49mflavor,\n\u001b[0;32m   1207\u001b[0m     io\u001b[39m=\u001b[39;49mio,\n\u001b[0;32m   1208\u001b[0m     match\u001b[39m=\u001b[39;49mmatch,\n\u001b[0;32m   1209\u001b[0m     header\u001b[39m=\u001b[39;49mheader,\n\u001b[0;32m   1210\u001b[0m     index_col\u001b[39m=\u001b[39;49mindex_col,\n\u001b[0;32m   1211\u001b[0m     skiprows\u001b[39m=\u001b[39;49mskiprows,\n\u001b[0;32m   1212\u001b[0m     parse_dates\u001b[39m=\u001b[39;49mparse_dates,\n\u001b[0;32m   1213\u001b[0m     thousands\u001b[39m=\u001b[39;49mthousands,\n\u001b[0;32m   1214\u001b[0m     attrs\u001b[39m=\u001b[39;49mattrs,\n\u001b[0;32m   1215\u001b[0m     encoding\u001b[39m=\u001b[39;49mencoding,\n\u001b[0;32m   1216\u001b[0m     decimal\u001b[39m=\u001b[39;49mdecimal,\n\u001b[0;32m   1217\u001b[0m     converters\u001b[39m=\u001b[39;49mconverters,\n\u001b[0;32m   1218\u001b[0m     na_values\u001b[39m=\u001b[39;49mna_values,\n\u001b[0;32m   1219\u001b[0m     keep_default_na\u001b[39m=\u001b[39;49mkeep_default_na,\n\u001b[0;32m   1220\u001b[0m     displayed_only\u001b[39m=\u001b[39;49mdisplayed_only,\n\u001b[0;32m   1221\u001b[0m     extract_links\u001b[39m=\u001b[39;49mextract_links,\n\u001b[0;32m   1222\u001b[0m )\n",
      "File \u001b[1;32m~\\AppData\\Local\\Packages\\PythonSoftwareFoundation.Python.3.10_qbz5n2kfra8p0\\LocalCache\\local-packages\\Python310\\site-packages\\pandas\\io\\html.py:982\u001b[0m, in \u001b[0;36m_parse\u001b[1;34m(flavor, io, match, attrs, encoding, displayed_only, extract_links, **kwargs)\u001b[0m\n\u001b[0;32m    980\u001b[0m retained \u001b[39m=\u001b[39m \u001b[39mNone\u001b[39;00m\n\u001b[0;32m    981\u001b[0m \u001b[39mfor\u001b[39;00m flav \u001b[39min\u001b[39;00m flavor:\n\u001b[1;32m--> 982\u001b[0m     parser \u001b[39m=\u001b[39m _parser_dispatch(flav)\n\u001b[0;32m    983\u001b[0m     p \u001b[39m=\u001b[39m parser(io, compiled_match, attrs, encoding, displayed_only, extract_links)\n\u001b[0;32m    985\u001b[0m     \u001b[39mtry\u001b[39;00m:\n",
      "File \u001b[1;32m~\\AppData\\Local\\Packages\\PythonSoftwareFoundation.Python.3.10_qbz5n2kfra8p0\\LocalCache\\local-packages\\Python310\\site-packages\\pandas\\io\\html.py:939\u001b[0m, in \u001b[0;36m_parser_dispatch\u001b[1;34m(flavor)\u001b[0m\n\u001b[0;32m    937\u001b[0m \u001b[39melse\u001b[39;00m:\n\u001b[0;32m    938\u001b[0m     \u001b[39mif\u001b[39;00m \u001b[39mnot\u001b[39;00m _HAS_LXML:\n\u001b[1;32m--> 939\u001b[0m         \u001b[39mraise\u001b[39;00m \u001b[39mImportError\u001b[39;00m(\u001b[39m\"\u001b[39m\u001b[39mlxml not found, please install it\u001b[39m\u001b[39m\"\u001b[39m)\n\u001b[0;32m    940\u001b[0m \u001b[39mreturn\u001b[39;00m _valid_parsers[flavor]\n",
      "\u001b[1;31mImportError\u001b[0m: lxml not found, please install it"
     ]
    }
   ],
   "source": [
    "some_df = pd.read_html('https://infotables.ru/drugie/1316-spisok-vus-tablitsa#spisok')\n",
    "# pd.set_option('display.max_colwidth', -1)"
   ]
  },
  {
   "cell_type": "code",
   "execution_count": null,
   "metadata": {},
   "outputs": [
    {
     "name": "stdout",
     "output_type": "stream",
     "text": [
      "0 362\n",
      "1 50\n",
      "2 2\n",
      "3 1\n"
     ]
    }
   ],
   "source": [
    "for i, tt in enumerate(some_df):\n",
    "    print(i, len(tt) )"
   ]
  },
  {
   "cell_type": "markdown",
   "metadata": {},
   "source": [
    "в 0-й таблице 362 строки. посмотрим..."
   ]
  },
  {
   "cell_type": "code",
   "execution_count": null,
   "metadata": {},
   "outputs": [
    {
     "data": {
      "text/html": [
       "<div>\n",
       "<style scoped>\n",
       "    .dataframe tbody tr th:only-of-type {\n",
       "        vertical-align: middle;\n",
       "    }\n",
       "\n",
       "    .dataframe tbody tr th {\n",
       "        vertical-align: top;\n",
       "    }\n",
       "\n",
       "    .dataframe thead th {\n",
       "        text-align: right;\n",
       "    }\n",
       "</style>\n",
       "<table border=\"1\" class=\"dataframe\">\n",
       "  <thead>\n",
       "    <tr style=\"text-align: right;\">\n",
       "      <th></th>\n",
       "      <th>0</th>\n",
       "      <th>1</th>\n",
       "    </tr>\n",
       "  </thead>\n",
       "  <tbody>\n",
       "    <tr>\n",
       "      <th>10</th>\n",
       "      <td>030 403</td>\n",
       "      <td>Боевое применение подразделений и частей полковой и дивизионной артиллерии. Могут занимать должности: командир огневого взвода, командир взвода управления, командир миномётного взвода</td>\n",
       "    </tr>\n",
       "    <tr>\n",
       "      <th>11</th>\n",
       "      <td>030 403</td>\n",
       "      <td>Боевое применение подразделений и воинских частей полковой и дивизионной артиллерии</td>\n",
       "    </tr>\n",
       "    <tr>\n",
       "      <th>12</th>\n",
       "      <td>030 404</td>\n",
       "      <td>Боевое применение подразделений, воинских частей противотанковой артиллерии</td>\n",
       "    </tr>\n",
       "    <tr>\n",
       "      <th>18</th>\n",
       "      <td>043 203</td>\n",
       "      <td>Боевое применение стартовых подразделений многоканальных зенитно-ракетных систем средней дальности ПВО</td>\n",
       "    </tr>\n",
       "    <tr>\n",
       "      <th>25</th>\n",
       "      <td>097 001</td>\n",
       "      <td>Боевое применение подразделений артиллерийской оптической разведки</td>\n",
       "    </tr>\n",
       "    <tr>\n",
       "      <th>63</th>\n",
       "      <td>134</td>\n",
       "      <td>Командир орудия 2С3 (152-мм самоходная артиллерийская установка «Ака?ция»)</td>\n",
       "    </tr>\n",
       "    <tr>\n",
       "      <th>73</th>\n",
       "      <td>146 182</td>\n",
       "      <td>Командир отделения артиллерийской разведки ПРП-3 (подвижный разведывательный пункт «Вал»), ПРП-4 (подвижный разведывательный пункт «Нард»)</td>\n",
       "    </tr>\n",
       "    <tr>\n",
       "      <th>120</th>\n",
       "      <td>233 256</td>\n",
       "      <td>Механик бомбардировочного и артиллерийского вооружения и автоматов пассивных помех</td>\n",
       "    </tr>\n",
       "    <tr>\n",
       "      <th>140</th>\n",
       "      <td>304 030</td>\n",
       "      <td>Боевое применение подразделений и частей полковой и дивизионной артиллерии. Могут занимать должности: командир огневого взвода, командир взвода управления, командир миномётного взвода</td>\n",
       "    </tr>\n",
       "    <tr>\n",
       "      <th>143</th>\n",
       "      <td>310 000</td>\n",
       "      <td>Эксплуатация и ремонт радиотехнических и радиолокационных средств ракетных войск и артиллерии</td>\n",
       "    </tr>\n",
       "    <tr>\n",
       "      <th>183</th>\n",
       "      <td>431 000</td>\n",
       "      <td>Эксплуатация и ремонт радиотехнических и радиолокационных средств Ракетных войск и артиллерии</td>\n",
       "    </tr>\n",
       "    <tr>\n",
       "      <th>204</th>\n",
       "      <td>461 103</td>\n",
       "      <td>Эксплуатация и ремонт бомбардировочного и артиллерийского вооружения</td>\n",
       "    </tr>\n",
       "    <tr>\n",
       "      <th>280</th>\n",
       "      <td>671 567</td>\n",
       "      <td>Картограф — планшетист</td>\n",
       "    </tr>\n",
       "    <tr>\n",
       "      <th>287</th>\n",
       "      <td>735 428</td>\n",
       "      <td>Начальник склада по хранению артиллерийских боеприпасов</td>\n",
       "    </tr>\n",
       "    <tr>\n",
       "      <th>288</th>\n",
       "      <td>735 945</td>\n",
       "      <td>Специалист по хранению артиллерийских боеприпасов — техник</td>\n",
       "    </tr>\n",
       "    <tr>\n",
       "      <th>357</th>\n",
       "      <td>970 010</td>\n",
       "      <td>Боевое применение подразделений артиллерийской оптической разведки</td>\n",
       "    </tr>\n",
       "  </tbody>\n",
       "</table>\n",
       "</div>"
      ],
      "text/plain": [
       "           0  \\\n",
       "10   030 403   \n",
       "11   030 403   \n",
       "12   030 404   \n",
       "18   043 203   \n",
       "25   097 001   \n",
       "63   134       \n",
       "73   146 182   \n",
       "120  233 256   \n",
       "140  304 030   \n",
       "143  310 000   \n",
       "183  431 000   \n",
       "204  461 103   \n",
       "280  671 567   \n",
       "287  735 428   \n",
       "288  735 945   \n",
       "357  970 010   \n",
       "\n",
       "                                                                                                                                                                                           1  \n",
       "10   Боевое применение подразделений и частей полковой и дивизионной артиллерии. Могут занимать должности: командир огневого взвода, командир взвода управления, командир миномётного взвода  \n",
       "11   Боевое применение подразделений и воинских частей полковой и дивизионной артиллерии                                                                                                      \n",
       "12   Боевое применение подразделений, воинских частей противотанковой артиллерии                                                                                                              \n",
       "18   Боевое применение стартовых подразделений многоканальных зенитно-ракетных систем средней дальности ПВО                                                                                   \n",
       "25   Боевое применение подразделений артиллерийской оптической разведки                                                                                                                       \n",
       "63   Командир орудия 2С3 (152-мм самоходная артиллерийская установка «Ака?ция»)                                                                                                               \n",
       "73   Командир отделения артиллерийской разведки ПРП-3 (подвижный разведывательный пункт «Вал»), ПРП-4 (подвижный разведывательный пункт «Нард»)                                               \n",
       "120  Механик бомбардировочного и артиллерийского вооружения и автоматов пассивных помех                                                                                                       \n",
       "140  Боевое применение подразделений и частей полковой и дивизионной артиллерии. Могут занимать должности: командир огневого взвода, командир взвода управления, командир миномётного взвода  \n",
       "143  Эксплуатация и ремонт радиотехнических и радиолокационных средств ракетных войск и артиллерии                                                                                            \n",
       "183  Эксплуатация и ремонт радиотехнических и радиолокационных средств Ракетных войск и артиллерии                                                                                            \n",
       "204  Эксплуатация и ремонт бомбардировочного и артиллерийского вооружения                                                                                                                     \n",
       "280  Картограф — планшетист                                                                                                                                                                   \n",
       "287  Начальник склада по хранению артиллерийских боеприпасов                                                                                                                                  \n",
       "288  Специалист по хранению артиллерийских боеприпасов — техник                                                                                                                               \n",
       "357  Боевое применение подразделений артиллерийской оптической разведки                                                                                                                       "
      ]
     },
     "execution_count": 25,
     "metadata": {},
     "output_type": "execute_result"
    }
   ],
   "source": [
    "filter = input(' Введите ключевое слово :')\n",
    "some_df[0].loc[ some_df[0][1].str.contains(filter, case=False) ]"
   ]
  }
 ],
 "metadata": {
  "celltoolbar": "Slideshow",
  "kernelspec": {
   "display_name": "Python 3",
   "language": "python",
   "name": "python3"
  },
  "language_info": {
   "codemirror_mode": {
    "name": "ipython",
    "version": 3
   },
   "file_extension": ".py",
   "mimetype": "text/x-python",
   "name": "python",
   "nbconvert_exporter": "python",
   "pygments_lexer": "ipython3",
   "version": "3.11.1 (main, Dec 23 2022, 09:39:26) [Clang 14.0.0 (clang-1400.0.29.202)]"
  },
  "vscode": {
   "interpreter": {
    "hash": "1a1af0ee75eeea9e2e1ee996c87e7a2b11a0bebd85af04bb136d915cefc0abce"
   }
  }
 },
 "nbformat": 4,
 "nbformat_minor": 2
}
