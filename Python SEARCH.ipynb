{
 "cells": [
  {
   "cell_type": "markdown",
   "metadata": {},
   "source": [
    "# `Notebook search for a chunk of code`"
   ]
  },
  {
   "cell_type": "code",
   "execution_count": 1,
   "metadata": {},
   "outputs": [
    {
     "name": "stdout",
     "output_type": "stream",
     "text": [
      "Looking for: ['confidence'] in *.ipynb files\n",
      "Incl. all occurrences: True\n",
      "Case sensetive       : False\n",
      "\n",
      "File:                                                 :  Search result:\n",
      "................................................................................\n",
      "Netology stats_Case_study HW.ipynb                    : , confidence interval \n",
      "Netology stats_Practice_AB.ipynb                      : , confidence intervals\n",
      "Netology stats_case_study_linreg_confidence_interval.ipynb    : , confidence_interval_\n",
      "Netology Pandas_basics.ipynb                          : , Confidence_Intervals\n",
      "Netology stats Power Min_sample size_W.ipynb          : , confidence = 0.9\\n\",\n",
      "Netology stats_case_study_Darwinbooks_recommend.ipynb    : , confidence',\\n\",\" 'd\n",
      "Python_Tricks.ipynb                                   : , Confidence_Intervals\n",
      "Netology stats Case_Power_MinSampleSize_HW.ipynb      : , confidence = 0.9\\n\",\n",
      "Netology stats_Confidence_Intervals.ipynb             : , Confidence Interval\\\n",
      "Netology stats_case_study_bs_conf_int.ipynb           : , confidence_interval \n",
      "Netology stats_Confidential_intervals HW.ipynb        : , Confidence Interval\\\n"
     ]
    }
   ],
   "source": [
    "import glob\n",
    "\n",
    "# !ls  # look around\n",
    "\n",
    "# pattern = '../**/*.ipynb'\n",
    "pattern = '*.ipynb'\n",
    "all_occurs = True # search logic:  and  or\n",
    "case_sens = False  # case sensetive search\n",
    "res_length = 20\n",
    "\n",
    "inq = input('Input search strings separated by whitespace:').split()\n",
    "# inq = ['kwarg','arg']\n",
    "print(f'Looking for: {inq} in {pattern} files\\nIncl. all occurrences: {all_occurs}')\n",
    "print(f'Case sensetive       : {case_sens}\\n')\n",
    "print('File:',\" \"*47,\":  Search result:\")\n",
    "print(\".\"*80)\n",
    "for filepath in glob.iglob(pattern, recursive=True): # recursive= True: include subfolders\n",
    "    with open(filepath, encoding='UTF-8') as file:\n",
    "\n",
    "        s = file.read()\n",
    "        chunk = ''\n",
    "        for search_str in inq:\n",
    "            if case_sens:\n",
    "                ind = s.find( search_str )\n",
    "            else:\n",
    "                ind = s.lower().find( search_str.lower() )\n",
    "            found = ( ind != -1 ) \n",
    "            if found:\n",
    "                chunk += \", \" + (s[ind:ind + res_length])\n",
    "            if (not found) and all_occurs:\n",
    "                break                \n",
    "        if found:\n",
    "            print(filepath.ljust(50),\" \"*3 + \":\", chunk)"
   ]
  },
  {
   "cell_type": "code",
   "execution_count": 2,
   "metadata": {},
   "outputs": [],
   "source": [
    "# data = pd.read_csv('/Users/velo1/SynologyDrive/GIT_syno/data/video_games_sales.csv')\n",
    "# data.head()"
   ]
  }
 ],
 "metadata": {
  "kernelspec": {
   "display_name": "Python 3.10.5 64-bit",
   "language": "python",
   "name": "python3"
  },
  "language_info": {
   "codemirror_mode": {
    "name": "ipython",
    "version": 3
   },
   "file_extension": ".py",
   "mimetype": "text/x-python",
   "name": "python",
   "nbconvert_exporter": "python",
   "pygments_lexer": "ipython3",
   "version": "3.10.5"
  },
  "orig_nbformat": 4,
  "vscode": {
   "interpreter": {
    "hash": "aee8b7b246df8f9039afb4144a1f6fd8d2ca17a180786b69acc140d282b71a49"
   }
  }
 },
 "nbformat": 4,
 "nbformat_minor": 2
}
