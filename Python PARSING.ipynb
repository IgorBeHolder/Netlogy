{
 "cells": [
  {
   "cell_type": "code",
   "execution_count": null,
   "metadata": {},
   "outputs": [],
   "source": [
    "import requests\n",
    "import time\n",
    "# функция pprint позволяет более структурированно выводить сложные структуры\n",
    "from pprint import pprint\n"
   ]
  },
  {
   "cell_type": "markdown",
   "metadata": {
    "id": "dyocHsX6iAAv"
   },
   "source": [
    "Поищем сообщества в социальной сети"
   ]
  },
  {
   "cell_type": "code",
   "execution_count": null,
   "metadata": {
    "id": "hVfvQkdDgydY"
   },
   "outputs": [],
   "source": [
    "token = 'vk1.a.JiKFqeec8vbQTB6bNVdEtKdgwEcV2jq4ctC8XQ-ZbJRLyJOA3LNuQYiulX-EPhzwdzmoxMMIA_UIJjGkhKcivNLNbe_vi_ZK6pIWqS0ofVRpl52-yWchekjcNAUt9TUaJqafWv6dyYl6u-XE-7G8suaSv1qvOtk8-hTgtEauLgcLinvQVVYpmGxKJWYiUIQ8'\n",
    "\n",
    "\n",
    "params = {\n",
    "    'q': 'python',\n",
    "    'access_token': token,\n",
    "    'v':'5.131',\n",
    "    'count': 300\n",
    "}\n",
    "req = requests.get('https://api.vk.com/method/groups.search', params).json()"
   ]
  },
  {
   "cell_type": "code",
   "execution_count": null,
   "metadata": {
    "colab": {
     "base_uri": "https://localhost:8080/"
    },
    "executionInfo": {
     "elapsed": 258,
     "status": "ok",
     "timestamp": 1664904660867,
     "user": {
      "displayName": "Олег Булыгин",
      "userId": "00238399283473622287"
     },
     "user_tz": -300
    },
    "id": "PiVpWU8CiTzH",
    "outputId": "b59bb1db-0528-40c4-99bf-8d6ea8d3761e"
   },
   "outputs": [],
   "source": [
    "print(req)"
   ]
  },
  {
   "cell_type": "code",
   "execution_count": null,
   "metadata": {
    "id": "Ted4SNBwiWeY"
   },
   "outputs": [],
   "source": [
    "pprint(req)"
   ]
  },
  {
   "cell_type": "code",
   "execution_count": null,
   "metadata": {
    "id": "hmIhWPlmhdbx"
   },
   "outputs": [],
   "source": [
    "target_groups = req['response']['items']\n",
    "target_groups"
   ]
  },
  {
   "cell_type": "code",
   "execution_count": null,
   "metadata": {
    "colab": {
     "base_uri": "https://localhost:8080/"
    },
    "executionInfo": {
     "elapsed": 354,
     "status": "ok",
     "timestamp": 1664904829523,
     "user": {
      "displayName": "Олег Булыгин",
      "userId": "00238399283473622287"
     },
     "user_tz": -300
    },
    "id": "QvRcWYcFha5B",
    "outputId": "860796cf-b90d-4497-d5f1-e4794711f740"
   },
   "outputs": [],
   "source": [
    "# преобразуем список всех id в строку (в таком виде принимает данные параметр fields)\n",
    "target_group_ids = ','.join([str(group['id']) for group in target_groups])\n",
    "print(target_group_ids)"
   ]
  },
  {
   "cell_type": "code",
   "execution_count": null,
   "metadata": {
    "id": "_W6o7_tyhnho"
   },
   "outputs": [],
   "source": [
    "params = {\n",
    "    'access_token': token,\n",
    "    'v':'5.131',\n",
    "    'group_ids': target_group_ids,\n",
    "    'fields':  'members_count,activity,description'\n",
    "\n",
    "}\n",
    "req = requests.get('https://api.vk.com/method/groups.getById', params)\n",
    "\n",
    "pprint(req.json())"
   ]
  },
  {
   "cell_type": "markdown",
   "metadata": {
    "id": "6NZI-bA1h55v"
   },
   "source": [
    "Посчитаем количество лайков в сообщениях"
   ]
  },
  {
   "cell_type": "code",
   "execution_count": null,
   "metadata": {
    "id": "4ITjFtNYTBDC"
   },
   "outputs": [],
   "source": [
    "params = {\n",
    "    'access_token': token,\n",
    "    'v':'5.131',\n",
    "    'q': 'Нетология',\n",
    "    'start_from': '',\n",
    "    'count': 200,\n",
    "    'extended': 1\n",
    "}   \n",
    "res = []\n",
    "while True:\n",
    "    result = requests.get('https://api.vk.com/method/newsfeed.search', params)\n",
    "    time.sleep(0.33)\n",
    "    res += result.json()['response']['items']\n",
    "    if 'next_from' in result.json()['response'].keys():\n",
    "        params['start_from'] = result.json()['response']['next_from']\n",
    "    else:\n",
    "        break"
   ]
  },
  {
   "cell_type": "code",
   "execution_count": null,
   "metadata": {
    "colab": {
     "base_uri": "https://localhost:8080/"
    },
    "executionInfo": {
     "elapsed": 4,
     "status": "ok",
     "timestamp": 1664904961273,
     "user": {
      "displayName": "Олег Булыгин",
      "userId": "00238399283473622287"
     },
     "user_tz": -300
    },
    "id": "tV20crjSNBav",
    "outputId": "64597b0d-c8e9-4614-c7b6-77d4b3e38dbd"
   },
   "outputs": [],
   "source": [
    "print(type(res))\n",
    "print(len(res))"
   ]
  },
  {
   "cell_type": "code",
   "execution_count": null,
   "metadata": {
    "id": "f5Ty6GTqOawt"
   },
   "outputs": [],
   "source": [
    "pprint(res[0])"
   ]
  },
  {
   "cell_type": "code",
   "execution_count": null,
   "metadata": {
    "colab": {
     "base_uri": "https://localhost:8080/"
    },
    "executionInfo": {
     "elapsed": 470,
     "status": "ok",
     "timestamp": 1664905032092,
     "user": {
      "displayName": "Олег Булыгин",
      "userId": "00238399283473622287"
     },
     "user_tz": -300
    },
    "id": "iri8Z2C9N7Ek",
    "outputId": "d65cad09-1e43-4c66-e21d-c795a221097a"
   },
   "outputs": [],
   "source": [
    "likes_count = 0\n",
    "reposts_count = 0\n",
    "for post in res:\n",
    "    likes_count += post['likes']['count']\n",
    "    reposts_count += post['reposts']['count']\n",
    "\n",
    "print(likes_count)\n",
    "print(reposts_count)"
   ]
  },
  {
   "cell_type": "markdown",
   "metadata": {},
   "source": [
    "### Parsing URLs"
   ]
  },
  {
   "cell_type": "code",
   "execution_count": null,
   "metadata": {},
   "outputs": [],
   "source": [
    "from urllib import parse"
   ]
  },
  {
   "cell_type": "code",
   "execution_count": null,
   "metadata": {},
   "outputs": [],
   "source": [
    "res =parse.urlsplit('https://ya.ru/news/sport?search=footbal#abc') # разбор структуры ссылки\n",
    "res"
   ]
  },
  {
   "cell_type": "code",
   "execution_count": null,
   "metadata": {},
   "outputs": [],
   "source": [
    "parse.urlsplit('https://ya.ru/news/sport?search=footbal#abc').netloc # обращение к параметру netloc"
   ]
  },
  {
   "cell_type": "markdown",
   "metadata": {},
   "source": [
    "##### выдергиваем вручную ("
   ]
  },
  {
   "cell_type": "code",
   "execution_count": null,
   "metadata": {},
   "outputs": [],
   "source": [
    "url = 'https://awesome-site.ru/?utm_source=yandex&utm_medium=cpc&utm_campaign=a825749b87&utm_content=dev_{device_type}'"
   ]
  },
  {
   "cell_type": "code",
   "execution_count": null,
   "metadata": {},
   "outputs": [],
   "source": [
    "parsed = parse.urlsplit(url)\n",
    "parsed"
   ]
  },
  {
   "cell_type": "code",
   "execution_count": null,
   "metadata": {},
   "outputs": [],
   "source": [
    "parsed.query.split('&')[2]"
   ]
  },
  {
   "cell_type": "code",
   "execution_count": null,
   "metadata": {},
   "outputs": [],
   "source": [
    "# можно конечно вручную\n",
    "parsed.query.split('&')[2].split('=')[1]"
   ]
  },
  {
   "cell_type": "code",
   "execution_count": null,
   "metadata": {},
   "outputs": [],
   "source": [
    "# как доставать значения\n",
    "\n",
    "parsed.netloc"
   ]
  },
  {
   "cell_type": "markdown",
   "metadata": {},
   "source": [
    "##### parse query string "
   ]
  },
  {
   "cell_type": "code",
   "execution_count": null,
   "metadata": {},
   "outputs": [],
   "source": [
    "parsed.query"
   ]
  },
  {
   "cell_type": "markdown",
   "metadata": {},
   "source": [
    "###### __*parse_qs*__          распарсим параметр query -> dictionary"
   ]
  },
  {
   "cell_type": "code",
   "execution_count": null,
   "metadata": {},
   "outputs": [],
   "source": [
    "params = parse.parse_qs(parsed.query) # распарсим параметр query -> dictionary\n",
    "params"
   ]
  },
  {
   "cell_type": "code",
   "execution_count": null,
   "metadata": {},
   "outputs": [],
   "source": [
    "# вот и код кампании\n",
    "\n",
    "params['utm_campaign'][0]"
   ]
  },
  {
   "cell_type": "markdown",
   "metadata": {},
   "source": []
  }
 ],
 "metadata": {
  "kernelspec": {
   "display_name": "Python 3.10.5 64-bit",
   "language": "python",
   "name": "python3"
  },
  "language_info": {
   "codemirror_mode": {
    "name": "ipython",
    "version": 3
   },
   "file_extension": ".py",
   "mimetype": "text/x-python",
   "name": "python",
   "nbconvert_exporter": "python",
   "pygments_lexer": "ipython3",
   "version": "3.10.5 (v3.10.5:f377153967, Jun  6 2022, 12:36:10) [Clang 13.0.0 (clang-1300.0.29.30)]"
  },
  "orig_nbformat": 4,
  "vscode": {
   "interpreter": {
    "hash": "aee8b7b246df8f9039afb4144a1f6fd8d2ca17a180786b69acc140d282b71a49"
   }
  }
 },
 "nbformat": 4,
 "nbformat_minor": 2
}
