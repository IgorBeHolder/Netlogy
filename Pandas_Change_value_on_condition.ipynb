{
 "cells": [
  {
   "cell_type": "code",
   "execution_count": 1,
   "metadata": {},
   "outputs": [
    {
     "name": "stdout",
     "output_type": "stream",
     "text": [
      "  Stock   Price  PE TradingExchange\n",
      "0  AAPL  144.80  25          NASDAQ\n",
      "1   IBM  141.61  21            NYSE\n",
      "2  MSFT  304.21  39          NASDAQ\n",
      "3   WMT  139.50  16            NYSE\n"
     ]
    }
   ],
   "source": [
    "import pandas as pd\n",
    "\n",
    "data = {'Stock': ['AAPL', 'IBM', 'MSFT', 'WMT'],\n",
    "       'Price': [144.8, 141.61, 304.21, 139.5],\n",
    "       'PE': [25, 21, 39, 16],\n",
    "       'TradingExchange': ['NASDAQ', 'NYSE', 'NASDAQ', 'NYSE']}\n",
    "       \n",
    "df = pd.DataFrame(data)\n",
    "\n",
    "print(df)"
   ]
  },
  {
   "cell_type": "markdown",
   "metadata": {},
   "source": [
    "Способ 1: использование атрибута loc для создания условного столбца"
   ]
  },
  {
   "cell_type": "code",
   "execution_count": 3,
   "metadata": {},
   "outputs": [
    {
     "data": {
      "text/html": [
       "<div>\n",
       "<style scoped>\n",
       "    .dataframe tbody tr th:only-of-type {\n",
       "        vertical-align: middle;\n",
       "    }\n",
       "\n",
       "    .dataframe tbody tr th {\n",
       "        vertical-align: top;\n",
       "    }\n",
       "\n",
       "    .dataframe thead th {\n",
       "        text-align: right;\n",
       "    }\n",
       "</style>\n",
       "<table border=\"1\" class=\"dataframe\">\n",
       "  <thead>\n",
       "    <tr style=\"text-align: right;\">\n",
       "      <th></th>\n",
       "      <th>Stock</th>\n",
       "      <th>Price</th>\n",
       "      <th>PE</th>\n",
       "      <th>TradingExchange</th>\n",
       "      <th>Price_Category</th>\n",
       "    </tr>\n",
       "  </thead>\n",
       "  <tbody>\n",
       "    <tr>\n",
       "      <th>0</th>\n",
       "      <td>AAPL</td>\n",
       "      <td>144.80</td>\n",
       "      <td>25</td>\n",
       "      <td>NASDAQ</td>\n",
       "      <td>Менее 150</td>\n",
       "    </tr>\n",
       "    <tr>\n",
       "      <th>1</th>\n",
       "      <td>IBM</td>\n",
       "      <td>141.61</td>\n",
       "      <td>21</td>\n",
       "      <td>NYSE</td>\n",
       "      <td>Менее 150</td>\n",
       "    </tr>\n",
       "    <tr>\n",
       "      <th>2</th>\n",
       "      <td>MSFT</td>\n",
       "      <td>304.21</td>\n",
       "      <td>39</td>\n",
       "      <td>NASDAQ</td>\n",
       "      <td>Более 150</td>\n",
       "    </tr>\n",
       "    <tr>\n",
       "      <th>3</th>\n",
       "      <td>WMT</td>\n",
       "      <td>139.50</td>\n",
       "      <td>16</td>\n",
       "      <td>NYSE</td>\n",
       "      <td>Менее 150</td>\n",
       "    </tr>\n",
       "  </tbody>\n",
       "</table>\n",
       "</div>"
      ],
      "text/plain": [
       "  Stock   Price  PE TradingExchange Price_Category\n",
       "0  AAPL  144.80  25          NASDAQ      Менее 150\n",
       "1   IBM  141.61  21            NYSE      Менее 150\n",
       "2  MSFT  304.21  39          NASDAQ      Более 150\n",
       "3   WMT  139.50  16            NYSE      Менее 150"
      ]
     },
     "execution_count": 3,
     "metadata": {},
     "output_type": "execute_result"
    }
   ],
   "source": [
    "df[\"Price_Category\"] = \"Более 150\"\n",
    "df.loc[df[\"Price\"] < 150, \"Price_Category\"] = \"Менее 150\"\n",
    "df"
   ]
  },
  {
   "cell_type": "markdown",
   "metadata": {},
   "source": [
    "Способ 2: использование функции where из numpy"
   ]
  },
  {
   "cell_type": "code",
   "execution_count": 5,
   "metadata": {},
   "outputs": [
    {
     "data": {
      "text/html": [
       "<div>\n",
       "<style scoped>\n",
       "    .dataframe tbody tr th:only-of-type {\n",
       "        vertical-align: middle;\n",
       "    }\n",
       "\n",
       "    .dataframe tbody tr th {\n",
       "        vertical-align: top;\n",
       "    }\n",
       "\n",
       "    .dataframe thead th {\n",
       "        text-align: right;\n",
       "    }\n",
       "</style>\n",
       "<table border=\"1\" class=\"dataframe\">\n",
       "  <thead>\n",
       "    <tr style=\"text-align: right;\">\n",
       "      <th></th>\n",
       "      <th>Stock</th>\n",
       "      <th>Price</th>\n",
       "      <th>PE</th>\n",
       "      <th>TradingExchange</th>\n",
       "      <th>Price_Category</th>\n",
       "      <th>Prcie_Category</th>\n",
       "    </tr>\n",
       "  </thead>\n",
       "  <tbody>\n",
       "    <tr>\n",
       "      <th>0</th>\n",
       "      <td>AAPL</td>\n",
       "      <td>144.80</td>\n",
       "      <td>25</td>\n",
       "      <td>NASDAQ</td>\n",
       "      <td>Under 150</td>\n",
       "      <td>Over 150</td>\n",
       "    </tr>\n",
       "    <tr>\n",
       "      <th>1</th>\n",
       "      <td>IBM</td>\n",
       "      <td>141.61</td>\n",
       "      <td>21</td>\n",
       "      <td>NYSE</td>\n",
       "      <td>Under 150</td>\n",
       "      <td>Over 150</td>\n",
       "    </tr>\n",
       "    <tr>\n",
       "      <th>2</th>\n",
       "      <td>MSFT</td>\n",
       "      <td>304.21</td>\n",
       "      <td>39</td>\n",
       "      <td>NASDAQ</td>\n",
       "      <td>Более 150</td>\n",
       "      <td>Over 150</td>\n",
       "    </tr>\n",
       "    <tr>\n",
       "      <th>3</th>\n",
       "      <td>WMT</td>\n",
       "      <td>139.50</td>\n",
       "      <td>16</td>\n",
       "      <td>NYSE</td>\n",
       "      <td>Under 150</td>\n",
       "      <td>Over 150</td>\n",
       "    </tr>\n",
       "  </tbody>\n",
       "</table>\n",
       "</div>"
      ],
      "text/plain": [
       "  Stock   Price  PE TradingExchange Price_Category Prcie_Category\n",
       "0  AAPL  144.80  25          NASDAQ      Under 150       Over 150\n",
       "1   IBM  141.61  21            NYSE      Under 150       Over 150\n",
       "2  MSFT  304.21  39          NASDAQ      Более 150       Over 150\n",
       "3   WMT  139.50  16            NYSE      Under 150       Over 150"
      ]
     },
     "execution_count": 5,
     "metadata": {},
     "output_type": "execute_result"
    }
   ],
   "source": [
    "import numpy as np\n",
    "\n",
    "df[\"Prcie_Category\"] = \"Over 150\"\n",
    "df['Price_Category'] = np.where(df[\"Price\"] < 150, \"Under 150\", df['Price_Category'])\n",
    "df"
   ]
  },
  {
   "cell_type": "markdown",
   "metadata": {},
   "source": [
    "Способ 3: использование функции select из numpy, чтобы установить значения на основе нескольких условий"
   ]
  },
  {
   "cell_type": "code",
   "execution_count": 6,
   "metadata": {},
   "outputs": [
    {
     "name": "stdout",
     "output_type": "stream",
     "text": [
      "  Stock   Price  PE TradingExchange Price_Category Prcie_Category  \\\n",
      "0  AAPL  144.80  25          NASDAQ      Under 150       Over 150   \n",
      "1   IBM  141.61  21            NYSE      Under 150       Over 150   \n",
      "2  MSFT  304.21  39          NASDAQ      Более 150       Over 150   \n",
      "3   WMT  139.50  16            NYSE      Under 150       Over 150   \n",
      "\n",
      "    PE_Category  \n",
      "0         20-30  \n",
      "1         20-30  \n",
      "2           30+  \n",
      "3  Less than 20  \n"
     ]
    }
   ],
   "source": [
    "PE_Conditions = [\n",
    "    (df['PE'] < 20),\n",
    "    (df['PE'] >= 20) & (df['PE'] < 30),\n",
    "    (df['PE'] >= 30)]\n",
    "    \n",
    "PE_Categories = ['Less than 20', '20-30', '30+']\n",
    "\n",
    "df['PE_Category'] = np.select(PE_Conditions, PE_Categories)\n",
    "\n",
    "print(df)"
   ]
  }
 ],
 "metadata": {
  "kernelspec": {
   "display_name": "Python 3.9.12 ('base')",
   "language": "python",
   "name": "python3"
  },
  "language_info": {
   "codemirror_mode": {
    "name": "ipython",
    "version": 3
   },
   "file_extension": ".py",
   "mimetype": "text/x-python",
   "name": "python",
   "nbconvert_exporter": "python",
   "pygments_lexer": "ipython3",
   "version": "3.9.12"
  },
  "orig_nbformat": 4,
  "vscode": {
   "interpreter": {
    "hash": "1abbd7892a022d3441221772633dd6f1b6cdc84f0286f0c90eec2562b4369ab8"
   }
  }
 },
 "nbformat": 4,
 "nbformat_minor": 2
}
