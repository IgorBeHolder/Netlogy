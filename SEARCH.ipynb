{
 "cells": [
  {
   "cell_type": "markdown",
   "metadata": {},
   "source": [
    "# `Searching Notebooks for a Code Snippet`  \n",
    "From September 2022 I started learning Python online.\n",
    "Until everything is settled in my head,  \n",
    "I am faced with the need to search for my own code snippets among all this variety of information.  \n",
    "This piece of code will help you look up your Python notebooks.  \n",
    "It seems to me it's quicker than using a 'grep'.\n",
    "You can define a strict search logic or case sensetive one.  \n",
    "Hope it helps.  \n",
    "Enjoy)"
   ]
  },
  {
   "cell_type": "code",
   "execution_count": 1,
   "metadata": {},
   "outputs": [
    {
     "name": "stdout",
     "output_type": "stream",
     "text": [
      "Looking for: ['px', 'kde'] in *.ipynb files\n",
      "Incl. all occurrences: True\n",
      "Case sensitive: False\n",
      "File:          : Search result:\n",
      "................................................................................\n",
      "/Users/velo1/SynologyDrive/GIT_syno/Mac/Netology/stats_A_B_testing_HW.ipynb\n",
      "               : px\"\n",
      "   ]\n",
      "  },\n",
      "  {\n",
      "  , kDehV1iPL83USViAvfba, \n",
      "/Users/velo1/SynologyDrive/GIT_syno/Mac/Netology/MathPlotLib_VIZ2.ipynb\n",
      "               : Px999/lz/+4IMP3rAENm, kDE7rV+He/TKPjgS+Xcj, \n",
      "/Users/velo1/SynologyDrive/GIT_syno/Mac/Netology/stats_case_study_linreg_confidence_interval.ipynb\n",
      "               : px\\n\",\"import matplo, kDeABMk9glSwivvAbb78, \n",
      "/Users/velo1/SynologyDrive/GIT_syno/Mac/Netology/stats_case_study_Darwinbooks_recommend.ipynb\n",
      "               : PXfu3KFnz56UL18efX19, KDevXvTmzdvmLHXr19T7, \n",
      "/Users/velo1/SynologyDrive/GIT_syno/Mac/Netology/Pandas_HW_funcs_group.ipynb\n",
      "               : Px7mW/ZVACvAoeowmAge, KdELhLegb1lW4d6OHBKX, \n",
      "/Users/velo1/SynologyDrive/GIT_syno/Mac/Netology/ABD_22_LABa_Kuzmin_Pandas.ipynb\n",
      "               : px\\\"viewBox=\\\"0 0 24, KDEEJtkKhUGQISrAVCoU, \n",
      "/Users/velo1/SynologyDrive/GIT_syno/Mac/Netology/MathPlotLib_VIZ3.ipynb\n",
      "               : Px999/lz/+4IMP3rAENm, kDE7rV+He/TKPjgS+Xcj, \n",
      "/Users/velo1/SynologyDrive/GIT_syno/Mac/Netology/stats_Confidential_intervals_HW.ipynb\n",
      "               : px\\n\",\n",
      "    \"import p, kdevW6eTJk+ro6AiZbXL, \n",
      "/Users/velo1/SynologyDrive/GIT_syno/Mac/Netology/stats_Data_Visualization_HW.ipynb\n",
      "               : px\\n\",\"\\n\",\"# increa, KdeTHO2Za3l1bVDuTxpC, \n",
      "/Users/velo1/SynologyDrive/GIT_syno/Mac/Netology/math_LA_HW_8.ipynb\n",
      "               : pXv+Lf//43Vuvpe30UFB, kDeWWM7BTGR7cObJoPif, \n",
      "/Users/velo1/SynologyDrive/GIT_syno/Mac/Netology/Python_Datatypes_LOOPs.ipynb\n",
      "               : PXzaTVs\",\"outputId\":, KDEesCaTVe\",\"outputI, \n",
      "/Users/velo1/SynologyDrive/GIT_syno/Mac/Netology/ABD_22_LABa.ipynb\n",
      "               : PXdO0kWAn8EvGlHraqeA, kDeoRrooahz7cnaNNOUV, \n",
      "/Users/velo1/SynologyDrive/GIT_syno/Mac/Netology/DLS_simpsons_baseline.ipynb\n",
      "               : px\\n\",\"RESCALE_SIZE , kDEJH/giip3yr+PfC0iP, \n",
      "/Users/velo1/SynologyDrive/GIT_syno/Mac/Netology/math_LA_Advanced_Optimization.ipynb\n",
      "               : px69Yt3Lp1C6FQCIFAAN, KdeB+RqaBCZxoWhEPDGG, \n",
      "/Users/velo1/SynologyDrive/GIT_syno/Mac/Netology/stats_t_Tests.ipynb\n",
      "               : PXq1avF8oSEBLzwwgutb, kdERERERCGBczProHFEj, \n",
      "/Users/velo1/SynologyDrive/GIT_syno/Mac/Netology/ML_LogRegression_SVC HW.ipynb\n",
      "               : px\\n\",\n",
      "    \"import s, kDecaFRgC9SV8fUUDTjA, \n",
      "/Users/velo1/SynologyDrive/GIT_syno/Mac/Netology/ML_linear_polynomial_regression.ipynb\n",
      "               : px\\n\",\n",
      "        \"impo, KdeAwE4G8E/LEMPGOyAG, \n",
      "/Users/velo1/SynologyDrive/GIT_syno/Mac/Netology/python_open_files.ipynb\n",
      "               : pxlpa1IhxR\",\"outputI, kdERPHgTUxERArEcCciU, \n",
      "/Users/velo1/SynologyDrive/GIT_syno/Mac/Netology/math_LA_HW_4.ipynb\n",
      "               : Px5IlSzTZb6B89913+Pr, KdEAIDBw7Evffeq/ZMOl, \n",
      "/Users/velo1/SynologyDrive/GIT_syno/Mac/Netology/math_LA_HW9.ipynb\n",
      "               : PXv2MHHiRO677z42bNhw, kdERMRqlQpEiYmJFBYWm, \n",
      "/Users/velo1/SynologyDrive/GIT_syno/Mac/Netology/math_LA_HW_6.ipynb\n",
      "               : Px7mfZcV9019bWqry83H, kDenF/nVKclv7jo/N1+7, \n",
      "/Users/velo1/SynologyDrive/GIT_syno/Mac/Netology/stats_Confidence_Intervals.ipynb\n",
      "               : px\\n\",\n",
      "    \"except I, KdENBU6gLWs85q/zjt7I, \n",
      "/Users/velo1/SynologyDrive/GIT_syno/Mac/Netology/ML_log_regression_SVM.ipynb\n",
      "               : PxFEULiDiqKIMaYoapiC, KDEIJk5RJKgoQQkrDEcz, \n",
      "/Users/velo1/SynologyDrive/GIT_syno/Mac/Netology/stats_Power_Min_sample_size_HW.ipynb\n",
      "               : pxR538+bN6NmzJ5ydnWF, KDEKnmAdvs+jeDJrRqxU, \n",
      "/Users/velo1/SynologyDrive/GIT_syno/Mac/Netology/stats_Case_Power_MinSampleSize_HW.ipynb\n",
      "               : pxR538+bN6NmzJ5ydnWF, KDEKnmAdvs+jeDJrRqxU, \n",
      "/Users/velo1/SynologyDrive/GIT_syno/Mac/Netology/math_LA_HW_3.ipynb\n",
      "               : Px6NRo0YpOjpaYWFh6t2, kderUqdz6efPmKSkpSZL, \n",
      "/Users/velo1/SynologyDrive/GIT_syno/Mac/Netology/stats_case_study_bs_conf_int.ipynb\n",
      "               : px3X3FxMXPmzOG7776jq, KDEqDjx4/zj3/8AwCtVk, \n",
      "/Users/velo1/SynologyDrive/GIT_syno/Mac/Netology/math_Numpy_Matrix.ipynb\n",
      "               : Pxo0bp48//viUx3s8Hp9, KDEsgOH5bCwuzxmjXSjT, \n",
      "/Users/velo1/SynologyDrive/GIT_syno/Mac/Netology/ABD_22_Total_HW.ipynb\n",
      "               : px\\\"viewBox=\\\"0 0 24, kde3/i+RvF96UR8H1n5b, \n",
      "/Users/velo1/SynologyDrive/GIT_syno/Mac/Netology/MathPlotLib_VIZ.ipynb\n",
      "               : pX1EdyyGUD+cT5xMkr8Q, kDEOxmi4oGOVb/Y54kEE, \n",
      "/Users/velo1/SynologyDrive/GIT_syno/Mac/Netology/stats_DispAnalysis_ABtests.ipynb\n",
      "               : PxRfff2a8fUHLiB/nisW, Kde86Yp4gquZgLQeTAzA, \n",
      "/Users/velo1/SynologyDrive/GIT_syno/Mac/Netology/math_LA_Masterclass.ipynb\n",
      "               : PXq0brrpJn344Yd2/YZh, kDeRRwAcFsXL15Us2bN9, \n",
      "/Users/velo1/SynologyDrive/GIT_syno/Mac/Netology/math_LA_HW_Capstone.ipynb\n",
      "               : PXXX+Pll18GAGRnZyMoK, kdED45HgohskK+vL1xcX, \n",
      "/Users/velo1/SynologyDrive/GIT_syno/Mac/Netology/REGEX_practice.ipynb\n",
      "               : Px3e78bbOCywK8YTlfO/, kdemq7T6EnCv6vA42fDx, \n"
     ]
    }
   ],
   "source": [
    "import glob\n",
    "import os\n",
    "\n",
    "# Search pattern: one level up in the directory hierarchy\n",
    "# pattern = '../**/*.ipynb'\n",
    "pattern = '*.ipynb'\n",
    "\n",
    "dir_path = os.getcwd()\n",
    "# Search logic: All occurrences must be found\n",
    "all_occurs = True\n",
    "\n",
    "# Case sensitive search\n",
    "case_sens = False\n",
    "\n",
    "# Result length\n",
    "res_length = 20\n",
    "\n",
    "# Search strings\n",
    "# inq = ['kwarg', 'arg']\n",
    "inq = input('Input search strings separated by whitespace:').split()\n",
    "\n",
    "# Print search information\n",
    "print(f'Looking for: {inq} in {pattern} files')\n",
    "print(f'Incl. all occurrences: {all_occurs}')\n",
    "print(f'Case sensitive: {case_sens}')\n",
    "print('File:', \" \"*8, ': Search result:')\n",
    "print('.'*80)\n",
    "\n",
    "for filepath in glob.iglob(pattern, recursive=True): # recursive= True: include subfolders\n",
    "\n",
    "    with open(filepath, encoding='UTF-8') as file:\n",
    "\n",
    "        s = file.read()\n",
    "        chunk = ''\n",
    "        for search_str in inq:\n",
    "            if case_sens:\n",
    "                ind = s.find( search_str )\n",
    "            else:\n",
    "                ind = s.lower().find( search_str.lower() )\n",
    "\n",
    "            found = ( ind != -1 ) \n",
    "            \n",
    "            # Concatenate the chunks and print the result if any chunks were found\n",
    "            if found:\n",
    "                chunk +=  (s[ind:ind + res_length]) + \", \"\n",
    "            if (not found) and all_occurs:\n",
    "                break       \n",
    "            \n",
    "                     \n",
    "        if found:\n",
    "            # print(dir_path + '/' + filepath.ljust(50),\" \"*3 + \":\", chunk)\n",
    "            print(dir_path + '/' + filepath +\"\\n\" + \" \"*15 + \":\", chunk)"
   ]
  },
  {
   "cell_type": "code",
   "execution_count": 2,
   "metadata": {},
   "outputs": [],
   "source": [
    "# data = pd.read_csv('/Users/velo1/SynologyDrive/GIT_syno/data/video_games_sales.csv')\n",
    "# data.head()"
   ]
  },
  {
   "attachments": {},
   "cell_type": "markdown",
   "metadata": {},
   "source": [
    "#### `Renaming files in a folder`"
   ]
  },
  {
   "cell_type": "code",
   "execution_count": 87,
   "metadata": {},
   "outputs": [],
   "source": [
    "import os\n",
    "\n",
    "def rename_files_in_dir(dir_path):\n",
    "    for count, filename in enumerate(os.listdir(dir_path)):\n",
    "\n",
    "        # new_filename = filename.replace(\"._\", \"_\")        \n",
    "        new_filename = filename.replace(\"NETOLOGY_\", \"\")\n",
    "        \n",
    "        # dst = \"file_\" + str(count) + \".ext\"\n",
    "        src = dir_path + '/' + filename\n",
    "        dst = dir_path + '/' + new_filename\n",
    "        \n",
    "        # rename() function will rename all the files \n",
    "        os.rename(src, dst)\n",
    "\n",
    "\n",
    "# rename_files_in_dir(\"path/to/dir\")\n",
    "\n",
    "# rename all files in current folder\n",
    "rename_files_in_dir( os.getcwd() )"
   ]
  },
  {
   "cell_type": "code",
   "execution_count": 2,
   "metadata": {},
   "outputs": [
    {
     "data": {
      "text/plain": [
       "'/Users/velo1/SynologyDrive/GIT_syno/Mac/Netology'"
      ]
     },
     "execution_count": 2,
     "metadata": {},
     "output_type": "execute_result"
    }
   ],
   "source": [
    "dir_path"
   ]
  },
  {
   "cell_type": "code",
   "execution_count": 57,
   "metadata": {},
   "outputs": [
    {
     "name": "stdout",
     "output_type": "stream",
     "text": [
      "1 3 [0, 0, 1]\n",
      "5 2 [0, 0, 0]\n",
      "7 1 [0, 0, 1]\n",
      "11 0 [0, 0]\n",
      "True\n",
      "0\n"
     ]
    }
   ],
   "source": [
    "flowerbed = [0,0,1,0,0,0,0,0,1,0,0]\n",
    "n = 4\n",
    "\n",
    "flowerbed = [0] + flowerbed + [0]\n",
    "l = len(flowerbed)\n",
    "\n",
    "i= 0\n",
    "while i <= l:\n",
    "#     i += 1\n",
    "#     print(i)\n",
    "    if flowerbed[i:i + 3] == [0,0,0]:\n",
    "        n -= 1\n",
    "        i += 1\n",
    "        print(i,n, flowerbed[i:i + 3])\n",
    "    if n < 1:\n",
    "        print( True)\n",
    "        break\n",
    "    i += 1\n",
    "print( n)\n"
   ]
  },
  {
   "cell_type": "code",
   "execution_count": 45,
   "metadata": {},
   "outputs": [
    {
     "name": "stdout",
     "output_type": "stream",
     "text": [
      "0 [0, 1, 0]\n",
      "1 [1, 0, 0]\n",
      "2 [0, 0, 0]\n",
      "3 [0, 0, 0]\n",
      "4 [0, 0, 0]\n",
      "5 [0, 0, 1]\n",
      "6 [0, 1, 0]\n",
      "7 [1, 0]\n",
      "8 [0]\n",
      "9 []\n",
      "10 []\n"
     ]
    }
   ],
   "source": [
    "i=-1\n",
    "l = len(flowerbed)\n",
    "while i <= l:\n",
    "    i += 1\n",
    "    print(i, flowerbed[i:i + 3])\n",
    "    # if flowerbed[i:i + 3]"
   ]
  }
 ],
 "metadata": {
  "kernelspec": {
   "display_name": "base",
   "language": "python",
   "name": "python3"
  },
  "language_info": {
   "codemirror_mode": {
    "name": "ipython",
    "version": 3
   },
   "file_extension": ".py",
   "mimetype": "text/x-python",
   "name": "python",
   "nbconvert_exporter": "python",
   "pygments_lexer": "ipython3",
   "version": "3.9.13"
  },
  "orig_nbformat": 4,
  "vscode": {
   "interpreter": {
    "hash": "3f0fc0265faf3f010b6ea13d4d06fa8f6d9bd8f9a0a69886dc52220c62e8c74f"
   }
  }
 },
 "nbformat": 4,
 "nbformat_minor": 2
}
