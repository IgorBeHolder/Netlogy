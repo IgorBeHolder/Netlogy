{
 "cells": [
  {
   "attachments": {},
   "cell_type": "markdown",
   "metadata": {},
   "source": [
    "# [Dijkstra’s Algorithm](https://www.udacity.com/blog/2021/10/implementing-dijkstras-algorithm-in-python.html)\n",
    "\n",
    "In 1956, Dutch programmer Edsger W. Dijkstra had a practical question. He wanted to figure out the shortest way to travel from Rotterdam to Groningen. But he did not simply consult a map to calculate the distances of the roads he would need to take. Instead, Dijkstra took a computer scientist’s approach: he abstracted from the problem by filtering out the specifics such as traveling from city A to city B. This allowed him to discover the more general problem of graph search. Thus, Dijkstra’s algorithm was born.\n",
    "\n",
    "Dijkstra’s algorithm is a popular search algorithm used to determine the shortest path between two nodes in a graph. In the original scenario, the graph represented the Netherlands, the graph’s nodes represented different Dutch cities, and the edges represented the roads between the cities. \n",
    "\n",
    "You can apply Dijkstra’s algorithm to any problem that can be represented as a graph. Friend suggestions on social media, routing packets over the internet, or finding a way through a maze—the algorithm can do it all. But how does it actually work?"
   ]
  },
  {
   "attachments": {},
   "cell_type": "markdown",
   "metadata": {},
   "source": [
    "First, we’ll create the Graph class. This class does not cover any of the Dijkstra algorithm’s logic, but it will make the implementation of the algorithm more succinct. \n",
    "\n",
    "We’ll implement the graph as a Python dictionary. The dictionary’s keys will correspond to the cities and its values will correspond to dictionaries that record the distances to other cities in the graph. "
   ]
  },
  {
   "cell_type": "code",
   "execution_count": 27,
   "metadata": {},
   "outputs": [],
   "source": [
    "import sys\n",
    "\n",
    "\n",
    "class Graph(object):\n",
    "    def __init__(self, nodes, init_graph):\n",
    "        self.nodes = nodes\n",
    "        self.graph = self.construct_graph(nodes, init_graph)\n",
    "\n",
    "    def construct_graph(self, nodes, init_graph):\n",
    "        '''\n",
    "        This method makes sure that the graph is symmetrical. In other words, if there's a path from node A to B with a value V, there needs to be a path from node B to node A with a value V.\n",
    "        '''\n",
    "        graph = {}\n",
    "        for node in nodes:\n",
    "            graph[node] = {}\n",
    "\n",
    "        graph.update(init_graph)\n",
    "\n",
    "        for node, edges in graph.items():\n",
    "            for adjacent_node, value in edges.items():\n",
    "                if graph[adjacent_node].get(node, False) == False:\n",
    "                    graph[adjacent_node][node] = value\n",
    "\n",
    "        return graph\n",
    "\n",
    "    def get_nodes(self):\n",
    "        \"Returns the nodes of the graph.\"\n",
    "        return self.nodes\n",
    "\n",
    "    def get_outgoing_edges(self, node):\n",
    "        \"Returns the neighbors of a node.\"\n",
    "        connections = []\n",
    "        for out_node in self.nodes:\n",
    "            if self.graph[node].get(out_node, False) != False:\n",
    "                connections.append(out_node)\n",
    "        return connections\n",
    "\n",
    "    def value(self, node1, node2):\n",
    "        \"Returns the value of an edge between two nodes.\"\n",
    "        return self.graph[node1][node2]\n"
   ]
  },
  {
   "cell_type": "code",
   "execution_count": 28,
   "metadata": {},
   "outputs": [],
   "source": [
    "\n",
    "def dijkstra_algorithm(graph, start_node):\n",
    "    unvisited_nodes = list(graph.get_nodes())\n",
    "\n",
    "    # We'll use this dict to save the cost of visiting each node and update it as we move along the graph\n",
    "    shortest_path = {}\n",
    "\n",
    "    # We'll use this dict to save the shortest known path to a node found so far\n",
    "    previous_nodes = {}\n",
    "\n",
    "    # We'll use max_value to initialize the \"infinity\" value of the unvisited nodes\n",
    "    max_value = sys.maxsize\n",
    "    for node in unvisited_nodes:\n",
    "        shortest_path[node] = max_value\n",
    "    # However, we initialize the starting node's value with 0\n",
    "    shortest_path[start_node] = 0\n",
    "\n",
    "    # The algorithm executes until we visit all nodes\n",
    "    while unvisited_nodes:\n",
    "        # The code block below finds the node with the lowest score\n",
    "        current_min_node = None\n",
    "        for node in unvisited_nodes:  # Iterate over the nodes\n",
    "            if current_min_node == None:\n",
    "                current_min_node = node\n",
    "            elif shortest_path[node] < shortest_path[current_min_node]:\n",
    "                current_min_node = node\n",
    "\n",
    "        # The code block below retrieves the current node's neighbors and updates their distances\n",
    "        neighbors = graph.get_outgoing_edges(current_min_node)\n",
    "        for neighbor in neighbors:\n",
    "            tentative_value = shortest_path[current_min_node] + \\\n",
    "                graph.value(current_min_node, neighbor)\n",
    "            if tentative_value < shortest_path[neighbor]:\n",
    "                shortest_path[neighbor] = tentative_value\n",
    "                # We also update the best path to the current node\n",
    "                previous_nodes[neighbor] = current_min_node\n",
    "\n",
    "        # After visiting its neighbors, we mark the node as \"visited\"\n",
    "        unvisited_nodes.remove(current_min_node)\n",
    "\n",
    "    return previous_nodes, shortest_path\n"
   ]
  },
  {
   "attachments": {},
   "cell_type": "markdown",
   "metadata": {},
   "source": [
    "Initialize the nodes:"
   ]
  },
  {
   "cell_type": "code",
   "execution_count": 29,
   "metadata": {},
   "outputs": [],
   "source": [
    "nodes = [\"Reykjavik\", \"Oslo\", \"Moscow\", \"London\",\n",
    "         \"Rome\", \"Berlin\", \"Belgrade\", \"Athens\"]\n",
    "\n",
    "init_graph = {}\n",
    "for node in nodes:\n",
    "    init_graph[node] = {}\n",
    "\n",
    "init_graph[\"Reykjavik\"][\"Oslo\"] = 5\n",
    "init_graph[\"Reykjavik\"][\"London\"] = 4\n",
    "init_graph[\"Oslo\"][\"Berlin\"] = 1\n",
    "init_graph[\"Oslo\"][\"Moscow\"] = 3\n",
    "init_graph[\"Moscow\"][\"Belgrade\"] = 5\n",
    "init_graph[\"Moscow\"][\"Athens\"] = 4\n",
    "init_graph[\"Athens\"][\"Belgrade\"] = 1\n",
    "init_graph[\"Rome\"][\"Berlin\"] = 2\n",
    "init_graph[\"Rome\"][\"Athens\"] = 2\n"
   ]
  },
  {
   "cell_type": "code",
   "execution_count": 35,
   "metadata": {},
   "outputs": [
    {
     "data": {
      "text/plain": [
       "['Oslo', 'Belgrade', 'Athens']"
      ]
     },
     "execution_count": 35,
     "metadata": {},
     "output_type": "execute_result"
    }
   ],
   "source": [
    "# We’ll use these values to create an object of the Graph class.\n",
    "graph = Graph(nodes, init_graph)\n",
    "graph.get_nodes()\n",
    "graph.get_outgoing_edges(\"Moscow\")"
   ]
  },
  {
   "cell_type": "code",
   "execution_count": 31,
   "metadata": {},
   "outputs": [
    {
     "data": {
      "text/plain": [
       "({'Oslo': 'Reykjavik',\n",
       "  'London': 'Reykjavik',\n",
       "  'Moscow': 'Oslo',\n",
       "  'Berlin': 'Oslo',\n",
       "  'Rome': 'Berlin',\n",
       "  'Belgrade': 'Athens',\n",
       "  'Athens': 'Rome'},\n",
       " {'Reykjavik': 0,\n",
       "  'Oslo': 5,\n",
       "  'Moscow': 8,\n",
       "  'London': 4,\n",
       "  'Rome': 8,\n",
       "  'Berlin': 6,\n",
       "  'Belgrade': 11,\n",
       "  'Athens': 10})"
      ]
     },
     "execution_count": 31,
     "metadata": {},
     "output_type": "execute_result"
    }
   ],
   "source": [
    "# With our graph fully constructed, we can pass it to the dijkstra_algorithm() function.\n",
    "previous_nodes, shortest_path = dijkstra_algorithm(\n",
    "    graph=graph, start_node=\"Reykjavik\")\n",
    "previous_nodes, shortest_path"
   ]
  },
  {
   "cell_type": "code",
   "execution_count": 32,
   "metadata": {},
   "outputs": [],
   "source": [
    "def print_result(previous_nodes, shortest_path, start_node, target_node):\n",
    "    path = []\n",
    "    node = target_node\n",
    "\n",
    "    while node != start_node:\n",
    "        path.append(node)\n",
    "        node = previous_nodes[node]\n",
    "\n",
    "    # Add the start node manually\n",
    "    path.append(start_node)\n",
    "\n",
    "    print(\"We found the following best path with a value of {}.\".format(\n",
    "        shortest_path[target_node]))\n",
    "    print(\" -> \".join(reversed(path)))\n"
   ]
  },
  {
   "cell_type": "code",
   "execution_count": 33,
   "metadata": {},
   "outputs": [
    {
     "name": "stdout",
     "output_type": "stream",
     "text": [
      "We found the following best path with a value of 11.\n",
      "Reykjavik -> Oslo -> Berlin -> Rome -> Athens -> Belgrade\n"
     ]
    }
   ],
   "source": [
    "\n",
    "print_result(previous_nodes, shortest_path,\n",
    "             start_node=\"Reykjavik\", target_node=\"Belgrade\")\n"
   ]
  }
 ],
 "metadata": {
  "kernelspec": {
   "display_name": "base",
   "language": "python",
   "name": "python3"
  },
  "language_info": {
   "codemirror_mode": {
    "name": "ipython",
    "version": 3
   },
   "file_extension": ".py",
   "mimetype": "text/x-python",
   "name": "python",
   "nbconvert_exporter": "python",
   "pygments_lexer": "ipython3",
   "version": "3.9.13"
  },
  "orig_nbformat": 4
 },
 "nbformat": 4,
 "nbformat_minor": 2
}
