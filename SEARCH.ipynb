{
 "cells": [
  {
   "cell_type": "markdown",
   "metadata": {},
   "source": [
    "# `Searching Notebooks for a Code Snippet`  \n",
    "From September 2022 I started learning Python online.\n",
    "Until everything is settled in my head,  \n",
    "I am faced with the need to search for my own code snippets among all this variety of information.  \n",
    "This piece of code will help you look up your Python notebooks.  \n",
    "It seems to me it's quicker than using a 'grep'.\n",
    "You can define a strict search logic or case sensetive one.  \n",
    "Hope it helps.  \n",
    "Enjoy)"
   ]
  },
  {
   "cell_type": "code",
   "execution_count": 89,
   "metadata": {},
   "outputs": [
    {
     "name": "stdout",
     "output_type": "stream",
     "text": [
      "Looking for: ['width'] in *.ipynb files\n",
      "Incl. all occurrences: True\n",
      "Case sensitive: False\n",
      "File:          : Search result:\n",
      "................................................................................\n",
      "/Users/velo1/SynologyDrive/GIT_syno/Mac/Netology/stats_A_B_testing_HW.ipynb\n",
      "               : width: 10em;\\n\",\n",
      "   , \n",
      "/Users/velo1/SynologyDrive/GIT_syno/Mac/Netology/MathPlotLib_VIZ2.ipynb\n",
      "               : width=0, antialiased, \n",
      "/Users/velo1/SynologyDrive/GIT_syno/Mac/Netology/stats_case_study_linreg_confidence_interval.ipynb\n",
      "               : width: 10em;\\n\",\"  b, \n",
      "/Users/velo1/SynologyDrive/GIT_syno/Mac/Netology/Pandas_HW_funcs_group.ipynb\n",
      "               : width=1)\\n\",\n",
      "    \"ax, \n",
      "/Users/velo1/SynologyDrive/GIT_syno/Mac/Netology/Pandas_HW_SQL.ipynb\n",
      "               : width=\\\"24px\\\">\\n\",\", \n",
      "/Users/velo1/SynologyDrive/GIT_syno/Mac/Netology/SCRAPING_PARSING.ipynb\n",
      "               : width=\\\"24px\\\">\\n\",\", \n",
      "/Users/velo1/SynologyDrive/GIT_syno/Mac/Netology/ABD_22_LABa_Kuzmin_Pandas.ipynb\n",
      "               : width=\\\"24px\\\">\\n\",\", \n",
      "/Users/velo1/SynologyDrive/GIT_syno/Mac/Netology/MathPlotLib_VIZ3.ipynb\n",
      "               : width=0, antialiased, \n",
      "/Users/velo1/SynologyDrive/GIT_syno/Mac/Netology/Pandas_JOIN_SQL_HW_.ipynb\n",
      "               : width', -1)\\u001b[39, \n",
      "/Users/velo1/SynologyDrive/GIT_syno/Mac/Netology/stats_Confidential_intervals_HW.ipynb\n",
      "               : width=400></p>\\n\",\n",
      " , \n",
      "/Users/velo1/SynologyDrive/GIT_syno/Mac/Netology/stats_Data_Visualization_HW.ipynb\n",
      "               : width=\\\"24px\\\">\\n\",\", \n",
      "/Users/velo1/SynologyDrive/GIT_syno/Mac/Netology/math_LA_HW_8.ipynb\n",
      "               : width=.8, label= f'd, \n",
      "/Users/velo1/SynologyDrive/GIT_syno/Mac/Netology/ABD_22_LABa.ipynb\n",
      "               : width=\\\"24px\\\">\\n\",\", \n",
      "/Users/velo1/SynologyDrive/GIT_syno/Mac/Netology/Pandas_lecture_04.ipynb\n",
      "               : Width\\\": false});\\n\", \n",
      "/Users/velo1/SynologyDrive/GIT_syno/Mac/Netology/stats_t_Tests.ipynb\n",
      "               : width=0.3)\\n\",\n",
      "    \", \n",
      "/Users/velo1/SynologyDrive/GIT_syno/Mac/Netology/COVID-19_visualization.ipynb\n",
      "               : width\": 0.5\n",
      "        , \n",
      "/Users/velo1/SynologyDrive/GIT_syno/Mac/Netology/Pandas_ESSENTIALS.ipynb\n",
      "               : Width\\\": false});\\n\", \n",
      "/Users/velo1/SynologyDrive/GIT_syno/Mac/Netology/ML_linear_polynomial_regression.ipynb\n",
      "               : width=900></p>\\n\"\n",
      "  , \n",
      "/Users/velo1/SynologyDrive/GIT_syno/Mac/Netology/python_open_files.ipynb\n",
      "               : width=1);\"]},{\"cell_, \n",
      "/Users/velo1/SynologyDrive/GIT_syno/Mac/Netology/math_LA_HW9.ipynb\n",
      "               : width = 1, color = \\, \n",
      "/Users/velo1/SynologyDrive/GIT_syno/Mac/Netology/math_LA_HW_6.ipynb\n",
      "               : width = 5)\\n\",\n",
      "     , \n",
      "/Users/velo1/SynologyDrive/GIT_syno/Mac/Netology/stats_Confidence_Intervals.ipynb\n",
      "               : width=400></p>\"\n",
      "   ], \n",
      "/Users/velo1/SynologyDrive/GIT_syno/Mac/Netology/bash.ipynb\n",
      "               : width=device-width, , \n",
      "/Users/velo1/SynologyDrive/GIT_syno/Mac/Netology/stats_CS_videogames_HW.ipynb\n",
      "               : width: 10em;\\n\",\n",
      "   , \n",
      "/Users/velo1/SynologyDrive/GIT_syno/Mac/Netology/stats_Power_Min_sample_size_HW.ipynb\n",
      "               : width=.3)\\n\",\n",
      "    \"p, \n",
      "/Users/velo1/SynologyDrive/GIT_syno/Mac/Netology/stats_Case_Power_MinSampleSize_HW.ipynb\n",
      "               : width=.3)\\n\",\n",
      "    \"p, \n",
      "/Users/velo1/SynologyDrive/GIT_syno/Mac/Netology/stats_case_study_bs_conf_int.ipynb\n",
      "               : width=.3);\"]},{\"cell, \n",
      "/Users/velo1/SynologyDrive/GIT_syno/Mac/Netology/math_Numpy_Matrix.ipynb\n",
      "               : width=0.1, head_leng, \n",
      "/Users/velo1/SynologyDrive/GIT_syno/Mac/Netology/ABD_22_Total_HW.ipynb\n",
      "               : width', 400)\\n\",\"pd., \n",
      "/Users/velo1/SynologyDrive/GIT_syno/Mac/Netology/math_LA_HW_7.ipynb\n",
      "               : width=\\\"700\\\" height, \n",
      "/Users/velo1/SynologyDrive/GIT_syno/Mac/Netology/MathPlotLib_VIZ.ipynb\n",
      "               : width=0.3)\\n\",\n",
      "    \", \n",
      "/Users/velo1/SynologyDrive/GIT_syno/Mac/Netology/stats_DispAnalysis_ABtests.ipynb\n",
      "               : width=900></p>\\n\",\n",
      " , \n",
      "/Users/velo1/SynologyDrive/GIT_syno/Mac/Netology/math_LA_Masterclass.ipynb\n",
      "               : width=900></p>\\n\",\n",
      " , \n",
      "/Users/velo1/SynologyDrive/GIT_syno/Mac/Netology/math_LA_HW_Capstone.ipynb\n",
      "               : width = 5)\\n\",\n",
      "     , \n",
      "/Users/velo1/SynologyDrive/GIT_syno/Mac/Netology/math_LA_HW_5.ipynb\n",
      "               : width=0, antialiased, \n"
     ]
    }
   ],
   "source": [
    "import glob\n",
    "import os\n",
    "\n",
    "# Search pattern: one level up in the directory hierarchy\n",
    "# pattern = '../**/*.ipynb'\n",
    "pattern = '*.ipynb'\n",
    "\n",
    "dir_path = os.getcwd()\n",
    "# Search logic: All occurrences must be found\n",
    "all_occurs = True\n",
    "\n",
    "# Case sensitive search\n",
    "case_sens = False\n",
    "\n",
    "# Result length\n",
    "res_length = 20\n",
    "\n",
    "# Search strings\n",
    "# inq = ['kwarg', 'arg']\n",
    "inq = input('Input search strings separated by whitespace:').split()\n",
    "\n",
    "# Print search information\n",
    "print(f'Looking for: {inq} in {pattern} files')\n",
    "print(f'Incl. all occurrences: {all_occurs}')\n",
    "print(f'Case sensitive: {case_sens}')\n",
    "print('File:', \" \"*8, ': Search result:')\n",
    "print('.'*80)\n",
    "\n",
    "for filepath in glob.iglob(pattern, recursive=True): # recursive= True: include subfolders\n",
    "\n",
    "    with open(filepath, encoding='UTF-8') as file:\n",
    "\n",
    "        s = file.read()\n",
    "        chunk = ''\n",
    "        for search_str in inq:\n",
    "            if case_sens:\n",
    "                ind = s.find( search_str )\n",
    "            else:\n",
    "                ind = s.lower().find( search_str.lower() )\n",
    "\n",
    "            found = ( ind != -1 ) \n",
    "            \n",
    "            # Concatenate the chunks and print the result if any chunks were found\n",
    "            if found:\n",
    "                chunk +=  (s[ind:ind + res_length]) + \", \"\n",
    "            if (not found) and all_occurs:\n",
    "                break       \n",
    "            \n",
    "                     \n",
    "        if found:\n",
    "            # print(dir_path + '/' + filepath.ljust(50),\" \"*3 + \":\", chunk)\n",
    "            print(dir_path + '/' + filepath +\"\\n\" + \" \"*15 + \":\", chunk)"
   ]
  },
  {
   "cell_type": "code",
   "execution_count": 2,
   "metadata": {},
   "outputs": [],
   "source": [
    "# data = pd.read_csv('/Users/velo1/SynologyDrive/GIT_syno/data/video_games_sales.csv')\n",
    "# data.head()"
   ]
  },
  {
   "attachments": {},
   "cell_type": "markdown",
   "metadata": {},
   "source": [
    "#### `Renaming files in a folder`"
   ]
  },
  {
   "cell_type": "code",
   "execution_count": 87,
   "metadata": {},
   "outputs": [],
   "source": [
    "import os\n",
    "\n",
    "def rename_files_in_dir(dir_path):\n",
    "    for count, filename in enumerate(os.listdir(dir_path)):\n",
    "\n",
    "        # new_filename = filename.replace(\"._\", \"_\")        \n",
    "        new_filename = filename.replace(\"NETOLOGY_\", \"\")\n",
    "        \n",
    "        # dst = \"file_\" + str(count) + \".ext\"\n",
    "        src = dir_path + '/' + filename\n",
    "        dst = dir_path + '/' + new_filename\n",
    "        \n",
    "        # rename() function will rename all the files \n",
    "        os.rename(src, dst)\n",
    "\n",
    "\n",
    "# rename_files_in_dir(\"path/to/dir\")\n",
    "\n",
    "# rename all files in current folder\n",
    "rename_files_in_dir( os.getcwd() )"
   ]
  },
  {
   "cell_type": "code",
   "execution_count": 2,
   "metadata": {},
   "outputs": [
    {
     "data": {
      "text/plain": [
       "'/Users/velo1/SynologyDrive/GIT_syno/Mac/Netology'"
      ]
     },
     "execution_count": 2,
     "metadata": {},
     "output_type": "execute_result"
    }
   ],
   "source": [
    "dir_path"
   ]
  },
  {
   "cell_type": "code",
   "execution_count": 82,
   "metadata": {},
   "outputs": [],
   "source": [
    "s = \"abcabcbb\""
   ]
  },
  {
   "cell_type": "code",
   "execution_count": 78,
   "metadata": {},
   "outputs": [],
   "source": [
    "s = \"bbbbb\""
   ]
  },
  {
   "cell_type": "code",
   "execution_count": 71,
   "metadata": {},
   "outputs": [],
   "source": [
    "s = \"pwwkew\""
   ]
  },
  {
   "cell_type": "code",
   "execution_count": 68,
   "metadata": {},
   "outputs": [],
   "source": [
    "s=\"aab\""
   ]
  },
  {
   "cell_type": "code",
   "execution_count": 80,
   "metadata": {},
   "outputs": [],
   "source": [
    "s= \"dvdf\""
   ]
  },
  {
   "cell_type": "code",
   "execution_count": 86,
   "metadata": {},
   "outputs": [
    {
     "name": "stdout",
     "output_type": "stream",
     "text": [
      "a\n",
      "ab\n",
      "abc\n"
     ]
    },
    {
     "data": {
      "text/plain": [
       "3"
      ]
     },
     "execution_count": 86,
     "metadata": {},
     "output_type": "execute_result"
    }
   ],
   "source": [
    "\n",
    "seq = \"\"\n",
    "res = \"\"\n",
    "\n",
    "for i in s:\n",
    "\n",
    "    if i not in seq:\n",
    "            seq += i\n",
    "            print(seq)\n",
    "    else:\n",
    "            # shift pointer 1 position to the right of previous match\n",
    "            seq = seq[seq.index(i)+1:] + i\n",
    "\n",
    "    if len(res) < len(seq):\n",
    "        res = seq   \n",
    "\n",
    "max(len(seq), len(res))\n",
    "# len(seq)\n",
    " "
   ]
  }
 ],
 "metadata": {
  "kernelspec": {
   "display_name": "base",
   "language": "python",
   "name": "python3"
  },
  "language_info": {
   "codemirror_mode": {
    "name": "ipython",
    "version": 3
   },
   "file_extension": ".py",
   "mimetype": "text/x-python",
   "name": "python",
   "nbconvert_exporter": "python",
   "pygments_lexer": "ipython3",
   "version": "3.9.13"
  },
  "orig_nbformat": 4,
  "vscode": {
   "interpreter": {
    "hash": "3f0fc0265faf3f010b6ea13d4d06fa8f6d9bd8f9a0a69886dc52220c62e8c74f"
   }
  }
 },
 "nbformat": 4,
 "nbformat_minor": 2
}
