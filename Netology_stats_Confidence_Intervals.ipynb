{
 "cells": [
  {
   "cell_type": "markdown",
   "metadata": {},
   "source": [
    "<h3 style=\"text-align: center;\"><b>«Практическое занятие по доверительным интервалам»</b></h3>"
   ]
  },
  {
   "cell_type": "code",
   "execution_count": 310,
   "metadata": {},
   "outputs": [],
   "source": [
    "import numpy as np # Numeric Python\n",
    "import pandas as pd # Panel Data\n",
    "import math\n",
    "import matplotlib.pyplot as plt\n",
    "from scipy.stats import norm\n",
    "\n",
    "try:\n",
    "    import plotly.express as px\n",
    "except ImportError:\n",
    "    !pip install plotly.express\n",
    "    import plotly.express as px\n",
    "    "
   ]
  },
  {
   "cell_type": "markdown",
   "metadata": {},
   "source": [
    "## Расчет по формуле"
   ]
  },
  {
   "attachments": {
    "image.png": {
     "image/png": "[encoded data removed]"
    }
   },
   "cell_type": "markdown",
   "metadata": {},
   "source": [
    "<b>Пример.</b> По данным $7$ измерений некоторой величины найдены:\n",
    "* `средняя` результатов измерений, равная $30$ \n",
    "* и `выборочная дисперсия`, равная $36$.  \n",
    "\n",
    "Найдите `границы`, в которых с `надежностью` $0,95$ заключено истинное значение измеряемой величины. \n",
    "\n",
    "![image.png](attachment:image.png)"
   ]
  },
  {
   "attachments": {},
   "cell_type": "markdown",
   "metadata": {},
   "source": [
    "#### Confidence Interval\n",
    "### $CI = \\hat{\\mu} \\pm t_{{\\alpha/2}, df} * \\frac{\\hat\\sigma}{\\sqrt{n}} = \\hat{\\mu} \\pm t_{{\\alpha/2}, df} * SE$  \n",
    "* $\\hat{\\mu}$ - среднее в ГС\n",
    "* $ t_{{\\alpha/2};df}$ — двусторонняя критическая величина t-критерий Стьюдента,  \n",
    "      $\\alpha$ - вероятность совершить ошибку $I$ (отвергнуть нулевую гипотезу, в то время как она верна).  \n",
    "* $df$ — степень свободы = n — 1, от английского «degrees of freedom»\n",
    "* $SE$ - stanadard error of the mean"
   ]
  },
  {
   "cell_type": "code",
   "execution_count": 311,
   "metadata": {},
   "outputs": [],
   "source": [
    "n = 7 # Размер выборки\n",
    "dof = n - 1 # Число степеней свободы \n",
    "mn = 30 # Среднее значение\n",
    "D = 36\n",
    "se = np.sqrt(D) # Стандартное отклонение\n",
    "confidence = 0.95\n",
    "T = 2.45  # Параметр t распределения. Таблицу значений можно легко найти в поисковике"
   ]
  },
  {
   "attachments": {},
   "cell_type": "markdown",
   "metadata": {},
   "source": [
    "#### ppf(q, df, [loc=0], [scale=1]) - percent point function calculates X for a given PDF\n",
    "`ppf` Percent Point Function calculates the *inverse cumulative distribution function*,  \n",
    "by definition a result of **x** for a given `q`-value and `df` means P{ T <= x} = q, i.e,  \n",
    "there is probability q of getting outcomes  \n",
    "**less than or equal to x** from a T distribution with the given loc and scale.  \n",
    "The loc (mean) and scale (standard deviation) arguments are optional, and default to 0 and 1, respectively."
   ]
  },
  {
   "cell_type": "code",
   "execution_count": 312,
   "metadata": {},
   "outputs": [
    {
     "data": {
      "text/plain": [
       "2.447"
      ]
     },
     "execution_count": 312,
     "metadata": {},
     "output_type": "execute_result"
    }
   ],
   "source": [
    "round(st.t.ppf( (1+confidence)/2, dof),3) # Percent point function (inverse of cdf)"
   ]
  },
  {
   "cell_type": "code",
   "execution_count": 313,
   "metadata": {},
   "outputs": [
    {
     "name": "stdout",
     "output_type": "stream",
     "text": [
      "Confidence Interval (t = 2.45) is: [ 24.444, 35.556 ]\n"
     ]
    }
   ],
   "source": [
    "# manual\n",
    "print(f'Confidence Interval (t = 2.45) is: [ {mn - T * se /np.sqrt(n):5.3f}, {mn + T * se /np.sqrt(n):5.3f} ]')"
   ]
  },
  {
   "cell_type": "code",
   "execution_count": 314,
   "metadata": {},
   "outputs": [
    {
     "name": "stdout",
     "output_type": "stream",
     "text": [
      "Confidence Interval is: [ 24.451, 35.549 ]\n"
     ]
    }
   ],
   "source": [
    "ci_low = mn - st.t.ppf( 0.975, dof) * se /np.sqrt(n)\n",
    "ci_upp = mn + st.t.ppf( 0.975, dof) * se /np.sqrt(n)\n",
    "print(f'Confidence Interval is: [ {ci_low:5.3f}, {ci_upp:5.3f} ]')"
   ]
  },
  {
   "cell_type": "code",
   "execution_count": 315,
   "metadata": {},
   "outputs": [
    {
     "name": "stdout",
     "output_type": "stream",
     "text": [
      "Confidence Interval ppf(conf, dof) is: [ 24.451, 35.549 ]\n"
     ]
    }
   ],
   "source": [
    "ci_low = mn + st.t.ppf( (1-confidence)/2, dof) * se /np.sqrt(n)\n",
    "ci_upp = mn + st.t.ppf( (1 + confidence)/2, dof) * se /np.sqrt(n)\n",
    "print(f'Confidence Interval ppf(conf, dof) is: [ {ci_low:5.3f}, {ci_upp:5.3f} ]')"
   ]
  },
  {
   "cell_type": "markdown",
   "metadata": {},
   "source": [
    "## Собственная функция"
   ]
  },
  {
   "cell_type": "markdown",
   "metadata": {},
   "source": [
    "Вспомогательная функция для подсчета доверительного интервала для маленьких выборок (до 30 элементов, t распределение)."
   ]
  },
  {
   "cell_type": "code",
   "execution_count": 316,
   "metadata": {},
   "outputs": [],
   "source": [
    "def mean_confidence_interval(data, confidence=0.95): \n",
    "    n = len(data)\n",
    "    m, se = np.mean(data), st.sem(data)  # Standard Error of the Mean\n",
    "    # looking for X where t = 0.95\n",
    "    # To get a 95% margin of error, you want 5% of the probability to be in the tails of the distribution. \n",
    "    # This is usually done symmetrically so that 2.5% is in each tail, \n",
    "    # so you would use q values of 0.025 and 0.975 for the lower and upper cutoff points respectively. \n",
    "\n",
    "    # var1\n",
    "    h = se * st.t.ppf((1 + confidence)/2, n-1)\n",
    "    return m - h, m, m + h\n",
    "\n",
    "    # var2\n",
    "    # t_stat_lower = st.t.ppf((1 - confidence)/2, n-1)  \n",
    "    # t_stat_upper = st.t.ppf((1 + confidence)/2, n-1) \n",
    "    # return m + se * t_stat_lower, m, m + t_stat_upper\n",
    "\n",
    "     \n"
   ]
  },
  {
   "cell_type": "code",
   "execution_count": 317,
   "metadata": {},
   "outputs": [
    {
     "name": "stdout",
     "output_type": "stream",
     "text": [
      "(11.707199792530355, 12.391304347826088, 13.07540890312182)\n",
      "(11.02260721314349, 12.391304347826088, 13.760001482508686)\n",
      "(10.1445373309875, 12.391304347826088, 14.638071364664675)\n"
     ]
    }
   ],
   "source": [
    "a =  [5,7,7,9,10,16,7,14,13,15,16,15,\n",
    "     16,17,18,13,14,15,6,13, 14, 12 ,13 ]\n",
    "\n",
    "print(mean_confidence_interval(a, 0.60))\n",
    "print(mean_confidence_interval(a, 0.90))\n",
    "print(mean_confidence_interval(a, 0.99))"
   ]
  },
  {
   "attachments": {},
   "cell_type": "markdown",
   "metadata": {},
   "source": [
    "## <b>Пример.</b> Попробуем с помощью доверительного интервала  \n",
    "## оценить результаты выборов."
   ]
  },
  {
   "cell_type": "markdown",
   "metadata": {},
   "source": [
    "<p style=\"align: center;\"><img align=center src=\"https://www.englisch-hilfen.de/images/usa/states/map.gif\"  width=400></p>"
   ]
  },
  {
   "cell_type": "code",
   "execution_count": 318,
   "metadata": {},
   "outputs": [],
   "source": [
    "US_elect_county = 'https://raw.githubusercontent.com/a-milenkin/datasets_for_t-tests/main/2012_US_elect_county.csv'\n",
    " \n",
    "df = pd.read_csv(US_elect_county, sep=',') # Откроем датасет"
   ]
  },
  {
   "cell_type": "code",
   "execution_count": 319,
   "metadata": {},
   "outputs": [
    {
     "name": "stdout",
     "output_type": "stream",
     "text": [
      "<class 'pandas.core.frame.DataFrame'>\n",
      "RangeIndex: 4074 entries, 0 to 4073\n",
      "Data columns (total 7 columns):\n",
      " #   Column        Non-Null Count  Dtype \n",
      "---  ------        --------------  ----- \n",
      " 0   State Postal  4074 non-null   object\n",
      " 1   County Name   4074 non-null   object\n",
      " 2   FIPS          4074 non-null   int64 \n",
      " 3   Obama vote    4074 non-null   object\n",
      " 4   %             4073 non-null   object\n",
      " 5   Romney vote   4074 non-null   object\n",
      " 6   %.1           4073 non-null   object\n",
      "dtypes: int64(1), object(6)\n",
      "memory usage: 222.9+ KB\n"
     ]
    }
   ],
   "source": [
    "df.info()"
   ]
  },
  {
   "cell_type": "code",
   "execution_count": 320,
   "metadata": {},
   "outputs": [
    {
     "data": {
      "text/plain": [
       "State Postal    0\n",
       "County Name     0\n",
       "FIPS            0\n",
       "Obama vote      0\n",
       "%               1\n",
       "Romney vote     0\n",
       "%.1             1\n",
       "dtype: int64"
      ]
     },
     "execution_count": 320,
     "metadata": {},
     "output_type": "execute_result"
    }
   ],
   "source": [
    "df.isna().sum()"
   ]
  },
  {
   "cell_type": "code",
   "execution_count": 321,
   "metadata": {},
   "outputs": [
    {
     "data": {
      "text/html": [
       "<div>\n",
       "<style scoped>\n",
       "    .dataframe tbody tr th:only-of-type {\n",
       "        vertical-align: middle;\n",
       "    }\n",
       "\n",
       "    .dataframe tbody tr th {\n",
       "        vertical-align: top;\n",
       "    }\n",
       "\n",
       "    .dataframe thead th {\n",
       "        text-align: right;\n",
       "    }\n",
       "</style>\n",
       "<table border=\"1\" class=\"dataframe\">\n",
       "  <thead>\n",
       "    <tr style=\"text-align: right;\">\n",
       "      <th></th>\n",
       "      <th>State Postal</th>\n",
       "      <th>County Name</th>\n",
       "      <th>FIPS</th>\n",
       "      <th>Obama vote</th>\n",
       "      <th>%</th>\n",
       "      <th>Romney vote</th>\n",
       "      <th>%.1</th>\n",
       "    </tr>\n",
       "  </thead>\n",
       "  <tbody>\n",
       "    <tr>\n",
       "      <th>1429</th>\n",
       "      <td>ME</td>\n",
       "      <td>Hancock Cty Townships</td>\n",
       "      <td>23009</td>\n",
       "      <td>0</td>\n",
       "      <td>#DIV/0!</td>\n",
       "      <td>0</td>\n",
       "      <td>#DIV/0!</td>\n",
       "    </tr>\n",
       "  </tbody>\n",
       "</table>\n",
       "</div>"
      ],
      "text/plain": [
       "     State Postal            County Name   FIPS Obama vote        %  \\\n",
       "1429           ME  Hancock Cty Townships  23009          0  #DIV/0!   \n",
       "\n",
       "     Romney vote      %.1  \n",
       "1429           0  #DIV/0!  "
      ]
     },
     "execution_count": 321,
     "metadata": {},
     "output_type": "execute_result"
    }
   ],
   "source": [
    "df[df['%']=='#DIV/0!']"
   ]
  },
  {
   "cell_type": "code",
   "execution_count": 322,
   "metadata": {},
   "outputs": [
    {
     "data": {
      "text/html": [
       "<div>\n",
       "<style scoped>\n",
       "    .dataframe tbody tr th:only-of-type {\n",
       "        vertical-align: middle;\n",
       "    }\n",
       "\n",
       "    .dataframe tbody tr th {\n",
       "        vertical-align: top;\n",
       "    }\n",
       "\n",
       "    .dataframe thead th {\n",
       "        text-align: right;\n",
       "    }\n",
       "</style>\n",
       "<table border=\"1\" class=\"dataframe\">\n",
       "  <thead>\n",
       "    <tr style=\"text-align: right;\">\n",
       "      <th></th>\n",
       "      <th>State Postal</th>\n",
       "      <th>County Name</th>\n",
       "      <th>%</th>\n",
       "    </tr>\n",
       "  </thead>\n",
       "  <tbody>\n",
       "    <tr>\n",
       "      <th>0</th>\n",
       "      <td>AK</td>\n",
       "      <td>Alaska</td>\n",
       "      <td>41.6</td>\n",
       "    </tr>\n",
       "    <tr>\n",
       "      <th>1</th>\n",
       "      <td>AK</td>\n",
       "      <td>Alaska</td>\n",
       "      <td>41.6</td>\n",
       "    </tr>\n",
       "    <tr>\n",
       "      <th>2</th>\n",
       "      <td>AL</td>\n",
       "      <td>Alabama</td>\n",
       "      <td>38.4</td>\n",
       "    </tr>\n",
       "    <tr>\n",
       "      <th>3</th>\n",
       "      <td>AL</td>\n",
       "      <td>Autauga</td>\n",
       "      <td>26.6</td>\n",
       "    </tr>\n",
       "    <tr>\n",
       "      <th>4</th>\n",
       "      <td>AL</td>\n",
       "      <td>Baldwin</td>\n",
       "      <td>21.6</td>\n",
       "    </tr>\n",
       "  </tbody>\n",
       "</table>\n",
       "</div>"
      ],
      "text/plain": [
       "  State Postal County Name     %\n",
       "0           AK      Alaska  41.6\n",
       "1           AK      Alaska  41.6\n",
       "2           AL     Alabama  38.4\n",
       "3           AL     Autauga  26.6\n",
       "4           AL     Baldwin  21.6"
      ]
     },
     "execution_count": 322,
     "metadata": {},
     "output_type": "execute_result"
    }
   ],
   "source": [
    "df.dropna(how='any',inplace=True)  #Удалим пустые значения\n",
    "df=df[ df['%'] != '#DIV/0!'][['State Postal','County Name','%']] #Удалим мусор из данных и оставим только нужное\n",
    "df['%'] = df['%'].astype(float) # Приведем к численному значению результаты голосования\n",
    "df.head()"
   ]
  },
  {
   "cell_type": "code",
   "execution_count": 323,
   "metadata": {},
   "outputs": [
    {
     "name": "stdout",
     "output_type": "stream",
     "text": [
      "Среднее по всей выборке: 44.079\n",
      "                     sd: 15.742\n"
     ]
    },
    {
     "data": {
      "image/png": "[encoded data removed]",
      "text/plain": [
       "<Figure size 640x480 with 1 Axes>"
      ]
     },
     "metadata": {},
     "output_type": "display_data"
    }
   ],
   "source": [
    "df['%'].hist(bins=15)\n",
    "print(f\"Среднее по всей выборке: {df['%'].mean():.3f}\")\n",
    "print(f\"{' '*21}sd: {df['%'].std():.3f}\")"
   ]
  },
  {
   "cell_type": "code",
   "execution_count": 324,
   "metadata": {},
   "outputs": [
    {
     "data": {
      "text/plain": [
       "(43.443717578289764, 44.07946954813346, 44.715221517977156)"
      ]
     },
     "execution_count": 324,
     "metadata": {},
     "output_type": "execute_result"
    }
   ],
   "source": [
    "mean_confidence_interval(df['%'], 0.99)"
   ]
  },
  {
   "attachments": {},
   "cell_type": "markdown",
   "metadata": {},
   "source": [
    "Mean and CI in some states"
   ]
  },
  {
   "cell_type": "code",
   "execution_count": 325,
   "metadata": {},
   "outputs": [
    {
     "data": {
      "text/plain": [
       "(47.33158966272541, 48.45610425240053, 49.580618842075644)"
      ]
     },
     "execution_count": 325,
     "metadata": {},
     "output_type": "execute_result"
    }
   ],
   "source": [
    "some_states = ['AK','OH','WV','ME','CA','MD']\n",
    "\n",
    "sub_df = df.loc[df['State Postal'].isin(some_states)]  # Выборка по нескольким штатам\n",
    "\n",
    "l, s, r = mean_confidence_interval(sub_df['%'], 0.99)\n",
    "l, s, r"
   ]
  },
  {
   "attachments": {},
   "cell_type": "markdown",
   "metadata": {},
   "source": [
    "We infer that the population mean is out of the CI in some states.  \n",
    "The cause is the sample is not representative."
   ]
  },
  {
   "cell_type": "markdown",
   "metadata": {},
   "source": [
    "## Встроенные функции scipy.stats"
   ]
  },
  {
   "cell_type": "markdown",
   "metadata": {},
   "source": [
    "### Расчет с использованием нормального распределения\n",
    "\n",
    "Длина выборки более 30 элементов."
   ]
  },
  {
   "cell_type": "markdown",
   "metadata": {},
   "source": [
    "<b>Пример.</b> Используем выборку размером $n=100$ и определим $90\\%$ и $99\\%$ доверительные интервалы, используя нормальное распределение."
   ]
  },
  {
   "cell_type": "code",
   "execution_count": 326,
   "metadata": {},
   "outputs": [],
   "source": [
    "np.random.seed(54)  # Закрепим seed для воспроизводимости результата.\n",
    "\n",
    "# Генерируем случайное множество с нормальным распределением, где среднее = loc, а стандартное отклонение = scale\n",
    "sample_size = int(1e4)\n",
    "dataN = st.norm.rvs(loc=25, scale=5, size= sample_size)  # rvs: Random variates of given size(100) and type(norm)."
   ]
  },
  {
   "attachments": {
    "image.png": {
     "image/png": "[encoded data removed]"
    }
   },
   "cell_type": "markdown",
   "metadata": {},
   "source": [
    "![image.png](attachment:image.png)"
   ]
  },
  {
   "cell_type": "code",
   "execution_count": 327,
   "metadata": {},
   "outputs": [
    {
     "name": "stdout",
     "output_type": "stream",
     "text": [
      "Sample mean:                        24.960\n",
      "Standard Error of the sample Mean:   0.050224  (out of 5/sqrt(10000) )\n",
      "Standard deviation sd:               5.0221  (out of 5)\n"
     ]
    }
   ],
   "source": [
    "# mean, std, sem  of the real generated sample  \n",
    "print(f'Sample mean: {np.mean(dataN):>29.3f}')\n",
    "print(f'Standard Error of the sample Mean: {st.sem(dataN):>10.06f}  (out of 5/sqrt({sample_size}) )')\n",
    "print(f'Standard deviation sd: {np.std(dataN):>20.04f}  (out of 5)')"
   ]
  },
  {
   "attachments": {},
   "cell_type": "markdown",
   "metadata": {},
   "source": [
    "### interval(confidence=0.90, [loc=0, scale=1])\n",
    "##### returns lower and upper CI with equal areas around the median."
   ]
  },
  {
   "cell_type": "code",
   "execution_count": 328,
   "metadata": {},
   "outputs": [
    {
     "name": "stdout",
     "output_type": "stream",
     "text": [
      "Мы уверены на 90%, что истинное среднее значение генеральной совокупности находится в диапазоне между 24.877 и 25.042\n"
     ]
    },
    {
     "data": {
      "text/plain": [
       "0.1652210313568503"
      ]
     },
     "execution_count": 328,
     "metadata": {},
     "output_type": "execute_result"
    }
   ],
   "source": [
    "# interval:  Confidence interval with equal areas around the median.\n",
    "conf = 0.9\n",
    "ci_lower, ci_upper = st.norm.interval(confidence = conf, loc=np.mean(dataN), scale=st.sem(dataN))  #\n",
    "print(f'Мы уверены на {conf * 100:.0f}%, что истинное среднее значение генеральной совокупности находится в диапазоне между {ci_lower:5.3f} и {ci_upper:5.3f}')\n",
    "norm_90_range = ci_upper - ci_lower\n",
    "norm_90_range "
   ]
  },
  {
   "cell_type": "code",
   "execution_count": 329,
   "metadata": {},
   "outputs": [
    {
     "name": "stdout",
     "output_type": "stream",
     "text": [
      "Мы уверены на 99%, что истинное среднее значение генеральной совокупности находится в диапазоне между 24.83041 и 25.08914\n"
     ]
    },
    {
     "data": {
      "text/plain": [
       "0.2587349823463043"
      ]
     },
     "execution_count": 329,
     "metadata": {},
     "output_type": "execute_result"
    }
   ],
   "source": [
    "conf = 0.99\n",
    "ci_lower, ci_upper = st.norm.interval(confidence = conf, loc=np.mean(dataN), scale=st.sem(dataN))  #\n",
    "print(f'Мы уверены на {conf * 100:.0f}%, что истинное среднее значение генеральной совокупности находится в диапазоне между {ci_lower:5.5f} и {ci_upper:5.5f}')\n",
    "norm_99_range = ci_upper - ci_lower\n",
    "norm_99_range"
   ]
  },
  {
   "attachments": {},
   "cell_type": "markdown",
   "metadata": {},
   "source": [
    "#### Let's compare the CI using t-curve"
   ]
  },
  {
   "cell_type": "code",
   "execution_count": 330,
   "metadata": {},
   "outputs": [
    {
     "name": "stdout",
     "output_type": "stream",
     "text": [
      "Мы уверены на 99%, что истинное среднее значение генеральной совокупности находится в диапазоне между 24.83038 и 25.08917\n"
     ]
    },
    {
     "data": {
      "text/plain": [
       "0.25878438153354466"
      ]
     },
     "execution_count": 330,
     "metadata": {},
     "output_type": "execute_result"
    }
   ],
   "source": [
    "conf = 0.99\n",
    "ci_lower, ci_upper = st.t.interval(confidence = conf, df=len(dataN)-1, loc=np.mean(dataN), scale=st.sem(dataN) ) #\n",
    "print(f'Мы уверены на {conf * 100:.0f}%, что истинное среднее значение генеральной совокупности находится в диапазоне между {ci_lower:5.5f} и {ci_upper:5.5f}')\n",
    "norm_99_range = ci_upper - ci_lower\n",
    "norm_99_range"
   ]
  },
  {
   "attachments": {},
   "cell_type": "markdown",
   "metadata": {},
   "source": [
    "##### The difference is only seen in forth decimal digits. \n",
    "So computations are practically identical."
   ]
  },
  {
   "cell_type": "code",
   "execution_count": 331,
   "metadata": {},
   "outputs": [],
   "source": [
    "# print(st.norm.__doc__)"
   ]
  },
  {
   "cell_type": "markdown",
   "metadata": {},
   "source": [
    "### Расчет с использованием t распределения\n",
    "\n",
    "Длина выборки менее 30 элементов. "
   ]
  },
  {
   "cell_type": "markdown",
   "metadata": {},
   "source": [
    "<b>Пример.</b> Используем выборку размером $n=20$ и определим $90\\%$ и $99\\%$ доверительные интервалы, используя t распределение."
   ]
  },
  {
   "cell_type": "code",
   "execution_count": 332,
   "metadata": {},
   "outputs": [
    {
     "data": {
      "text/plain": [
       "array([15.73894628, 19.59500504, 25.39281913, 18.22932204, 28.1307423 ,\n",
       "       28.66693776, 17.64510722, 16.62290224, 27.91513782, 21.61269469,\n",
       "       28.38777594, 25.92764723, 19.2158274 , 20.90224588, 20.48267271,\n",
       "       22.35407158, 23.12972966, 23.19403118, 21.09564881, 37.54233791])"
      ]
     },
     "execution_count": 332,
     "metadata": {},
     "output_type": "execute_result"
    }
   ],
   "source": [
    "np.random.seed(54)  # Закрепим seed для воспроизводимости результата.\n",
    "\n",
    "# Генерируем случайное множество с нормальным распределением, где среднее = loc, а стандартное отклонение = scale\n",
    "dataT = st.norm.rvs(loc=25, scale=5, size=20)\n",
    "dataT"
   ]
  },
  {
   "cell_type": "code",
   "execution_count": 333,
   "metadata": {},
   "outputs": [
    {
     "name": "stdout",
     "output_type": "stream",
     "text": [
      "Мы уверены на 90%, что истинное среднее значение генеральной совокупности находится в диапазоне между 21.057 и 25.121\n"
     ]
    },
    {
     "data": {
      "text/plain": [
       "4.063866205774961"
      ]
     },
     "execution_count": 333,
     "metadata": {},
     "output_type": "execute_result"
    }
   ],
   "source": [
    "ci_lower, ci_upper = st.t.interval(confidence=0.90, df=len(dataT)-1, loc=np.mean(dataT), scale=st.sem(dataT))\n",
    "print(f'Мы уверены на 90%, что истинное среднее значение генеральной совокупности находится в диапазоне между {ci_lower:4.3f} и {ci_upper:5.3f}')\n",
    "t_90_range = ci_upper - ci_lower\n",
    "t_90_range"
   ]
  },
  {
   "cell_type": "code",
   "execution_count": 334,
   "metadata": {},
   "outputs": [
    {
     "name": "stdout",
     "output_type": "stream",
     "text": [
      "Мы уверены на 99%, что истинное среднее значение генеральной совокупности находится в диапазоне между 19.727 и 26.451\n"
     ]
    },
    {
     "data": {
      "text/plain": [
       "6.723864926173263"
      ]
     },
     "execution_count": 334,
     "metadata": {},
     "output_type": "execute_result"
    }
   ],
   "source": [
    "ci_lower, ci_upper = st.t.interval(confidence=0.99, df=len(dataT)-1, loc=np.mean(dataT), scale=st.sem(dataT))\n",
    "print(f'Мы уверены на 99%, что истинное среднее значение генеральной совокупности находится в диапазоне между {ci_lower:4.3f} и {ci_upper:5.3f}')\n",
    "t_99_range = ci_upper - ci_lower\n",
    "t_99_range"
   ]
  },
  {
   "cell_type": "code",
   "execution_count": 335,
   "metadata": {},
   "outputs": [
    {
     "name": "stdout",
     "output_type": "stream",
     "text": [
      "With decreasing of the size of the sample the CI increases by (90%): 24.597\n",
      "                                                              (99%): 25.982\n"
     ]
    }
   ],
   "source": [
    "print(f'With decreasing of the size of the sample the CI increases by (90%): {t_90_range/norm_90_range:4.3f}')\n",
    "print(f'{\" \"*61} (99%): {t_99_range/norm_99_range:4.3f}')"
   ]
  },
  {
   "attachments": {},
   "cell_type": "markdown",
   "metadata": {},
   "source": [
    "## Определение $N$ размера выборки"
   ]
  },
  {
   "attachments": {},
   "cell_type": "markdown",
   "metadata": {},
   "source": [
    "`Пример` \n",
    "Допустим, Вы журналист и оказались в 2016 году в преддверии выборов президента в США.  \n",
    "Вы хотите по результатам своих исследований достаточно точно определить, кто победит на этих выборах.  \n",
    "Сколько вам необходимо опросить людей, чтобы назвать будущего президента с точность в 95%?\n",
    "\n",
    "Результаты предшествующих исследований свидетельствуют, что стандартное отклонение генеральной совокупности равно 15.7.  \n",
    "\n",
    "Дано:  \n",
    "* погрешность измерений $\\Delta$: + - 5 %.  \n",
    "* стандартное отклонение $\\sigma$ = 15.7."
   ]
  },
  {
   "attachments": {},
   "cell_type": "markdown",
   "metadata": {},
   "source": [
    "  $$ N = (\\frac{Z*\\sigma}{\\Delta})^2$$\n",
    "- $\\Delta$ - допустимая ошибка/погрешность в измерениях ( + / - %), \n",
    "- $\\sigma$ - стандартное отклонение ГС, \n",
    "- Z - квантиль нормального распределения\n"
   ]
  },
  {
   "cell_type": "code",
   "execution_count": 336,
   "metadata": {},
   "outputs": [],
   "source": [
    "confidence = 0.95\n",
    "Z = st.norm.ppf((1 + confidence)/2 )  # Квантиль нормального распределения. Z = 1.959963984540054 (95%)\n",
    "sigma = 15.7  # Стандартное отклонение ГС\n",
    "Delta = 5 # Погрешность"
   ]
  },
  {
   "cell_type": "code",
   "execution_count": 337,
   "metadata": {},
   "outputs": [
    {
     "data": {
      "text/plain": [
       "38"
      ]
     },
     "execution_count": 337,
     "metadata": {},
     "output_type": "execute_result"
    }
   ],
   "source": [
    "N = int(np.ceil(  ((sigma * Z)/ Delta)  **2)  )\n",
    "N"
   ]
  },
  {
   "attachments": {},
   "cell_type": "markdown",
   "metadata": {},
   "source": [
    "#### Сравним полученные результаты с генеральной совокупностью."
   ]
  },
  {
   "cell_type": "code",
   "execution_count": 338,
   "metadata": {},
   "outputs": [
    {
     "name": "stdout",
     "output_type": "stream",
     "text": [
      "Стандартное отклонение ГС: 15.742\n",
      "Среднее в ГС: 44.079\n"
     ]
    }
   ],
   "source": [
    "print(f\"Стандартное отклонение ГС: {df['%'].std():.3f}\")\n",
    "print(f\"Среднее в ГС: {df['%'].mean():.3f}\")\n",
    "# df['%'].hist(bins=30);"
   ]
  },
  {
   "attachments": {},
   "cell_type": "markdown",
   "metadata": {},
   "source": [
    "##### Возьмем выборку из случайных   $n$  значений"
   ]
  },
  {
   "cell_type": "code",
   "execution_count": 339,
   "metadata": {},
   "outputs": [
    {
     "data": {
      "text/plain": [
       "(38,)"
      ]
     },
     "execution_count": 339,
     "metadata": {},
     "output_type": "execute_result"
    }
   ],
   "source": [
    "# np.random.seed(67)  # Закрепим seed для воспроизводимости результата.\n",
    "\n",
    "# Возьмем выборку из случайных n значений\n",
    "sub_df = df['%'].sample(n = N) \n",
    "sub_df.shape"
   ]
  },
  {
   "cell_type": "code",
   "execution_count": 340,
   "metadata": {},
   "outputs": [
    {
     "data": {
      "text/plain": [
       "(43.21578947368422, 15.742396788859033)"
      ]
     },
     "execution_count": 340,
     "metadata": {},
     "output_type": "execute_result"
    }
   ],
   "source": [
    "# calculating statistics \n",
    "mn = sub_df.mean()  # sample Mean\n",
    "sd = df['%'].std()  # population sigma (sd)\n",
    "# we know population SIGMA (sd) so we use it instead of SEM \n",
    "# se = st.sem(sub_df), sd / np.sqrt (N) # SEM  \n",
    "mn, sd"
   ]
  },
  {
   "cell_type": "code",
   "execution_count": 341,
   "metadata": {},
   "outputs": [],
   "source": [
    "# st.norm.ppf( (1+confidence)/2)"
   ]
  },
  {
   "cell_type": "code",
   "execution_count": 342,
   "metadata": {},
   "outputs": [
    {
     "name": "stdout",
     "output_type": "stream",
     "text": [
      "Confidence Interval  is: [ 38.211, 48.221 ]\n",
      "Среднее выборки: 43.216  (+- 5.005)\n",
      "Среднее генеральной совокупности: 44.079\n"
     ]
    }
   ],
   "source": [
    "# ci_low = mn + st.t.ppf( (1-confidence)/2, N-1) * sd/np.sqrt(n)\n",
    "# ci_upp = mn + st.t.ppf( (1 + confidence)/2, N-1) * sd/np.sqrt(n)\n",
    "\n",
    "# we know population SIGMA and N > 30 so we use Normal distribution \n",
    "ci_low = mn + st.norm.ppf( (1 - confidence)/2 ) * sd/np.sqrt(N)\n",
    "ci_upp = mn + st.norm.ppf( (1 + confidence)/2 ) * sd/np.sqrt(N)\n",
    "\n",
    "print(f'Confidence Interval  is: [ {ci_low:5.3f}, {ci_upp:5.3f} ]')\n",
    "\n",
    "print(f\"Среднее выборки: {mn:.3f}  (+- {st.norm.ppf( (1 + confidence)/2 )* sd/np.sqrt(N):3.3f})\")\n",
    "# print(f\"Доверительный интервал: ({mn - Delta:.3f}, {mn + Delta:.3f})\")\n",
    "print(f\"Среднее генеральной совокупности: {df['%'].mean():.3f}\")"
   ]
  },
  {
   "attachments": {},
   "cell_type": "markdown",
   "metadata": {},
   "source": [
    "## Определения размера выборки\n",
    "<b>Пример.</b> Часто возникают ситуации, когда размер выборки может зависеть от оценки размера генеральной совокупности. Например, если мы хотим провести опрос клиентов банка на предмет удобства или качества обслуживания. Неужели размер выборки будет одинаковый если у нас 10 000 клиентов или 1 000 000 клиентов?\n",
    "\n",
    "В этом случае для определения размера выборки можно использовать оценку размера генеральной совокупности по следующей формуле:\n",
    "$$ N = \\frac {\\frac{Z^2*p*(1-p)}{\\Delta^2}} {1+\\frac{Z^2*p*(1-p)}{N*\\Delta^2}} $$  \n",
    "$$ N = \\frac {Z^2 * p * (1-p)} {\\Delta^2 * (1+\\frac{Z^2 * p * (1-p)}{N * \\Delta^2})} $$"
   ]
  },
  {
   "cell_type": "code",
   "execution_count": 343,
   "metadata": {},
   "outputs": [],
   "source": [
    "confidence = 0.95\n",
    "Z = st.norm.ppf( (1+confidence)/2)\n",
    "Delta = 0.05 # measurement error\n",
    "pop_range = np.logspace(1,9, base= 10, num= 50)\n",
    "\n",
    "df_pop= pd.DataFrame(pop_range,  columns=['Pop_size'])"
   ]
  },
  {
   "cell_type": "code",
   "execution_count": 349,
   "metadata": {},
   "outputs": [
    {
     "data": {
      "text/html": [
       "<div>\n",
       "<style scoped>\n",
       "    .dataframe tbody tr th:only-of-type {\n",
       "        vertical-align: middle;\n",
       "    }\n",
       "\n",
       "    .dataframe tbody tr th {\n",
       "        vertical-align: top;\n",
       "    }\n",
       "\n",
       "    .dataframe thead th {\n",
       "        text-align: right;\n",
       "    }\n",
       "</style>\n",
       "<table border=\"1\" class=\"dataframe\">\n",
       "  <thead>\n",
       "    <tr style=\"text-align: right;\">\n",
       "      <th></th>\n",
       "      <th>Pop_size</th>\n",
       "      <th>sample_N_p0.5</th>\n",
       "      <th>sample_N_p0.7</th>\n",
       "      <th>sample_N_p0.9</th>\n",
       "      <th>sample_N_p0.95</th>\n",
       "      <th>sample_N_p0.1</th>\n",
       "    </tr>\n",
       "  </thead>\n",
       "  <tbody>\n",
       "    <tr>\n",
       "      <th>23</th>\n",
       "      <td>5.689866e+04</td>\n",
       "      <td>381.569750</td>\n",
       "      <td>320.862870</td>\n",
       "      <td>137.957212</td>\n",
       "      <td>72.894211</td>\n",
       "      <td>137.957212</td>\n",
       "    </tr>\n",
       "    <tr>\n",
       "      <th>36</th>\n",
       "      <td>7.543120e+06</td>\n",
       "      <td>384.126320</td>\n",
       "      <td>322.668738</td>\n",
       "      <td>138.289982</td>\n",
       "      <td>72.987011</td>\n",
       "      <td>138.289982</td>\n",
       "    </tr>\n",
       "    <tr>\n",
       "      <th>35</th>\n",
       "      <td>5.179475e+06</td>\n",
       "      <td>384.117393</td>\n",
       "      <td>322.662439</td>\n",
       "      <td>138.288825</td>\n",
       "      <td>72.986689</td>\n",
       "      <td>138.288825</td>\n",
       "    </tr>\n",
       "  </tbody>\n",
       "</table>\n",
       "</div>"
      ],
      "text/plain": [
       "        Pop_size  sample_N_p0.5  sample_N_p0.7  sample_N_p0.9  sample_N_p0.95  \\\n",
       "23  5.689866e+04     381.569750     320.862870     137.957212       72.894211   \n",
       "36  7.543120e+06     384.126320     322.668738     138.289982       72.987011   \n",
       "35  5.179475e+06     384.117393     322.662439     138.288825       72.986689   \n",
       "\n",
       "    sample_N_p0.1  \n",
       "23     137.957212  \n",
       "36     138.289982  \n",
       "35     138.288825  "
      ]
     },
     "execution_count": 349,
     "metadata": {},
     "output_type": "execute_result"
    }
   ],
   "source": [
    "p = 0.5 # распределение голосов\n",
    "df_pop['sample_N_p0.5'] = df_pop.apply(lambda row: \\\n",
    "    (Z**2*p*(1-p)/Delta**2)/(1+(Z**2*p*(1-p)/(row.Pop_size * Delta**2))) , axis = 1)\n",
    "p = 0.7 # распределение голосов\n",
    "df_pop['sample_N_p0.7'] = df_pop.apply(lambda row: \\\n",
    "    (Z**2*p*(1-p)/Delta**2)/(1+(Z**2*p*(1-p)/(row.Pop_size * Delta**2))) , axis = 1)   \n",
    "p = 0.9 # распределение голосов\n",
    "df_pop['sample_N_p0.9'] = df_pop.apply(lambda row: \\\n",
    "    (Z**2*p*(1-p)/Delta**2)/(1+(Z**2*p*(1-p)/(row.Pop_size * Delta**2))) , axis = 1)    \n",
    "p = 0.95 # распределение голосов\n",
    "df_pop['sample_N_p0.95'] = df_pop.apply(lambda row: \\\n",
    "    (Z**2*p*(1-p)/Delta**2)/(1+(Z**2*p*(1-p)/(row.Pop_size * Delta**2))) , axis = 1)\n",
    "p = 0.1 # распределение голосов\n",
    "df_pop['sample_N_p0.1'] = df_pop.apply(lambda row: \\\n",
    "    (Z**2*p*(1-p)/Delta**2)/(1+(Z**2*p*(1-p)/(row.Pop_size * Delta**2))) , axis = 1)   \n",
    "df_pop.sample(3)"
   ]
  },
  {
   "cell_type": "code",
   "execution_count": 350,
   "metadata": {},
   "outputs": [
    {
     "data": {
      "image/png": "[encoded data removed]",
      "text/plain": [
       "<Figure size 640x480 with 1 Axes>"
      ]
     },
     "metadata": {},
     "output_type": "display_data"
    }
   ],
   "source": [
    "# df_pop.plot(x = 'Pop_size', y= 'sample_N')\n",
    "fig, ax = plt.subplots()\n",
    "ax.plot(df_pop['Pop_size'], df_pop['sample_N_p0.5'], c='r',label='p=0.5')\n",
    "ax.plot(df_pop['Pop_size'], df_pop['sample_N_p0.7'], c='g',label='p=0.7')\n",
    "ax.plot(df_pop['Pop_size'], df_pop['sample_N_p0.9'], c='b',label='p=0.9')\n",
    "ax.plot(df_pop['Pop_size'], df_pop['sample_N_p0.95'], c='y',label='p=0.95')\n",
    "ax.set_xscale('log')\n",
    "ax.grid(color='gray', axis='both', linestyle=':', linewidth=0.3)\n",
    "ax.set_xlabel('Population')  # Add an x-label to the axes.\n",
    "ax.set_ylabel('Sample size')  # Add a y-label to the axes.\n",
    "ax.set_title(f\"Sample estimation on a given population size\\n(confidence = {confidence}, measurement error = {Delta})\")  # Add a title to the axes.\n",
    "ax.legend()\n",
    "plt.show()"
   ]
  },
  {
   "cell_type": "code",
   "execution_count": 351,
   "metadata": {},
   "outputs": [
    {
     "data": {
      "application/vnd.plotly.v1+json": {
       "config": {
        "plotlyServerURL": "https://plot.ly"
       },
       "data": [
        {
         "hovertemplate": "variable=sample_N_p0.5<br>Pop_size=%{x}<br>value=%{y}<extra></extra>",
         "legendgroup": "sample_N_p0.5",
         "line": {
          "color": "#636efa",
          "dash": "solid"
         },
         "marker": {
          "symbol": "circle"
         },
         "mode": "lines",
         "name": "sample_N_p0.5",
         "orientation": "v",
         "showlegend": true,
         "type": "scatter",
         "x": [
          10,
          14.563484775012437,
          21.209508879201906,
          30.888435964774818,
          44.98432668969444,
          65.51285568595509,
          95.40954763499938,
          138.94954943731375,
          202.35896477251555,
          294.705170255181,
          429.1934260128778,
          625.0551925273969,
          910.2981779915218,
          1325.7113655901082,
          1930.6977288832495,
          2811.768697974228,
          4094.9150623804235,
          5963.623316594642,
          8685.11373751352,
          12648.552168552958,
          18420.699693267165,
          26826.957952797275,
          39069.39937054613,
          56898.66029018293,
          82864.27728546843,
          120679.26406393289,
          175751.06248547893,
          255954.79226995332,
          372759.3720314938,
          542867.543932386,
          790604.3210907686,
          1151395.3993264458,
          1676832.9368110066,
          2442053.0945486496,
          3556480.3062231285,
          5179474.679231202,
          7543120.063354608,
          10985411.419875573,
          15998587.196060574,
          23299518.105153672,
          33932217.71895323,
          49417133.61323828,
          71968567.30011514,
          104811313.4154683,
          152641796.71752304,
          222299648.25261912,
          323745754.281764,
          471486636.34573895,
          686648845.0042999,
          1000000000
         ],
         "xaxis": "x",
         "y": [
          9.74628683299959,
          14.031530658983911,
          20.099758578745263,
          28.58960082056536,
          40.26876575639016,
          55.967985543870206,
          76.42742124029647,
          102.04045766180234,
          132.54001810174643,
          166.76674093739413,
          202.71107713071322,
          237.92322889809813,
          270.14477281797025,
          297.8415669501939,
          320.3972737346334,
          337.97191370606777,
          351.1996773758273,
          360.8986507835075,
          367.8746466102082,
          372.8229727119107,
          376.2985398447876,
          378.7227996539978,
          380.4055829970216,
          381.56975026701537,
          382.3732592004614,
          382.9269501165069,
          383.3080708215729,
          383.5702065213481,
          383.75040941177116,
          383.87424359782057,
          383.95932048871623,
          384.0177602779422,
          384.0578981940789,
          384.0854637068571,
          384.104393825849,
          384.1173932507606,
          384.1263198003903,
          384.13244944563684,
          384.13665847274757,
          384.13954864976455,
          384.14153321165907,
          384.1428959206659,
          384.1438316288302,
          384.1444741344,
          384.14491531135207,
          384.14521824558335,
          384.1454262553001,
          384.14556908506233,
          384.14566715901503,
          384.14573450141046
         ],
         "yaxis": "y"
        },
        {
         "hovertemplate": "variable=sample_N_p0.7<br>Pop_size=%{x}<br>value=%{y}<extra></extra>",
         "legendgroup": "sample_N_p0.7",
         "line": {
          "color": "#EF553B",
          "dash": "solid"
         },
         "marker": {
          "symbol": "circle"
         },
         "mode": "lines",
         "name": "sample_N_p0.7",
         "orientation": "v",
         "showlegend": true,
         "type": "scatter",
         "x": [
          10,
          14.563484775012437,
          21.209508879201906,
          30.888435964774818,
          44.98432668969444,
          65.51285568595509,
          95.40954763499938,
          138.94954943731375,
          202.35896477251555,
          294.705170255181,
          429.1934260128778,
          625.0551925273969,
          910.2981779915218,
          1325.7113655901082,
          1930.6977288832495,
          2811.768697974228,
          4094.9150623804235,
          5963.623316594642,
          8685.11373751352,
          12648.552168552958,
          18420.699693267165,
          26826.957952797275,
          39069.39937054613,
          56898.66029018293,
          82864.27728546843,
          120679.26406393289,
          175751.06248547893,
          255954.79226995332,
          372759.3720314938,
          542867.543932386,
          790604.3210907686,
          1151395.3993264458,
          1676832.9368110066,
          2442053.0945486496,
          3556480.3062231285,
          5179474.679231202,
          7543120.063354608,
          10985411.419875573,
          15998587.196060574,
          23299518.105153672,
          33932217.71895323,
          49417133.61323828,
          71968567.30011514,
          104811313.4154683,
          152641796.71752304,
          222299648.25261912,
          323745754.281764,
          471486636.34573895,
          686648845.0042999,
          1000000000
         ],
         "xaxis": "x",
         "y": [
          9.6994131410745,
          13.934581622355823,
          19.901414472437747,
          28.18998066534133,
          39.48045939596649,
          54.45673730471888,
          73.63687594685967,
          97.12624968983991,
          124.3667485793108,
          154.02997410130692,
          184.19690394073226,
          212.8166797937477,
          238.23351377365077,
          259.5155868419453,
          276.47461783678426,
          289.46332191401353,
          299.11225872243006,
          306.1189144482545,
          311.123218435034,
          314.6552386376078,
          317.12729904410975,
          318.8473512145079,
          320.03926804756736,
          320.86286986673264,
          321.4308541060952,
          321.82202567266023,
          322.09117496144955,
          322.2762468529475,
          322.40344945976904,
          322.49085114502276,
          322.5508928573227,
          322.5921333777535,
          322.62045724075034,
          322.6399086688568,
          322.653266327777,
          322.66243898933936,
          322.6687376888176,
          322.6730628259422,
          322.67603274349716,
          322.6780720656144,
          322.6794723787175,
          322.68043390913033,
          322.68109414619596,
          322.68154749877914,
          322.68185879354434,
          322.68207254408316,
          322.68221931580774,
          322.68232009652024,
          322.6823892975165,
          322.6824368143179
         ],
         "yaxis": "y"
        },
        {
         "hovertemplate": "variable=sample_N_p0.9<br>Pop_size=%{x}<br>value=%{y}<extra></extra>",
         "legendgroup": "sample_N_p0.9",
         "line": {
          "color": "#00cc96",
          "dash": "solid"
         },
         "marker": {
          "symbol": "circle"
         },
         "mode": "lines",
         "name": "sample_N_p0.9",
         "orientation": "v",
         "showlegend": true,
         "type": "scatter",
         "x": [
          10,
          14.563484775012437,
          21.209508879201906,
          30.888435964774818,
          44.98432668969444,
          65.51285568595509,
          95.40954763499938,
          138.94954943731375,
          202.35896477251555,
          294.705170255181,
          429.1934260128778,
          625.0551925273969,
          910.2981779915218,
          1325.7113655901082,
          1930.6977288832495,
          2811.768697974228,
          4094.9150623804235,
          5963.623316594642,
          8685.11373751352,
          12648.552168552958,
          18420.699693267165,
          26826.957952797275,
          39069.39937054613,
          56898.66029018293,
          82864.27728546843,
          120679.26406393289,
          175751.06248547893,
          255954.79226995332,
          372759.3720314938,
          542867.543932386,
          790604.3210907686,
          1151395.3993264458,
          1676832.9368110066,
          2442053.0945486496,
          3556480.3062231285,
          5179474.679231202,
          7543120.063354608,
          10985411.419875573,
          15998587.196060574,
          23299518.105153672,
          33932217.71895323,
          49417133.61323828,
          71968567.30011514,
          104811313.4154683,
          152641796.71752304,
          222299648.25261912,
          323745754.281764,
          471486636.34573895,
          686648845.0042999,
          1000000000
         ],
         "xaxis": "x",
         "y": [
          9.325657142683127,
          13.175936457819091,
          18.389210748941156,
          25.2489389850221,
          33.94316294544105,
          44.45387087074444,
          56.45832239484384,
          69.31012747302374,
          82.15062061613358,
          94.1241052236803,
          104.59155873528219,
          113.23863953293885,
          120.0539231245547,
          125.22915027578692,
          129.04896483035063,
          131.80966210174472,
          133.77470922875466,
          135.15828545644843,
          136.12500764505987,
          136.7968537687854,
          137.26202945642785,
          137.58327805804336,
          137.80473518678386,
          137.95721175694254,
          138.0621051558983,
          138.13422250120453,
          138.18378543662064,
          138.2178383695441,
          138.2412304970203,
          138.2572972598181,
          138.26833164672038,
          138.2759094157219,
          138.2811131630441,
          138.2846865369396,
          138.28714029694288,
          138.28882521884105,
          138.28998219229248,
          138.290776637987,
          138.29132214849122,
          138.29169672514104,
          138.29195392894002,
          138.29213053818552,
          138.2922518069812,
          138.2923350761828,
          138.292392252942,
          138.29243151332506,
          138.29245847143463,
          138.29247698219552,
          138.29248969259095,
          138.2924984201707
         ],
         "yaxis": "y"
        },
        {
         "hovertemplate": "variable=sample_N_p0.95<br>Pop_size=%{x}<br>value=%{y}<extra></extra>",
         "legendgroup": "sample_N_p0.95",
         "line": {
          "color": "#ab63fa",
          "dash": "solid"
         },
         "marker": {
          "symbol": "circle"
         },
         "mode": "lines",
         "name": "sample_N_p0.95",
         "orientation": "v",
         "showlegend": true,
         "type": "scatter",
         "x": [
          10,
          14.563484775012437,
          21.209508879201906,
          30.888435964774818,
          44.98432668969444,
          65.51285568595509,
          95.40954763499938,
          138.94954943731375,
          202.35896477251555,
          294.705170255181,
          429.1934260128778,
          625.0551925273969,
          910.2981779915218,
          1325.7113655901082,
          1930.6977288832495,
          2811.768697974228,
          4094.9150623804235,
          5963.623316594642,
          8685.11373751352,
          12648.552168552958,
          18420.699693267165,
          26826.957952797275,
          39069.39937054613,
          56898.66029018293,
          82864.27728546843,
          120679.26406393289,
          175751.06248547893,
          255954.79226995332,
          372759.3720314938,
          542867.543932386,
          790604.3210907686,
          1151395.3993264458,
          1676832.9368110066,
          2442053.0945486496,
          3556480.3062231285,
          5179474.679231202,
          7543120.063354608,
          10985411.419875573,
          15998587.196060574,
          23299518.105153672,
          33932217.71895323,
          49417133.61323828,
          71968567.30011514,
          104811313.4154683,
          152641796.71752304,
          222299648.25261912,
          323745754.281764,
          471486636.34573895,
          686648845.0042999,
          1000000000
         ],
         "xaxis": "x",
         "y": [
          8.795002406377687,
          12.140958492620074,
          16.433962042599493,
          21.703503295722857,
          27.831198081760604,
          34.5242889348376,
          41.352958488019105,
          47.851945135122655,
          53.64044645960109,
          58.49952079766084,
          62.37957949941338,
          65.35608515021616,
          67.56995766864969,
          69.17903066151557,
          70.32901338947664,
          71.1410428130527,
          71.7095671178319,
          72.10523454279925,
          72.37945712181003,
          72.5689627123218,
          72.69966217183774,
          72.78967976126347,
          72.85161943168725,
          72.89421131233209,
          72.92348582813966,
          72.94360076024437,
          72.95741908218659,
          72.9669104490585,
          72.97342911532388,
          72.9779058244791,
          72.98098006972579,
          72.98309114666206,
          72.98454078592599,
          72.98553621239971,
          72.98621973656174,
          72.9866890850518,
          72.98701136614592,
          72.98723266173508,
          72.98738461487285,
          72.98748895368577,
          72.9875605979839,
          72.98760979253991,
          72.98764357196337,
          72.98766676658357,
          72.9876826931513,
          72.98769362911464,
          72.98770113828316,
          72.98770629444593,
          72.98770983491956,
          72.98771226598188
         ],
         "yaxis": "y"
        }
       ],
       "layout": {
        "height": 800,
        "legend": {
         "title": {
          "text": "variable"
         },
         "tracegroupgap": 0
        },
        "template": {
         "data": {
          "bar": [
           {
            "error_x": {
             "color": "#2a3f5f"
            },
            "error_y": {
             "color": "#2a3f5f"
            },
            "marker": {
             "line": {
              "color": "#E5ECF6",
              "width": 0.5
             },
             "pattern": {
              "fillmode": "overlay",
              "size": 10,
              "solidity": 0.2
             }
            },
            "type": "bar"
           }
          ],
          "barpolar": [
           {
            "marker": {
             "line": {
              "color": "#E5ECF6",
              "width": 0.5
             },
             "pattern": {
              "fillmode": "overlay",
              "size": 10,
              "solidity": 0.2
             }
            },
            "type": "barpolar"
           }
          ],
          "carpet": [
           {
            "aaxis": {
             "endlinecolor": "#2a3f5f",
             "gridcolor": "white",
             "linecolor": "white",
             "minorgridcolor": "white",
             "startlinecolor": "#2a3f5f"
            },
            "baxis": {
             "endlinecolor": "#2a3f5f",
             "gridcolor": "white",
             "linecolor": "white",
             "minorgridcolor": "white",
             "startlinecolor": "#2a3f5f"
            },
            "type": "carpet"
           }
          ],
          "choropleth": [
           {
            "colorbar": {
             "outlinewidth": 0,
             "ticks": ""
            },
            "type": "choropleth"
           }
          ],
          "contour": [
           {
            "colorbar": {
             "outlinewidth": 0,
             "ticks": ""
            },
            "colorscale": [
             [
              0,
              "#0d0887"
             ],
             [
              0.1111111111111111,
              "#46039f"
             ],
             [
              0.2222222222222222,
              "#7201a8"
             ],
             [
              0.3333333333333333,
              "#9c179e"
             ],
             [
              0.4444444444444444,
              "#bd3786"
             ],
             [
              0.5555555555555556,
              "#d8576b"
             ],
             [
              0.6666666666666666,
              "#ed7953"
             ],
             [
              0.7777777777777778,
              "#fb9f3a"
             ],
             [
              0.8888888888888888,
              "#fdca26"
             ],
             [
              1,
              "#f0f921"
             ]
            ],
            "type": "contour"
           }
          ],
          "contourcarpet": [
           {
            "colorbar": {
             "outlinewidth": 0,
             "ticks": ""
            },
            "type": "contourcarpet"
           }
          ],
          "heatmap": [
           {
            "colorbar": {
             "outlinewidth": 0,
             "ticks": ""
            },
            "colorscale": [
             [
              0,
              "#0d0887"
             ],
             [
              0.1111111111111111,
              "#46039f"
             ],
             [
              0.2222222222222222,
              "#7201a8"
             ],
             [
              0.3333333333333333,
              "#9c179e"
             ],
             [
              0.4444444444444444,
              "#bd3786"
             ],
             [
              0.5555555555555556,
              "#d8576b"
             ],
             [
              0.6666666666666666,
              "#ed7953"
             ],
             [
              0.7777777777777778,
              "#fb9f3a"
             ],
             [
              0.8888888888888888,
              "#fdca26"
             ],
             [
              1,
              "#f0f921"
             ]
            ],
            "type": "heatmap"
           }
          ],
          "heatmapgl": [
           {
            "colorbar": {
             "outlinewidth": 0,
             "ticks": ""
            },
            "colorscale": [
             [
              0,
              "#0d0887"
             ],
             [
              0.1111111111111111,
              "#46039f"
             ],
             [
              0.2222222222222222,
              "#7201a8"
             ],
             [
              0.3333333333333333,
              "#9c179e"
             ],
             [
              0.4444444444444444,
              "#bd3786"
             ],
             [
              0.5555555555555556,
              "#d8576b"
             ],
             [
              0.6666666666666666,
              "#ed7953"
             ],
             [
              0.7777777777777778,
              "#fb9f3a"
             ],
             [
              0.8888888888888888,
              "#fdca26"
             ],
             [
              1,
              "#f0f921"
             ]
            ],
            "type": "heatmapgl"
           }
          ],
          "histogram": [
           {
            "marker": {
             "pattern": {
              "fillmode": "overlay",
              "size": 10,
              "solidity": 0.2
             }
            },
            "type": "histogram"
           }
          ],
          "histogram2d": [
           {
            "colorbar": {
             "outlinewidth": 0,
             "ticks": ""
            },
            "colorscale": [
             [
              0,
              "#0d0887"
             ],
             [
              0.1111111111111111,
              "#46039f"
             ],
             [
              0.2222222222222222,
              "#7201a8"
             ],
             [
              0.3333333333333333,
              "#9c179e"
             ],
             [
              0.4444444444444444,
              "#bd3786"
             ],
             [
              0.5555555555555556,
              "#d8576b"
             ],
             [
              0.6666666666666666,
              "#ed7953"
             ],
             [
              0.7777777777777778,
              "#fb9f3a"
             ],
             [
              0.8888888888888888,
              "#fdca26"
             ],
             [
              1,
              "#f0f921"
             ]
            ],
            "type": "histogram2d"
           }
          ],
          "histogram2dcontour": [
           {
            "colorbar": {
             "outlinewidth": 0,
             "ticks": ""
            },
            "colorscale": [
             [
              0,
              "#0d0887"
             ],
             [
              0.1111111111111111,
              "#46039f"
             ],
             [
              0.2222222222222222,
              "#7201a8"
             ],
             [
              0.3333333333333333,
              "#9c179e"
             ],
             [
              0.4444444444444444,
              "#bd3786"
             ],
             [
              0.5555555555555556,
              "#d8576b"
             ],
             [
              0.6666666666666666,
              "#ed7953"
             ],
             [
              0.7777777777777778,
              "#fb9f3a"
             ],
             [
              0.8888888888888888,
              "#fdca26"
             ],
             [
              1,
              "#f0f921"
             ]
            ],
            "type": "histogram2dcontour"
           }
          ],
          "mesh3d": [
           {
            "colorbar": {
             "outlinewidth": 0,
             "ticks": ""
            },
            "type": "mesh3d"
           }
          ],
          "parcoords": [
           {
            "line": {
             "colorbar": {
              "outlinewidth": 0,
              "ticks": ""
             }
            },
            "type": "parcoords"
           }
          ],
          "pie": [
           {
            "automargin": true,
            "type": "pie"
           }
          ],
          "scatter": [
           {
            "fillpattern": {
             "fillmode": "overlay",
             "size": 10,
             "solidity": 0.2
            },
            "type": "scatter"
           }
          ],
          "scatter3d": [
           {
            "line": {
             "colorbar": {
              "outlinewidth": 0,
              "ticks": ""
             }
            },
            "marker": {
             "colorbar": {
              "outlinewidth": 0,
              "ticks": ""
             }
            },
            "type": "scatter3d"
           }
          ],
          "scattercarpet": [
           {
            "marker": {
             "colorbar": {
              "outlinewidth": 0,
              "ticks": ""
             }
            },
            "type": "scattercarpet"
           }
          ],
          "scattergeo": [
           {
            "marker": {
             "colorbar": {
              "outlinewidth": 0,
              "ticks": ""
             }
            },
            "type": "scattergeo"
           }
          ],
          "scattergl": [
           {
            "marker": {
             "colorbar": {
              "outlinewidth": 0,
              "ticks": ""
             }
            },
            "type": "scattergl"
           }
          ],
          "scattermapbox": [
           {
            "marker": {
             "colorbar": {
              "outlinewidth": 0,
              "ticks": ""
             }
            },
            "type": "scattermapbox"
           }
          ],
          "scatterpolar": [
           {
            "marker": {
             "colorbar": {
              "outlinewidth": 0,
              "ticks": ""
             }
            },
            "type": "scatterpolar"
           }
          ],
          "scatterpolargl": [
           {
            "marker": {
             "colorbar": {
              "outlinewidth": 0,
              "ticks": ""
             }
            },
            "type": "scatterpolargl"
           }
          ],
          "scatterternary": [
           {
            "marker": {
             "colorbar": {
              "outlinewidth": 0,
              "ticks": ""
             }
            },
            "type": "scatterternary"
           }
          ],
          "surface": [
           {
            "colorbar": {
             "outlinewidth": 0,
             "ticks": ""
            },
            "colorscale": [
             [
              0,
              "#0d0887"
             ],
             [
              0.1111111111111111,
              "#46039f"
             ],
             [
              0.2222222222222222,
              "#7201a8"
             ],
             [
              0.3333333333333333,
              "#9c179e"
             ],
             [
              0.4444444444444444,
              "#bd3786"
             ],
             [
              0.5555555555555556,
              "#d8576b"
             ],
             [
              0.6666666666666666,
              "#ed7953"
             ],
             [
              0.7777777777777778,
              "#fb9f3a"
             ],
             [
              0.8888888888888888,
              "#fdca26"
             ],
             [
              1,
              "#f0f921"
             ]
            ],
            "type": "surface"
           }
          ],
          "table": [
           {
            "cells": {
             "fill": {
              "color": "#EBF0F8"
             },
             "line": {
              "color": "white"
             }
            },
            "header": {
             "fill": {
              "color": "#C8D4E3"
             },
             "line": {
              "color": "white"
             }
            },
            "type": "table"
           }
          ]
         },
         "layout": {
          "annotationdefaults": {
           "arrowcolor": "#2a3f5f",
           "arrowhead": 0,
           "arrowwidth": 1
          },
          "autotypenumbers": "strict",
          "coloraxis": {
           "colorbar": {
            "outlinewidth": 0,
            "ticks": ""
           }
          },
          "colorscale": {
           "diverging": [
            [
             0,
             "#8e0152"
            ],
            [
             0.1,
             "#c51b7d"
            ],
            [
             0.2,
             "#de77ae"
            ],
            [
             0.3,
             "#f1b6da"
            ],
            [
             0.4,
             "#fde0ef"
            ],
            [
             0.5,
             "#f7f7f7"
            ],
            [
             0.6,
             "#e6f5d0"
            ],
            [
             0.7,
             "#b8e186"
            ],
            [
             0.8,
             "#7fbc41"
            ],
            [
             0.9,
             "#4d9221"
            ],
            [
             1,
             "#276419"
            ]
           ],
           "sequential": [
            [
             0,
             "#0d0887"
            ],
            [
             0.1111111111111111,
             "#46039f"
            ],
            [
             0.2222222222222222,
             "#7201a8"
            ],
            [
             0.3333333333333333,
             "#9c179e"
            ],
            [
             0.4444444444444444,
             "#bd3786"
            ],
            [
             0.5555555555555556,
             "#d8576b"
            ],
            [
             0.6666666666666666,
             "#ed7953"
            ],
            [
             0.7777777777777778,
             "#fb9f3a"
            ],
            [
             0.8888888888888888,
             "#fdca26"
            ],
            [
             1,
             "#f0f921"
            ]
           ],
           "sequentialminus": [
            [
             0,
             "#0d0887"
            ],
            [
             0.1111111111111111,
             "#46039f"
            ],
            [
             0.2222222222222222,
             "#7201a8"
            ],
            [
             0.3333333333333333,
             "#9c179e"
            ],
            [
             0.4444444444444444,
             "#bd3786"
            ],
            [
             0.5555555555555556,
             "#d8576b"
            ],
            [
             0.6666666666666666,
             "#ed7953"
            ],
            [
             0.7777777777777778,
             "#fb9f3a"
            ],
            [
             0.8888888888888888,
             "#fdca26"
            ],
            [
             1,
             "#f0f921"
            ]
           ]
          },
          "colorway": [
           "#636efa",
           "#EF553B",
           "#00cc96",
           "#ab63fa",
           "#FFA15A",
           "#19d3f3",
           "#FF6692",
           "#B6E880",
           "#FF97FF",
           "#FECB52"
          ],
          "font": {
           "color": "#2a3f5f"
          },
          "geo": {
           "bgcolor": "white",
           "lakecolor": "white",
           "landcolor": "#E5ECF6",
           "showlakes": true,
           "showland": true,
           "subunitcolor": "white"
          },
          "hoverlabel": {
           "align": "left"
          },
          "hovermode": "closest",
          "mapbox": {
           "style": "light"
          },
          "paper_bgcolor": "white",
          "plot_bgcolor": "#E5ECF6",
          "polar": {
           "angularaxis": {
            "gridcolor": "white",
            "linecolor": "white",
            "ticks": ""
           },
           "bgcolor": "#E5ECF6",
           "radialaxis": {
            "gridcolor": "white",
            "linecolor": "white",
            "ticks": ""
           }
          },
          "scene": {
           "xaxis": {
            "backgroundcolor": "#E5ECF6",
            "gridcolor": "white",
            "gridwidth": 2,
            "linecolor": "white",
            "showbackground": true,
            "ticks": "",
            "zerolinecolor": "white"
           },
           "yaxis": {
            "backgroundcolor": "#E5ECF6",
            "gridcolor": "white",
            "gridwidth": 2,
            "linecolor": "white",
            "showbackground": true,
            "ticks": "",
            "zerolinecolor": "white"
           },
           "zaxis": {
            "backgroundcolor": "#E5ECF6",
            "gridcolor": "white",
            "gridwidth": 2,
            "linecolor": "white",
            "showbackground": true,
            "ticks": "",
            "zerolinecolor": "white"
           }
          },
          "shapedefaults": {
           "line": {
            "color": "#2a3f5f"
           }
          },
          "ternary": {
           "aaxis": {
            "gridcolor": "white",
            "linecolor": "white",
            "ticks": ""
           },
           "baxis": {
            "gridcolor": "white",
            "linecolor": "white",
            "ticks": ""
           },
           "bgcolor": "#E5ECF6",
           "caxis": {
            "gridcolor": "white",
            "linecolor": "white",
            "ticks": ""
           }
          },
          "title": {
           "x": 0.05
          },
          "xaxis": {
           "automargin": true,
           "gridcolor": "white",
           "linecolor": "white",
           "ticks": "",
           "title": {
            "standoff": 15
           },
           "zerolinecolor": "white",
           "zerolinewidth": 2
          },
          "yaxis": {
           "automargin": true,
           "gridcolor": "white",
           "linecolor": "white",
           "ticks": "",
           "title": {
            "standoff": 15
           },
           "zerolinecolor": "white",
           "zerolinewidth": 2
          }
         }
        },
        "title": {
         "text": "Sample estimation on a given population size\n(confidence = 0.95, measurement error = 0.05)"
        },
        "width": 1000,
        "xaxis": {
         "anchor": "y",
         "domain": [
          0,
          1
         ],
         "rangeslider": {
          "visible": true
         },
         "title": {
          "text": "Pop_size"
         },
         "type": "log"
        },
        "yaxis": {
         "anchor": "x",
         "domain": [
          0,
          1
         ],
         "title": {
          "text": "value"
         }
        }
       }
      }
     },
     "metadata": {},
     "output_type": "display_data"
    }
   ],
   "source": [
    "fig = px.line(df_pop, x='Pop_size', y = ['sample_N_p0.5','sample_N_p0.7','sample_N_p0.9','sample_N_p0.95'], \n",
    "    title = f\"Sample estimation on a given population size\\n(confidence = {confidence}, measurement error = {Delta})\",\n",
    "    log_x=True, width=1000, height=800)\n",
    "fig.update_xaxes(rangeslider_visible = True)\n",
    "fig.show()"
   ]
  },
  {
   "cell_type": "code",
   "execution_count": 347,
   "metadata": {},
   "outputs": [
    {
     "name": "stdout",
     "output_type": "stream",
     "text": [
      "0.065\n"
     ]
    }
   ],
   "source": [
    "t_value = -2\n",
    "n = 15\n",
    "df = n - 1\n",
    "\n",
    "p = 2 * (1 - st.t.cdf(abs(t_value), df))\n",
    "\n",
    "print(round(p, 3))"
   ]
  }
 ],
 "metadata": {
  "kernelspec": {
   "display_name": "base",
   "language": "python",
   "name": "python3"
  },
  "language_info": {
   "codemirror_mode": {
    "name": "ipython",
    "version": 3
   },
   "file_extension": ".py",
   "mimetype": "text/x-python",
   "name": "python",
   "nbconvert_exporter": "python",
   "pygments_lexer": "ipython3",
   "version": "3.10.8 (main, Nov 24 2022, 08:09:04) [Clang 14.0.6 ]"
  },
  "vscode": {
   "interpreter": {
    "hash": "3f0fc0265faf3f010b6ea13d4d06fa8f6d9bd8f9a0a69886dc52220c62e8c74f"
   }
  }
 },
 "nbformat": 4,
 "nbformat_minor": 4
}
