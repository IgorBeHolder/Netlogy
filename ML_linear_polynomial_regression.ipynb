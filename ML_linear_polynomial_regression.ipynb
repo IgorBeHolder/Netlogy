{
  "cells": [
    {
      "cell_type": "markdown",
      "metadata": {
        "id": "l-bD5Y7jW_bI"
      },
      "source": [
        "https://bit.ly/FEML-1-REGR"
      ]
    },
    {
      "cell_type": "markdown",
      "metadata": {
        "id": "ykZ5kIIhW1Lb"
      },
      "source": [
        "## <b>Регрессионный анализ. Линейная,  полиномиальная регрессия.</b>\n",
        "<p style=\"align: center;\"><img align=center src=\"https://netology.ru/backend/tilda/images/tild3439-3364-4535-b334-656263633534__main.svg\"  width=900></p>\n"
      ]
    },
    {
      "cell_type": "markdown",
      "metadata": {
        "id": "7RmWa_DBW1Lc"
      },
      "source": [
        "<p style=\"align: center;\"><img align=center src=\"https://sun9-3.userapi.com/impg/rMxsV1l3x_NgXZnO2BR_Z_vQ5CMfAysGMkpVrg/5vII3kSwywk.jpg?size=1233x403&quality=96&proxy=1&sign=607ece16ae211ad91d8c9a1ba285c822&type=album\"  width=900></p>\n",
        "<div class=\"alert alert-info\">\n",
        "    <h2>Некоторые важные определения</h2>\n",
        "<ul>\n",
        " <li><b>Классификация</b> - задача о разделении классов, по заданному набору признаков.</li>\n",
        " <li><b>Регрессия</b> - задача о предсказывании конкретного значения, но основе заданных параметров.</li>\n",
        " <li><b>Кластеризация</b>  - задача об объединении объектов в группы по каким-то уникальным общим свойствам/на основе каких-то закономерностях данных.</li>\n",
        "\n",
        "</ul>\n",
        "</div>"
      ]
    },
    {
      "cell_type": "markdown",
      "metadata": {
        "id": "QY0YBYBAW1Ld"
      },
      "source": [
        "<h1><u>План урока</u></h1>\n",
        "\n",
        "<p><font size=\"3\" face=\"Arial\">\n",
        "<ul type=\"square\"><li><a href=\"#1\">Линейная регрессия.</a><ul><li><a href=\"#2\">Метод максимального правдоподобия.</a></li><li><a href=\"#3\">Практика. Регрессия \"из коробки\".</a></li></ul>\n",
        "    <li><a href=\"#4\">Полиномиальная регрессия.</a><ul></li><li><a href=\"#5\">Практика на собственном датасете.</a></li></ul></font></p>"
      ]
    },
    {
      "cell_type": "markdown",
      "metadata": {
        "id": "iWRXNe8nW1Ld"
      },
      "source": [
        "### Линейная регрессия\n",
        "<p id=\"1\">Сегодня мы детально обсудим очень важный класс моделей машинного обучения – линейных. На данный момент развития машинного обучения и искусственного интелекта в целом можно строить довольно сложные модели, нейросети, но практически везде в основе лежат линейные модели. Они имеют большое кол-во преимуществ, например, такие как относительная простота вычислений и интепретация результатов, эффективность для описания многих процессов. Линейные модели используются в прогнозе цен, построении вероятностных моделей в кредитном скоринге, трейдинге, и т.д. </p>\n",
        "\n",
        "Линейные модели описываются довольно простым линейным уравнением, где $y$ - целевая переменная, $w$ - вектор весов модели, $X$ - матрица наблюдений,  а $e$ - ошибка.$$y_i = \\sum\\limits^{m}_{j=1}w_j X_{ij} + e_i$$\n",
        "\n",
        "\n",
        "<p style=\"align: center;\"><img align=center src=\"https://wiki.loginom.ru/images/linear-regression.svg\"  width=900></p>"
      ]
    },
    {
      "attachments": {},
      "cell_type": "markdown",
      "metadata": {
        "id": "kOg4_I1TW1Le"
      },
      "source": [
        "#### Метод максимального правдоподобия\n",
        "Если процесс описывается с помощью линеной модели, то необходимо определить параметры $\\alpha$ модели, для максимально эффективной точности. На языке математики это означает, что нужно задать вероятность $p(y|x,\\alpha)$ того, что модель с параметрами $\\alpha$ и входными данными $x$ будет максимальной.</p>\n",
        "Введем функцию правдоподобия, от которой нужно потребовать, чтобы произведение вероятностей по всем возможным $x$ с параметрами $\\alpha$ было максимально.\n",
        "$$W(\\alpha) = \\prod\\limits_{i}p(x_i, \\alpha)$$\n",
        "Тогда прологарифмировав выражение, получаем функцию масимального правдоподобия. $$L(\\alpha) = \\sum\\limits_i \\log p(x_i,\\alpha)$$\n",
        "Чтобы максимизировать $L(\\alpha)$ необходимо минимизировать среднеквадратичную ошибку между прогнозируемыми и фактическими значениями.\n",
        "Подробное док-во и доп. информацию, можно почитать <a href=\"https://habr.com/ru/company/ods/blog/323890/#metod-maksimalnogo-pravdopodobiya\">здесь</a>."
      ]
    },
    {
      "cell_type": "markdown",
      "metadata": {
        "id": "a6nCTdPlW1Lf"
      },
      "source": [
        "<div class=\"alert alert-info\"><i>В каких случаях мы можем использовать линейную регресию? Какие данные мы можем использовать?</i>\n",
        "\n",
        "Требования к данным.\n",
        "<ol><li>Линейная зависимость целевой переменной</li><li>Нормальное распределение остатков</li><li>Постоянная изменчивость остатков. Гомоскедастиность.</li></ol>\n",
        "\n",
        "</div>"
      ]
    },
    {
      "attachments": {},
      "cell_type": "markdown",
      "metadata": {
        "id": "Ip0ZlK0SW1Lf"
      },
      "source": [
        "<ol><b><li><b>Линейная зависимость целевой переменной</b></li></b> Линейная модель не сможет описывать сложные кривые и нелинейные данные. Должно быть хотя бы подозрение на линейность модели.<p style=\"align: center;\"><img align=center src=\"https://sun9-35.userapi.com/impg/hP4Ue_r14n4_zs8d0UKA7LpZx74vPQDJy9Igqg/ve5O14Ggors.jpg?size=885x305&quality=96&proxy=1&sign=de7b6f1424868593e0970a3887ea4660&type=album\"  width=900></p>\n",
        "<b><li>Нормальное распределение остатков</li></b> Величины остатков, должны быть близки к нормальному распределению. Иначе, наша модель будет делать предсказание со смещением.<p style=\"align: center;\"><img align=center src=\"https://sun9-7.userapi.com/impg/g-SaD6uQxQWVwJAXUC1RaH_NwOxIw0o0cpoD3Q/iMp5_Nqc82U.jpg?size=1207x400&quality=96&proxy=1&sign=865580edacb008724e7bc9d0c388a12d&type=album\"  width=900></p><p style=\"align: center;\"></p>\n",
        "<b><li>Постоянная изменчивость остатков. Гомоскедастиность.</li></b>Если у данных есть четко выраженная постоянная изменичивость остатков на каком-то отрезке и нет случайности нормального распределения, то такие данные не будут эффективно описаны линейной регрессией. Пример гетероскедастичной последовательности:<p style=\"align: center;\"><img align=center src=\"https://sun9-63.userapi.com/impg/W0twTR05RqqKhI1XjSm0dbgca0xSN2EnYZuQWQ/b1vaIVmtPEc.jpg?size=1207x400&quality=96&proxy=1&sign=3d6565dcf115e6c67a440ba0b7a6294f&type=album\"  width=900></p><p style=\"align: center;\"><img align=center src=\"https://sun9-50.userapi.com/impg/cwkPmjSk4m7SuvcJ-Ak6M-uKKlduPMOpjq3xUQ/z84UDGD2-l0.jpg?size=1207x280&quality=96&proxy=1&sign=0bf8df49169982f351ad37df7a9c5bd8&type=album\"  width=900></p></ol>"
      ]
    },
    {
      "cell_type": "markdown",
      "metadata": {
        "id": "oztIIIR_W1Lg"
      },
      "source": [
        "### Практика. Регрессия \"из коробки\".\n",
        "<p id=\"3\">Посмотрим линейные модели на практике. Будем решать задачу предсказания цены автомобиля, в зависимости от признаков.</p>"
      ]
    },
    {
      "cell_type": "code",
      "execution_count": 1,
      "metadata": {
        "id": "EHZa6o_qW1LR"
      },
      "outputs": [],
      "source": [
        "import numpy as np\n",
        "import operator\n",
        "import pandas as pd # Для работы с данными\n",
        "import matplotlib.pyplot as plt  # Библиотека для визуализации результатов"
      ]
    },
    {
      "cell_type": "code",
      "execution_count": 2,
      "metadata": {
        "id": "qlEjVLBEW1Lg"
      },
      "outputs": [],
      "source": [
        "from sklearn.linear_model import LinearRegression # линейная регрессия"
      ]
    },
    {
      "cell_type": "code",
      "execution_count": 3,
      "metadata": {
        "colab": {
          "base_uri": "https://localhost:8080/",
          "height": 206
        },
        "id": "Hws7ATlnW1Lh",
        "outputId": "2fcb1676-8d1a-4732-e932-d6f4a94c9007"
      },
      "outputs": [
        {
          "data": {
            "text/html": [
              "<div>\n",
              "<style scoped>\n",
              "    .dataframe tbody tr th:only-of-type {\n",
              "        vertical-align: middle;\n",
              "    }\n",
              "\n",
              "    .dataframe tbody tr th {\n",
              "        vertical-align: top;\n",
              "    }\n",
              "\n",
              "    .dataframe thead th {\n",
              "        text-align: right;\n",
              "    }\n",
              "</style>\n",
              "<table border=\"1\" class=\"dataframe\">\n",
              "  <thead>\n",
              "    <tr style=\"text-align: right;\">\n",
              "      <th></th>\n",
              "      <th>Price</th>\n",
              "      <th>Mileage</th>\n",
              "      <th>Make</th>\n",
              "      <th>Model</th>\n",
              "      <th>Trim</th>\n",
              "      <th>Type</th>\n",
              "      <th>Cylinder</th>\n",
              "      <th>Liter</th>\n",
              "      <th>Doors</th>\n",
              "      <th>Cruise</th>\n",
              "      <th>Sound</th>\n",
              "      <th>Leather</th>\n",
              "    </tr>\n",
              "  </thead>\n",
              "  <tbody>\n",
              "    <tr>\n",
              "      <th>0</th>\n",
              "      <td>17314.103129</td>\n",
              "      <td>8221</td>\n",
              "      <td>Buick</td>\n",
              "      <td>Century</td>\n",
              "      <td>Sedan 4D</td>\n",
              "      <td>Sedan</td>\n",
              "      <td>6</td>\n",
              "      <td>3.1</td>\n",
              "      <td>4</td>\n",
              "      <td>1</td>\n",
              "      <td>1</td>\n",
              "      <td>1</td>\n",
              "    </tr>\n",
              "    <tr>\n",
              "      <th>1</th>\n",
              "      <td>17542.036083</td>\n",
              "      <td>9135</td>\n",
              "      <td>Buick</td>\n",
              "      <td>Century</td>\n",
              "      <td>Sedan 4D</td>\n",
              "      <td>Sedan</td>\n",
              "      <td>6</td>\n",
              "      <td>3.1</td>\n",
              "      <td>4</td>\n",
              "      <td>1</td>\n",
              "      <td>1</td>\n",
              "      <td>0</td>\n",
              "    </tr>\n",
              "    <tr>\n",
              "      <th>2</th>\n",
              "      <td>16218.847862</td>\n",
              "      <td>13196</td>\n",
              "      <td>Buick</td>\n",
              "      <td>Century</td>\n",
              "      <td>Sedan 4D</td>\n",
              "      <td>Sedan</td>\n",
              "      <td>6</td>\n",
              "      <td>3.1</td>\n",
              "      <td>4</td>\n",
              "      <td>1</td>\n",
              "      <td>1</td>\n",
              "      <td>0</td>\n",
              "    </tr>\n",
              "    <tr>\n",
              "      <th>3</th>\n",
              "      <td>16336.913140</td>\n",
              "      <td>16342</td>\n",
              "      <td>Buick</td>\n",
              "      <td>Century</td>\n",
              "      <td>Sedan 4D</td>\n",
              "      <td>Sedan</td>\n",
              "      <td>6</td>\n",
              "      <td>3.1</td>\n",
              "      <td>4</td>\n",
              "      <td>1</td>\n",
              "      <td>0</td>\n",
              "      <td>0</td>\n",
              "    </tr>\n",
              "    <tr>\n",
              "      <th>4</th>\n",
              "      <td>16339.170324</td>\n",
              "      <td>19832</td>\n",
              "      <td>Buick</td>\n",
              "      <td>Century</td>\n",
              "      <td>Sedan 4D</td>\n",
              "      <td>Sedan</td>\n",
              "      <td>6</td>\n",
              "      <td>3.1</td>\n",
              "      <td>4</td>\n",
              "      <td>1</td>\n",
              "      <td>0</td>\n",
              "      <td>1</td>\n",
              "    </tr>\n",
              "  </tbody>\n",
              "</table>\n",
              "</div>"
            ],
            "text/plain": [
              "          Price  Mileage   Make    Model      Trim   Type  Cylinder  Liter  \\\n",
              "0  17314.103129     8221  Buick  Century  Sedan 4D  Sedan         6    3.1   \n",
              "1  17542.036083     9135  Buick  Century  Sedan 4D  Sedan         6    3.1   \n",
              "2  16218.847862    13196  Buick  Century  Sedan 4D  Sedan         6    3.1   \n",
              "3  16336.913140    16342  Buick  Century  Sedan 4D  Sedan         6    3.1   \n",
              "4  16339.170324    19832  Buick  Century  Sedan 4D  Sedan         6    3.1   \n",
              "\n",
              "   Doors  Cruise  Sound  Leather  \n",
              "0      4       1      1        1  \n",
              "1      4       1      1        0  \n",
              "2      4       1      1        0  \n",
              "3      4       1      0        0  \n",
              "4      4       1      0        1  "
            ]
          },
          "execution_count": 3,
          "metadata": {},
          "output_type": "execute_result"
        }
      ],
      "source": [
        "#data = pd.read_csv('https://raw.githubusercontent.com/ahartz1/car-linear-regression/master/car_data.csv', delimiter = ',')\n",
        "data = pd.read_csv('/Users/velo1/SynologyDrive/GIT_syno/Data/car_data.csv', delimiter = ',')\n",
        "\n",
        "data.head()"
      ]
    },
    {
      "cell_type": "code",
      "execution_count": 5,
      "metadata": {},
      "outputs": [],
      "source": [
        "# save data locally\n",
        "#data.to_csv(\"/Users/velo1/SynologyDrive/GIT_syno/Data/car_data.csv\", index = False) # False - to avoid new index column"
      ]
    },
    {
      "cell_type": "code",
      "execution_count": 4,
      "metadata": {
        "colab": {
          "base_uri": "https://localhost:8080/"
        },
        "id": "4ea0q8Vv9IJP",
        "outputId": "2fc6ba05-7a58-4271-b6ba-84f56989a68a"
      },
      "outputs": [
        {
          "data": {
            "text/plain": [
              "(804, 12)"
            ]
          },
          "execution_count": 4,
          "metadata": {},
          "output_type": "execute_result"
        }
      ],
      "source": [
        "data.shape"
      ]
    },
    {
      "cell_type": "markdown",
      "metadata": {
        "id": "B787kABYW1Li"
      },
      "source": [
        "<p>Самое простое предположение. Цена автомобиля зависит от пробега.</p>"
      ]
    },
    {
      "cell_type": "code",
      "execution_count": 76,
      "metadata": {
        "id": "D6MhiMPvW1Li"
      },
      "outputs": [],
      "source": [
        "X = data[['Mileage']] # пробег\n",
        "# Y = data['Price']  # as pd.Series\n",
        "Y = data.loc[:, ['Price']]  # as pd.DataFrame"
      ]
    },
    {
      "cell_type": "code",
      "execution_count": 78,
      "metadata": {
        "colab": {
          "base_uri": "https://localhost:8080/"
        },
        "id": "n6EqLXa6W1Lj",
        "outputId": "7a50e3e9-d8a4-4838-cba0-f5c94c963e21"
      },
      "outputs": [
        {
          "data": {
            "text/plain": [
              "LinearRegression()"
            ]
          },
          "execution_count": 78,
          "metadata": {},
          "output_type": "execute_result"
        }
      ],
      "source": [
        "model = LinearRegression()\n",
        "model.fit(X, Y) # метод фит - метод обучения модели"
      ]
    },
    {
      "cell_type": "code",
      "execution_count": 79,
      "metadata": {
        "colab": {
          "base_uri": "https://localhost:8080/"
        },
        "id": "XcsquVGh9TS8",
        "outputId": "4933f6f9-b532-45be-a473-4f88c5748efa"
      },
      "outputs": [
        {
          "data": {
            "text/plain": [
              "array([[-0.1725205]])"
            ]
          },
          "execution_count": 79,
          "metadata": {},
          "output_type": "execute_result"
        }
      ],
      "source": [
        "model.coef_"
      ]
    },
    {
      "cell_type": "code",
      "execution_count": 80,
      "metadata": {
        "colab": {
          "base_uri": "https://localhost:8080/"
        },
        "id": "wv_dQ2wA_y75",
        "outputId": "a6264db7-267c-4871-f50f-5420f64c9929"
      },
      "outputs": [
        {
          "data": {
            "text/plain": [
              "array([24764.55900606])"
            ]
          },
          "execution_count": 80,
          "metadata": {},
          "output_type": "execute_result"
        }
      ],
      "source": [
        "model.intercept_"
      ]
    },
    {
      "cell_type": "code",
      "execution_count": 81,
      "metadata": {
        "id": "41ifDrOjW1Lj"
      },
      "outputs": [],
      "source": [
        "y_predict = model.predict(X) # получаем предсказанное значение"
      ]
    },
    {
      "cell_type": "code",
      "execution_count": 82,
      "metadata": {
        "colab": {
          "base_uri": "https://localhost:8080/",
          "height": 206
        },
        "id": "KB5aTMH79MCO",
        "outputId": "14a7745c-e027-4b04-c4a3-3e488a95fcb1"
      },
      "outputs": [
        {
          "data": {
            "text/html": [
              "<div>\n",
              "<style scoped>\n",
              "    .dataframe tbody tr th:only-of-type {\n",
              "        vertical-align: middle;\n",
              "    }\n",
              "\n",
              "    .dataframe tbody tr th {\n",
              "        vertical-align: top;\n",
              "    }\n",
              "\n",
              "    .dataframe thead th {\n",
              "        text-align: right;\n",
              "    }\n",
              "</style>\n",
              "<table border=\"1\" class=\"dataframe\">\n",
              "  <thead>\n",
              "    <tr style=\"text-align: right;\">\n",
              "      <th></th>\n",
              "      <th>Price</th>\n",
              "    </tr>\n",
              "  </thead>\n",
              "  <tbody>\n",
              "    <tr>\n",
              "      <th>0</th>\n",
              "      <td>17314.103129</td>\n",
              "    </tr>\n",
              "    <tr>\n",
              "      <th>1</th>\n",
              "      <td>17542.036083</td>\n",
              "    </tr>\n",
              "    <tr>\n",
              "      <th>2</th>\n",
              "      <td>16218.847862</td>\n",
              "    </tr>\n",
              "    <tr>\n",
              "      <th>3</th>\n",
              "      <td>16336.913140</td>\n",
              "    </tr>\n",
              "    <tr>\n",
              "      <th>4</th>\n",
              "      <td>16339.170324</td>\n",
              "    </tr>\n",
              "  </tbody>\n",
              "</table>\n",
              "</div>"
            ],
            "text/plain": [
              "          Price\n",
              "0  17314.103129\n",
              "1  17542.036083\n",
              "2  16218.847862\n",
              "3  16336.913140\n",
              "4  16339.170324"
            ]
          },
          "execution_count": 82,
          "metadata": {},
          "output_type": "execute_result"
        }
      ],
      "source": [
        "Y = data.loc[:, ['Price']]\n",
        "Y.head() # предсказываемая цена"
      ]
    },
    {
      "cell_type": "code",
      "execution_count": 83,
      "metadata": {
        "colab": {
          "base_uri": "https://localhost:8080/"
        },
        "id": "W0uiG3H29K25",
        "outputId": "e1483a14-2351-4390-f25e-7a4245aa2842"
      },
      "outputs": [
        {
          "data": {
            "text/plain": [
              "array([[23346.26795261],\n",
              "       [23188.58421306],\n",
              "       [22487.97845123],\n",
              "       [21945.22894945],\n",
              "       [21343.13239471]])"
            ]
          },
          "execution_count": 83,
          "metadata": {},
          "output_type": "execute_result"
        }
      ],
      "source": [
        "y_predict[:5] # first 5 rows of predicted price"
      ]
    },
    {
      "cell_type": "code",
      "execution_count": 84,
      "metadata": {},
      "outputs": [
        {
          "data": {
            "text/plain": [
              "array([[23346.26795261],\n",
              "       [23188.58421306],\n",
              "       [22487.97845123],\n",
              "       [21945.22894945],\n",
              "       [21343.13239471]])"
            ]
          },
          "execution_count": 84,
          "metadata": {},
          "output_type": "execute_result"
        }
      ],
      "source": [
        "# the same predicted prices by hand\n",
        "X.iloc[0:5].values * model.coef_ + model.intercept_"
      ]
    },
    {
      "cell_type": "code",
      "execution_count": 86,
      "metadata": {
        "colab": {
          "base_uri": "https://localhost:8080/"
        },
        "id": "JFycnOdj_1Pw",
        "outputId": "15bb01e5-2370-490b-d642-cd8de7b60add"
      },
      "outputs": [
        {
          "data": {
            "text/plain": [
              "23346.267952614824"
            ]
          },
          "execution_count": 86,
          "metadata": {},
          "output_type": "execute_result"
        }
      ],
      "source": [
        "# first row prediction  (sum for future enhancement of multifeature model)\n",
        "np.sum((X.iloc[0].values * model.coef_) + model.intercept_)"
      ]
    },
    {
      "cell_type": "code",
      "execution_count": 101,
      "metadata": {
        "colab": {
          "base_uri": "https://localhost:8080/",
          "height": 537
        },
        "id": "wnTbOrBBW1Lk",
        "outputId": "b1575401-4b59-4ab6-fb81-2263b908ffcf"
      },
      "outputs": [
        {
          "data": {
            "image/png": "[encoded data removed]",
            "text/plain": [
              "<Figure size 1200x900 with 1 Axes>"
            ]
          },
          "metadata": {},
          "output_type": "display_data"
        }
      ],
      "source": [
        "plt.figure(figsize=(12,9))\n",
        "plt.plot(X, Y, 'o', markersize=1)\n",
        "plt.plot(X, y_predict, 'r.', markersize=1)\n",
        "plt.xlabel(\"Mileage\")\n",
        "plt.ylabel(\"Price\")\n",
        "plt.show()"
      ]
    },
    {
      "cell_type": "markdown",
      "metadata": {
        "id": "wcPY_hOGW1Lk"
      },
      "source": [
        "<p>Несмотря на то, что зависимость от пробега наблюдаема, но она не столь существенна, чтобы эффективно описать данные, как видим на графике. Нужно что-то поумнее.</p>"
      ]
    },
    {
      "cell_type": "code",
      "execution_count": 102,
      "metadata": {
        "colab": {
          "base_uri": "https://localhost:8080/"
        },
        "id": "0Vfbf5xbxPFS",
        "outputId": "f3e7029e-eb57-471d-f896-5f5255593389"
      },
      "outputs": [],
      "source": [
        "# data['Make']"
      ]
    },
    {
      "cell_type": "code",
      "execution_count": 125,
      "metadata": {
        "colab": {
          "base_uri": "https://localhost:8080/",
          "height": 206
        },
        "id": "Z00sxJTiW1Lk",
        "outputId": "dc80e766-f92c-4878-c649-906900ca204b"
      },
      "outputs": [
        {
          "data": {
            "text/html": [
              "<div>\n",
              "<style scoped>\n",
              "    .dataframe tbody tr th:only-of-type {\n",
              "        vertical-align: middle;\n",
              "    }\n",
              "\n",
              "    .dataframe tbody tr th {\n",
              "        vertical-align: top;\n",
              "    }\n",
              "\n",
              "    .dataframe thead th {\n",
              "        text-align: right;\n",
              "    }\n",
              "</style>\n",
              "<table border=\"1\" class=\"dataframe\">\n",
              "  <thead>\n",
              "    <tr style=\"text-align: right;\">\n",
              "      <th></th>\n",
              "      <th>Mileage</th>\n",
              "      <th>Liter</th>\n",
              "      <th>Make_Buick</th>\n",
              "      <th>Make_Cadillac</th>\n",
              "      <th>Make_Chevrolet</th>\n",
              "      <th>Make_Pontiac</th>\n",
              "      <th>Make_SAAB</th>\n",
              "      <th>Make_Saturn</th>\n",
              "    </tr>\n",
              "  </thead>\n",
              "  <tbody>\n",
              "    <tr>\n",
              "      <th>799</th>\n",
              "      <td>16229</td>\n",
              "      <td>3.0</td>\n",
              "      <td>0</td>\n",
              "      <td>0</td>\n",
              "      <td>0</td>\n",
              "      <td>0</td>\n",
              "      <td>0</td>\n",
              "      <td>1</td>\n",
              "    </tr>\n",
              "    <tr>\n",
              "      <th>800</th>\n",
              "      <td>19095</td>\n",
              "      <td>3.0</td>\n",
              "      <td>0</td>\n",
              "      <td>0</td>\n",
              "      <td>0</td>\n",
              "      <td>0</td>\n",
              "      <td>0</td>\n",
              "      <td>1</td>\n",
              "    </tr>\n",
              "    <tr>\n",
              "      <th>801</th>\n",
              "      <td>20484</td>\n",
              "      <td>3.0</td>\n",
              "      <td>0</td>\n",
              "      <td>0</td>\n",
              "      <td>0</td>\n",
              "      <td>0</td>\n",
              "      <td>0</td>\n",
              "      <td>1</td>\n",
              "    </tr>\n",
              "    <tr>\n",
              "      <th>802</th>\n",
              "      <td>25979</td>\n",
              "      <td>3.0</td>\n",
              "      <td>0</td>\n",
              "      <td>0</td>\n",
              "      <td>0</td>\n",
              "      <td>0</td>\n",
              "      <td>0</td>\n",
              "      <td>1</td>\n",
              "    </tr>\n",
              "    <tr>\n",
              "      <th>803</th>\n",
              "      <td>35662</td>\n",
              "      <td>3.0</td>\n",
              "      <td>0</td>\n",
              "      <td>0</td>\n",
              "      <td>0</td>\n",
              "      <td>0</td>\n",
              "      <td>0</td>\n",
              "      <td>1</td>\n",
              "    </tr>\n",
              "  </tbody>\n",
              "</table>\n",
              "</div>"
            ],
            "text/plain": [
              "     Mileage  Liter  Make_Buick  Make_Cadillac  Make_Chevrolet  Make_Pontiac  \\\n",
              "799    16229    3.0           0              0               0             0   \n",
              "800    19095    3.0           0              0               0             0   \n",
              "801    20484    3.0           0              0               0             0   \n",
              "802    25979    3.0           0              0               0             0   \n",
              "803    35662    3.0           0              0               0             0   \n",
              "\n",
              "     Make_SAAB  Make_Saturn  \n",
              "799          0            1  \n",
              "800          0            1  \n",
              "801          0            1  \n",
              "802          0            1  \n",
              "803          0            1  "
            ]
          },
          "execution_count": 125,
          "metadata": {},
          "output_type": "execute_result"
        }
      ],
      "source": [
        "# будем использовать набор данных, а не только пробег\n",
        "X = pd.get_dummies(data.loc[:, ['Mileage', 'Liter', \"Make\"]], drop_first= False)\n",
        "X.tail()"
      ]
    },
    {
      "cell_type": "code",
      "execution_count": 126,
      "metadata": {
        "colab": {
          "base_uri": "https://localhost:8080/",
          "height": 206
        },
        "id": "62taRMGEW1Ll",
        "outputId": "d93195b6-abb3-49ac-85f0-bf7045992c5b"
      },
      "outputs": [
        {
          "data": {
            "text/html": [
              "<div>\n",
              "<style scoped>\n",
              "    .dataframe tbody tr th:only-of-type {\n",
              "        vertical-align: middle;\n",
              "    }\n",
              "\n",
              "    .dataframe tbody tr th {\n",
              "        vertical-align: top;\n",
              "    }\n",
              "\n",
              "    .dataframe thead th {\n",
              "        text-align: right;\n",
              "    }\n",
              "</style>\n",
              "<table border=\"1\" class=\"dataframe\">\n",
              "  <thead>\n",
              "    <tr style=\"text-align: right;\">\n",
              "      <th></th>\n",
              "      <th>Price</th>\n",
              "    </tr>\n",
              "  </thead>\n",
              "  <tbody>\n",
              "    <tr>\n",
              "      <th>0</th>\n",
              "      <td>17314.103129</td>\n",
              "    </tr>\n",
              "    <tr>\n",
              "      <th>1</th>\n",
              "      <td>17542.036083</td>\n",
              "    </tr>\n",
              "    <tr>\n",
              "      <th>2</th>\n",
              "      <td>16218.847862</td>\n",
              "    </tr>\n",
              "    <tr>\n",
              "      <th>3</th>\n",
              "      <td>16336.913140</td>\n",
              "    </tr>\n",
              "    <tr>\n",
              "      <th>4</th>\n",
              "      <td>16339.170324</td>\n",
              "    </tr>\n",
              "  </tbody>\n",
              "</table>\n",
              "</div>"
            ],
            "text/plain": [
              "          Price\n",
              "0  17314.103129\n",
              "1  17542.036083\n",
              "2  16218.847862\n",
              "3  16336.913140\n",
              "4  16339.170324"
            ]
          },
          "execution_count": 126,
          "metadata": {},
          "output_type": "execute_result"
        }
      ],
      "source": [
        "Y = data.loc[:, ['Price']]\n",
        "Y.head() # предсказываемая цена"
      ]
    },
    {
      "cell_type": "code",
      "execution_count": 127,
      "metadata": {
        "id": "9RtlOscBW1Ll"
      },
      "outputs": [],
      "source": [
        "model.fit(X, Y)\n",
        "y_predict = model.predict(X) # обучаем регрессию"
      ]
    },
    {
      "cell_type": "code",
      "execution_count": 128,
      "metadata": {
        "colab": {
          "base_uri": "https://localhost:8080/"
        },
        "id": "j_0vA8SzADpn",
        "outputId": "5d02c2d4-fc97-4a0d-a6c9-0002f9ab786b"
      },
      "outputs": [
        {
          "data": {
            "text/plain": [
              "array([[20294.44250557],\n",
              "       [20131.65686471],\n",
              "       [19408.3828083 ],\n",
              "       [18848.07249522],\n",
              "       [18226.49493874]])"
            ]
          },
          "execution_count": 128,
          "metadata": {},
          "output_type": "execute_result"
        }
      ],
      "source": [
        "y_predict[:5]"
      ]
    },
    {
      "cell_type": "code",
      "execution_count": 129,
      "metadata": {
        "colab": {
          "base_uri": "https://localhost:8080/"
        },
        "id": "GZuAi4hmxUnF",
        "outputId": "2ca8e0c9-3840-40e9-a5a3-720f60353d45"
      },
      "outputs": [
        {
          "data": {
            "text/plain": [
              "array([[-1.78102452e-01,  4.79073034e+03, -5.05523389e+03,\n",
              "         1.13220748e+04, -5.77769259e+03, -5.91884538e+03,\n",
              "         1.09700059e+04, -5.54030890e+03]])"
            ]
          },
          "execution_count": 129,
          "metadata": {},
          "output_type": "execute_result"
        }
      ],
      "source": [
        "model.coef_"
      ]
    },
    {
      "cell_type": "code",
      "execution_count": 130,
      "metadata": {
        "colab": {
          "base_uri": "https://localhost:8080/"
        },
        "id": "Dh4SIyM5xXFL",
        "outputId": "86454b52-5b2f-4625-acd8-d7a3be5c1a79"
      },
      "outputs": [
        {
          "data": {
            "text/plain": [
              "array([11962.59259628])"
            ]
          },
          "execution_count": 130,
          "metadata": {},
          "output_type": "execute_result"
        }
      ],
      "source": [
        "model.intercept_"
      ]
    },
    {
      "cell_type": "code",
      "execution_count": 131,
      "metadata": {
        "colab": {
          "base_uri": "https://localhost:8080/"
        },
        "id": "pZa_yNwBxfJ8",
        "outputId": "e11f83e6-8e99-4c5a-db93-80b0fd040edd"
      },
      "outputs": [
        {
          "data": {
            "text/plain": [
              "array([20294.44250557])"
            ]
          },
          "execution_count": 131,
          "metadata": {},
          "output_type": "execute_result"
        }
      ],
      "source": [
        "# first row prediction \n",
        "np.sum(X.iloc[0].values * model.coef_) + model.intercept_"
      ]
    },
    {
      "cell_type": "code",
      "execution_count": 140,
      "metadata": {
        "colab": {
          "base_uri": "https://localhost:8080/",
          "height": 424
        },
        "id": "JIxFQt1OMa-5",
        "outputId": "2bbcf784-704a-490a-c072-853fe15a877d"
      },
      "outputs": [],
      "source": [
        "# X = X[['Mileage', 'Liter']]\n",
        "# X"
      ]
    },
    {
      "cell_type": "markdown",
      "metadata": {
        "id": "9mktCn6CW1Lm"
      },
      "source": [
        "<p>Попробуем нарисовать как расходится факт с предсказаниями.</p>"
      ]
    },
    {
      "cell_type": "code",
      "execution_count": 132,
      "metadata": {},
      "outputs": [
        {
          "data": {
            "text/plain": [
              "RangeIndex(start=0, stop=804, step=1)"
            ]
          },
          "execution_count": 132,
          "metadata": {},
          "output_type": "execute_result"
        }
      ],
      "source": [
        "Y.index"
      ]
    },
    {
      "cell_type": "code",
      "execution_count": 147,
      "metadata": {
        "colab": {
          "base_uri": "https://localhost:8080/",
          "height": 537
        },
        "id": "Cl_u6j9HW1Lm",
        "outputId": "e25b5448-b7e5-4272-ca1d-41d39005b1f1"
      },
      "outputs": [
        {
          "data": {
            "image/png": "[encoded data removed]",
            "text/plain": [
              "<Figure size 1200x900 with 1 Axes>"
            ]
          },
          "metadata": {},
          "output_type": "display_data"
        }
      ],
      "source": [
        "plt.figure(figsize=(12,9))\n",
        "plt.plot(Y.index, Y, 'o', markersize = 1)\n",
        "plt.plot(Y.index, y_predict, 'r^', markersize = 1)\n",
        "plt.xlabel(\"Observation INDEX\")\n",
        "plt.ylabel(\"Price\")\n",
        "plt.legend([\"Actual\",\"Predicted\"])\n",
        "plt.show() # видим как цена действительно накладывается на истину"
      ]
    },
    {
      "attachments": {},
      "cell_type": "markdown",
      "metadata": {},
      "source": [
        "X is sorted by Car Maker, so we observe clusters by Car Makers.\n",
        "The second cluster (80< index <159 ) is pricier than other. It's Cadillac"
      ]
    },
    {
      "cell_type": "code",
      "execution_count": 148,
      "metadata": {},
      "outputs": [
        {
          "data": {
            "text/html": [
              "<div>\n",
              "<style scoped>\n",
              "    .dataframe tbody tr th:only-of-type {\n",
              "        vertical-align: middle;\n",
              "    }\n",
              "\n",
              "    .dataframe tbody tr th {\n",
              "        vertical-align: top;\n",
              "    }\n",
              "\n",
              "    .dataframe thead th {\n",
              "        text-align: right;\n",
              "    }\n",
              "</style>\n",
              "<table border=\"1\" class=\"dataframe\">\n",
              "  <thead>\n",
              "    <tr style=\"text-align: right;\">\n",
              "      <th></th>\n",
              "      <th>Mileage</th>\n",
              "      <th>Liter</th>\n",
              "      <th>Make_Buick</th>\n",
              "      <th>Make_Cadillac</th>\n",
              "      <th>Make_Chevrolet</th>\n",
              "      <th>Make_Pontiac</th>\n",
              "      <th>Make_SAAB</th>\n",
              "      <th>Make_Saturn</th>\n",
              "    </tr>\n",
              "  </thead>\n",
              "  <tbody>\n",
              "    <tr>\n",
              "      <th>78</th>\n",
              "      <td>25869</td>\n",
              "      <td>3.8</td>\n",
              "      <td>1</td>\n",
              "      <td>0</td>\n",
              "      <td>0</td>\n",
              "      <td>0</td>\n",
              "      <td>0</td>\n",
              "      <td>0</td>\n",
              "    </tr>\n",
              "    <tr>\n",
              "      <th>79</th>\n",
              "      <td>37128</td>\n",
              "      <td>3.8</td>\n",
              "      <td>1</td>\n",
              "      <td>0</td>\n",
              "      <td>0</td>\n",
              "      <td>0</td>\n",
              "      <td>0</td>\n",
              "      <td>0</td>\n",
              "    </tr>\n",
              "    <tr>\n",
              "      <th>80</th>\n",
              "      <td>2202</td>\n",
              "      <td>5.7</td>\n",
              "      <td>0</td>\n",
              "      <td>1</td>\n",
              "      <td>0</td>\n",
              "      <td>0</td>\n",
              "      <td>0</td>\n",
              "      <td>0</td>\n",
              "    </tr>\n",
              "    <tr>\n",
              "      <th>81</th>\n",
              "      <td>6685</td>\n",
              "      <td>5.7</td>\n",
              "      <td>0</td>\n",
              "      <td>1</td>\n",
              "      <td>0</td>\n",
              "      <td>0</td>\n",
              "      <td>0</td>\n",
              "      <td>0</td>\n",
              "    </tr>\n",
              "    <tr>\n",
              "      <th>82</th>\n",
              "      <td>15343</td>\n",
              "      <td>5.7</td>\n",
              "      <td>0</td>\n",
              "      <td>1</td>\n",
              "      <td>0</td>\n",
              "      <td>0</td>\n",
              "      <td>0</td>\n",
              "      <td>0</td>\n",
              "    </tr>\n",
              "    <tr>\n",
              "      <th>...</th>\n",
              "      <td>...</td>\n",
              "      <td>...</td>\n",
              "      <td>...</td>\n",
              "      <td>...</td>\n",
              "      <td>...</td>\n",
              "      <td>...</td>\n",
              "      <td>...</td>\n",
              "      <td>...</td>\n",
              "    </tr>\n",
              "    <tr>\n",
              "      <th>158</th>\n",
              "      <td>31805</td>\n",
              "      <td>4.6</td>\n",
              "      <td>0</td>\n",
              "      <td>1</td>\n",
              "      <td>0</td>\n",
              "      <td>0</td>\n",
              "      <td>0</td>\n",
              "      <td>0</td>\n",
              "    </tr>\n",
              "    <tr>\n",
              "      <th>159</th>\n",
              "      <td>42691</td>\n",
              "      <td>4.6</td>\n",
              "      <td>0</td>\n",
              "      <td>1</td>\n",
              "      <td>0</td>\n",
              "      <td>0</td>\n",
              "      <td>0</td>\n",
              "      <td>0</td>\n",
              "    </tr>\n",
              "    <tr>\n",
              "      <th>160</th>\n",
              "      <td>10011</td>\n",
              "      <td>1.6</td>\n",
              "      <td>0</td>\n",
              "      <td>0</td>\n",
              "      <td>1</td>\n",
              "      <td>0</td>\n",
              "      <td>0</td>\n",
              "      <td>0</td>\n",
              "    </tr>\n",
              "    <tr>\n",
              "      <th>161</th>\n",
              "      <td>12101</td>\n",
              "      <td>1.6</td>\n",
              "      <td>0</td>\n",
              "      <td>0</td>\n",
              "      <td>1</td>\n",
              "      <td>0</td>\n",
              "      <td>0</td>\n",
              "      <td>0</td>\n",
              "    </tr>\n",
              "    <tr>\n",
              "      <th>162</th>\n",
              "      <td>19699</td>\n",
              "      <td>1.6</td>\n",
              "      <td>0</td>\n",
              "      <td>0</td>\n",
              "      <td>1</td>\n",
              "      <td>0</td>\n",
              "      <td>0</td>\n",
              "      <td>0</td>\n",
              "    </tr>\n",
              "  </tbody>\n",
              "</table>\n",
              "<p>85 rows × 8 columns</p>\n",
              "</div>"
            ],
            "text/plain": [
              "     Mileage  Liter  Make_Buick  Make_Cadillac  Make_Chevrolet  Make_Pontiac  \\\n",
              "78     25869    3.8           1              0               0             0   \n",
              "79     37128    3.8           1              0               0             0   \n",
              "80      2202    5.7           0              1               0             0   \n",
              "81      6685    5.7           0              1               0             0   \n",
              "82     15343    5.7           0              1               0             0   \n",
              "..       ...    ...         ...            ...             ...           ...   \n",
              "158    31805    4.6           0              1               0             0   \n",
              "159    42691    4.6           0              1               0             0   \n",
              "160    10011    1.6           0              0               1             0   \n",
              "161    12101    1.6           0              0               1             0   \n",
              "162    19699    1.6           0              0               1             0   \n",
              "\n",
              "     Make_SAAB  Make_Saturn  \n",
              "78           0            0  \n",
              "79           0            0  \n",
              "80           0            0  \n",
              "81           0            0  \n",
              "82           0            0  \n",
              "..         ...          ...  \n",
              "158          0            0  \n",
              "159          0            0  \n",
              "160          0            0  \n",
              "161          0            0  \n",
              "162          0            0  \n",
              "\n",
              "[85 rows x 8 columns]"
            ]
          },
          "execution_count": 148,
          "metadata": {},
          "output_type": "execute_result"
        }
      ],
      "source": [
        "X.iloc[78:163]"
      ]
    },
    {
      "cell_type": "markdown",
      "metadata": {
        "id": "w_q_0TsPW1Ln"
      },
      "source": [
        "### Полиномиальная регрессия\n",
        "<p id=\"4\">Не всегда данные могут быть описаны (достаточно эффективно) линейной моделью. В некоторых задачах часто строятся полиномиальные модели. Здесь появляется дополнительный гиперпараметр - максимальная степень, в  которой могут находится параметры для описанния данных. Хороший пример как работает полиномиальная и линейная регрессия на нелинейных данных.</p>\n",
        "<p><img src=\"https://miro.medium.com/proxy/1*QKcwvXU0UZ9YtkmRNKBM3w.gif\"><img src=\"https://miro.medium.com/proxy/1*34dYVwi1ieVQBtwKd4xReg.gif\"></p>"
      ]
    },
    {
      "cell_type": "markdown",
      "metadata": {
        "id": "VnCsa5zrW1Ln"
      },
      "source": [
        "#### Практика на собственном датасете.\n",
        "\n",
        " <p id=\"5\">Сгенерируем свой собственный датасет для задачи полиномиальной регрессии.</p>"
      ]
    },
    {
      "cell_type": "code",
      "execution_count": 149,
      "metadata": {
        "id": "LwnJCH2yW1Ln"
      },
      "outputs": [],
      "source": [
        "from sklearn.metrics import mean_squared_error, r2_score # подгружаем метрику mse и r2\n",
        "from sklearn.preprocessing import PolynomialFeatures"
      ]
    },
    {
      "attachments": {},
      "cell_type": "markdown",
      "metadata": {},
      "source": [
        "![](https://i.stack.imgur.com/zkMBy.png)  \n",
        "`numpy.newaxis` is used to increase the dimension of the existing array by one more dimension, when used once."
      ]
    },
    {
      "cell_type": "code",
      "execution_count": null,
      "metadata": {
        "id": "VqJGPi31W1Ln"
      },
      "outputs": [],
      "source": [
        "np.random.seed(0)\n",
        "x = 2 - 3 * np.random.normal(0, 1, 20)\n",
        "\n",
        "# заданы параметры при степенях\n",
        "y = x - 2 * (x ** 2) + 0.5 * (x ** 3) + np.random.normal(-3, 3, 20) \n",
        "\n",
        "# преобразуем данный чтобы добавить новые оси\n",
        "x = x[:, np.newaxis]\n",
        "y = y[:, np.newaxis]"
      ]
    },
    {
      "cell_type": "code",
      "execution_count": null,
      "metadata": {
        "colab": {
          "base_uri": "https://localhost:8080/",
          "height": 572
        },
        "id": "g94dWrOwW1Lo",
        "outputId": "932e7b18-e702-448f-8a1b-741123b1b734"
      },
      "outputs": [],
      "source": [
        "model = LinearRegression() \n",
        "model.fit(x, y)\n",
        "y_pred = model.predict(x)\n",
        "plt.figure(figsize=(12,9))\n",
        "\n",
        "# считаем метрику MSE и R2\n",
        "rmse = np.sqrt(mean_squared_error(y, y_pred))\n",
        "r2 = r2_score(y, y_pred)\n",
        "print('RMSE:', rmse)\n",
        "print('R2:', r2)\n",
        "plt.scatter(x, y, s=10)\n",
        "\n",
        "# рисуем наши смоделированные данные\n",
        "sort_axis = operator.itemgetter(0)\n",
        "sorted_zip = sorted(zip(x, y_pred), key=sort_axis)\n",
        "x_, y_pred = zip(*sorted_zip)\n",
        "\n",
        "plt.plot(x_, y_pred, color='m')\n",
        "plt.show()"
      ]
    },
    {
      "cell_type": "markdown",
      "metadata": {
        "id": "EA7TOKN7W1Lo"
      },
      "source": [
        "<p>Видим, что линейная модель описывает наши данные не очень хорошо. Это можно понять и по MSE, R2, и исходя из графика. Попробуем построить полиномиальную регрессию.</p>"
      ]
    },
    {
      "cell_type": "code",
      "execution_count": null,
      "metadata": {
        "colab": {
          "base_uri": "https://localhost:8080/"
        },
        "id": "9gr-OhH8W1Lp",
        "outputId": "5941761f-21a2-472f-e0d9-b146bc29998a"
      },
      "outputs": [],
      "source": [
        "# sklearn генерирует допольнительное кол-во признаков для полиномиальной регресии\n",
        "polynomial_features = PolynomialFeatures(degree=2) # указываем вторую степень полинома\n",
        "x_poly = polynomial_features.fit_transform(x) # получаем новые признаки\n",
        "x_poly"
      ]
    },
    {
      "cell_type": "code",
      "execution_count": null,
      "metadata": {
        "colab": {
          "base_uri": "https://localhost:8080/",
          "height": 572
        },
        "id": "iRWX5bIXW1Lp",
        "outputId": "74e1e23f-0317-46a7-8a34-954409a08ab2"
      },
      "outputs": [],
      "source": [
        "# теперь подаем эти признаки в линейную регресиию\n",
        "# и проделаем все те же самые операции\n",
        "model = LinearRegression() \n",
        "model.fit(x_poly, y)\n",
        "y_poly_pred = model.predict(x_poly)\n",
        "plt.figure(figsize=(12,9))\n",
        "\n",
        "\n",
        "rmse = np.sqrt(mean_squared_error(y, y_poly_pred))\n",
        "r2 = r2_score(y, y_poly_pred)\n",
        "print('RMSE:', rmse)\n",
        "print('R2:', r2)\n",
        "plt.scatter(x, y, s=10)\n",
        "\n",
        "sort_axis = operator.itemgetter(0)\n",
        "sorted_zip = sorted(zip(x, y_poly_pred), key=sort_axis)\n",
        "x_, y_poly_pred = zip(*sorted_zip)\n",
        "\n",
        "plt.plot(x_, y_poly_pred, color='m')\n",
        "plt.show()"
      ]
    },
    {
      "cell_type": "markdown",
      "metadata": {
        "id": "XHzBjempW1Lp"
      },
      "source": [
        "<p>Проделаем то же самое, например, для 3 степени.</p>"
      ]
    },
    {
      "cell_type": "code",
      "execution_count": null,
      "metadata": {
        "colab": {
          "base_uri": "https://localhost:8080/",
          "height": 572
        },
        "id": "NZl7yRjNW1Lq",
        "outputId": "dc08a978-0f1c-44b5-8300-e009972c8e9c"
      },
      "outputs": [],
      "source": [
        "polynomial_features = PolynomialFeatures(degree=3)\n",
        "x_poly = polynomial_features.fit_transform(x)\n",
        "\n",
        "model = LinearRegression() \n",
        "model.fit(x_poly, y)\n",
        "y_poly_pred = model.predict(x_poly)\n",
        "plt.figure(figsize=(12,9))\n",
        "\n",
        "\n",
        "rmse = np.sqrt(mean_squared_error(y, y_poly_pred))\n",
        "r2 = r2_score(y, y_poly_pred)\n",
        "print('RMSE:', rmse)\n",
        "print('R2:', r2)\n",
        "plt.scatter(x, y, s=10)\n",
        "\n",
        "sort_axis = operator.itemgetter(0)\n",
        "sorted_zip = sorted(zip(x, y_poly_pred), key=sort_axis)\n",
        "x_, y_poly_pred = zip(*sorted_zip)\n",
        "\n",
        "plt.plot(x_, y_poly_pred, color='m')\n",
        "plt.show()"
      ]
    },
    {
      "cell_type": "markdown",
      "metadata": {
        "id": "XOSUCRNQW1Lq"
      },
      "source": [
        "<p>Видим что, с увелечением степени MSE и R2 упали до приемлемых значений, и наша модель достаточно хорошо описывается 3 степенью. Но стоит помнить, что чем больше мы задаем степень полинома, тем точнее полином будет накладываться на значения и модель будет переобучаться, поэтому с этим нужно быть осторожным. О переобучении речь будет идти в сл. уроках.</p>"
      ]
    },
    {
      "cell_type": "markdown",
      "metadata": {
        "id": "wY2whWCoW1Lq"
      },
      "source": [
        "<h2>Summary</h2>\n",
        "<ol><li>Линейная регрессия лежит в основе многих сложных моделей, она позволяет очень эффективно предсказываать <b>общий тренд</b> данных, но также имеет и довольно <b>большие ограничения</b> на исследуемый датасет.</li><li>Полиномиальная регрессия умеет описывать <b>более сложные кривые</b> данных, которые не может описать линейная. <b>В зависимости от степени</b> полином будет описывать все точнее и точнее рассматриваемые данные, но не стоит забывать про <b>переобучение</b>.</li></ol>"
      ]
    },
    {
      "cell_type": "markdown",
      "metadata": {
        "id": "d0zPlhfQhywh"
      },
      "source": [
        "## **Дополнительные материалы:**\n",
        "1. Виды машинных обучений. Обучение с учителем, без и с подкреплением https://youtu.be/ku2oPMPht2I\n",
        "2. Устройство проекта в машинном обучении https://youtu.be/LXc6gjip_oM\n",
        "3. Поиск параметров линейной регрессии через метод максимального правдоподобия https://youtu.be/FlIvKzrpnXQ?t=507\n",
        "4. Реализация линейной регрессии https://youtu.be/KJA9A1q9l7E\n",
        "5. Метрики MSE, MAE, R2 https://youtu.be/vh2smjQyhp8\n",
        "6. Экспоненциальная регрессия в Python (шаг за шагом)\n",
        " https://www.codecamp.ru/blog/exponential-regression-python/ и в [ответе](https://coderoad.ru/50706092/%D0%AD%D0%BA%D1%81%D0%BF%D0%BE%D0%BD%D0%B5%D0%BD%D1%86%D0%B8%D0%B0%D0%BB%D1%8C%D0%BD%D0%B0%D1%8F-%D1%80%D0%B5%D0%B3%D1%80%D0%B5%D1%81%D1%81%D0%B8%D0%BE%D0%BD%D0%BD%D0%B0%D1%8F-%D1%84%D1%83%D0%BD%D0%BA%D1%86%D0%B8%D1%8F-Python) есть код для многомерного входа"
      ]
    },
    {
      "cell_type": "markdown",
      "metadata": {
        "id": "AW5S8IFoW1Lr"
      },
      "source": [
        "<h1>Спасибо за внимание!</h1>"
      ]
    }
  ],
  "metadata": {
    "colab": {
      "collapsed_sections": [],
      "provenance": [],
      "toc_visible": true
    },
    "kernelspec": {
      "display_name": "Python 3",
      "language": "python",
      "name": "python3"
    },
    "language_info": {
      "codemirror_mode": {
        "name": "ipython",
        "version": 3
      },
      "file_extension": ".py",
      "mimetype": "text/x-python",
      "name": "python",
      "nbconvert_exporter": "python",
      "pygments_lexer": "ipython3",
      "version": "3.9.13"
    }
  },
  "nbformat": 4,
  "nbformat_minor": 0
}
