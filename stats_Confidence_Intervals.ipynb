{
 "cells": [
  {
   "cell_type": "markdown",
   "metadata": {},
   "source": [
    "<h3 style=\"text-align: center;\"><b>«Практическое занятие по доверительным интервалам»</b></h3>"
   ]
  },
  {
   "cell_type": "code",
   "execution_count": 1,
   "metadata": {},
   "outputs": [],
   "source": [
    "import numpy as np # Numeric Python\n",
    "import pandas as pd # Panel Data\n",
    "import math\n",
    "import matplotlib.pyplot as plt\n",
    "import scipy.stats as st\n",
    "from scipy.stats import norm\n",
    "\n",
    "try:\n",
    "    import plotly.express as px\n",
    "except ImportError:\n",
    "    !pip install plotly.express\n",
    "    import plotly.express as px\n",
    "    "
   ]
  },
  {
   "cell_type": "markdown",
   "metadata": {},
   "source": [
    "## Расчет по формуле"
   ]
  },
  {
   "attachments": {
    "image.png": {
     "image/png": "[encoded data removed]"
    }
   },
   "cell_type": "markdown",
   "metadata": {},
   "source": [
    "<b>Пример.</b> По данным $7$ измерений некоторой величины найдены:\n",
    "* `средняя` результатов измерений, равная $30$ \n",
    "* и `выборочная дисперсия`, равная $36$.  \n",
    "\n",
    "Найдите `границы`, в которых с `надежностью` $0,95$ заключено истинное значение измеряемой величины. \n",
    "\n",
    "![image.png](attachment:image.png)"
   ]
  },
  {
   "attachments": {},
   "cell_type": "markdown",
   "metadata": {},
   "source": [
    "#### Confidence Interval\n",
    "### $CI = \\hat{\\mu} \\pm t_{{\\alpha/2}, df} * \\frac{\\hat\\sigma}{\\sqrt{n}} = \\hat{\\mu} \\pm t_{{\\alpha/2}, df} * SE$  \n",
    "* $\\hat{\\mu}$ - среднее в ГС\n",
    "* $ t_{{\\alpha/2};df}$ — двусторонняя критическая величина t-критерий Стьюдента,  \n",
    "      $\\alpha$ - вероятность совершить ошибку $I$ (отвергнуть нулевую гипотезу, в то время как она верна).  \n",
    "* $df$ — степень свободы = n — 1, от английского «degrees of freedom»\n",
    "* $SE$ - stanadard error of the mean"
   ]
  },
  {
   "cell_type": "code",
   "execution_count": 2,
   "metadata": {},
   "outputs": [],
   "source": [
    "n = 7 # Размер выборки\n",
    "dof = n - 1 # Число степеней свободы \n",
    "mn = 30 # Среднее значение\n",
    "D = 36\n",
    "se = np.sqrt(D) # Стандартное отклонение\n",
    "confidence = 0.95\n",
    "T = 2.45  # Параметр t распределения. Таблицу значений можно легко найти в поисковике"
   ]
  },
  {
   "attachments": {},
   "cell_type": "markdown",
   "metadata": {},
   "source": [
    "#### `ppf(q, df, [loc=0], [scale=1])` - percent point function calculates X for a given PDF\n",
    "`ppf` Percent Point Function calculates the *inverse cumulative distribution function*,  \n",
    "by definition a result of **x** for a given `q`-value and `df` means P{ T <= x} = q, i.e,  \n",
    "there is probability q of getting outcomes  \n",
    "**less than or equal to x** from a T distribution with the given loc and scale.  \n",
    "The loc (mean) and scale (standard deviation) arguments are optional, and default to 0 and 1, respectively."
   ]
  },
  {
   "cell_type": "code",
   "execution_count": 3,
   "metadata": {},
   "outputs": [
    {
     "data": {
      "text/plain": [
       "2.447"
      ]
     },
     "execution_count": 3,
     "metadata": {},
     "output_type": "execute_result"
    }
   ],
   "source": [
    "round(st.t.ppf( (1+confidence)/2, dof),3) # Percent point function (inverse of cdf)"
   ]
  },
  {
   "cell_type": "code",
   "execution_count": 4,
   "metadata": {},
   "outputs": [
    {
     "name": "stdout",
     "output_type": "stream",
     "text": [
      "Confidence Interval (t = 2.45) is: [ 24.444, 35.556 ]\n"
     ]
    }
   ],
   "source": [
    "# manual\n",
    "print(f'Confidence Interval (t = 2.45) is: [ {mn - T * se /np.sqrt(n):5.3f}, {mn + T * se /np.sqrt(n):5.3f} ]')"
   ]
  },
  {
   "cell_type": "code",
   "execution_count": 5,
   "metadata": {},
   "outputs": [
    {
     "name": "stdout",
     "output_type": "stream",
     "text": [
      "Confidence Interval is: [ 24.451, 35.549 ]\n"
     ]
    }
   ],
   "source": [
    "ci_low = mn - st.t.ppf( 0.975, dof) * se /np.sqrt(n)\n",
    "ci_upp = mn + st.t.ppf( 0.975, dof) * se /np.sqrt(n)\n",
    "print(f'Confidence Interval is: [ {ci_low:5.3f}, {ci_upp:5.3f} ]')"
   ]
  },
  {
   "cell_type": "code",
   "execution_count": 6,
   "metadata": {},
   "outputs": [
    {
     "name": "stdout",
     "output_type": "stream",
     "text": [
      "Confidence Interval ppf(conf, dof) is: [ 24.451, 35.549 ]\n"
     ]
    }
   ],
   "source": [
    "ci_low = mn + st.t.ppf( (1-confidence)/2, dof) * se /np.sqrt(n)\n",
    "ci_upp = mn + st.t.ppf( (1 + confidence)/2, dof) * se /np.sqrt(n)\n",
    "print(f'Confidence Interval ppf(conf, dof) is: [ {ci_low:5.3f}, {ci_upp:5.3f} ]')"
   ]
  },
  {
   "cell_type": "markdown",
   "metadata": {},
   "source": [
    "## Собственная функция"
   ]
  },
  {
   "cell_type": "markdown",
   "metadata": {},
   "source": [
    "Вспомогательная функция для подсчета доверительного интервала для маленьких выборок (до 30 элементов, t распределение)."
   ]
  },
  {
   "cell_type": "code",
   "execution_count": 7,
   "metadata": {},
   "outputs": [],
   "source": [
    "def mean_confidence_interval(data, confidence=0.95): \n",
    "    n = len(data)\n",
    "    m, se = np.mean(data), st.sem(data)  # Standard Error of the Mean\n",
    "    # looking for X where t = 0.95\n",
    "    # To get a 95% margin of error, you want 5% of the probability to be in the tails of the distribution. \n",
    "    # This is usually done symmetrically so that 2.5% is in each tail, \n",
    "    # so you would use q values of 0.025 and 0.975 for the lower and upper cutoff points respectively. \n",
    "\n",
    "    # var1\n",
    "    h = se * st.t.ppf((1 + confidence)/2, n-1)\n",
    "    return m - h, m, m + h\n",
    "\n",
    "    # var2\n",
    "    # t_stat_lower = st.t.ppf((1 - confidence)/2, n-1)  \n",
    "    # t_stat_upper = st.t.ppf((1 + confidence)/2, n-1) \n",
    "    # return m + se * t_stat_lower, m, m + t_stat_upper\n",
    "\n",
    "     \n"
   ]
  },
  {
   "cell_type": "code",
   "execution_count": 8,
   "metadata": {},
   "outputs": [
    {
     "name": "stdout",
     "output_type": "stream",
     "text": [
      "(11.707199792530355, 12.391304347826088, 13.07540890312182)\n",
      "(11.02260721314349, 12.391304347826088, 13.760001482508686)\n",
      "(10.1445373309875, 12.391304347826088, 14.638071364664675)\n"
     ]
    }
   ],
   "source": [
    "a =  [5,7,7,9,10,16,7,14,13,15,16,15,\n",
    "     16,17,18,13,14,15,6,13, 14, 12 ,13 ]\n",
    "\n",
    "print(mean_confidence_interval(a, 0.60))\n",
    "print(mean_confidence_interval(a, 0.90))\n",
    "print(mean_confidence_interval(a, 0.99))"
   ]
  },
  {
   "attachments": {},
   "cell_type": "markdown",
   "metadata": {},
   "source": [
    "## <b>Пример.</b> Попробуем с помощью доверительного интервала  \n",
    "## оценить результаты выборов."
   ]
  },
  {
   "cell_type": "markdown",
   "metadata": {},
   "source": [
    "<p style=\"align: center;\"><img align=center src=\"https://www.englisch-hilfen.de/images/usa/states/map.gif\"  width=400></p>"
   ]
  },
  {
   "cell_type": "code",
   "execution_count": 9,
   "metadata": {},
   "outputs": [],
   "source": [
    "US_elect_county = 'https://raw.githubusercontent.com/a-milenkin/datasets_for_t-tests/main/2012_US_elect_county.csv'\n",
    " \n",
    "df = pd.read_csv(US_elect_county, sep=',') # Откроем датасет"
   ]
  },
  {
   "cell_type": "code",
   "execution_count": 10,
   "metadata": {},
   "outputs": [
    {
     "name": "stdout",
     "output_type": "stream",
     "text": [
      "<class 'pandas.core.frame.DataFrame'>\n",
      "RangeIndex: 4074 entries, 0 to 4073\n",
      "Data columns (total 7 columns):\n",
      " #   Column        Non-Null Count  Dtype \n",
      "---  ------        --------------  ----- \n",
      " 0   State Postal  4074 non-null   object\n",
      " 1   County Name   4074 non-null   object\n",
      " 2   FIPS          4074 non-null   int64 \n",
      " 3   Obama vote    4074 non-null   object\n",
      " 4   %             4073 non-null   object\n",
      " 5   Romney vote   4074 non-null   object\n",
      " 6   %.1           4073 non-null   object\n",
      "dtypes: int64(1), object(6)\n",
      "memory usage: 222.9+ KB\n"
     ]
    }
   ],
   "source": [
    "df.info()"
   ]
  },
  {
   "cell_type": "code",
   "execution_count": 11,
   "metadata": {},
   "outputs": [
    {
     "data": {
      "text/plain": [
       "State Postal    0\n",
       "County Name     0\n",
       "FIPS            0\n",
       "Obama vote      0\n",
       "%               1\n",
       "Romney vote     0\n",
       "%.1             1\n",
       "dtype: int64"
      ]
     },
     "execution_count": 11,
     "metadata": {},
     "output_type": "execute_result"
    }
   ],
   "source": [
    "df.isna().sum()"
   ]
  },
  {
   "cell_type": "code",
   "execution_count": 12,
   "metadata": {},
   "outputs": [
    {
     "data": {
      "text/html": [
       "<div>\n",
       "<style scoped>\n",
       "    .dataframe tbody tr th:only-of-type {\n",
       "        vertical-align: middle;\n",
       "    }\n",
       "\n",
       "    .dataframe tbody tr th {\n",
       "        vertical-align: top;\n",
       "    }\n",
       "\n",
       "    .dataframe thead th {\n",
       "        text-align: right;\n",
       "    }\n",
       "</style>\n",
       "<table border=\"1\" class=\"dataframe\">\n",
       "  <thead>\n",
       "    <tr style=\"text-align: right;\">\n",
       "      <th></th>\n",
       "      <th>State Postal</th>\n",
       "      <th>County Name</th>\n",
       "      <th>FIPS</th>\n",
       "      <th>Obama vote</th>\n",
       "      <th>%</th>\n",
       "      <th>Romney vote</th>\n",
       "      <th>%.1</th>\n",
       "    </tr>\n",
       "  </thead>\n",
       "  <tbody>\n",
       "    <tr>\n",
       "      <th>1429</th>\n",
       "      <td>ME</td>\n",
       "      <td>Hancock Cty Townships</td>\n",
       "      <td>23009</td>\n",
       "      <td>0</td>\n",
       "      <td>#DIV/0!</td>\n",
       "      <td>0</td>\n",
       "      <td>#DIV/0!</td>\n",
       "    </tr>\n",
       "  </tbody>\n",
       "</table>\n",
       "</div>"
      ],
      "text/plain": [
       "     State Postal            County Name   FIPS Obama vote        %  \\\n",
       "1429           ME  Hancock Cty Townships  23009          0  #DIV/0!   \n",
       "\n",
       "     Romney vote      %.1  \n",
       "1429           0  #DIV/0!  "
      ]
     },
     "execution_count": 12,
     "metadata": {},
     "output_type": "execute_result"
    }
   ],
   "source": [
    "df[df['%']=='#DIV/0!']"
   ]
  },
  {
   "cell_type": "code",
   "execution_count": 13,
   "metadata": {},
   "outputs": [
    {
     "data": {
      "text/html": [
       "<div>\n",
       "<style scoped>\n",
       "    .dataframe tbody tr th:only-of-type {\n",
       "        vertical-align: middle;\n",
       "    }\n",
       "\n",
       "    .dataframe tbody tr th {\n",
       "        vertical-align: top;\n",
       "    }\n",
       "\n",
       "    .dataframe thead th {\n",
       "        text-align: right;\n",
       "    }\n",
       "</style>\n",
       "<table border=\"1\" class=\"dataframe\">\n",
       "  <thead>\n",
       "    <tr style=\"text-align: right;\">\n",
       "      <th></th>\n",
       "      <th>State Postal</th>\n",
       "      <th>County Name</th>\n",
       "      <th>%</th>\n",
       "    </tr>\n",
       "  </thead>\n",
       "  <tbody>\n",
       "    <tr>\n",
       "      <th>0</th>\n",
       "      <td>AK</td>\n",
       "      <td>Alaska</td>\n",
       "      <td>41.6</td>\n",
       "    </tr>\n",
       "    <tr>\n",
       "      <th>1</th>\n",
       "      <td>AK</td>\n",
       "      <td>Alaska</td>\n",
       "      <td>41.6</td>\n",
       "    </tr>\n",
       "    <tr>\n",
       "      <th>2</th>\n",
       "      <td>AL</td>\n",
       "      <td>Alabama</td>\n",
       "      <td>38.4</td>\n",
       "    </tr>\n",
       "    <tr>\n",
       "      <th>3</th>\n",
       "      <td>AL</td>\n",
       "      <td>Autauga</td>\n",
       "      <td>26.6</td>\n",
       "    </tr>\n",
       "    <tr>\n",
       "      <th>4</th>\n",
       "      <td>AL</td>\n",
       "      <td>Baldwin</td>\n",
       "      <td>21.6</td>\n",
       "    </tr>\n",
       "  </tbody>\n",
       "</table>\n",
       "</div>"
      ],
      "text/plain": [
       "  State Postal County Name     %\n",
       "0           AK      Alaska  41.6\n",
       "1           AK      Alaska  41.6\n",
       "2           AL     Alabama  38.4\n",
       "3           AL     Autauga  26.6\n",
       "4           AL     Baldwin  21.6"
      ]
     },
     "execution_count": 13,
     "metadata": {},
     "output_type": "execute_result"
    }
   ],
   "source": [
    "df.dropna(how='any',inplace=True)  #Удалим пустые значения\n",
    "df=df[ df['%'] != '#DIV/0!'][['State Postal','County Name','%']] #Удалим мусор из данных и оставим только нужное\n",
    "df['%'] = df['%'].astype(float) # Приведем к численному значению результаты голосования\n",
    "df.head()"
   ]
  },
  {
   "cell_type": "code",
   "execution_count": 14,
   "metadata": {},
   "outputs": [
    {
     "name": "stdout",
     "output_type": "stream",
     "text": [
      "Среднее по всей выборке: 44.079\n",
      "                     sd: 15.742\n"
     ]
    },
    {
     "data": {
      "image/png": "[encoded data removed]",
      "text/plain": [
       "<Figure size 640x480 with 1 Axes>"
      ]
     },
     "metadata": {},
     "output_type": "display_data"
    }
   ],
   "source": [
    "df['%'].hist(bins=15)\n",
    "print(f\"Среднее по всей выборке: {df['%'].mean():.3f}\")\n",
    "print(f\"{' '*21}sd: {df['%'].std():.3f}\")"
   ]
  },
  {
   "cell_type": "code",
   "execution_count": 15,
   "metadata": {},
   "outputs": [
    {
     "data": {
      "text/plain": [
       "(43.443717578289764, 44.07946954813346, 44.715221517977156)"
      ]
     },
     "execution_count": 15,
     "metadata": {},
     "output_type": "execute_result"
    }
   ],
   "source": [
    "mean_confidence_interval(df['%'], 0.99)"
   ]
  },
  {
   "attachments": {},
   "cell_type": "markdown",
   "metadata": {},
   "source": [
    "Mean and CI in some states"
   ]
  },
  {
   "cell_type": "code",
   "execution_count": 16,
   "metadata": {},
   "outputs": [
    {
     "data": {
      "text/plain": [
       "(47.33158966272541, 48.45610425240053, 49.580618842075644)"
      ]
     },
     "execution_count": 16,
     "metadata": {},
     "output_type": "execute_result"
    }
   ],
   "source": [
    "some_states = ['AK','OH','WV','ME','CA','MD']\n",
    "\n",
    "sub_df = df.loc[df['State Postal'].isin(some_states)]  # Выборка по нескольким штатам\n",
    "\n",
    "l, s, r = mean_confidence_interval(sub_df['%'], 0.99)\n",
    "l, s, r"
   ]
  },
  {
   "attachments": {},
   "cell_type": "markdown",
   "metadata": {},
   "source": [
    "We infer that the population mean is out of the CI in some states.  \n",
    "The cause is the sample is not representative."
   ]
  },
  {
   "cell_type": "markdown",
   "metadata": {},
   "source": [
    "## Встроенные функции scipy.stats"
   ]
  },
  {
   "cell_type": "markdown",
   "metadata": {},
   "source": [
    "### Расчет с использованием нормального распределения\n",
    "\n",
    "Длина выборки более 30 элементов."
   ]
  },
  {
   "cell_type": "markdown",
   "metadata": {},
   "source": [
    "<b>Пример.</b> Используем выборку размером $n=100$ и определим $90\\%$ и $99\\%$ доверительные интервалы, используя нормальное распределение."
   ]
  },
  {
   "cell_type": "code",
   "execution_count": 17,
   "metadata": {},
   "outputs": [],
   "source": [
    "np.random.seed(54)  # Закрепим seed для воспроизводимости результата.\n",
    "\n",
    "# Генерируем случайное множество с нормальным распределением, где среднее = loc, а стандартное отклонение = scale\n",
    "sample_size = int(1e4)\n",
    "dataN = st.norm.rvs(loc=25, scale=5, size= sample_size)  # rvs: Random variates of given size(100) and type(norm)."
   ]
  },
  {
   "attachments": {
    "image.png": {
     "image/png": "[encoded data removed]"
    }
   },
   "cell_type": "markdown",
   "metadata": {},
   "source": [
    "![image.png](attachment:image.png)"
   ]
  },
  {
   "cell_type": "code",
   "execution_count": 18,
   "metadata": {},
   "outputs": [
    {
     "name": "stdout",
     "output_type": "stream",
     "text": [
      "Sample mean:                        24.960\n",
      "Standard Error of the sample Mean:   0.050224  (out of 5/sqrt(10000) )\n",
      "Standard deviation sd:               5.0221  (out of 5)\n"
     ]
    }
   ],
   "source": [
    "# mean, std, sem  of the real generated sample  \n",
    "print(f'Sample mean: {np.mean(dataN):>29.3f}')\n",
    "print(f'Standard Error of the sample Mean: {st.sem(dataN):>10.06f}  (out of 5/sqrt({sample_size}) )')\n",
    "print(f'Standard deviation sd: {np.std(dataN):>20.04f}  (out of 5)')"
   ]
  },
  {
   "attachments": {},
   "cell_type": "markdown",
   "metadata": {},
   "source": [
    "### `interval(confidence=0.90, [loc=0, scale=1])`\n",
    "##### returns lower and upper CI with equal areas around the median."
   ]
  },
  {
   "cell_type": "code",
   "execution_count": 19,
   "metadata": {},
   "outputs": [
    {
     "name": "stdout",
     "output_type": "stream",
     "text": [
      "Мы уверены на 90%, что истинное среднее значение генеральной совокупности находится в диапазоне между 24.877 и 25.042\n"
     ]
    },
    {
     "data": {
      "text/plain": [
       "0.1652210313568503"
      ]
     },
     "execution_count": 19,
     "metadata": {},
     "output_type": "execute_result"
    }
   ],
   "source": [
    "# interval:  Confidence interval with equal areas around the median.\n",
    "conf = 0.9\n",
    "ci_lower, ci_upper = st.norm.interval(confidence = conf, loc=np.mean(dataN), scale=st.sem(dataN))  #\n",
    "print(f'Мы уверены на {conf * 100:.0f}%, что истинное среднее значение генеральной совокупности находится в диапазоне между {ci_lower:5.3f} и {ci_upper:5.3f}')\n",
    "norm_90_range = ci_upper - ci_lower\n",
    "norm_90_range "
   ]
  },
  {
   "cell_type": "code",
   "execution_count": 20,
   "metadata": {},
   "outputs": [
    {
     "name": "stdout",
     "output_type": "stream",
     "text": [
      "Мы уверены на 99%, что истинное среднее значение генеральной совокупности находится в диапазоне между 24.83041 и 25.08914\n"
     ]
    },
    {
     "data": {
      "text/plain": [
       "0.2587349823463043"
      ]
     },
     "execution_count": 20,
     "metadata": {},
     "output_type": "execute_result"
    }
   ],
   "source": [
    "conf = 0.99\n",
    "ci_lower, ci_upper = st.norm.interval(confidence = conf, loc=np.mean(dataN), scale=st.sem(dataN))  #\n",
    "print(f'Мы уверены на {conf * 100:.0f}%, что истинное среднее значение генеральной совокупности находится в диапазоне между {ci_lower:5.5f} и {ci_upper:5.5f}')\n",
    "norm_99_range = ci_upper - ci_lower\n",
    "norm_99_range"
   ]
  },
  {
   "attachments": {},
   "cell_type": "markdown",
   "metadata": {},
   "source": [
    "#### Let's compare the CI using t-curve"
   ]
  },
  {
   "cell_type": "code",
   "execution_count": 21,
   "metadata": {},
   "outputs": [
    {
     "name": "stdout",
     "output_type": "stream",
     "text": [
      "Мы уверены на 99%, что истинное среднее значение генеральной совокупности находится в диапазоне между 24.83038 и 25.08917\n"
     ]
    },
    {
     "data": {
      "text/plain": [
       "0.25878438153354466"
      ]
     },
     "execution_count": 21,
     "metadata": {},
     "output_type": "execute_result"
    }
   ],
   "source": [
    "conf = 0.99\n",
    "ci_lower, ci_upper = st.t.interval(confidence = conf, df=len(dataN)-1, loc=np.mean(dataN), scale=st.sem(dataN) ) #\n",
    "print(f'Мы уверены на {conf * 100:.0f}%, что истинное среднее значение генеральной совокупности находится в диапазоне между {ci_lower:5.5f} и {ci_upper:5.5f}')\n",
    "norm_99_range = ci_upper - ci_lower\n",
    "norm_99_range"
   ]
  },
  {
   "attachments": {},
   "cell_type": "markdown",
   "metadata": {},
   "source": [
    "##### The difference is only seen in forth decimal digits. \n",
    "So computations are practically identical."
   ]
  },
  {
   "cell_type": "code",
   "execution_count": 22,
   "metadata": {},
   "outputs": [],
   "source": [
    "# print(st.norm.__doc__)"
   ]
  },
  {
   "cell_type": "markdown",
   "metadata": {},
   "source": [
    "### Расчет с использованием t распределения\n",
    "\n",
    "Длина выборки менее 30 элементов. "
   ]
  },
  {
   "cell_type": "markdown",
   "metadata": {},
   "source": [
    "<b>Пример.</b> Используем выборку размером $n=20$ и определим $90\\%$ и $99\\%$ доверительные интервалы, используя t распределение."
   ]
  },
  {
   "cell_type": "code",
   "execution_count": 23,
   "metadata": {},
   "outputs": [
    {
     "data": {
      "text/plain": [
       "array([15.73894628, 19.59500504, 25.39281913, 18.22932204, 28.1307423 ,\n",
       "       28.66693776, 17.64510722, 16.62290224, 27.91513782, 21.61269469,\n",
       "       28.38777594, 25.92764723, 19.2158274 , 20.90224588, 20.48267271,\n",
       "       22.35407158, 23.12972966, 23.19403118, 21.09564881, 37.54233791])"
      ]
     },
     "execution_count": 23,
     "metadata": {},
     "output_type": "execute_result"
    }
   ],
   "source": [
    "np.random.seed(54)  # Закрепим seed для воспроизводимости результата.\n",
    "\n",
    "# Генерируем случайное множество с нормальным распределением, где среднее = loc, а стандартное отклонение = scale\n",
    "dataT = st.norm.rvs(loc=25, scale=5, size=20)\n",
    "dataT"
   ]
  },
  {
   "cell_type": "code",
   "execution_count": 24,
   "metadata": {},
   "outputs": [
    {
     "name": "stdout",
     "output_type": "stream",
     "text": [
      "Мы уверены на 90%, что истинное среднее значение генеральной совокупности находится в диапазоне между 21.057 и 25.121\n"
     ]
    },
    {
     "data": {
      "text/plain": [
       "4.063866205774961"
      ]
     },
     "execution_count": 24,
     "metadata": {},
     "output_type": "execute_result"
    }
   ],
   "source": [
    "ci_lower, ci_upper = st.t.interval(confidence=0.90, df=len(dataT)-1, loc=np.mean(dataT), scale=st.sem(dataT))\n",
    "print(f'Мы уверены на 90%, что истинное среднее значение генеральной совокупности находится в диапазоне между {ci_lower:4.3f} и {ci_upper:5.3f}')\n",
    "t_90_range = ci_upper - ci_lower\n",
    "t_90_range"
   ]
  },
  {
   "cell_type": "code",
   "execution_count": 25,
   "metadata": {},
   "outputs": [
    {
     "name": "stdout",
     "output_type": "stream",
     "text": [
      "Мы уверены на 99%, что истинное среднее значение генеральной совокупности находится в диапазоне между 19.727 и 26.451\n"
     ]
    },
    {
     "data": {
      "text/plain": [
       "6.723864926173263"
      ]
     },
     "execution_count": 25,
     "metadata": {},
     "output_type": "execute_result"
    }
   ],
   "source": [
    "ci_lower, ci_upper = st.t.interval(confidence=0.99, df=len(dataT)-1, loc=np.mean(dataT), scale=st.sem(dataT))\n",
    "print(f'Мы уверены на 99%, что истинное среднее значение генеральной совокупности находится в диапазоне между {ci_lower:4.3f} и {ci_upper:5.3f}')\n",
    "t_99_range = ci_upper - ci_lower\n",
    "t_99_range"
   ]
  },
  {
   "cell_type": "code",
   "execution_count": 26,
   "metadata": {},
   "outputs": [
    {
     "name": "stdout",
     "output_type": "stream",
     "text": [
      "With decreasing of the size of the sample the CI increases by (90%): 24.597\n",
      "                                                              (99%): 25.982\n"
     ]
    }
   ],
   "source": [
    "print(f'With decreasing of the size of the sample the CI increases by (90%): {t_90_range/norm_90_range:4.3f}')\n",
    "print(f'{\" \"*61} (99%): {t_99_range/norm_99_range:4.3f}')"
   ]
  },
  {
   "attachments": {},
   "cell_type": "markdown",
   "metadata": {},
   "source": [
    "## Определение $N$ размера выборки"
   ]
  },
  {
   "attachments": {},
   "cell_type": "markdown",
   "metadata": {},
   "source": [
    "`Пример` \n",
    "Допустим, Вы журналист и оказались в 2016 году в преддверии выборов президента в США.  \n",
    "Вы хотите по результатам своих исследований достаточно точно определить, кто победит на этих выборах.  \n",
    "Сколько вам необходимо опросить людей, чтобы назвать будущего президента с точность в 95%?\n",
    "\n",
    "Результаты предшествующих исследований свидетельствуют, что стандартное отклонение генеральной совокупности равно 15.7.  \n",
    "\n",
    "Дано:  \n",
    "* погрешность измерений $\\Delta$: + - 5 %.  \n",
    "* стандартное отклонение $\\sigma$ = 15.7."
   ]
  },
  {
   "attachments": {},
   "cell_type": "markdown",
   "metadata": {},
   "source": [
    "  $$ N = (\\frac{Z*\\sigma}{\\Delta})^2$$\n",
    "- $\\Delta$ - допустимая ошибка/погрешность в измерениях ( + / - %), \n",
    "- $\\sigma$ - стандартное отклонение ГС, \n",
    "- Z - квантиль нормального распределения\n"
   ]
  },
  {
   "cell_type": "code",
   "execution_count": 27,
   "metadata": {},
   "outputs": [],
   "source": [
    "confidence = 0.95\n",
    "Z = st.norm.ppf((1 + confidence)/2 )  # Квантиль нормального распределения. Z = 1.959963984540054 (95%)\n",
    "sigma = 15.7  # Стандартное отклонение ГС\n",
    "Delta = 5 # Погрешность"
   ]
  },
  {
   "cell_type": "code",
   "execution_count": 28,
   "metadata": {},
   "outputs": [
    {
     "data": {
      "text/plain": [
       "38"
      ]
     },
     "execution_count": 28,
     "metadata": {},
     "output_type": "execute_result"
    }
   ],
   "source": [
    "N = int(np.ceil(  ((sigma * Z)/ Delta)  **2)  )\n",
    "N"
   ]
  },
  {
   "attachments": {},
   "cell_type": "markdown",
   "metadata": {},
   "source": [
    "#### Сравним полученные результаты с генеральной совокупностью."
   ]
  },
  {
   "cell_type": "code",
   "execution_count": 29,
   "metadata": {},
   "outputs": [
    {
     "name": "stdout",
     "output_type": "stream",
     "text": [
      "Стандартное отклонение ГС: 15.742\n",
      "Среднее в ГС: 44.079\n"
     ]
    }
   ],
   "source": [
    "print(f\"Стандартное отклонение ГС: {df['%'].std():.3f}\")\n",
    "print(f\"Среднее в ГС: {df['%'].mean():.3f}\")\n",
    "# df['%'].hist(bins=30);"
   ]
  },
  {
   "attachments": {},
   "cell_type": "markdown",
   "metadata": {},
   "source": [
    "##### Возьмем выборку из случайных   $n$  значений"
   ]
  },
  {
   "cell_type": "code",
   "execution_count": 30,
   "metadata": {},
   "outputs": [
    {
     "data": {
      "text/plain": [
       "(38,)"
      ]
     },
     "execution_count": 30,
     "metadata": {},
     "output_type": "execute_result"
    }
   ],
   "source": [
    "# np.random.seed(67)  # Закрепим seed для воспроизводимости результата.\n",
    "\n",
    "# Возьмем выборку из случайных n значений\n",
    "sub_df = df['%'].sample(n = N) \n",
    "sub_df.shape"
   ]
  },
  {
   "cell_type": "code",
   "execution_count": 31,
   "metadata": {},
   "outputs": [
    {
     "data": {
      "text/plain": [
       "(43.21578947368422, 15.742396788859033)"
      ]
     },
     "execution_count": 31,
     "metadata": {},
     "output_type": "execute_result"
    }
   ],
   "source": [
    "# calculating statistics \n",
    "mn = sub_df.mean()  # sample Mean\n",
    "sd = df['%'].std()  # population sigma (sd)\n",
    "# we know population SIGMA (sd) so we use it instead of SEM \n",
    "# se = st.sem(sub_df), sd / np.sqrt (N) # SEM  \n",
    "mn, sd"
   ]
  },
  {
   "cell_type": "code",
   "execution_count": 32,
   "metadata": {},
   "outputs": [],
   "source": [
    "# st.norm.ppf( (1+confidence)/2)"
   ]
  },
  {
   "cell_type": "code",
   "execution_count": 33,
   "metadata": {},
   "outputs": [
    {
     "name": "stdout",
     "output_type": "stream",
     "text": [
      "Confidence Interval  is: [ 38.211, 48.221 ]\n",
      "Среднее выборки: 43.216  (+- 5.005)\n",
      "Среднее генеральной совокупности: 44.079\n"
     ]
    }
   ],
   "source": [
    "# ci_low = mn + st.t.ppf( (1-confidence)/2, N-1) * sd/np.sqrt(n)\n",
    "# ci_upp = mn + st.t.ppf( (1 + confidence)/2, N-1) * sd/np.sqrt(n)\n",
    "\n",
    "# we know population SIGMA and N > 30 so we use Normal distribution \n",
    "ci_low = mn + st.norm.ppf( (1 - confidence)/2 ) * sd/np.sqrt(N)\n",
    "ci_upp = mn + st.norm.ppf( (1 + confidence)/2 ) * sd/np.sqrt(N)\n",
    "\n",
    "print(f'Confidence Interval  is: [ {ci_low:5.3f}, {ci_upp:5.3f} ]')\n",
    "\n",
    "print(f\"Среднее выборки: {mn:.3f}  (+- {st.norm.ppf( (1 + confidence)/2 )* sd/np.sqrt(N):3.3f})\")\n",
    "# print(f\"Доверительный интервал: ({mn - Delta:.3f}, {mn + Delta:.3f})\")\n",
    "print(f\"Среднее генеральной совокупности: {df['%'].mean():.3f}\")"
   ]
  },
  {
   "cell_type": "markdown",
   "metadata": {},
   "source": [
    "#### `Min sample size`"
   ]
  },
  {
   "attachments": {},
   "cell_type": "markdown",
   "metadata": {},
   "source": [
    "## Определения размера выборки\n",
    "<b>Пример.</b> Часто возникают ситуации, когда размер выборки может зависеть от оценки размера генеральной совокупности. Например, если мы хотим провести опрос клиентов банка на предмет удобства или качества обслуживания. Неужели размер выборки будет одинаковый если у нас 10 000 клиентов или 1 000 000 клиентов?\n",
    "\n",
    "В этом случае для определения размера выборки можно использовать оценку размера генеральной совокупности по следующей формуле:\n",
    "\n",
    "$$ N = \\frac {Z^2 * p * (1-p)} {\\Delta^2 * (1+\\frac{Z^2 * p * (1-p)}{N * \\Delta^2})} $$\n",
    "* $N$ - population size\n",
    "* $n$ - sample size\n",
    "* $Z$ - z-score of confidence level\n",
    "* $p$ - is the fraction of responses that you are interested in\n",
    "* $\\Delta$ - is the M.O.E (margin of error)"
   ]
  },
  {
   "cell_type": "code",
   "execution_count": 34,
   "metadata": {},
   "outputs": [],
   "source": [
    "confidence = 0.95\n",
    "Z = st.norm.ppf( (1+confidence)/2)\n",
    "Delta = 0.05 # measurement error\n",
    "pop_size = 8e6\n",
    "p_fraction = 0.5"
   ]
  },
  {
   "cell_type": "code",
   "execution_count": 35,
   "metadata": {},
   "outputs": [
    {
     "name": "stdout",
     "output_type": "stream",
     "text": [
      "The minimum sample size is 384\n"
     ]
    }
   ],
   "source": [
    "# minimum sample size\n",
    "sample_size = round(Z**2*p_fraction*(1-p_fraction)/Delta**2/(1+(Z**2*p_fraction*(1-p_fraction)/(pop_size * Delta**2))),2)\n",
    "print(f'The minimum sample size is {sample_size:.0f}')"
   ]
  },
  {
   "attachments": {},
   "cell_type": "markdown",
   "metadata": {},
   "source": [
    "#### `Margin of error`\n",
    "### $ \\Delta = Z\\sqrt{\\frac{p(1-p)(N-n)}{n(N-1)}}$\n",
    "* $\\Delta$ - is the M.O.E (margin of error)\n",
    "* $p$ - is the fraction of responses that you are interested in\n",
    "* $N$ - population size\n",
    "* $n$ - sample size\n",
    "* $Z$ - z-score of confidence level"
   ]
  },
  {
   "cell_type": "code",
   "execution_count": 36,
   "metadata": {},
   "outputs": [
    {
     "name": "stdout",
     "output_type": "stream",
     "text": [
      "The M.O.E. +- 3.81%\n"
     ]
    }
   ],
   "source": [
    "# margin of error\n",
    "sample_size = 663\n",
    "Delta = Z*np.sqrt(p_fraction*(1-p_fraction)*(pop_size-sample_size)/sample_size/(pop_size - 1))\n",
    "print(f'The M.O.E. +- {Delta:.2%}')"
   ]
  },
  {
   "attachments": {},
   "cell_type": "markdown",
   "metadata": {},
   "source": [
    "#### `Some visualization` (Min SS over given population size  $10$ to $10^9$)"
   ]
  },
  {
   "cell_type": "code",
   "execution_count": 37,
   "metadata": {},
   "outputs": [],
   "source": [
    "pop_range = np.logspace(1,9, base= 10, num= 50)\n",
    "df_pop= pd.DataFrame(pop_range,  columns=['Pop_size'])"
   ]
  },
  {
   "cell_type": "code",
   "execution_count": 38,
   "metadata": {},
   "outputs": [],
   "source": [
    "def my_lambda(row):\n",
    "    return (Z**2*p_fraction*(1-p_fraction)/Delta**2)/(1+(Z**2*p_fraction*(1-p_fraction)/(row * Delta**2)))"
   ]
  },
  {
   "cell_type": "code",
   "execution_count": 39,
   "metadata": {},
   "outputs": [
    {
     "data": {
      "text/html": [
       "<div>\n",
       "<style scoped>\n",
       "    .dataframe tbody tr th:only-of-type {\n",
       "        vertical-align: middle;\n",
       "    }\n",
       "\n",
       "    .dataframe tbody tr th {\n",
       "        vertical-align: top;\n",
       "    }\n",
       "\n",
       "    .dataframe thead th {\n",
       "        text-align: right;\n",
       "    }\n",
       "</style>\n",
       "<table border=\"1\" class=\"dataframe\">\n",
       "  <thead>\n",
       "    <tr style=\"text-align: right;\">\n",
       "      <th></th>\n",
       "      <th>Pop_size</th>\n",
       "      <th>sample_N_p0.5</th>\n",
       "      <th>sample_N_p0.7</th>\n",
       "      <th>sample_N_p0.9</th>\n",
       "      <th>sample_N_p0.95</th>\n",
       "      <th>sample_N_p0.1</th>\n",
       "    </tr>\n",
       "  </thead>\n",
       "  <tbody>\n",
       "    <tr>\n",
       "      <th>35</th>\n",
       "      <td>5.179475e+06</td>\n",
       "      <td>78.523095</td>\n",
       "      <td>185.404611</td>\n",
       "      <td>466.948134</td>\n",
       "      <td>662.969997</td>\n",
       "      <td>2.725565</td>\n",
       "    </tr>\n",
       "    <tr>\n",
       "      <th>31</th>\n",
       "      <td>1.151395e+06</td>\n",
       "      <td>78.518931</td>\n",
       "      <td>185.381396</td>\n",
       "      <td>466.800907</td>\n",
       "      <td>662.673254</td>\n",
       "      <td>2.725560</td>\n",
       "    </tr>\n",
       "    <tr>\n",
       "      <th>37</th>\n",
       "      <td>1.098541e+07</td>\n",
       "      <td>78.523724</td>\n",
       "      <td>185.408119</td>\n",
       "      <td>466.970384</td>\n",
       "      <td>663.014850</td>\n",
       "      <td>2.725565</td>\n",
       "    </tr>\n",
       "  </tbody>\n",
       "</table>\n",
       "</div>"
      ],
      "text/plain": [
       "        Pop_size  sample_N_p0.5  sample_N_p0.7  sample_N_p0.9  sample_N_p0.95  \\\n",
       "35  5.179475e+06      78.523095     185.404611     466.948134      662.969997   \n",
       "31  1.151395e+06      78.518931     185.381396     466.800907      662.673254   \n",
       "37  1.098541e+07      78.523724     185.408119     466.970384      663.014850   \n",
       "\n",
       "    sample_N_p0.1  \n",
       "35       2.725565  \n",
       "31       2.725560  \n",
       "37       2.725565  "
      ]
     },
     "execution_count": 39,
     "metadata": {},
     "output_type": "execute_result"
    }
   ],
   "source": [
    "p_fraction = 0.5 # распределение голосов\n",
    "confidence = 0.5\n",
    "Z = st.norm.ppf( (1+confidence)/2)\n",
    "df_pop['sample_N_p0.5'] = df_pop.apply(lambda row: my_lambda(row.Pop_size), axis = 1)\n",
    "\n",
    "confidence = 0.7\n",
    "Z = st.norm.ppf( (1+confidence)/2)\n",
    "df_pop['sample_N_p0.7'] =  df_pop.apply(lambda row: my_lambda(row.Pop_size), axis = 1)\n",
    "\n",
    "confidence = 0.9\n",
    "Z = st.norm.ppf( (1+confidence)/2)\n",
    "df_pop['sample_N_p0.9'] =   df_pop.apply(lambda row: my_lambda(row.Pop_size), axis = 1)\n",
    "\n",
    "confidence = 0.95\n",
    "Z = st.norm.ppf( (1+confidence)/2)\n",
    "df_pop['sample_N_p0.95'] =  df_pop.apply(lambda row: my_lambda(row.Pop_size), axis = 1)\n",
    "\n",
    "confidence = 0.1\n",
    "Z = st.norm.ppf( (1+confidence)/2)\n",
    "df_pop['sample_N_p0.1'] =  df_pop.apply(lambda row: my_lambda(row.Pop_size), axis = 1)\n",
    "\n",
    "df_pop.sample(3)"
   ]
  },
  {
   "cell_type": "code",
   "execution_count": 40,
   "metadata": {},
   "outputs": [
    {
     "data": {
      "image/png": "[encoded data removed]",
      "text/plain": [
       "<Figure size 640x480 with 1 Axes>"
      ]
     },
     "metadata": {},
     "output_type": "display_data"
    }
   ],
   "source": [
    "# df_pop.plot(x = 'Pop_size', y= 'sample_N')\n",
    "fig, ax = plt.subplots()\n",
    "ax.plot(df_pop['Pop_size'], df_pop['sample_N_p0.5'], c='r',label='p=0.5')\n",
    "ax.plot(df_pop['Pop_size'], df_pop['sample_N_p0.7'], c='g',label='p=0.7')\n",
    "ax.plot(df_pop['Pop_size'], df_pop['sample_N_p0.9'], c='b',label='p=0.9')\n",
    "ax.plot(df_pop['Pop_size'], df_pop['sample_N_p0.95'], c='y',label='p=0.95')\n",
    "ax.set_xscale('log')\n",
    "ax.grid(color='gray', axis='both', linestyle=':', linewidth=0.3)\n",
    "ax.set_xlabel('Population')  # Add an x-label to the axes.\n",
    "ax.set_ylabel('Sample size')  # Add a y-label to the axes.\n",
    "ax.set_title(f\"Sample estimation on a given population size\\n(confidence = {confidence}, measurement error = {Delta})\")  # Add a title to the axes.\n",
    "ax.legend()\n",
    "plt.show()"
   ]
  },
  {
   "cell_type": "code",
   "execution_count": 41,
   "metadata": {},
   "outputs": [
    {
     "data": {
      "application/vnd.plotly.v1+json": {
       "config": {
        "plotlyServerURL": "https://plot.ly"
       },
       "data": [
        {
         "hovertemplate": "variable=sample_N_p0.5<br>Pop_size=%{x}<br>value=%{y}<extra></extra>",
         "legendgroup": "sample_N_p0.5",
         "line": {
          "color": "#636efa",
          "dash": "solid"
         },
         "marker": {
          "symbol": "circle"
         },
         "mode": "lines",
         "name": "sample_N_p0.5",
         "orientation": "v",
         "showlegend": true,
         "type": "scatter",
         "x": [
          10,
          14.563484775012437,
          21.209508879201906,
          30.888435964774818,
          44.98432668969444,
          65.51285568595509,
          95.40954763499938,
          138.94954943731375,
          202.35896477251555,
          294.705170255181,
          429.1934260128778,
          625.0551925273969,
          910.2981779915218,
          1325.7113655901082,
          1930.6977288832495,
          2811.768697974228,
          4094.9150623804235,
          5963.623316594642,
          8685.11373751352,
          12648.552168552958,
          18420.699693267165,
          26826.957952797275,
          39069.39937054613,
          56898.66029018293,
          82864.27728546843,
          120679.26406393289,
          175751.06248547893,
          255954.79226995332,
          372759.3720314938,
          542867.543932386,
          790604.3210907686,
          1151395.3993264458,
          1676832.9368110066,
          2442053.0945486496,
          3556480.3062231285,
          5179474.679231202,
          7543120.063354608,
          10985411.419875573,
          15998587.196060574,
          23299518.105153672,
          33932217.71895323,
          49417133.61323828,
          71968567.30011514,
          104811313.4154683,
          152641796.71752304,
          222299648.25261912,
          323745754.281764,
          471486636.34573895,
          686648845.0042999,
          1000000000
         ],
         "xaxis": "x",
         "y": [
          8.870366485028017,
          12.285042743998618,
          16.69906917461113,
          22.168284761570014,
          28.600127978371564,
          35.71544219076641,
          43.07365871620026,
          50.171157876444255,
          56.57187865420655,
          62.00344751442891,
          66.37961690574537,
          69.76043791419545,
          72.28852176589166,
          74.13323961282963,
          75.45540459791921,
          76.39091599752305,
          77.04683197750019,
          77.50377711063165,
          77.82068936845366,
          78.03980180133782,
          78.19097097792122,
          78.29511070282985,
          78.36677890500641,
          78.41606581726886,
          78.449944533839,
          78.47322427197565,
          78.48921727951617,
          78.50020263503691,
          78.50774749753438,
          78.51292900853917,
          78.51648728316275,
          78.51893075509476,
          78.52060865034353,
          78.52176081670427,
          78.522551969985,
          78.52309522370338,
          78.5234682525945,
          78.52372439450409,
          78.52390027501811,
          78.52402104362616,
          78.52410396946651,
          78.52416091050041,
          78.52420000904341,
          78.52422685603534,
          78.52424529050198,
          78.52425794851221,
          78.52426664012269,
          78.52427260820808,
          78.52427670618758,
          78.52427952006069
         ],
         "yaxis": "y"
        },
        {
         "hovertemplate": "variable=sample_N_p0.7<br>Pop_size=%{x}<br>value=%{y}<extra></extra>",
         "legendgroup": "sample_N_p0.7",
         "line": {
          "color": "#EF553B",
          "dash": "solid"
         },
         "marker": {
          "symbol": "circle"
         },
         "mode": "lines",
         "name": "sample_N_p0.7",
         "orientation": "v",
         "showlegend": true,
         "type": "scatter",
         "x": [
          10,
          14.563484775012437,
          21.209508879201906,
          30.888435964774818,
          44.98432668969444,
          65.51285568595509,
          95.40954763499938,
          138.94954943731375,
          202.35896477251555,
          294.705170255181,
          429.1934260128778,
          625.0551925273969,
          910.2981779915218,
          1325.7113655901082,
          1930.6977288832495,
          2811.768697974228,
          4094.9150623804235,
          5963.623316594642,
          8685.11373751352,
          12648.552168552958,
          18420.699693267165,
          26826.957952797275,
          39069.39937054613,
          56898.66029018293,
          82864.27728546843,
          120679.26406393289,
          175751.06248547893,
          255954.79226995332,
          372759.3720314938,
          542867.543932386,
          790604.3210907686,
          1151395.3993264458,
          1676832.9368110066,
          2442053.0945486496,
          3556480.3062231285,
          5179474.679231202,
          7543120.063354608,
          10985411.419875573,
          15998587.196060574,
          23299518.105153672,
          33932217.71895323,
          49417133.61323828,
          71968567.30011514,
          104811313.4154683,
          152641796.71752304,
          222299648.25261912,
          323745754.281764,
          471486636.34573895,
          686648845.0042999,
          1000000000
         ],
         "xaxis": "x",
         "y": [
          9.488258731050516,
          13.502875337574002,
          19.032364270063045,
          26.47744719668662,
          36.20121681109323,
          48.40834401210069,
          62.993922002629155,
          79.42639669035395,
          96.75737579319622,
          113.80917486865903,
          129.4771942100913,
          142.994524514207,
          154.03675208272563,
          162.6617168780083,
          169.16570898276623,
          173.94135576794775,
          177.37977363708964,
          179.82056043219868,
          181.5357917841793,
          182.7326264222126,
          183.56361140073858,
          184.13859651231678,
          184.5354997349938,
          184.80902513797693,
          184.997311060747,
          185.12681969075717,
          185.21585169296972,
          185.27703501949074,
          185.3190698923783,
          185.34794413580198,
          185.36777581252971,
          185.38139566811256,
          185.39074888524058,
          185.39717180752916,
          185.40158235741944,
          185.40461097792777,
          185.40669063399992,
          185.40811865445608,
          185.4090992157911,
          185.40977252310518,
          185.41023485162648,
          185.4105523103068,
          185.41077029357245,
          185.41091997182687,
          185.41102274836737,
          185.41109331982614,
          185.41114177766792,
          185.41117505120366,
          185.41119789844544,
          185.41121358648093
         ],
         "yaxis": "y"
        },
        {
         "hovertemplate": "variable=sample_N_p0.9<br>Pop_size=%{x}<br>value=%{y}<extra></extra>",
         "legendgroup": "sample_N_p0.9",
         "line": {
          "color": "#00cc96",
          "dash": "solid"
         },
         "marker": {
          "symbol": "circle"
         },
         "mode": "lines",
         "name": "sample_N_p0.9",
         "orientation": "v",
         "showlegend": true,
         "type": "scatter",
         "x": [
          10,
          14.563484775012437,
          21.209508879201906,
          30.888435964774818,
          44.98432668969444,
          65.51285568595509,
          95.40954763499938,
          138.94954943731375,
          202.35896477251555,
          294.705170255181,
          429.1934260128778,
          625.0551925273969,
          910.2981779915218,
          1325.7113655901082,
          1930.6977288832495,
          2811.768697974228,
          4094.9150623804235,
          5963.623316594642,
          8685.11373751352,
          12648.552168552958,
          18420.699693267165,
          26826.957952797275,
          39069.39937054613,
          56898.66029018293,
          82864.27728546843,
          120679.26406393289,
          175751.06248547893,
          255954.79226995332,
          372759.3720314938,
          542867.543932386,
          790604.3210907686,
          1151395.3993264458,
          1676832.9368110066,
          2442053.0945486496,
          3556480.3062231285,
          5179474.679231202,
          7543120.063354608,
          10985411.419875573,
          15998587.196060574,
          23299518.105153672,
          33932217.71895323,
          49417133.61323828,
          71968567.30011514,
          104811313.4154683,
          152641796.71752304,
          222299648.25261912,
          323745754.281764,
          471486636.34573895,
          686648845.0042999,
          1000000000
         ],
         "xaxis": "x",
         "y": [
          9.790352102265025,
          14.123045671130885,
          20.288076058780756,
          28.972114716119933,
          41.031806780902855,
          57.45293202447502,
          79.22358515494268,
          107.08668486578532,
          141.18140507719494,
          180.68172101261382,
          223.64739236595108,
          267.2916930697934,
          308.6502115518701,
          345.3415012953331,
          376.0359978646338,
          400.47730003471213,
          419.18567407489445,
          433.0774709934216,
          443.161847500321,
          450.36264360250857,
          455.4440966904854,
          459.0001897682305,
          461.47430693451867,
          463.1886589748876,
          464.37321153252975,
          465.1900977579942,
          465.75267799155915,
          466.1397616625362,
          466.4059250058697,
          466.588861838145,
          466.71455832447043,
          466.80090689560313,
          466.86021654657515,
          466.90095017794425,
          466.9289239951554,
          466.94813412556965,
          466.96132565476904,
          466.9703840346655,
          466.97660416426885,
          466.9808753050329,
          466.98380812414877,
          466.98582196233934,
          466.9872047720648,
          466.9881542815079,
          466.9888062633063,
          466.9892539469092,
          466.98956134883514,
          466.98977242624693,
          466.98991736241845,
          466.9900168827253
         ],
         "yaxis": "y"
        },
        {
         "hovertemplate": "variable=sample_N_p0.95<br>Pop_size=%{x}<br>value=%{y}<extra></extra>",
         "legendgroup": "sample_N_p0.95",
         "line": {
          "color": "#ab63fa",
          "dash": "solid"
         },
         "marker": {
          "symbol": "circle"
         },
         "mode": "lines",
         "name": "sample_N_p0.95",
         "orientation": "v",
         "showlegend": true,
         "type": "scatter",
         "x": [
          10,
          14.563484775012437,
          21.209508879201906,
          30.888435964774818,
          44.98432668969444,
          65.51285568595509,
          95.40954763499938,
          138.94954943731375,
          202.35896477251555,
          294.705170255181,
          429.1934260128778,
          625.0551925273969,
          910.2981779915218,
          1325.7113655901082,
          1930.6977288832495,
          2811.768697974228,
          4094.9150623804235,
          5963.623316594642,
          8685.11373751352,
          12648.552168552958,
          18420.699693267165,
          26826.957952797275,
          39069.39937054613,
          56898.66029018293,
          82864.27728546843,
          120679.26406393289,
          175751.06248547893,
          255954.79226995332,
          372759.3720314938,
          542867.543932386,
          790604.3210907686,
          1151395.3993264458,
          1676832.9368110066,
          2442053.0945486496,
          3556480.3062231285,
          5179474.679231202,
          7543120.063354608,
          10985411.419875573,
          15998587.196060574,
          23299518.105153672,
          33932217.71895323,
          49417133.61323828,
          71968567.30011514,
          104811313.4154683,
          152641796.71752304,
          222299648.25261912,
          323745754.281764,
          471486636.34573895,
          686648845.0042999,
          1000000000
         ],
         "xaxis": "x",
         "y": [
          9.851423702903613,
          14.250483971555854,
          20.55209738412754,
          29.513546299901996,
          42.12630743951478,
          59.62193556721859,
          83.40769020477518,
          114.87614426155685,
          155.04154380847416,
          204.02364886726517,
          260.54404658458895,
          321.747264315876,
          383.6250482240689,
          441.9923063312488,
          493.55460078165197,
          536.5328302352639,
          570.6537462766064,
          596.7106534749712,
          616.0251471886037,
          630.0279194723732,
          640.0173802680375,
          647.0620866886725,
          651.9898136459141,
          655.417121831766,
          657.7914199367389,
          659.4317150374388,
          660.5627670270864,
          661.3416519682108,
          661.8775369085017,
          662.246004857934,
          662.4992506049688,
          662.6732536906025,
          662.7927856462186,
          662.874887099119,
          662.9312737462461,
          662.9699971276467,
          662.9965891124797,
          663.0148497034703,
          663.0273888996696,
          663.0359991989081,
          663.0419115804349,
          663.0459713714405,
          663.0487590510345,
          663.050673221582,
          663.0519875909774,
          663.0528901042221,
          663.053509815322,
          663.0539353399038,
          663.0542275261826,
          663.0544281557025
         ],
         "yaxis": "y"
        }
       ],
       "layout": {
        "height": 800,
        "legend": {
         "title": {
          "text": "variable"
         },
         "tracegroupgap": 0
        },
        "template": {
         "data": {
          "bar": [
           {
            "error_x": {
             "color": "#2a3f5f"
            },
            "error_y": {
             "color": "#2a3f5f"
            },
            "marker": {
             "line": {
              "color": "#E5ECF6",
              "width": 0.5
             },
             "pattern": {
              "fillmode": "overlay",
              "size": 10,
              "solidity": 0.2
             }
            },
            "type": "bar"
           }
          ],
          "barpolar": [
           {
            "marker": {
             "line": {
              "color": "#E5ECF6",
              "width": 0.5
             },
             "pattern": {
              "fillmode": "overlay",
              "size": 10,
              "solidity": 0.2
             }
            },
            "type": "barpolar"
           }
          ],
          "carpet": [
           {
            "aaxis": {
             "endlinecolor": "#2a3f5f",
             "gridcolor": "white",
             "linecolor": "white",
             "minorgridcolor": "white",
             "startlinecolor": "#2a3f5f"
            },
            "baxis": {
             "endlinecolor": "#2a3f5f",
             "gridcolor": "white",
             "linecolor": "white",
             "minorgridcolor": "white",
             "startlinecolor": "#2a3f5f"
            },
            "type": "carpet"
           }
          ],
          "choropleth": [
           {
            "colorbar": {
             "outlinewidth": 0,
             "ticks": ""
            },
            "type": "choropleth"
           }
          ],
          "contour": [
           {
            "colorbar": {
             "outlinewidth": 0,
             "ticks": ""
            },
            "colorscale": [
             [
              0,
              "#0d0887"
             ],
             [
              0.1111111111111111,
              "#46039f"
             ],
             [
              0.2222222222222222,
              "#7201a8"
             ],
             [
              0.3333333333333333,
              "#9c179e"
             ],
             [
              0.4444444444444444,
              "#bd3786"
             ],
             [
              0.5555555555555556,
              "#d8576b"
             ],
             [
              0.6666666666666666,
              "#ed7953"
             ],
             [
              0.7777777777777778,
              "#fb9f3a"
             ],
             [
              0.8888888888888888,
              "#fdca26"
             ],
             [
              1,
              "#f0f921"
             ]
            ],
            "type": "contour"
           }
          ],
          "contourcarpet": [
           {
            "colorbar": {
             "outlinewidth": 0,
             "ticks": ""
            },
            "type": "contourcarpet"
           }
          ],
          "heatmap": [
           {
            "colorbar": {
             "outlinewidth": 0,
             "ticks": ""
            },
            "colorscale": [
             [
              0,
              "#0d0887"
             ],
             [
              0.1111111111111111,
              "#46039f"
             ],
             [
              0.2222222222222222,
              "#7201a8"
             ],
             [
              0.3333333333333333,
              "#9c179e"
             ],
             [
              0.4444444444444444,
              "#bd3786"
             ],
             [
              0.5555555555555556,
              "#d8576b"
             ],
             [
              0.6666666666666666,
              "#ed7953"
             ],
             [
              0.7777777777777778,
              "#fb9f3a"
             ],
             [
              0.8888888888888888,
              "#fdca26"
             ],
             [
              1,
              "#f0f921"
             ]
            ],
            "type": "heatmap"
           }
          ],
          "heatmapgl": [
           {
            "colorbar": {
             "outlinewidth": 0,
             "ticks": ""
            },
            "colorscale": [
             [
              0,
              "#0d0887"
             ],
             [
              0.1111111111111111,
              "#46039f"
             ],
             [
              0.2222222222222222,
              "#7201a8"
             ],
             [
              0.3333333333333333,
              "#9c179e"
             ],
             [
              0.4444444444444444,
              "#bd3786"
             ],
             [
              0.5555555555555556,
              "#d8576b"
             ],
             [
              0.6666666666666666,
              "#ed7953"
             ],
             [
              0.7777777777777778,
              "#fb9f3a"
             ],
             [
              0.8888888888888888,
              "#fdca26"
             ],
             [
              1,
              "#f0f921"
             ]
            ],
            "type": "heatmapgl"
           }
          ],
          "histogram": [
           {
            "marker": {
             "pattern": {
              "fillmode": "overlay",
              "size": 10,
              "solidity": 0.2
             }
            },
            "type": "histogram"
           }
          ],
          "histogram2d": [
           {
            "colorbar": {
             "outlinewidth": 0,
             "ticks": ""
            },
            "colorscale": [
             [
              0,
              "#0d0887"
             ],
             [
              0.1111111111111111,
              "#46039f"
             ],
             [
              0.2222222222222222,
              "#7201a8"
             ],
             [
              0.3333333333333333,
              "#9c179e"
             ],
             [
              0.4444444444444444,
              "#bd3786"
             ],
             [
              0.5555555555555556,
              "#d8576b"
             ],
             [
              0.6666666666666666,
              "#ed7953"
             ],
             [
              0.7777777777777778,
              "#fb9f3a"
             ],
             [
              0.8888888888888888,
              "#fdca26"
             ],
             [
              1,
              "#f0f921"
             ]
            ],
            "type": "histogram2d"
           }
          ],
          "histogram2dcontour": [
           {
            "colorbar": {
             "outlinewidth": 0,
             "ticks": ""
            },
            "colorscale": [
             [
              0,
              "#0d0887"
             ],
             [
              0.1111111111111111,
              "#46039f"
             ],
             [
              0.2222222222222222,
              "#7201a8"
             ],
             [
              0.3333333333333333,
              "#9c179e"
             ],
             [
              0.4444444444444444,
              "#bd3786"
             ],
             [
              0.5555555555555556,
              "#d8576b"
             ],
             [
              0.6666666666666666,
              "#ed7953"
             ],
             [
              0.7777777777777778,
              "#fb9f3a"
             ],
             [
              0.8888888888888888,
              "#fdca26"
             ],
             [
              1,
              "#f0f921"
             ]
            ],
            "type": "histogram2dcontour"
           }
          ],
          "mesh3d": [
           {
            "colorbar": {
             "outlinewidth": 0,
             "ticks": ""
            },
            "type": "mesh3d"
           }
          ],
          "parcoords": [
           {
            "line": {
             "colorbar": {
              "outlinewidth": 0,
              "ticks": ""
             }
            },
            "type": "parcoords"
           }
          ],
          "pie": [
           {
            "automargin": true,
            "type": "pie"
           }
          ],
          "scatter": [
           {
            "fillpattern": {
             "fillmode": "overlay",
             "size": 10,
             "solidity": 0.2
            },
            "type": "scatter"
           }
          ],
          "scatter3d": [
           {
            "line": {
             "colorbar": {
              "outlinewidth": 0,
              "ticks": ""
             }
            },
            "marker": {
             "colorbar": {
              "outlinewidth": 0,
              "ticks": ""
             }
            },
            "type": "scatter3d"
           }
          ],
          "scattercarpet": [
           {
            "marker": {
             "colorbar": {
              "outlinewidth": 0,
              "ticks": ""
             }
            },
            "type": "scattercarpet"
           }
          ],
          "scattergeo": [
           {
            "marker": {
             "colorbar": {
              "outlinewidth": 0,
              "ticks": ""
             }
            },
            "type": "scattergeo"
           }
          ],
          "scattergl": [
           {
            "marker": {
             "colorbar": {
              "outlinewidth": 0,
              "ticks": ""
             }
            },
            "type": "scattergl"
           }
          ],
          "scattermapbox": [
           {
            "marker": {
             "colorbar": {
              "outlinewidth": 0,
              "ticks": ""
             }
            },
            "type": "scattermapbox"
           }
          ],
          "scatterpolar": [
           {
            "marker": {
             "colorbar": {
              "outlinewidth": 0,
              "ticks": ""
             }
            },
            "type": "scatterpolar"
           }
          ],
          "scatterpolargl": [
           {
            "marker": {
             "colorbar": {
              "outlinewidth": 0,
              "ticks": ""
             }
            },
            "type": "scatterpolargl"
           }
          ],
          "scatterternary": [
           {
            "marker": {
             "colorbar": {
              "outlinewidth": 0,
              "ticks": ""
             }
            },
            "type": "scatterternary"
           }
          ],
          "surface": [
           {
            "colorbar": {
             "outlinewidth": 0,
             "ticks": ""
            },
            "colorscale": [
             [
              0,
              "#0d0887"
             ],
             [
              0.1111111111111111,
              "#46039f"
             ],
             [
              0.2222222222222222,
              "#7201a8"
             ],
             [
              0.3333333333333333,
              "#9c179e"
             ],
             [
              0.4444444444444444,
              "#bd3786"
             ],
             [
              0.5555555555555556,
              "#d8576b"
             ],
             [
              0.6666666666666666,
              "#ed7953"
             ],
             [
              0.7777777777777778,
              "#fb9f3a"
             ],
             [
              0.8888888888888888,
              "#fdca26"
             ],
             [
              1,
              "#f0f921"
             ]
            ],
            "type": "surface"
           }
          ],
          "table": [
           {
            "cells": {
             "fill": {
              "color": "#EBF0F8"
             },
             "line": {
              "color": "white"
             }
            },
            "header": {
             "fill": {
              "color": "#C8D4E3"
             },
             "line": {
              "color": "white"
             }
            },
            "type": "table"
           }
          ]
         },
         "layout": {
          "annotationdefaults": {
           "arrowcolor": "#2a3f5f",
           "arrowhead": 0,
           "arrowwidth": 1
          },
          "autotypenumbers": "strict",
          "coloraxis": {
           "colorbar": {
            "outlinewidth": 0,
            "ticks": ""
           }
          },
          "colorscale": {
           "diverging": [
            [
             0,
             "#8e0152"
            ],
            [
             0.1,
             "#c51b7d"
            ],
            [
             0.2,
             "#de77ae"
            ],
            [
             0.3,
             "#f1b6da"
            ],
            [
             0.4,
             "#fde0ef"
            ],
            [
             0.5,
             "#f7f7f7"
            ],
            [
             0.6,
             "#e6f5d0"
            ],
            [
             0.7,
             "#b8e186"
            ],
            [
             0.8,
             "#7fbc41"
            ],
            [
             0.9,
             "#4d9221"
            ],
            [
             1,
             "#276419"
            ]
           ],
           "sequential": [
            [
             0,
             "#0d0887"
            ],
            [
             0.1111111111111111,
             "#46039f"
            ],
            [
             0.2222222222222222,
             "#7201a8"
            ],
            [
             0.3333333333333333,
             "#9c179e"
            ],
            [
             0.4444444444444444,
             "#bd3786"
            ],
            [
             0.5555555555555556,
             "#d8576b"
            ],
            [
             0.6666666666666666,
             "#ed7953"
            ],
            [
             0.7777777777777778,
             "#fb9f3a"
            ],
            [
             0.8888888888888888,
             "#fdca26"
            ],
            [
             1,
             "#f0f921"
            ]
           ],
           "sequentialminus": [
            [
             0,
             "#0d0887"
            ],
            [
             0.1111111111111111,
             "#46039f"
            ],
            [
             0.2222222222222222,
             "#7201a8"
            ],
            [
             0.3333333333333333,
             "#9c179e"
            ],
            [
             0.4444444444444444,
             "#bd3786"
            ],
            [
             0.5555555555555556,
             "#d8576b"
            ],
            [
             0.6666666666666666,
             "#ed7953"
            ],
            [
             0.7777777777777778,
             "#fb9f3a"
            ],
            [
             0.8888888888888888,
             "#fdca26"
            ],
            [
             1,
             "#f0f921"
            ]
           ]
          },
          "colorway": [
           "#636efa",
           "#EF553B",
           "#00cc96",
           "#ab63fa",
           "#FFA15A",
           "#19d3f3",
           "#FF6692",
           "#B6E880",
           "#FF97FF",
           "#FECB52"
          ],
          "font": {
           "color": "#2a3f5f"
          },
          "geo": {
           "bgcolor": "white",
           "lakecolor": "white",
           "landcolor": "#E5ECF6",
           "showlakes": true,
           "showland": true,
           "subunitcolor": "white"
          },
          "hoverlabel": {
           "align": "left"
          },
          "hovermode": "closest",
          "mapbox": {
           "style": "light"
          },
          "paper_bgcolor": "white",
          "plot_bgcolor": "#E5ECF6",
          "polar": {
           "angularaxis": {
            "gridcolor": "white",
            "linecolor": "white",
            "ticks": ""
           },
           "bgcolor": "#E5ECF6",
           "radialaxis": {
            "gridcolor": "white",
            "linecolor": "white",
            "ticks": ""
           }
          },
          "scene": {
           "xaxis": {
            "backgroundcolor": "#E5ECF6",
            "gridcolor": "white",
            "gridwidth": 2,
            "linecolor": "white",
            "showbackground": true,
            "ticks": "",
            "zerolinecolor": "white"
           },
           "yaxis": {
            "backgroundcolor": "#E5ECF6",
            "gridcolor": "white",
            "gridwidth": 2,
            "linecolor": "white",
            "showbackground": true,
            "ticks": "",
            "zerolinecolor": "white"
           },
           "zaxis": {
            "backgroundcolor": "#E5ECF6",
            "gridcolor": "white",
            "gridwidth": 2,
            "linecolor": "white",
            "showbackground": true,
            "ticks": "",
            "zerolinecolor": "white"
           }
          },
          "shapedefaults": {
           "line": {
            "color": "#2a3f5f"
           }
          },
          "ternary": {
           "aaxis": {
            "gridcolor": "white",
            "linecolor": "white",
            "ticks": ""
           },
           "baxis": {
            "gridcolor": "white",
            "linecolor": "white",
            "ticks": ""
           },
           "bgcolor": "#E5ECF6",
           "caxis": {
            "gridcolor": "white",
            "linecolor": "white",
            "ticks": ""
           }
          },
          "title": {
           "x": 0.05
          },
          "xaxis": {
           "automargin": true,
           "gridcolor": "white",
           "linecolor": "white",
           "ticks": "",
           "title": {
            "standoff": 15
           },
           "zerolinecolor": "white",
           "zerolinewidth": 2
          },
          "yaxis": {
           "automargin": true,
           "gridcolor": "white",
           "linecolor": "white",
           "ticks": "",
           "title": {
            "standoff": 15
           },
           "zerolinecolor": "white",
           "zerolinewidth": 2
          }
         }
        },
        "title": {
         "text": "Sample estimation on a given population size\n(confidence = 0.1, measurement error = 0.0380577721311177)"
        },
        "width": 1000,
        "xaxis": {
         "anchor": "y",
         "domain": [
          0,
          1
         ],
         "rangeslider": {
          "visible": true
         },
         "title": {
          "text": "Pop_size"
         },
         "type": "log"
        },
        "yaxis": {
         "anchor": "x",
         "domain": [
          0,
          1
         ],
         "title": {
          "text": "value"
         }
        }
       }
      }
     },
     "metadata": {},
     "output_type": "display_data"
    }
   ],
   "source": [
    "fig = px.line(df_pop, x='Pop_size', y = ['sample_N_p0.5','sample_N_p0.7','sample_N_p0.9','sample_N_p0.95'], \n",
    "    title = f\"Sample estimation on a given population size\\n(confidence = {confidence}, measurement error = {Delta})\",\n",
    "    log_x=True, width=1000, height=800)\n",
    "fig.update_xaxes(rangeslider_visible = True)\n",
    "fig.show()"
   ]
  },
  {
   "cell_type": "code",
   "execution_count": 42,
   "metadata": {},
   "outputs": [
    {
     "name": "stdout",
     "output_type": "stream",
     "text": [
      "0.065\n"
     ]
    }
   ],
   "source": [
    "t_value = -2\n",
    "n = 15\n",
    "df = n - 1\n",
    "\n",
    "p = 2 * (1 - st.t.cdf(abs(t_value), df))\n",
    "\n",
    "print(round(p, 3))"
   ]
  }
 ],
 "metadata": {
  "kernelspec": {
   "display_name": "base",
   "language": "python",
   "name": "python3"
  },
  "language_info": {
   "codemirror_mode": {
    "name": "ipython",
    "version": 3
   },
   "file_extension": ".py",
   "mimetype": "text/x-python",
   "name": "python",
   "nbconvert_exporter": "python",
   "pygments_lexer": "ipython3",
   "version": "3.10.8"
  },
  "vscode": {
   "interpreter": {
    "hash": "3f0fc0265faf3f010b6ea13d4d06fa8f6d9bd8f9a0a69886dc52220c62e8c74f"
   }
  }
 },
 "nbformat": 4,
 "nbformat_minor": 4
}
