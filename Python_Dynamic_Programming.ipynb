{
 "cells": [
  {
   "attachments": {},
   "cell_type": "markdown",
   "metadata": {},
   "source": [
    "[983. Minimum Cost For Tickets](https://leetcode.com/problems/minimum-cost-for-tickets/description/)"
   ]
  },
  {
   "attachments": {},
   "cell_type": "markdown",
   "metadata": {},
   "source": [
    "The problem can be solved using dynamic programming.  \n",
    "We can define a one-dimensional array `cost_on_day` of length `last_day+1`, where `last_day` is the largest day in the `days` array.  \n",
    "Each element `cost_on_day[i]` of the array represents the `minimum cost to travel up to day i`. \n",
    "\n",
    "We can then iterate over the elements of `cost_on_day` and update them according to the minimum of the following three options:\n",
    "* Buy a one-day ticket on day i, in which case the cost is `cost_on_day[i-1] + costs[0]`.  \n",
    "* Buy a seven-day ticket that is valid starting from day i-7, in which case the cost is `cost_on_day[max(0,i-7)] + costs[1]`.  \n",
    "* Buy a thirty-day ticket that is valid starting from day i-30, in which case the cost is `cost_on_day[max(0,i-30)] + costs[2]`.  (max(0,i-30) is used to avoid negative indices)\n",
    "\n",
    "After iterating over the entire `cost_on_day` array, the final minimum cost will be stored in the last element `cost_on_day[-1]`.  \n",
    "\n",
    "The idea behind the dynamic programming approach is to build up the solution incrementally,   \n",
    "starting from smaller subproblems and working our way up to larger subproblems.  \n",
    "\n",
    "In this case, we start by considering the minimum cost to travel up to day 1,   \n",
    "which is simply `costs[0]` if day 1 is in the days array, or 0 if it is not.  \n",
    "\n",
    "We then consider the minimum cost to travel up to day 2, which can be computed by considering the minimum cost  \n",
    "of buying a one-day ticket on day 2, a seven-day ticket valid from day 1 to day 7, or a thirty-day ticket valid from day 1 to day 30.  \n",
    " \n",
    "We can then use this information to compute the minimum cost to travel up to day 3, and so on.  \n",
    "\n",
    "By iteratively building up the minimum cost to travel up to each day, we eventually arrive at the minimum cost  \n",
    "to travel up to the largest day in the days array, which is our final solution."
   ]
  },
  {
   "cell_type": "code",
   "execution_count": 70,
   "metadata": {},
   "outputs": [],
   "source": [
    "# Problem: 983. Minimum Cost For Tickets\n",
    "# Difficulty: Medium\n",
    "from typing import Iterable\n",
    "\n",
    "\n",
    "class Solution:\n",
    "    def mincostTickets(self, days: Iterable, costs: Iterable, details=False) -> int:\n",
    "        ticket_duration = [1, 7, 30]\n",
    "        tickets = len(ticket_duration) # 3\n",
    "        last_day = (\n",
    "            max(days) + 1  \n",
    "        )  # last day in days + 1 to start indexing from 1, 0 as initial state\n",
    "\n",
    "        #  the minimum cost to travel up to day i. [0, 0, 0, 0 ...]\n",
    "        cost_on_day = [0] * last_day\n",
    "        ticket_used = [0] * last_day\n",
    "\n",
    "        travel_days = set(days)  # use a set to speed up iterating\n",
    "\n",
    "        # iterate over 'cost_on_day' elements, actually over all range of days\n",
    "        for i in range(1, last_day):\n",
    "            if i not in travel_days:\n",
    "                # copy previous cost (zero for the first day)\n",
    "                cost_on_day[i] = cost_on_day[i - 1]\n",
    "                # ticket_used[i] = ticket_used[i - 1]\n",
    "            else:  # choose the minima among different variants (tickets)\n",
    "                cost_options = []\n",
    "                for j in range(tickets):\n",
    "                    # clipping index by 0, select cost backwards by ticket duration\n",
    "                    # and add cost for that ticket\n",
    "                    cost_options.append(\n",
    "                        cost_on_day[max(0, i - ticket_duration[j])] + costs[j]\n",
    "                    )\n",
    "                min_cost_index = cost_options.index(min(cost_options))\n",
    "                cost_on_day[i] = min(cost_options)\n",
    "                \n",
    "                if details:\n",
    "                    ticket_used[i] = ticket_duration[min_cost_index]  # Record the index of the used ticket\n",
    "\n",
    "                # cost_on_day[i] = min(\n",
    "                #     [\n",
    "                #         cost_on_day[max(0, i - ticket_duration[j])] + costs[j]\n",
    "                #         for j in range(tickets)\n",
    "                #     ]\n",
    "                # )\n",
    "\n",
    "        return cost_on_day[-1], ticket_used, cost_on_day"
   ]
  },
  {
   "cell_type": "code",
   "execution_count": 71,
   "metadata": {},
   "outputs": [
    {
     "data": {
      "text/plain": [
       "44"
      ]
     },
     "execution_count": 71,
     "metadata": {},
     "output_type": "execute_result"
    }
   ],
   "source": [
    "days = [1,4,6,     9,10,11,12,13,14,15,     16,17,18,20,21,22,  23,27,28]    # sum  44\n",
    "costs = [3,13,45]\n",
    "sol = Solution()\n",
    "result, ticket_used, cost_on_day = sol.mincostTickets(days, costs,True)\n",
    "result"
   ]
  },
  {
   "cell_type": "code",
   "execution_count": 72,
   "metadata": {},
   "outputs": [
    {
     "data": {
      "text/plain": [
       "[0,\n",
       " 1,\n",
       " 0,\n",
       " 0,\n",
       " 1,\n",
       " 0,\n",
       " 1,\n",
       " 0,\n",
       " 0,\n",
       " 1,\n",
       " 1,\n",
       " 1,\n",
       " 7,\n",
       " 1,\n",
       " 7,\n",
       " 7,\n",
       " 1,\n",
       " 1,\n",
       " 1,\n",
       " 0,\n",
       " 1,\n",
       " 7,\n",
       " 7,\n",
       " 1,\n",
       " 0,\n",
       " 0,\n",
       " 0,\n",
       " 1,\n",
       " 1]"
      ]
     },
     "execution_count": 72,
     "metadata": {},
     "output_type": "execute_result"
    }
   ],
   "source": [
    "ticket_used"
   ]
  },
  {
   "cell_type": "code",
   "execution_count": 73,
   "metadata": {},
   "outputs": [
    {
     "data": {
      "text/plain": [
       "29"
      ]
     },
     "execution_count": 73,
     "metadata": {},
     "output_type": "execute_result"
    }
   ],
   "source": [
    "len(cost_on_day)"
   ]
  },
  {
   "cell_type": "code",
   "execution_count": 74,
   "metadata": {},
   "outputs": [
    {
     "name": "stdout",
     "output_type": "stream",
     "text": [
      "cost[0, 3, 3, 3, 6, 6, 9, 9, 9, 12, 15, 18, 19, 22, 22, 22, 25, 28, 31, 31, 34, 35, 35, 38, 38, 38, 38, 41, 44]\n",
      "[1, 4, 6, 9, 10, 11, 12, 13, 14, 15, 16, 17, 18, 20, 21, 22, 23, 27, 28]\n"
     ]
    }
   ],
   "source": [
    "print ('cost'+''.join(str(cost_on_day)))\n",
    "# print ('days'+''.join(str(temp)))\n",
    "print (''.join(str(days)))\n",
    "# cost[0, 3, 3, 3, 6, 6, 9, 9, 9, 12, 15, 18, 19, 22, 22, 22, 25, 28, 31, 31, 34, 35, 35, 38, 38, 38, 38, 41, 44]\n",
    "# days[0, 1, 1, 1, 4, 4, 6, 6, 6,  9, 10, 11, 12, 13, 14, 15, 16, 17, 18, 18, 20, 21, 22, 23, 23, 23, 23, 27, 28]\n",
    "#     [1,          4,    6,        9, 10, 11, 12, 13, 14, 15, 16, 17, 18,     20, 21, 22, 23,             27, 28]\n"
   ]
  },
  {
   "attachments": {},
   "cell_type": "markdown",
   "metadata": {},
   "source": [
    "[Activity Selection Problem. **GREEDY approach**](https://www.techiedelight.com/activity-selection-problem/)\n",
    "\n",
    "**Given a set of activities, along with the starting and finishing time of each activity, find the MAXIMUM number of activities performed by a single person assuming that a person can only work on a SINGLE activity at a time.**\n",
    "\n",
    "The activity selection problem is a problem concerning selecting non-conflicting activities to perform within a given time frame, given a set of activities each marked by a `start` and `finish` time.  \n",
    "A classic application of this problem is scheduling a room for multiple competing events, each having its time requirements (start and end time).\n",
    "\n",
    " \n",
    "Let’s assume there exist $n$ activities each being represented by a start time $S[i]$ and finish time $F[j]$. Two activities $i$ and $j$ are said to be non-conflicting if  \n",
    "$$S[i] = F[j]$$ \n",
    "or $$S[j] = F[i]$$\n",
    "\n",
    "We can solve this problem by being greedy.  \n",
    "Using a greedy approach will always result in an optimal solution to this problem.  \n",
    "\n",
    "*A greedy approach is a problem-solving strategy that involves making locally optimal choices at each step in the hope of finding a global optimum solution. In other words, it involves making the best possible decision at each stage of a problem without considering the long-term consequences of those decisions.*  \n",
    "\n",
    "The idea is to initially **sort** the activities in increasing order of their **finish** times and create a set R to store the selected activities and initialize it with the first activity.  \n",
    "Then from the second activity onward, *include the activity in the activities list if the activity’s start time is greater or equal to the finish time of the last selected activity*. Repeat this for each activity involved."
   ]
  },
  {
   "cell_type": "code",
   "execution_count": 47,
   "metadata": {},
   "outputs": [],
   "source": [
    "def selectActivity(activities):\n",
    "    \n",
    "    result = set()  # set of selected activities INDEXES\n",
    "    pointer = 0     # pointer to the last selected activity\n",
    "\n",
    "    activities.sort(key=lambda x: x[1]) # sort activities by end time\n",
    "\n",
    "    if len(activities) > 0:  # if there are ANY activities\n",
    "        result.add(pointer)  # add first activity to the result\n",
    "\n",
    "    for i in range(0, len(activities)): # iterate over activities\n",
    "\n",
    "        # if start time of the current activity is greater than \n",
    "        # or equal to the end time of the last selected activity\n",
    "        # then select the current activity\n",
    "        start, end = activities[i][0], activities[pointer][1]\n",
    "        if start >= end:  \n",
    "            result.add(i)    # add current activity to the result\n",
    "            pointer = i # update pointer\n",
    "\n",
    "    return [activities[i] for i in result]  # return selected activities by INDEX"
   ]
  },
  {
   "cell_type": "code",
   "execution_count": 48,
   "metadata": {},
   "outputs": [
    {
     "name": "stdout",
     "output_type": "stream",
     "text": [
      "[(1, 4), (5, 7), (8, 11), (12, 14)]\n"
     ]
    }
   ],
   "source": [
    "activities = [(1, 4), (3, 5), (0, 6), (5, 7), (3, 8), (5, 9),\n",
    "        (6, 10), (8, 11), (8, 12), (2, 13), (12, 14)]\n",
    "\n",
    "result = selectActivity(activities) \n",
    "result.sort()   # sort by start time\n",
    "print (result)"
   ]
  },
  {
   "attachments": {},
   "cell_type": "markdown",
   "metadata": {},
   "source": [
    "[Activity Selection Problem. **Dynamic programming**](https://www.techiedelight.com/activity-selection-problem-using-dynamic-programming/)\n",
    "\n",
    "**Given a set of activities, along with the starting and finishing time of each activity, find the MAXIMUM number of activities performed by a single person assuming that a person can only work on a SINGLE activity at a time.**\n",
    "\n",
    "The activity selection problem is a problem concerning selecting non-conflicting activities to perform within a given time frame, given a set of activities each marked by a `start` and `finish` time.  \n",
    "A classic application of this problem is scheduling a room for multiple competing events, each having its time requirements (start and end time).\n",
    "\n",
    " \n",
    "Let’s assume there exist $n$ activities each being represented by a start time $S[i]$ and finish time $F[j]$. Two activities $i$ and $j$ are said to be non-conflicting if  \n",
    "$$S[i] = F[j]$$ \n",
    "or $$S[j] = F[i]$$\n",
    "\n",
    "In the previous post, we have discussed a greedy approach for activity selection problem. This post will discuss a **dynamic programming solution** for the activity selection problem, which is nothing but a variation of the [Longest Increasing Subsequence (LIS)](https://www.techiedelight.com/longest-increasing-subsequence-using-dynamic-programming/)problem.\n",
    "\n",
    "The idea is first to sort given activities in *increasing order of their start time*.  \n",
    "Let jobs $[0…n-1]$ be the sorted array of activities.  \n",
    "We can define an array $L$ such that $L[i]$ itself is an array that stores *maximum non-conflicting jobs  \n",
    "ending at $i'th$ job*.  \n",
    "Therefore, $L[i]$ can be recursively written as:  \n",
    "\n",
    "```L[i] = jobs[i] + { max(L[j]), where j < i and jobs[j].end < jobs[i].start } ```\n",
    "\n",
    "     = jobs[i], if there is no such j\n",
    "\n",
    "\n"
   ]
  },
  {
   "cell_type": "code",
   "execution_count": 309,
   "metadata": {},
   "outputs": [],
   "source": [
    "def findNonConflictingJobsLength(jobs, print_=False):\n",
    " \n",
    "    \n",
    "    jobs.sort(key=lambda x: x[0]) # Sort the jobs according to INCREASING order of their START time\n",
    " \n",
    "    # L[i] stores the maximum count of non-conflicting jobs at given INDEX i\n",
    "    # the number of jobs that can be done before job i\n",
    "    L = [0] * len(jobs) # [0, 0, 0, 0, 0, ...]\n",
    "    if print_:\n",
    "        print('job[i]start AFTER job[j]end i , j   L')\n",
    "\n",
    "    for i in range(len(jobs)): # consider each `i`th job\n",
    "               \n",
    "        for j in range(i):  # consider each `j` less than `i`\n",
    "            if print_:\n",
    "                print(f'{jobs[i]}  {jobs[j]}        job{i:>1},iter{j:>1} {L}')\n",
    "\n",
    "            # Look for previous job `j` in LIST\n",
    "            # where `j` job finish before `jobs[i].start` \n",
    "            start, finish = jobs[i][0], jobs[j][1]\n",
    "            if L[i] < L[j] and start > finish:\n",
    "                # if L[j] > 1 then on j position there is already more \n",
    "                # than 1 job and now we managed to add one more job\n",
    "                if print_:\n",
    "                    print(f'YES! jobs[{i}]start after jobs[{j}]end ------------   {L}')\n",
    "                L[i] = L[j] # update L[i] with L[j] \n",
    "\n",
    "        L[i] = L[i] + 1 # increment current value of L[i] \n",
    "\n",
    "        print(f'-----------next {jobs[i]}   FOUND {L[i]} jobs  L = {L}')\n",
    "\n",
    "    # return the maximum job length in the list\n",
    "    return max(L)"
   ]
  },
  {
   "cell_type": "code",
   "execution_count": 310,
   "metadata": {},
   "outputs": [
    {
     "name": "stdout",
     "output_type": "stream",
     "text": [
      "-----------next (0, 6)   FOUND 1 jobs  L = [1, 0, 0, 0, 0, 0, 0, 0, 0, 0, 0]\n",
      "-----------next (1, 4)   FOUND 1 jobs  L = [1, 1, 0, 0, 0, 0, 0, 0, 0, 0, 0]\n",
      "-----------next (2, 13)   FOUND 1 jobs  L = [1, 1, 1, 0, 0, 0, 0, 0, 0, 0, 0]\n",
      "-----------next (3, 5)   FOUND 1 jobs  L = [1, 1, 1, 1, 0, 0, 0, 0, 0, 0, 0]\n",
      "-----------next (3, 8)   FOUND 1 jobs  L = [1, 1, 1, 1, 1, 0, 0, 0, 0, 0, 0]\n",
      "-----------next (5, 7)   FOUND 2 jobs  L = [1, 1, 1, 1, 1, 2, 0, 0, 0, 0, 0]\n",
      "-----------next (5, 9)   FOUND 2 jobs  L = [1, 1, 1, 1, 1, 2, 2, 0, 0, 0, 0]\n",
      "-----------next (6, 10)   FOUND 2 jobs  L = [1, 1, 1, 1, 1, 2, 2, 2, 0, 0, 0]\n",
      "-----------next (8, 11)   FOUND 3 jobs  L = [1, 1, 1, 1, 1, 2, 2, 2, 3, 0, 0]\n",
      "-----------next (8, 12)   FOUND 3 jobs  L = [1, 1, 1, 1, 1, 2, 2, 2, 3, 3, 0]\n",
      "-----------next (12, 14)   FOUND 4 jobs  L = [1, 1, 1, 1, 1, 2, 2, 2, 3, 3, 4]\n",
      "4\n"
     ]
    }
   ],
   "source": [
    "jobs = [(0, 6), (1, 4), (2, 13), (3, 5), (3, 8), (5, 7), (5, 9), (6, 10), (8, 11), (8, 12), (12, 14)]\n",
    "\n",
    "result = findNonConflictingJobsLength(jobs, print_ = False) \n",
    "# result.sort()   # sort by start time\n",
    "print (result)"
   ]
  },
  {
   "cell_type": "code",
   "execution_count": null,
   "metadata": {},
   "outputs": [],
   "source": [
    "# Find the maximum number of non-conflicting jobs that can be performed\n",
    "# by a single person\n",
    "def findNonConflictingJobs(jobs):\n",
    " \n",
    "    # sort the jobs according to increasing order of their start time\n",
    "    jobs.sort(key=lambda x: x[0])\n",
    " \n",
    "    # `L[i]` stores the maximum non-conflicting jobs that end at i'th job\n",
    "    # `L[i]` is a list of jobs (tuples)\n",
    "    L = [[] for _ in range(len(jobs))]\n",
    " \n",
    "    for i in range(len(jobs)):\n",
    "        # consider each `j` less than `i`\n",
    "        for j in range(i):\n",
    "            # L[i] = max(L[j]), where `jobs[j].finish` is less than `jobs[i].start`\n",
    "            start, finish = (jobs[i][0], jobs[j][1])\n",
    "            if finish < start and len(L[i]) < len(L[j]):\n",
    "                L[i] = L[j].copy()\n",
    " \n",
    "        # `L[i]` ends at i'th job\n",
    "        L[i].append(jobs[i])\n",
    "        print(f'L[{i}]= {L[i]} ')\n",
    "        \n",
    "           # find the list having a maximum size\n",
    "    # print(L)\n",
    "    max = []\n",
    "    for pair in L:\n",
    "        if len(max) < len(pair):\n",
    "            max = pair\n",
    " \n",
    "    # print maximum non-conflicting jobs\n",
    "    print(max)"
   ]
  },
  {
   "cell_type": "code",
   "execution_count": null,
   "metadata": {},
   "outputs": [
    {
     "name": "stdout",
     "output_type": "stream",
     "text": [
      "L[0]= [(0, 6)] \n",
      "L[1]= [(1, 4)] \n",
      "L[2]= [(2, 13)] \n",
      "L[3]= [(3, 5)] \n",
      "L[4]= [(3, 8)] \n",
      "L[5]= [(1, 4), (5, 7)] \n",
      "L[6]= [(1, 4), (5, 9)] \n",
      "L[7]= [(1, 4), (6, 10)] \n",
      "L[8]= [(1, 4), (5, 7), (8, 11)] \n",
      "L[9]= [(1, 4), (5, 7), (8, 12)] \n",
      "L[10]= [(1, 4), (5, 7), (8, 11), (12, 14)] \n",
      "[(1, 4), (5, 7), (8, 11), (12, 14)]\n"
     ]
    }
   ],
   "source": [
    "jobs = [(1, 4), (3, 5), (0, 6), (5, 7),\n",
    "        (3, 8), (5, 9), (6, 10), (8, 11),\n",
    "        (8, 12), (2, 13), (12, 14)]\n",
    "\n",
    "findNonConflictingJobs(jobs)"
   ]
  },
  {
   "attachments": {},
   "cell_type": "markdown",
   "metadata": {},
   "source": [
    "### Longest Increasing Subsequence using Dynamic Programming\n",
    "\n",
    "The longest increasing subsequence problem is to find a subsequence of a given sequence in which the subsequence’s elements are in sorted order, lowest to highest, and in which the subsequence is as long as possible. This subsequence is not necessarily contiguous or unique.\n",
    "\n",
    "Please note that the problem specifically targets subsequences that need not be contiguous, i.e., subsequences are not required to occupy consecutive positions within the original sequences.\n",
    "\n",
    "For example, the longest increasing subsequence of [0, 8, 4, 12, 2, 10, 6, 14, 1, 9, 5, 13, 3, 11, 7, 15] is [0, 2, 6, 9, 11, 15].\n",
    "\n",
    "This subsequence has length 6; the input sequence has no 7–member increasing subsequences. The longest increasing subsequence in this example is not unique.\n",
    "\n",
    "For instance, [0, 4, 6, 9, 11, 15] or [0, 4, 6, 9, 13, 15] are other increasing subsequences of equal length in the same input sequence."
   ]
  },
  {
   "cell_type": "code",
   "execution_count": 304,
   "metadata": {},
   "outputs": [
    {
     "name": "stdout",
     "output_type": "stream",
     "text": [
      "YES!   0   <   8  ------------  [1, 1, 0, 0, 0, 0, 0, 0, 0, 0, 0, 0, 0, 0, 0, 0]\n",
      "---next   8   FOUND 2 subs  L = [1, 2, 0, 0, 0, 0, 0, 0, 0, 0, 0, 0, 0, 0, 0, 0]\n",
      "YES!   0   <   4  ------------  [1, 2, 1, 0, 0, 0, 0, 0, 0, 0, 0, 0, 0, 0, 0, 0]\n",
      "---next   4   FOUND 2 subs  L = [1, 2, 2, 0, 0, 0, 0, 0, 0, 0, 0, 0, 0, 0, 0, 0]\n",
      "YES!   0   <  12  ------------  [1, 2, 2, 1, 0, 0, 0, 0, 0, 0, 0, 0, 0, 0, 0, 0]\n",
      "YES!   8   <  12  ------------  [1, 2, 2, 2, 0, 0, 0, 0, 0, 0, 0, 0, 0, 0, 0, 0]\n",
      "---next  12   FOUND 3 subs  L = [1, 2, 2, 3, 0, 0, 0, 0, 0, 0, 0, 0, 0, 0, 0, 0]\n",
      "YES!   0   <   2  ------------  [1, 2, 2, 3, 1, 0, 0, 0, 0, 0, 0, 0, 0, 0, 0, 0]\n",
      "---next   2   FOUND 2 subs  L = [1, 2, 2, 3, 2, 0, 0, 0, 0, 0, 0, 0, 0, 0, 0, 0]\n",
      "YES!   0   <  10  ------------  [1, 2, 2, 3, 2, 1, 0, 0, 0, 0, 0, 0, 0, 0, 0, 0]\n",
      "YES!   8   <  10  ------------  [1, 2, 2, 3, 2, 2, 0, 0, 0, 0, 0, 0, 0, 0, 0, 0]\n",
      "---next  10   FOUND 3 subs  L = [1, 2, 2, 3, 2, 3, 0, 0, 0, 0, 0, 0, 0, 0, 0, 0]\n",
      "YES!   0   <   6  ------------  [1, 2, 2, 3, 2, 3, 1, 0, 0, 0, 0, 0, 0, 0, 0, 0]\n",
      "YES!   4   <   6  ------------  [1, 2, 2, 3, 2, 3, 2, 0, 0, 0, 0, 0, 0, 0, 0, 0]\n",
      "---next   6   FOUND 3 subs  L = [1, 2, 2, 3, 2, 3, 3, 0, 0, 0, 0, 0, 0, 0, 0, 0]\n",
      "YES!   0   <  14  ------------  [1, 2, 2, 3, 2, 3, 3, 1, 0, 0, 0, 0, 0, 0, 0, 0]\n",
      "YES!   8   <  14  ------------  [1, 2, 2, 3, 2, 3, 3, 2, 0, 0, 0, 0, 0, 0, 0, 0]\n",
      "YES!  12   <  14  ------------  [1, 2, 2, 3, 2, 3, 3, 3, 0, 0, 0, 0, 0, 0, 0, 0]\n",
      "---next  14   FOUND 4 subs  L = [1, 2, 2, 3, 2, 3, 3, 4, 0, 0, 0, 0, 0, 0, 0, 0]\n",
      "YES!   0   <   1  ------------  [1, 2, 2, 3, 2, 3, 3, 4, 1, 0, 0, 0, 0, 0, 0, 0]\n",
      "---next   1   FOUND 2 subs  L = [1, 2, 2, 3, 2, 3, 3, 4, 2, 0, 0, 0, 0, 0, 0, 0]\n",
      "YES!   0   <   9  ------------  [1, 2, 2, 3, 2, 3, 3, 4, 2, 1, 0, 0, 0, 0, 0, 0]\n",
      "YES!   8   <   9  ------------  [1, 2, 2, 3, 2, 3, 3, 4, 2, 2, 0, 0, 0, 0, 0, 0]\n",
      "YES!   6   <   9  ------------  [1, 2, 2, 3, 2, 3, 3, 4, 2, 3, 0, 0, 0, 0, 0, 0]\n",
      "---next   9   FOUND 4 subs  L = [1, 2, 2, 3, 2, 3, 3, 4, 2, 4, 0, 0, 0, 0, 0, 0]\n",
      "YES!   0   <   5  ------------  [1, 2, 2, 3, 2, 3, 3, 4, 2, 4, 1, 0, 0, 0, 0, 0]\n",
      "YES!   4   <   5  ------------  [1, 2, 2, 3, 2, 3, 3, 4, 2, 4, 2, 0, 0, 0, 0, 0]\n",
      "---next   5   FOUND 3 subs  L = [1, 2, 2, 3, 2, 3, 3, 4, 2, 4, 3, 0, 0, 0, 0, 0]\n",
      "YES!   0   <  13  ------------  [1, 2, 2, 3, 2, 3, 3, 4, 2, 4, 3, 1, 0, 0, 0, 0]\n",
      "YES!   8   <  13  ------------  [1, 2, 2, 3, 2, 3, 3, 4, 2, 4, 3, 2, 0, 0, 0, 0]\n",
      "YES!  12   <  13  ------------  [1, 2, 2, 3, 2, 3, 3, 4, 2, 4, 3, 3, 0, 0, 0, 0]\n",
      "YES!   9   <  13  ------------  [1, 2, 2, 3, 2, 3, 3, 4, 2, 4, 3, 4, 0, 0, 0, 0]\n",
      "---next  13   FOUND 5 subs  L = [1, 2, 2, 3, 2, 3, 3, 4, 2, 4, 3, 5, 0, 0, 0, 0]\n",
      "YES!   0   <   3  ------------  [1, 2, 2, 3, 2, 3, 3, 4, 2, 4, 3, 5, 1, 0, 0, 0]\n",
      "YES!   2   <   3  ------------  [1, 2, 2, 3, 2, 3, 3, 4, 2, 4, 3, 5, 2, 0, 0, 0]\n",
      "---next   3   FOUND 3 subs  L = [1, 2, 2, 3, 2, 3, 3, 4, 2, 4, 3, 5, 3, 0, 0, 0]\n",
      "YES!   0   <  11  ------------  [1, 2, 2, 3, 2, 3, 3, 4, 2, 4, 3, 5, 3, 1, 0, 0]\n",
      "YES!   8   <  11  ------------  [1, 2, 2, 3, 2, 3, 3, 4, 2, 4, 3, 5, 3, 2, 0, 0]\n",
      "YES!  10   <  11  ------------  [1, 2, 2, 3, 2, 3, 3, 4, 2, 4, 3, 5, 3, 3, 0, 0]\n",
      "YES!   9   <  11  ------------  [1, 2, 2, 3, 2, 3, 3, 4, 2, 4, 3, 5, 3, 4, 0, 0]\n",
      "---next  11   FOUND 5 subs  L = [1, 2, 2, 3, 2, 3, 3, 4, 2, 4, 3, 5, 3, 5, 0, 0]\n",
      "YES!   0   <   7  ------------  [1, 2, 2, 3, 2, 3, 3, 4, 2, 4, 3, 5, 3, 5, 1, 0]\n",
      "YES!   4   <   7  ------------  [1, 2, 2, 3, 2, 3, 3, 4, 2, 4, 3, 5, 3, 5, 2, 0]\n",
      "YES!   6   <   7  ------------  [1, 2, 2, 3, 2, 3, 3, 4, 2, 4, 3, 5, 3, 5, 3, 0]\n",
      "---next   7   FOUND 4 subs  L = [1, 2, 2, 3, 2, 3, 3, 4, 2, 4, 3, 5, 3, 5, 4, 0]\n",
      "YES!   0   <  15  ------------  [1, 2, 2, 3, 2, 3, 3, 4, 2, 4, 3, 5, 3, 5, 4, 1]\n",
      "YES!   8   <  15  ------------  [1, 2, 2, 3, 2, 3, 3, 4, 2, 4, 3, 5, 3, 5, 4, 2]\n",
      "YES!  12   <  15  ------------  [1, 2, 2, 3, 2, 3, 3, 4, 2, 4, 3, 5, 3, 5, 4, 3]\n",
      "YES!  14   <  15  ------------  [1, 2, 2, 3, 2, 3, 3, 4, 2, 4, 3, 5, 3, 5, 4, 4]\n",
      "YES!  13   <  15  ------------  [1, 2, 2, 3, 2, 3, 3, 4, 2, 4, 3, 5, 3, 5, 4, 5]\n",
      "---next  15   FOUND 6 subs  L = [1, 2, 2, 3, 2, 3, 3, 4, 2, 4, 3, 5, 3, 5, 4, 6]\n",
      "The length of the LIS is 6\n"
     ]
    }
   ],
   "source": [
    "# Iterative function to find the length of the longest increasing subsequence\n",
    "# of a given list\n",
    "def LIS(arr):\n",
    " \n",
    "    # base case\n",
    "    if not arr:\n",
    "        return 0\n",
    " \n",
    "    # list to store subproblem solutions. `L[i]` stores the length\n",
    "    # of the longest increasing subsequence that ends with `arr[i]`\n",
    "    L = [0] * len(arr)\n",
    " \n",
    "    # the longest increasing subsequence ending at `arr[0]` has length 1\n",
    "    L[0] = 1\n",
    " \n",
    "    # start from the second element in the list\n",
    "    for i in range(1, len(arr)):\n",
    "        # do for each element in sublist `arr[0…i-1]`\n",
    "        for j in range(i):\n",
    "            # find the longest increasing subsequence that ends with `arr[j]`\n",
    "            # where `arr[j]` is less than the current element `arr[i]`\n",
    "            if arr[j] < arr[i] and L[j] > L[i]:\n",
    "                L[i] = L[j]\n",
    "                print(f'YES! {arr[j]:>3}   < {arr[i]:>3}  ------------  {L}')\n",
    " \n",
    "        # include `arr[i]` in LIS\n",
    "        L[i] = L[i] + 1\n",
    "        print(f'---next {arr[i]:>3}   FOUND {L[i]} subs  L = {L}')\n",
    " \n",
    "    # return longest increasing subsequence (having maximum length)\n",
    "    return max(L)\n",
    " \n",
    " \n",
    "if __name__ == '__main__':\n",
    " \n",
    "    arr = [0, 8, 4, 12, 2, 10, 6, 14, 1, 9, 5, 13, 3, 11, 7, 15]\n",
    "    print('The length of the LIS is', LIS(arr))"
   ]
  },
  {
   "cell_type": "markdown",
   "metadata": {},
   "source": [
    "### Binary Search of a sorted list"
   ]
  },
  {
   "cell_type": "code",
   "execution_count": 314,
   "metadata": {},
   "outputs": [
    {
     "name": "stdout",
     "output_type": "stream",
     "text": [
      "Element found at index 1\n"
     ]
    }
   ],
   "source": [
    "# Function to determine if a `target` exists in the sorted list `nums`\n",
    "# or not using a binary search algorithm\n",
    "def binarySearch(nums, target):\n",
    " \n",
    "    # search space is nums[left…right]\n",
    "    (left, right) = (0, len(nums) - 1)\n",
    " \n",
    "    # loop till the search space is exhausted\n",
    "    while left <= right:\n",
    " \n",
    "        # find the mid-value in the search space and\n",
    "        # compares it with the target\n",
    " \n",
    "        mid = (left + right) // 2\n",
    " \n",
    "        # overflow can happen. Use:\n",
    "        # mid = left + (right - left) / 2\n",
    "        # mid = right - (right - left) // 2\n",
    " \n",
    "        # target is found\n",
    "        if target == nums[mid]:\n",
    "            return mid\n",
    " \n",
    "        # discard all elements in the right search space,\n",
    "        # including the middle element\n",
    "        elif target < nums[mid]:\n",
    "            right = mid - 1\n",
    " \n",
    "        # discard all elements in the left search space,\n",
    "        # including the middle element\n",
    "        else:\n",
    "            left = mid + 1\n",
    " \n",
    "    # `target` doesn't exist in the list\n",
    "    return -1\n",
    " \n",
    " \n",
    "if __name__ == '__main__':\n",
    " \n",
    "    nums = [2, 5, 6, 8, 9, 10]\n",
    "    target = 5\n",
    " \n",
    "    index = binarySearch(nums, target)\n",
    " \n",
    "    if index != -1:\n",
    "        print('Element found at index', index)\n",
    "    else:\n",
    "        print('Element found not in the list')\n",
    " "
   ]
  }
 ],
 "metadata": {
  "kernelspec": {
   "display_name": "base",
   "language": "python",
   "name": "python3"
  },
  "language_info": {
   "codemirror_mode": {
    "name": "ipython",
    "version": 3
   },
   "file_extension": ".py",
   "mimetype": "text/x-python",
   "name": "python",
   "nbconvert_exporter": "python",
   "pygments_lexer": "ipython3",
   "version": "3.11.3"
  },
  "orig_nbformat": 4
 },
 "nbformat": 4,
 "nbformat_minor": 2
}
