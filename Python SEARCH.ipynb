{
 "cells": [
  {
   "cell_type": "markdown",
   "metadata": {},
   "source": [
    "# search from  notebook"
   ]
  },
  {
   "cell_type": "code",
   "execution_count": 10,
   "metadata": {},
   "outputs": [],
   "source": [
    "# !ls"
   ]
  },
  {
   "cell_type": "code",
   "execution_count": 12,
   "metadata": {},
   "outputs": [
    {
     "name": "stdout",
     "output_type": "stream",
     "text": [
      "Netology_SCRAPING PARSING.ipynb\n",
      "ABD-22 Total HW.ipynb\n",
      "DLS  simpsons_baseline.ipynb\n",
      "Netology stats_Confidence_Intervals.ipynb\n",
      "NETOLOGY PySpark Лекция 7.ipynb\n",
      "bash.ipynb\n",
      "lecture_04_andas.ipynb\n",
      "Python PARSING.ipynb\n"
     ]
    }
   ],
   "source": [
    "import glob\n",
    "\n",
    "# pattern = '../**/*.ipynb'\n",
    "pattern = '*.ipynb'\n",
    "\n",
    "# q = 'SQL'\n",
    "# q = input()\n",
    "inq = input('Input search strings separated by whitespace:').split()\n",
    "\n",
    "for filepath in glob.iglob(pattern, recursive=True):\n",
    "    with open(filepath, encoding='UTF-8') as file:\n",
    "        # print(file)\n",
    "        s = file.read()\n",
    "        found = 1\n",
    "        for search_str in inq:\n",
    "            # if (s.find( q ) > -1):\n",
    "            found = found * (s.find( search_str ) > -1)\n",
    "                \n",
    "        if found == 1:\n",
    "            print(filepath)"
   ]
  }
 ],
 "metadata": {
  "kernelspec": {
   "display_name": "Python 3.10.5 64-bit",
   "language": "python",
   "name": "python3"
  },
  "language_info": {
   "codemirror_mode": {
    "name": "ipython",
    "version": 3
   },
   "file_extension": ".py",
   "mimetype": "text/x-python",
   "name": "python",
   "nbconvert_exporter": "python",
   "pygments_lexer": "ipython3",
   "version": "3.10.5"
  },
  "orig_nbformat": 4,
  "vscode": {
   "interpreter": {
    "hash": "aee8b7b246df8f9039afb4144a1f6fd8d2ca17a180786b69acc140d282b71a49"
   }
  }
 },
 "nbformat": 4,
 "nbformat_minor": 2
}
