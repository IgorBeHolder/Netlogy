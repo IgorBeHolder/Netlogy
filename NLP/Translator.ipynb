{
 "cells": [
  {
   "cell_type": "markdown",
   "metadata": {},
   "source": [
    "##### Don't forget to  set macOS settings to\n",
    "##  Prevent automatic sleeping on power adaptor when display is off\n",
    "#### before running this notebook"
   ]
  },
  {
   "cell_type": "code",
   "execution_count": 15,
   "metadata": {},
   "outputs": [],
   "source": [
    "try:\n",
    "    from googletrans import Translator\n",
    "except:\n",
    "    !python -m pip install googletrans==4.0.0-rc1\n",
    "    from googletrans import Translator\n",
    "\n",
    "import pandas as pd\n",
    "import numpy as np\n",
    "import os\n",
    "import re\n",
    "import time\n",
    "from tqdm import tqdm\n",
    "from beholder import print_methods, check_na\n",
    "\n",
    "\n",
    "pd.set_option(\"display.max_colwidth\", None)  # to display full text in columns\n",
    "pd.set_option(\"display.max_columns\", None)  # display all columns"
   ]
  },
  {
   "cell_type": "code",
   "execution_count": 2,
   "metadata": {},
   "outputs": [],
   "source": [
    "df = pd.read_csv(\"/Users/velo1/SynologyDrive/GIT_syno/data/allDogDescriptions.csv\")\n",
    "# df.head(3)"
   ]
  },
  {
   "cell_type": "markdown",
   "metadata": {},
   "source": [
    "## preprocessing"
   ]
  },
  {
   "cell_type": "code",
   "execution_count": 3,
   "metadata": {},
   "outputs": [],
   "source": [
    "str_max_length = 5000   # max length of string to translate (Google API limit)\n",
    "\n",
    "df_cropped = df[['age','description']]\n",
    "# delete rows with NaN\n",
    "df_cropped = df_cropped.dropna()\n",
    "# delete duplicates\n",
    "df_cropped.drop_duplicates(inplace=True)\n",
    "\n",
    "def remove_noise(text)->str:\n",
    "    '''Remove links, emails, and non-ASCII characters'''\n",
    "    if isinstance(text, str):\n",
    "\n",
    "        cleaned_text = re.sub(r'http\\S+|www\\.\\S+', '', text)    # remove links\n",
    "        cleaned_text = re.sub(r'\\S+@\\S+', '', cleaned_text)    # remove emails\n",
    "        cleaned_text = re.sub(r'@', ' ', cleaned_text)      # remove @ (delimiter)\n",
    "        cleaned_text = cleaned_text.encode(\"ascii\", errors=\"ignore\").decode()\n",
    "        return cleaned_text\n",
    "    else:\n",
    "        return \"\"\n",
    "\n",
    "df_cropped['description'] = df_cropped['description'].apply(remove_noise)\n"
   ]
  },
  {
   "cell_type": "markdown",
   "metadata": {},
   "source": [
    "### The DELIMITER"
   ]
  },
  {
   "cell_type": "code",
   "execution_count": 4,
   "metadata": {},
   "outputs": [
    {
     "data": {
      "text/html": [
       "<div>\n",
       "<style scoped>\n",
       "    .dataframe tbody tr th:only-of-type {\n",
       "        vertical-align: middle;\n",
       "    }\n",
       "\n",
       "    .dataframe tbody tr th {\n",
       "        vertical-align: top;\n",
       "    }\n",
       "\n",
       "    .dataframe thead th {\n",
       "        text-align: right;\n",
       "    }\n",
       "</style>\n",
       "<table border=\"1\" class=\"dataframe\">\n",
       "  <thead>\n",
       "    <tr style=\"text-align: right;\">\n",
       "      <th></th>\n",
       "      <th>age</th>\n",
       "      <th>description</th>\n",
       "    </tr>\n",
       "  </thead>\n",
       "  <tbody>\n",
       "  </tbody>\n",
       "</table>\n",
       "</div>"
      ],
      "text/plain": [
       "Empty DataFrame\n",
       "Columns: [age, description]\n",
       "Index: []"
      ]
     },
     "execution_count": 4,
     "metadata": {},
     "output_type": "execute_result"
    }
   ],
   "source": [
    "# search for description field that contains \"-\"\n",
    "delimiter = '@'\n",
    "df_cropped.loc[df_cropped['description'].str.contains(delimiter)]\n"
   ]
  },
  {
   "cell_type": "code",
   "execution_count": 5,
   "metadata": {},
   "outputs": [],
   "source": [
    "# drop rows with description length > str_max_length\n",
    "idx = df_cropped[df_cropped['description'].str.len() > str_max_length].index\n",
    "df_cropped.drop(idx, inplace=True)\n",
    "df_cropped.reset_index(drop=True, inplace=True)\n"
   ]
  },
  {
   "cell_type": "code",
   "execution_count": 6,
   "metadata": {},
   "outputs": [],
   "source": [
    "#add 'translated' column to df_cropped\n",
    "df_cropped['translated'] = \"\""
   ]
  },
  {
   "cell_type": "code",
   "execution_count": 7,
   "metadata": {},
   "outputs": [],
   "source": [
    "def concat_descriptions(df, start_ind=0, max_length=1000, delimiter = '~')->tuple:\n",
    "    \"\"\"\n",
    "    Concatenate descriptions in df['description'] into one string\n",
    "    with a delimiter between them.\n",
    "\n",
    "    start_ind - index to start from\n",
    "    max_length - max length of the string\n",
    "\n",
    "    returns a tuple (string to translate, list of concateneted rows indexes)\n",
    "    \"\"\"\n",
    "    \n",
    "    prev_text = \"\"\n",
    "    idx = []\n",
    "    crop_tail = len(delimiter) + 1\n",
    "\n",
    "    while start_ind < df.shape[0]:\n",
    "        # retrieve text from df \n",
    "        text = df.loc[start_ind,'description']\n",
    "        # if the value is a string and not empty\n",
    "        if isinstance(text, str) and text != \"\":\n",
    "            # if the length of the string is less than max_length\n",
    "            if len(prev_text + text) < max_length:\n",
    "                # concatenate the previous string with the current one and add a delimiter\n",
    "                prev_text += text + \" \" + delimiter + \" \"\n",
    "                # add the index of the row to the list\n",
    "                idx.append(start_ind)\n",
    "                start_ind += 1\n",
    "\n",
    "                # if the index is the last one in the df\n",
    "                if start_ind >= df.shape[0]:\n",
    "                    # return the string and the list of indexes\n",
    "                    return (prev_text[:-crop_tail], idx )\n",
    "            else:\n",
    "                return (prev_text[:-crop_tail], idx )\n",
    "\n",
    "        else:\n",
    "            start_ind += 1\n"
   ]
  },
  {
   "cell_type": "code",
   "execution_count": 8,
   "metadata": {},
   "outputs": [],
   "source": [
    "translator = Translator()"
   ]
  },
  {
   "cell_type": "markdown",
   "metadata": {},
   "source": [
    "## The LOOP"
   ]
  },
  {
   "cell_type": "code",
   "execution_count": 9,
   "metadata": {},
   "outputs": [
    {
     "name": "stderr",
     "output_type": "stream",
     "text": [
      "Translation Progress: 47680it [19:16:11,  2.52it/s]"
     ]
    },
    {
     "name": "stdout",
     "output_type": "stream",
     "text": [
      "Translation dimension 3 mismatch  rows number [45913, 45914, 45915, 45916]\n"
     ]
    },
    {
     "name": "stderr",
     "output_type": "stream",
     "text": [
      "Translation Progress: 47690it [19:16:12,  3.67it/s]"
     ]
    },
    {
     "name": "stdout",
     "output_type": "stream",
     "text": [
      "Translation dimension 9 mismatch  rows number [45917, 45918, 45919, 45920, 45921, 45922, 45923, 45924, 45925, 45926]\n"
     ]
    },
    {
     "name": "stderr",
     "output_type": "stream",
     "text": [
      "Translation Progress: 47861it [19:16:42,  6.36it/s]"
     ]
    },
    {
     "name": "stdout",
     "output_type": "stream",
     "text": [
      "Translation dimension 9 mismatch  rows number [46088, 46089, 46090, 46091, 46092, 46093, 46094, 46095, 46096, 46097]\n"
     ]
    },
    {
     "name": "stderr",
     "output_type": "stream",
     "text": [
      "Translation Progress: 48156it [19:17:42,  4.25it/s]"
     ]
    },
    {
     "name": "stdout",
     "output_type": "stream",
     "text": [
      "Translation dimension 6 mismatch  rows number [46386, 46387, 46388, 46389, 46390, 46391, 46392]\n"
     ]
    },
    {
     "name": "stderr",
     "output_type": "stream",
     "text": [
      "Translation Progress: 48181it [19:17:46,  1.44s/it]\n"
     ]
    },
    {
     "data": {
      "text/plain": [
       "0"
      ]
     },
     "execution_count": 9,
     "metadata": {},
     "output_type": "execute_result"
    }
   ],
   "source": [
    "start_index = 0\n",
    "error_cnt = 0\n",
    "translated = \"\"\n",
    "src_lang = \"en\" # source language src=\"auto\"\n",
    "dest_lang = \"ru\" # destination language\n",
    "result = {\"translated\": 0, \"dimension mismatch\": 0, \"translation error\": 0}\n",
    "\n",
    "total_rows = df_cropped.shape[0] \n",
    "pbar = tqdm(total=total_rows, desc=\"Translation Progress\") \n",
    "while start_index < total_rows: \n",
    "    error_cnt = 0\n",
    "    \n",
    "    to_translate, rows = concat_descriptions(df_cropped, start_ind=start_index, max_length=str_max_length, delimiter=delimiter)\n",
    "    while error_cnt < 5:\n",
    "        try:\n",
    "            translated = translator.translate(to_translate, dest=dest_lang, src=src_lang).text \n",
    "            list_ = translated.split(delimiter)\n",
    "            if len(rows) == len (list_):\n",
    "                df_cropped.loc[rows, 'translated'] = list_\n",
    "                result[\"translated\"] += len(rows)\n",
    "            else:\n",
    "                print(f\"Translation dimension {len(list_)} mismatch  rows number {rows}\")\n",
    "                result[\"dimension mismatch\"] += len(rows)\n",
    "            start_index = rows[-1]+1\n",
    "            pbar.update(len(rows))\n",
    "            break\n",
    "        except:\n",
    "            error_cnt += 1\n",
    "            start_index = rows[-1]+1\n",
    "            # pbar.update(len(rows))\n",
    "            time.sleep(.1)\n",
    "        \n",
    "    else:\n",
    "        print(f\"Translation error in rows {rows}\")\n",
    "        result[\"translation error\"] += len(rows)\n",
    "        pbar.update(len(rows))\n",
    "\n",
    "        continue\n",
    "pbar.close()\n",
    "os.system('say \"Translation finished\"')\n"
   ]
  },
  {
   "cell_type": "code",
   "execution_count": 22,
   "metadata": {},
   "outputs": [
    {
     "name": "stdout",
     "output_type": "stream",
     "text": [
      "<class 'pandas.core.frame.DataFrame'>\n",
      "RangeIndex: 46418 entries, 0 to 46417\n",
      "Data columns (total 3 columns):\n",
      " #   Column       Non-Null Count  Dtype \n",
      "---  ------       --------------  ----- \n",
      " 0   age          46418 non-null  object\n",
      " 1   description  46418 non-null  object\n",
      " 2   translated   46418 non-null  object\n",
      "dtypes: object(3)\n",
      "memory usage: 1.1+ MB\n"
     ]
    }
   ],
   "source": [
    "df_cropped.info()"
   ]
  },
  {
   "cell_type": "code",
   "execution_count": 39,
   "metadata": {},
   "outputs": [],
   "source": [
    "mask = df_cropped.translated.str.len() == 0 # mask for empty translation\n",
    "df_cropped.drop(df_cropped[mask].index, inplace=True) # drop rows with empty translation\n",
    "df_cropped.reset_index(drop=True, inplace=True) # reset index"
   ]
  },
  {
   "cell_type": "code",
   "execution_count": 18,
   "metadata": {},
   "outputs": [
    {
     "data": {
      "text/html": [
       "<div>\n",
       "<style scoped>\n",
       "    .dataframe tbody tr th:only-of-type {\n",
       "        vertical-align: middle;\n",
       "    }\n",
       "\n",
       "    .dataframe tbody tr th {\n",
       "        vertical-align: top;\n",
       "    }\n",
       "\n",
       "    .dataframe thead th {\n",
       "        text-align: right;\n",
       "    }\n",
       "</style>\n",
       "<table border=\"1\" class=\"dataframe\">\n",
       "  <thead>\n",
       "    <tr style=\"text-align: right;\">\n",
       "      <th></th>\n",
       "      <th>age</th>\n",
       "      <th>description</th>\n",
       "      <th>translated</th>\n",
       "    </tr>\n",
       "  </thead>\n",
       "  <tbody>\n",
       "    <tr>\n",
       "      <th>46415</th>\n",
       "      <td>Adult</td>\n",
       "      <td>Samson is a dog that will need someone to show him what love is. As soon as he was brought to us, he shut down-it took several days of our staff working with him to even get him out of his kennel and on a leash. He is one of those dogs, that when he loves you, he loves you. He trusts you. You have to prove yourself to him and he rewards you with the happiest of tail wags and devotion. It will take some work, but he is worth it!</td>\n",
       "      <td>Samson - собака, которой нужен кто -то, чтобы показать ему, что такое любовь.Как только его привезли к нам, он закрылся-ему потребовалось несколько дней наших сотрудников, работающих с ним, чтобы даже вытащить его из питомника и на поводке.Он одна из тех собак, что когда он любит тебя, он любит тебя.Он доверяет тебе.Вы должны доказать себя ему, и он вознаграждает вас самыми счастливыми из хвостовых вил и преданности.Это займет некоторую работу, но он того стоит!</td>\n",
       "    </tr>\n",
       "    <tr>\n",
       "      <th>46416</th>\n",
       "      <td>Baby</td>\n",
       "      <td>Buddy was an owner surrender by an older gentleman with an all too familiar story. Buddy was his daughter's dog, but she couldn't keep him anymore and decided Dad \\\"needed\\\" a dog. He tried for a month but Buddy was just too much puppy for him. Buddy is your typical juvenile pup: needs more work on potty training, leash training is coming along, and needs work with his socializing with other dogs. He wants to jump and play and that isn't always what an older dog wants to do. He absolutely loves people and loves to go for walks with them.Have room for this goofy boy? Please come meet him!EDIT: 8/17/19Buddy spent 8 weeks in our Honor Dog Program at the Wyoming Honor Farm learning the AKC's Novice Basic Obedience training. He knows sit, stay, down, off and has learned socialization with other dogs and people; is crate, house, and leash trained.He is a wonderful boy that is ready for his people!</td>\n",
       "      <td>Buddy был владельцем сдачи старшим джентльменом с слишком знакомым историей.Бадди был собакой его дочери, но она больше не могла держать его и решила, что папа нужен \\ »собака.Он пытался в течение месяца, но Бадди был для него слишком много щенка.Buddy - ваш типичный юношеский щенок: требует больше работы по тренировке горшок, обучение поводкам идет вместе, и нуждается в работе с его общением с другими собаками.Он хочет прыгать и играть, и это не всегда то, что хочет сделать старшая собака.Он абсолютно любит людей и любит ходить с ними.Пожалуйста, приходите познакомиться с ним! Редактировать: 8/17/19 Buddy провел 8 недель в нашей программе Honor Dog в Wyoming Honor Farm.Он знает, что сидит, оставайтесь, вниз, выключен и научился социализации с другими собаками и людьми;Ящик, дом и обучение поводка. Он замечательный мальчик, который готов к своим людям!</td>\n",
       "    </tr>\n",
       "    <tr>\n",
       "      <th>46417</th>\n",
       "      <td>Adult</td>\n",
       "      <td>Due to the small size of our volunteer base, we are unable to reply to inquiries to this listing. If you are serious about adopting, visit our website wbcrescue.org to read more about this dog and our adoption process, and to submit an application. Thanks for considering adoption!\\n\\nBeautiful Echo, like True, is a holdover from before WBCR closed in 2016. Like True, she remained with a foster family all this time. She is now ready and looking for her forever home, where she can be cherished. Echo is a special girl who will require a special family: she is fearful and reactive towards unfamiliar people, and like many female BCs, can be touchy with other dogs, although with careful management she peaceably cohabitates with several other dogs in her foster home. She loves her human friends and she is a total ball-a-holic. Shes got all kind of skills  housetrained, crate-trained, basic manners  and shes not a super high energy girl at all. Echo will require a savvy, experienced owner and a quiet situation, but we know the right family is out there for this glamorous girl!\\n\\nFor more info about Echo, to read about our adoption process, or to submit an application, visit wbcrescue.org</td>\n",
       "      <td>Из -за небольшого размера нашей волонтерской базы мы не можем ответить на запросы на этот список.Если вы серьезно относитесь к принятию, посетите наш веб -сайт wbcrescue.org, чтобы узнать больше об этой собаке и нашем процессе усыновления, и подарить заявку.Спасибо, что рассмотрели усыновление!\\n\\nКрасивое эхо, как и True, является задержанием до того, как WBCR закрылась в 2016 году. Как и True, она оставалась с приемной семьей все это время.Теперь она готова и ищет свой вечно дома, где ее можно лелеять.Echo - это особая девушка, которой потребуется особая семья: она боится и реагирует на незнакомые люди, и, как и многие женщины BCS, может быть обидчивой с другими собаками, хотя с осторожным управлением она мирно сожигает с несколькими другими собаками в своем приемном доме.Она любит своих друзей-людей, и она полная мяча.Она получила все навыки, обученные, обученные ящиком, базовые манеры и она вообще не супер-энергия.Echo потребует опытного, опытного владельца и тихой ситуации, но мы знаем, что для этой гламурной девушки есть подходящая семья!\\n\\nДля получения дополнительной информации об Echo, чтобы прочитать о нашем процессе усыновления или подать заявку, посетите wbcrescue.org</td>\n",
       "    </tr>\n",
       "  </tbody>\n",
       "</table>\n",
       "</div>"
      ],
      "text/plain": [
       "         age  \\\n",
       "46415  Adult   \n",
       "46416   Baby   \n",
       "46417  Adult   \n",
       "\n",
       "                                                                                                                                                                                                                                                                                                                                                                                                                                                                                                                                                                                                                                                                                                                                                                                                                                                                                                                                                                                                                                                                                                                                                                                                                                           description  \\\n",
       "46415                                                                                                                                                                                                                                                                                                                                                                                                                                                                                                                                                                                                                                                                                                                                                                                                  Samson is a dog that will need someone to show him what love is. As soon as he was brought to us, he shut down-it took several days of our staff working with him to even get him out of his kennel and on a leash. He is one of those dogs, that when he loves you, he loves you. He trusts you. You have to prove yourself to him and he rewards you with the happiest of tail wags and devotion. It will take some work, but he is worth it!   \n",
       "46416                                                                                                                                                                                                                                                                                                         Buddy was an owner surrender by an older gentleman with an all too familiar story. Buddy was his daughter's dog, but she couldn't keep him anymore and decided Dad \\\"needed\\\" a dog. He tried for a month but Buddy was just too much puppy for him. Buddy is your typical juvenile pup: needs more work on potty training, leash training is coming along, and needs work with his socializing with other dogs. He wants to jump and play and that isn't always what an older dog wants to do. He absolutely loves people and loves to go for walks with them.Have room for this goofy boy? Please come meet him!EDIT: 8/17/19Buddy spent 8 weeks in our Honor Dog Program at the Wyoming Honor Farm learning the AKC's Novice Basic Obedience training. He knows sit, stay, down, off and has learned socialization with other dogs and people; is crate, house, and leash trained.He is a wonderful boy that is ready for his people!   \n",
       "46417  Due to the small size of our volunteer base, we are unable to reply to inquiries to this listing. If you are serious about adopting, visit our website wbcrescue.org to read more about this dog and our adoption process, and to submit an application. Thanks for considering adoption!\\n\\nBeautiful Echo, like True, is a holdover from before WBCR closed in 2016. Like True, she remained with a foster family all this time. She is now ready and looking for her forever home, where she can be cherished. Echo is a special girl who will require a special family: she is fearful and reactive towards unfamiliar people, and like many female BCs, can be touchy with other dogs, although with careful management she peaceably cohabitates with several other dogs in her foster home. She loves her human friends and she is a total ball-a-holic. Shes got all kind of skills  housetrained, crate-trained, basic manners  and shes not a super high energy girl at all. Echo will require a savvy, experienced owner and a quiet situation, but we know the right family is out there for this glamorous girl!\\n\\nFor more info about Echo, to read about our adoption process, or to submit an application, visit wbcrescue.org   \n",
       "\n",
       "                                                                                                                                                                                                                                                                                                                                                                                                                                                                                                                                                                                                                                                                                                                                                                                                                                                                                                                                                                                                                                                                                                                                                                                                                                             translated  \n",
       "46415                                                                                                                                                                                                                                                                                                                                                                                                                                                                                                                                                                                                                                                                                                                                                                Samson - собака, которой нужен кто -то, чтобы показать ему, что такое любовь.Как только его привезли к нам, он закрылся-ему потребовалось несколько дней наших сотрудников, работающих с ним, чтобы даже вытащить его из питомника и на поводке.Он одна из тех собак, что когда он любит тебя, он любит тебя.Он доверяет тебе.Вы должны доказать себя ему, и он вознаграждает вас самыми счастливыми из хвостовых вил и преданности.Это займет некоторую работу, но он того стоит!  \n",
       "46416                                                                                                                                                                                                                                                                                                                                                  Buddy был владельцем сдачи старшим джентльменом с слишком знакомым историей.Бадди был собакой его дочери, но она больше не могла держать его и решила, что папа нужен \\ »собака.Он пытался в течение месяца, но Бадди был для него слишком много щенка.Buddy - ваш типичный юношеский щенок: требует больше работы по тренировке горшок, обучение поводкам идет вместе, и нуждается в работе с его общением с другими собаками.Он хочет прыгать и играть, и это не всегда то, что хочет сделать старшая собака.Он абсолютно любит людей и любит ходить с ними.Пожалуйста, приходите познакомиться с ним! Редактировать: 8/17/19 Buddy провел 8 недель в нашей программе Honor Dog в Wyoming Honor Farm.Он знает, что сидит, оставайтесь, вниз, выключен и научился социализации с другими собаками и людьми;Ящик, дом и обучение поводка. Он замечательный мальчик, который готов к своим людям!  \n",
       "46417   Из -за небольшого размера нашей волонтерской базы мы не можем ответить на запросы на этот список.Если вы серьезно относитесь к принятию, посетите наш веб -сайт wbcrescue.org, чтобы узнать больше об этой собаке и нашем процессе усыновления, и подарить заявку.Спасибо, что рассмотрели усыновление!\\n\\nКрасивое эхо, как и True, является задержанием до того, как WBCR закрылась в 2016 году. Как и True, она оставалась с приемной семьей все это время.Теперь она готова и ищет свой вечно дома, где ее можно лелеять.Echo - это особая девушка, которой потребуется особая семья: она боится и реагирует на незнакомые люди, и, как и многие женщины BCS, может быть обидчивой с другими собаками, хотя с осторожным управлением она мирно сожигает с несколькими другими собаками в своем приемном доме.Она любит своих друзей-людей, и она полная мяча.Она получила все навыки, обученные, обученные ящиком, базовые манеры и она вообще не супер-энергия.Echo потребует опытного, опытного владельца и тихой ситуации, но мы знаем, что для этой гламурной девушки есть подходящая семья!\\n\\nДля получения дополнительной информации об Echo, чтобы прочитать о нашем процессе усыновления или подать заявку, посетите wbcrescue.org  "
      ]
     },
     "execution_count": 18,
     "metadata": {},
     "output_type": "execute_result"
    }
   ],
   "source": [
    "df_cropped.tail(3)"
   ]
  },
  {
   "cell_type": "code",
   "execution_count": 14,
   "metadata": {},
   "outputs": [],
   "source": [
    "df_cropped.to_csv(\"/Users/velo1/SynologyDrive/GIT_syno/data/allDogDescriptionsTranslated.csv\", index=False)"
   ]
  },
  {
   "cell_type": "markdown",
   "metadata": {},
   "source": [
    "#### Don't forget to  Restore macOS settings to\n",
    "##  Perform automatic sleeping on power adaptor when display is off"
   ]
  },
  {
   "cell_type": "markdown",
   "metadata": {},
   "source": [
    "ToDo:\n",
    "1. do not drop cells with text > max_len but truncate them to max_len\n"
   ]
  },
  {
   "cell_type": "markdown",
   "metadata": {},
   "source": []
  }
 ],
 "metadata": {
  "kernelspec": {
   "display_name": "venv",
   "language": "python",
   "name": "python3"
  },
  "language_info": {
   "codemirror_mode": {
    "name": "ipython",
    "version": 3
   },
   "file_extension": ".py",
   "mimetype": "text/x-python",
   "name": "python",
   "nbconvert_exporter": "python",
   "pygments_lexer": "ipython3",
   "version": "3.11.3"
  },
  "orig_nbformat": 4
 },
 "nbformat": 4,
 "nbformat_minor": 2
}
