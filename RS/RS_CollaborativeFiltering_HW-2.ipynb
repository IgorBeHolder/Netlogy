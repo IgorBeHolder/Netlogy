{
 "cells": [
  {
   "attachments": {},
   "cell_type": "markdown",
   "metadata": {},
   "source": [
    "> Igor Sorochan DSU-31\n",
    "## Домашнее задание по теме «Коллаборативная фильтрация»\n"
   ]
  },
  {
   "cell_type": "code",
   "execution_count": 1,
   "metadata": {},
   "outputs": [],
   "source": [
    "import os\n",
    "import numpy as np\n",
    "import pandas as pd\n",
    "try:\n",
    "    import surprise # Surprise focuses on collaborative filtering, \n",
    "    # which is a popular technique for building recommender systems based on user-item interactions.\n",
    "except:\n",
    "    !pip install scikit-surprise\n",
    "    import surprise\n",
    "\n",
    "from sklearn.feature_extraction.text import TfidfVectorizer\n",
    "from surprise import Reader, Dataset, SVD, SVDpp, BaselineOnly, KNNBasic, KNNWithMeans, KNNWithZScore, KNNBaseline, NMF, SlopeOne, CoClustering\n",
    "from surprise.model_selection import cross_validate, GridSearchCV, train_test_split\n",
    "from surprise import accuracy\n",
    "from tqdm import tqdm"
   ]
  },
  {
   "attachments": {},
   "cell_type": "markdown",
   "metadata": {},
   "source": [
    "![](https://miro.medium.com/v2/resize:fit:1400/format:webp/1*fUF83M0uHXwVfSxQ66uZ3g.png)\n",
    "\n",
    "* In the context of recommendation systems and matrix factorization, factorization refers to the process of decomposing a matrix into two lower-rank matrices. Specifically, when applying matrix factorization to a user-item interaction matrix, such as the ratings matrix in a collaborative filtering approach, the goal is to find lower-dimensional representations of users and items that capture their latent factors or features.\n",
    "\n",
    "* The factorization process aims to discover latent factors that explain the observed user-item interactions. Each user and item is represented as a vector of latent factors, and the dot product of these vectors estimates the missing or unknown ratings in the matrix. By factorizing the matrix, we can reduce its dimensionality and approximate the original matrix with a lower-rank approximation.\n",
    "\n",
    "* Singular Value Decomposition (SVD) is a popular matrix factorization technique used in recommendation systems. It decomposes the user-item interaction matrix into three matrices: U (user factors), Σ (singular values or weights), and V^T (item factors). By selecting a lower number of latent factors, we can approximate the original matrix using a subset of the singular values and their corresponding factors.\n",
    "\n",
    "* The factorization process allows the model to learn the underlying patterns and relationships in the data, capturing the user preferences and item characteristics. These latent factors can then be used to predict missing ratings or make personalized recommendations for users based on their similarities to other users or items in the latent factor space."
   ]
  },
  {
   "cell_type": "code",
   "execution_count": 2,
   "metadata": {},
   "outputs": [],
   "source": [
    "# ?Dataset.load_from_file"
   ]
  },
  {
   "cell_type": "code",
   "execution_count": 3,
   "metadata": {},
   "outputs": [],
   "source": [
    "# Load the movielens-1m dataset (download it if needed).\n",
    "# Dataset.load_builtin(name='ml-1m', prompt=True)"
   ]
  },
  {
   "cell_type": "code",
   "execution_count": 4,
   "metadata": {},
   "outputs": [
    {
     "data": {
      "text/html": [
       "<div>\n",
       "<style scoped>\n",
       "    .dataframe tbody tr th:only-of-type {\n",
       "        vertical-align: middle;\n",
       "    }\n",
       "\n",
       "    .dataframe tbody tr th {\n",
       "        vertical-align: top;\n",
       "    }\n",
       "\n",
       "    .dataframe thead th {\n",
       "        text-align: right;\n",
       "    }\n",
       "</style>\n",
       "<table border=\"1\" class=\"dataframe\">\n",
       "  <thead>\n",
       "    <tr style=\"text-align: right;\">\n",
       "      <th></th>\n",
       "      <th>userId</th>\n",
       "      <th>Gender</th>\n",
       "      <th>Age</th>\n",
       "      <th>Occupation</th>\n",
       "      <th>Zip-code</th>\n",
       "    </tr>\n",
       "  </thead>\n",
       "  <tbody>\n",
       "    <tr>\n",
       "      <th>0</th>\n",
       "      <td>1</td>\n",
       "      <td>F</td>\n",
       "      <td>1</td>\n",
       "      <td>10</td>\n",
       "      <td>48067</td>\n",
       "    </tr>\n",
       "    <tr>\n",
       "      <th>1</th>\n",
       "      <td>2</td>\n",
       "      <td>M</td>\n",
       "      <td>56</td>\n",
       "      <td>16</td>\n",
       "      <td>70072</td>\n",
       "    </tr>\n",
       "    <tr>\n",
       "      <th>2</th>\n",
       "      <td>3</td>\n",
       "      <td>M</td>\n",
       "      <td>25</td>\n",
       "      <td>15</td>\n",
       "      <td>55117</td>\n",
       "    </tr>\n",
       "    <tr>\n",
       "      <th>3</th>\n",
       "      <td>4</td>\n",
       "      <td>M</td>\n",
       "      <td>45</td>\n",
       "      <td>7</td>\n",
       "      <td>02460</td>\n",
       "    </tr>\n",
       "    <tr>\n",
       "      <th>4</th>\n",
       "      <td>5</td>\n",
       "      <td>M</td>\n",
       "      <td>25</td>\n",
       "      <td>20</td>\n",
       "      <td>55455</td>\n",
       "    </tr>\n",
       "    <tr>\n",
       "      <th>...</th>\n",
       "      <td>...</td>\n",
       "      <td>...</td>\n",
       "      <td>...</td>\n",
       "      <td>...</td>\n",
       "      <td>...</td>\n",
       "    </tr>\n",
       "    <tr>\n",
       "      <th>6035</th>\n",
       "      <td>6036</td>\n",
       "      <td>F</td>\n",
       "      <td>25</td>\n",
       "      <td>15</td>\n",
       "      <td>32603</td>\n",
       "    </tr>\n",
       "    <tr>\n",
       "      <th>6036</th>\n",
       "      <td>6037</td>\n",
       "      <td>F</td>\n",
       "      <td>45</td>\n",
       "      <td>1</td>\n",
       "      <td>76006</td>\n",
       "    </tr>\n",
       "    <tr>\n",
       "      <th>6037</th>\n",
       "      <td>6038</td>\n",
       "      <td>F</td>\n",
       "      <td>56</td>\n",
       "      <td>1</td>\n",
       "      <td>14706</td>\n",
       "    </tr>\n",
       "    <tr>\n",
       "      <th>6038</th>\n",
       "      <td>6039</td>\n",
       "      <td>F</td>\n",
       "      <td>45</td>\n",
       "      <td>0</td>\n",
       "      <td>01060</td>\n",
       "    </tr>\n",
       "    <tr>\n",
       "      <th>6039</th>\n",
       "      <td>6040</td>\n",
       "      <td>M</td>\n",
       "      <td>25</td>\n",
       "      <td>6</td>\n",
       "      <td>11106</td>\n",
       "    </tr>\n",
       "  </tbody>\n",
       "</table>\n",
       "<p>6040 rows × 5 columns</p>\n",
       "</div>"
      ],
      "text/plain": [
       "      userId Gender  Age  Occupation Zip-code\n",
       "0          1      F    1          10    48067\n",
       "1          2      M   56          16    70072\n",
       "2          3      M   25          15    55117\n",
       "3          4      M   45           7    02460\n",
       "4          5      M   25          20    55455\n",
       "...      ...    ...  ...         ...      ...\n",
       "6035    6036      F   25          15    32603\n",
       "6036    6037      F   45           1    76006\n",
       "6037    6038      F   56           1    14706\n",
       "6038    6039      F   45           0    01060\n",
       "6039    6040      M   25           6    11106\n",
       "\n",
       "[6040 rows x 5 columns]"
      ]
     },
     "execution_count": 4,
     "metadata": {},
     "output_type": "execute_result"
    }
   ],
   "source": [
    "# UserID::Gender::Age::Occupation::Zip-code\n",
    "users = pd.read_csv(\"/Users/velo1/SynologyDrive/GIT_syno/data/ml-1m/users.dat\", sep=\"::\", \n",
    "    header=None, names=[\"userId\", \"Gender\", \"Age\", \"Occupation\",\"Zip-code\"], engine=\"python\")\n",
    "users"
   ]
  },
  {
   "cell_type": "code",
   "execution_count": 5,
   "metadata": {},
   "outputs": [
    {
     "data": {
      "text/html": [
       "<div>\n",
       "<style scoped>\n",
       "    .dataframe tbody tr th:only-of-type {\n",
       "        vertical-align: middle;\n",
       "    }\n",
       "\n",
       "    .dataframe tbody tr th {\n",
       "        vertical-align: top;\n",
       "    }\n",
       "\n",
       "    .dataframe thead th {\n",
       "        text-align: right;\n",
       "    }\n",
       "</style>\n",
       "<table border=\"1\" class=\"dataframe\">\n",
       "  <thead>\n",
       "    <tr style=\"text-align: right;\">\n",
       "      <th></th>\n",
       "      <th>userId</th>\n",
       "      <th>movieId</th>\n",
       "      <th>rating</th>\n",
       "      <th>timestamp</th>\n",
       "    </tr>\n",
       "  </thead>\n",
       "  <tbody>\n",
       "    <tr>\n",
       "      <th>0</th>\n",
       "      <td>1</td>\n",
       "      <td>1193</td>\n",
       "      <td>5</td>\n",
       "      <td>978300760</td>\n",
       "    </tr>\n",
       "    <tr>\n",
       "      <th>1</th>\n",
       "      <td>1</td>\n",
       "      <td>661</td>\n",
       "      <td>3</td>\n",
       "      <td>978302109</td>\n",
       "    </tr>\n",
       "    <tr>\n",
       "      <th>2</th>\n",
       "      <td>1</td>\n",
       "      <td>914</td>\n",
       "      <td>3</td>\n",
       "      <td>978301968</td>\n",
       "    </tr>\n",
       "    <tr>\n",
       "      <th>3</th>\n",
       "      <td>1</td>\n",
       "      <td>3408</td>\n",
       "      <td>4</td>\n",
       "      <td>978300275</td>\n",
       "    </tr>\n",
       "    <tr>\n",
       "      <th>4</th>\n",
       "      <td>1</td>\n",
       "      <td>2355</td>\n",
       "      <td>5</td>\n",
       "      <td>978824291</td>\n",
       "    </tr>\n",
       "    <tr>\n",
       "      <th>...</th>\n",
       "      <td>...</td>\n",
       "      <td>...</td>\n",
       "      <td>...</td>\n",
       "      <td>...</td>\n",
       "    </tr>\n",
       "    <tr>\n",
       "      <th>1000204</th>\n",
       "      <td>6040</td>\n",
       "      <td>1091</td>\n",
       "      <td>1</td>\n",
       "      <td>956716541</td>\n",
       "    </tr>\n",
       "    <tr>\n",
       "      <th>1000205</th>\n",
       "      <td>6040</td>\n",
       "      <td>1094</td>\n",
       "      <td>5</td>\n",
       "      <td>956704887</td>\n",
       "    </tr>\n",
       "    <tr>\n",
       "      <th>1000206</th>\n",
       "      <td>6040</td>\n",
       "      <td>562</td>\n",
       "      <td>5</td>\n",
       "      <td>956704746</td>\n",
       "    </tr>\n",
       "    <tr>\n",
       "      <th>1000207</th>\n",
       "      <td>6040</td>\n",
       "      <td>1096</td>\n",
       "      <td>4</td>\n",
       "      <td>956715648</td>\n",
       "    </tr>\n",
       "    <tr>\n",
       "      <th>1000208</th>\n",
       "      <td>6040</td>\n",
       "      <td>1097</td>\n",
       "      <td>4</td>\n",
       "      <td>956715569</td>\n",
       "    </tr>\n",
       "  </tbody>\n",
       "</table>\n",
       "<p>1000209 rows × 4 columns</p>\n",
       "</div>"
      ],
      "text/plain": [
       "         userId  movieId  rating  timestamp\n",
       "0             1     1193       5  978300760\n",
       "1             1      661       3  978302109\n",
       "2             1      914       3  978301968\n",
       "3             1     3408       4  978300275\n",
       "4             1     2355       5  978824291\n",
       "...         ...      ...     ...        ...\n",
       "1000204    6040     1091       1  956716541\n",
       "1000205    6040     1094       5  956704887\n",
       "1000206    6040      562       5  956704746\n",
       "1000207    6040     1096       4  956715648\n",
       "1000208    6040     1097       4  956715569\n",
       "\n",
       "[1000209 rows x 4 columns]"
      ]
     },
     "execution_count": 5,
     "metadata": {},
     "output_type": "execute_result"
    }
   ],
   "source": [
    "ratings = pd.read_csv(\"/Users/velo1/SynologyDrive/GIT_syno/data/ml-1m/ratings.dat\", sep=\"::\", \n",
    "    header=None, names=[\"userId\", \"movieId\", \"rating\", \"timestamp\"], engine=\"python\")\n",
    "ratings\n"
   ]
  },
  {
   "cell_type": "code",
   "execution_count": 6,
   "metadata": {},
   "outputs": [
    {
     "name": "stdout",
     "output_type": "stream",
     "text": [
      "min_rating:  1 max_rating:  5\n"
     ]
    }
   ],
   "source": [
    "min_rating = ratings.rating.min()\n",
    "max_rating = ratings.rating.max()\n",
    "print(\"min_rating: \", min_rating, \"max_rating: \", max_rating)"
   ]
  },
  {
   "attachments": {},
   "cell_type": "markdown",
   "metadata": {},
   "source": [
    "### 1. Load data from custom DataFrame "
   ]
  },
  {
   "cell_type": "code",
   "execution_count": 7,
   "metadata": {},
   "outputs": [
    {
     "data": {
      "text/plain": [
       "<surprise.dataset.DatasetAutoFolds at 0x145efb910>"
      ]
     },
     "execution_count": 7,
     "metadata": {},
     "output_type": "execute_result"
    }
   ],
   "source": [
    "reader = Reader(line_format='user item rating', sep='::', rating_scale=(min_rating, max_rating))\n",
    "data = Dataset.load_from_df(ratings[[\"userId\", \"movieId\", \"rating\"]], reader) # load_from_df expects only three columns\n",
    "data"
   ]
  },
  {
   "cell_type": "code",
   "execution_count": 8,
   "metadata": {},
   "outputs": [
    {
     "name": "stdout",
     "output_type": "stream",
     "text": [
      "(3883, 3)\n"
     ]
    },
    {
     "data": {
      "text/html": [
       "<div>\n",
       "<style scoped>\n",
       "    .dataframe tbody tr th:only-of-type {\n",
       "        vertical-align: middle;\n",
       "    }\n",
       "\n",
       "    .dataframe tbody tr th {\n",
       "        vertical-align: top;\n",
       "    }\n",
       "\n",
       "    .dataframe thead th {\n",
       "        text-align: right;\n",
       "    }\n",
       "</style>\n",
       "<table border=\"1\" class=\"dataframe\">\n",
       "  <thead>\n",
       "    <tr style=\"text-align: right;\">\n",
       "      <th></th>\n",
       "      <th>movieId</th>\n",
       "      <th>Title</th>\n",
       "      <th>Genres</th>\n",
       "    </tr>\n",
       "  </thead>\n",
       "  <tbody>\n",
       "    <tr>\n",
       "      <th>0</th>\n",
       "      <td>1</td>\n",
       "      <td>Toy Story (1995)</td>\n",
       "      <td>Animation|Children's|Comedy</td>\n",
       "    </tr>\n",
       "    <tr>\n",
       "      <th>1</th>\n",
       "      <td>2</td>\n",
       "      <td>Jumanji (1995)</td>\n",
       "      <td>Adventure|Children's|Fantasy</td>\n",
       "    </tr>\n",
       "    <tr>\n",
       "      <th>2</th>\n",
       "      <td>3</td>\n",
       "      <td>Grumpier Old Men (1995)</td>\n",
       "      <td>Comedy|Romance</td>\n",
       "    </tr>\n",
       "  </tbody>\n",
       "</table>\n",
       "</div>"
      ],
      "text/plain": [
       "   movieId                    Title                        Genres\n",
       "0        1         Toy Story (1995)   Animation|Children's|Comedy\n",
       "1        2           Jumanji (1995)  Adventure|Children's|Fantasy\n",
       "2        3  Grumpier Old Men (1995)                Comedy|Romance"
      ]
     },
     "execution_count": 8,
     "metadata": {},
     "output_type": "execute_result"
    }
   ],
   "source": [
    "# MovieID::Title::Genres\n",
    "movies = pd.read_csv(\"/Users/velo1/SynologyDrive/GIT_syno/data/ml-1m/movies.dat\", sep=\"::\",\n",
    "    header=None, names=[\"movieId\", \"Title\", \"Genres\"], engine=\"python\", encoding=\"latin-1\")\n",
    "print(movies.shape)\n",
    "movies.head(3)\n"
   ]
  },
  {
   "attachments": {},
   "cell_type": "markdown",
   "metadata": {},
   "source": [
    "### 2. Load data from MovieLens original dataset"
   ]
  },
  {
   "cell_type": "code",
   "execution_count": 9,
   "metadata": {},
   "outputs": [],
   "source": [
    "# # Pay attention to the actual columns names in the data source file and the names in the code below!\n",
    "# reader = Reader(line_format='user item rating timestamp', sep='::', rating_scale=(min_rating, max_rating))\n",
    "# data = Dataset.load_from_file(\"/Users/velo1/SynologyDrive/GIT_syno/data/ml-1m/ratings.dat\", reader=reader)\n",
    "# data"
   ]
  },
  {
   "attachments": {},
   "cell_type": "markdown",
   "metadata": {},
   "source": [
    "#### Defining the best algorithm"
   ]
  },
  {
   "cell_type": "code",
   "execution_count": 10,
   "metadata": {},
   "outputs": [
    {
     "name": "stderr",
     "output_type": "stream",
     "text": [
      "Running algorithms:   0%|          | 0/9 [00:00<?, ?it/s]"
     ]
    },
    {
     "name": "stdout",
     "output_type": "stream",
     "text": [
      "Algorithm SVD is running...\n"
     ]
    },
    {
     "name": "stderr",
     "output_type": "stream",
     "text": [
      "Running algorithms:  11%|█         | 1/9 [00:24<03:17, 24.74s/it]"
     ]
    },
    {
     "name": "stdout",
     "output_type": "stream",
     "text": [
      "Algorithm BaselineOnly is running...\n",
      "Estimating biases using als...\n",
      "Estimating biases using als...\n",
      "Estimating biases using als...\n",
      "Estimating biases using als...\n",
      "Estimating biases using als...\n"
     ]
    },
    {
     "name": "stderr",
     "output_type": "stream",
     "text": [
      "Running algorithms:  22%|██▏       | 2/9 [00:41<02:21, 20.16s/it]"
     ]
    },
    {
     "name": "stdout",
     "output_type": "stream",
     "text": [
      "Algorithm KNNBasic is running...\n",
      "Computing the msd similarity matrix...\n",
      "Computing the msd similarity matrix...\n",
      "Computing the msd similarity matrix...\n",
      "Computing the msd similarity matrix...\n",
      "Computing the msd similarity matrix...\n",
      "Done computing similarity matrix.\n",
      "Done computing similarity matrix.\n",
      "Done computing similarity matrix.\n",
      "Done computing similarity matrix.\n",
      "Done computing similarity matrix.\n"
     ]
    },
    {
     "name": "stderr",
     "output_type": "stream",
     "text": [
      "Running algorithms:  33%|███▎      | 3/9 [07:59<21:05, 210.89s/it]"
     ]
    },
    {
     "name": "stdout",
     "output_type": "stream",
     "text": [
      "Algorithm KNNWithMeans is running...\n",
      "Computing the msd similarity matrix...\n",
      "Computing the msd similarity matrix...\n",
      "Computing the msd similarity matrix...\n",
      "Computing the msd similarity matrix...\n",
      "Computing the msd similarity matrix...\n",
      "Done computing similarity matrix.\n",
      "Done computing similarity matrix.\n",
      "Done computing similarity matrix.\n",
      "Done computing similarity matrix.\n",
      "Done computing similarity matrix.\n"
     ]
    },
    {
     "name": "stderr",
     "output_type": "stream",
     "text": [
      "Running algorithms:  44%|████▍     | 4/9 [15:58<26:22, 316.55s/it]"
     ]
    },
    {
     "name": "stdout",
     "output_type": "stream",
     "text": [
      "Algorithm KNNWithZScore is running...\n",
      "Computing the msd similarity matrix...\n",
      "Computing the msd similarity matrix...\n",
      "Computing the msd similarity matrix...\n",
      "Computing the msd similarity matrix...\n",
      "Computing the msd similarity matrix...\n",
      "Done computing similarity matrix.\n",
      "Done computing similarity matrix.\n",
      "Done computing similarity matrix.\n",
      "Done computing similarity matrix.\n",
      "Done computing similarity matrix.\n"
     ]
    },
    {
     "name": "stderr",
     "output_type": "stream",
     "text": [
      "Running algorithms:  56%|█████▌    | 5/9 [23:57<25:01, 375.41s/it]"
     ]
    },
    {
     "name": "stdout",
     "output_type": "stream",
     "text": [
      "Algorithm KNNBaseline is running...\n",
      "Estimating biases using als...\n",
      "Computing the msd similarity matrix...\n",
      "Estimating biases using als...\n",
      "Computing the msd similarity matrix...\n",
      "Estimating biases using als...\n",
      "Computing the msd similarity matrix...\n",
      "Estimating biases using als...\n",
      "Computing the msd similarity matrix...\n",
      "Estimating biases using als...\n",
      "Computing the msd similarity matrix...\n",
      "Done computing similarity matrix.\n",
      "Done computing similarity matrix.\n",
      "Done computing similarity matrix.\n",
      "Done computing similarity matrix.\n",
      "Done computing similarity matrix.\n"
     ]
    },
    {
     "name": "stderr",
     "output_type": "stream",
     "text": [
      "Running algorithms:  67%|██████▋   | 6/9 [32:05<20:40, 413.41s/it]"
     ]
    },
    {
     "name": "stdout",
     "output_type": "stream",
     "text": [
      "Algorithm NMF is running...\n"
     ]
    },
    {
     "name": "stderr",
     "output_type": "stream",
     "text": [
      "Running algorithms:  78%|███████▊  | 7/9 [32:35<09:36, 288.28s/it]"
     ]
    },
    {
     "name": "stdout",
     "output_type": "stream",
     "text": [
      "Algorithm SlopeOne is running...\n"
     ]
    },
    {
     "name": "stderr",
     "output_type": "stream",
     "text": [
      "Running algorithms:  89%|████████▉ | 8/9 [36:23<04:29, 269.06s/it]"
     ]
    },
    {
     "name": "stdout",
     "output_type": "stream",
     "text": [
      "Algorithm CoClustering is running...\n"
     ]
    },
    {
     "name": "stderr",
     "output_type": "stream",
     "text": [
      "Running algorithms: 100%|██████████| 9/9 [36:52<00:00, 245.85s/it]"
     ]
    },
    {
     "name": "stdout",
     "output_type": "stream",
     "text": [
      "\n",
      "Results:\n",
      "Algorithm: SVD\n",
      "Mean RMSE: 0.8738138290292629\n",
      "-------\n",
      "Algorithm: BaselineOnly\n",
      "Mean RMSE: 0.908669611756055\n",
      "-------\n",
      "Algorithm: KNNBasic\n",
      "Mean RMSE: 0.9227669044457905\n",
      "-------\n",
      "Algorithm: KNNWithMeans\n",
      "Mean RMSE: 0.9292157039869107\n",
      "-------\n",
      "Algorithm: KNNWithZScore\n",
      "Mean RMSE: 0.9303767954613864\n",
      "-------\n",
      "Algorithm: KNNBaseline\n",
      "Mean RMSE: 0.8949845224608657\n",
      "-------\n",
      "Algorithm: NMF\n",
      "Mean RMSE: 0.9162409553178584\n",
      "-------\n",
      "Algorithm: SlopeOne\n",
      "Mean RMSE: 0.9066256907624094\n",
      "-------\n",
      "Algorithm: CoClustering\n",
      "Mean RMSE: 0.9165630008332254\n",
      "-------\n"
     ]
    },
    {
     "name": "stderr",
     "output_type": "stream",
     "text": [
      "\n"
     ]
    }
   ],
   "source": [
    "algos = [\n",
    "    SVD(),\n",
    "    BaselineOnly(),\n",
    "    KNNBasic(),\n",
    "    KNNWithMeans(),\n",
    "    KNNWithZScore(),\n",
    "    KNNBaseline(),\n",
    "    NMF(),\n",
    "    SlopeOne(),\n",
    "    CoClustering(),\n",
    "]\n",
    "results = {}\n",
    "algo_results = {}\n",
    "for algo in tqdm(algos, desc=\"Running algorithms\"):\n",
    "    algo_name = algo.__class__.__name__\n",
    "    print(f\"Algorithm {algo_name} is running...\")\n",
    "    algo_results[algo_name] = cross_validate(\n",
    "        algo,  #  Algorithm predicting the baseline estimate for given user and item.\n",
    "        data,  # data to be used for cross-validation\n",
    "        verbose=False,  # print the performance metric\n",
    "        cv=5,  # 5-fold cross validation\n",
    "        measures=[\"RMSE\", \"MAE\"],\n",
    "        n_jobs=-1,  # use all available CPU cores for parallel processing.\n",
    "        pre_dispatch=\"2*n_jobs\",  # twice the number of available CPU cores.\n",
    "        return_train_measures=True,  # return the train error measures.\n",
    "    )\n",
    "\n",
    "    mean_rmse = algo_results[algo_name]['test_rmse'].mean()\n",
    "    results[algo_name] = {'mean_rmse': mean_rmse}\n",
    "\n",
    "print(\"\\nResults:\")\n",
    "for algo, result in results.items():\n",
    "    print(f\"Algorithm: {algo}\")\n",
    "    print(f\"Mean RMSE: {result['mean_rmse']}\")\n",
    "    print(\"-------\")"
   ]
  },
  {
   "cell_type": "code",
   "execution_count": 11,
   "metadata": {},
   "outputs": [
    {
     "data": {
      "text/html": [
       "<style type=\"text/css\">\n",
       "#T_2872a_row0_col0 {\n",
       "  background-color: #3b4cc0;\n",
       "  color: #f1f1f1;\n",
       "}\n",
       "#T_2872a_row1_col0 {\n",
       "  background-color: #b7cff9;\n",
       "  color: #000000;\n",
       "}\n",
       "#T_2872a_row2_col0 {\n",
       "  background-color: #efcfbf;\n",
       "  color: #000000;\n",
       "}\n",
       "#T_2872a_row3_col0 {\n",
       "  background-color: #f3c7b1;\n",
       "  color: #000000;\n",
       "}\n",
       "#T_2872a_row4_col0 {\n",
       "  background-color: #f4987a;\n",
       "  color: #000000;\n",
       "}\n",
       "#T_2872a_row5_col0 {\n",
       "  background-color: #f39778;\n",
       "  color: #000000;\n",
       "}\n",
       "#T_2872a_row6_col0 {\n",
       "  background-color: #e0654f;\n",
       "  color: #f1f1f1;\n",
       "}\n",
       "#T_2872a_row7_col0 {\n",
       "  background-color: #bb1b2c;\n",
       "  color: #f1f1f1;\n",
       "}\n",
       "#T_2872a_row8_col0 {\n",
       "  background-color: #b40426;\n",
       "  color: #f1f1f1;\n",
       "}\n",
       "</style>\n",
       "<table id=\"T_2872a\">\n",
       "  <thead>\n",
       "    <tr>\n",
       "      <th class=\"blank level0\" >&nbsp;</th>\n",
       "      <th id=\"T_2872a_level0_col0\" class=\"col_heading level0 col0\" >mean_rmse</th>\n",
       "    </tr>\n",
       "  </thead>\n",
       "  <tbody>\n",
       "    <tr>\n",
       "      <th id=\"T_2872a_level0_row0\" class=\"row_heading level0 row0\" >SVD</th>\n",
       "      <td id=\"T_2872a_row0_col0\" class=\"data row0 col0\" >0.873814</td>\n",
       "    </tr>\n",
       "    <tr>\n",
       "      <th id=\"T_2872a_level0_row1\" class=\"row_heading level0 row1\" >KNNBaseline</th>\n",
       "      <td id=\"T_2872a_row1_col0\" class=\"data row1 col0\" >0.894985</td>\n",
       "    </tr>\n",
       "    <tr>\n",
       "      <th id=\"T_2872a_level0_row2\" class=\"row_heading level0 row2\" >SlopeOne</th>\n",
       "      <td id=\"T_2872a_row2_col0\" class=\"data row2 col0\" >0.906626</td>\n",
       "    </tr>\n",
       "    <tr>\n",
       "      <th id=\"T_2872a_level0_row3\" class=\"row_heading level0 row3\" >BaselineOnly</th>\n",
       "      <td id=\"T_2872a_row3_col0\" class=\"data row3 col0\" >0.908670</td>\n",
       "    </tr>\n",
       "    <tr>\n",
       "      <th id=\"T_2872a_level0_row4\" class=\"row_heading level0 row4\" >NMF</th>\n",
       "      <td id=\"T_2872a_row4_col0\" class=\"data row4 col0\" >0.916241</td>\n",
       "    </tr>\n",
       "    <tr>\n",
       "      <th id=\"T_2872a_level0_row5\" class=\"row_heading level0 row5\" >CoClustering</th>\n",
       "      <td id=\"T_2872a_row5_col0\" class=\"data row5 col0\" >0.916563</td>\n",
       "    </tr>\n",
       "    <tr>\n",
       "      <th id=\"T_2872a_level0_row6\" class=\"row_heading level0 row6\" >KNNBasic</th>\n",
       "      <td id=\"T_2872a_row6_col0\" class=\"data row6 col0\" >0.922767</td>\n",
       "    </tr>\n",
       "    <tr>\n",
       "      <th id=\"T_2872a_level0_row7\" class=\"row_heading level0 row7\" >KNNWithMeans</th>\n",
       "      <td id=\"T_2872a_row7_col0\" class=\"data row7 col0\" >0.929216</td>\n",
       "    </tr>\n",
       "    <tr>\n",
       "      <th id=\"T_2872a_level0_row8\" class=\"row_heading level0 row8\" >KNNWithZScore</th>\n",
       "      <td id=\"T_2872a_row8_col0\" class=\"data row8 col0\" >0.930377</td>\n",
       "    </tr>\n",
       "  </tbody>\n",
       "</table>\n"
      ],
      "text/plain": [
       "<pandas.io.formats.style.Styler at 0x1305f8050>"
      ]
     },
     "execution_count": 11,
     "metadata": {},
     "output_type": "execute_result"
    }
   ],
   "source": [
    "pd.DataFrame(results).T.sort_values(\"mean_rmse\").style.background_gradient(cmap=\"coolwarm\")"
   ]
  },
  {
   "attachments": {},
   "cell_type": "markdown",
   "metadata": {},
   "source": [
    "Singular value decomposition (SVD) algorithm is the best algorithm for the given dataset.  \n",
    "It is a matrix factorization technique that is usually very effective for recommender systems.  \n",
    "It is a collaborative filtering algorithm that decomposes the user-item matrix by keeping the most important latent features that capture the majority of the item ratings.  \n",
    "It is a popular algorithm for recommender systems because it can deal with the sparsity of the user-item matrix by extracting the most important latent features related to the users and items.  \n",
    "\n",
    "Let's try to fine tune the SVD algorithm to get the best results."
   ]
  },
  {
   "cell_type": "code",
   "execution_count": 12,
   "metadata": {},
   "outputs": [
    {
     "name": "stdout",
     "output_type": "stream",
     "text": [
      "[Parallel(n_jobs=-1)]: Using backend LokyBackend with 16 concurrent workers.\n",
      "[Parallel(n_jobs=-1)]: Done   1 tasks      | elapsed:    6.9s\n",
      "[Parallel(n_jobs=-1)]: Done   2 out of   5 | elapsed:    7.8s remaining:   11.7s\n",
      "[Parallel(n_jobs=-1)]: Done   3 out of   5 | elapsed:    8.8s remaining:    5.9s\n",
      "[Parallel(n_jobs=-1)]: Done   5 out of   5 | elapsed:   10.7s remaining:    0.0s\n",
      "[Parallel(n_jobs=-1)]: Done   5 out of   5 | elapsed:   10.7s finished\n"
     ]
    }
   ],
   "source": [
    "param_grid = {\n",
    "    # \"n_epochs\": [100],\n",
    "    # \"lr_all\": [0.002],\n",
    "    # \"reg_all\": [0.4],\n",
    "    \"n_factors\": [39],\n",
    "    \"random_state\": [42],\n",
    "    \"init_mean\": [0.1],\n",
    "    \"init_std_dev\": [0.047],\n",
    "    \"verbose\": [False],\n",
    "}\n",
    "gs_svd = GridSearchCV(algo_class=SVD, param_grid=param_grid, measures=[\"rmse\", \"mae\"], cv=5, return_train_measures=False,\n",
    "                  n_jobs=-1, joblib_verbose=100, refit=True, pre_dispatch='2*n_jobs',)\n",
    "\n",
    "gs_svd.fit(data)"
   ]
  },
  {
   "cell_type": "code",
   "execution_count": 13,
   "metadata": {},
   "outputs": [
    {
     "name": "stdout",
     "output_type": "stream",
     "text": [
      "Best RMSE score is 0.8630002483898362\n",
      "Best combination of parameters that gave the best RMSE score:\n",
      "{'n_factors': 39, 'random_state': 42, 'init_mean': 0.1, 'init_std_dev': 0.047, 'verbose': False}\n"
     ]
    }
   ],
   "source": [
    "print(f'Best RMSE score is {gs_svd.best_score[\"rmse\"]}')\n",
    "print(f'Best combination of parameters that gave the best RMSE score:')\n",
    "print(gs_svd.best_params[\"rmse\"])"
   ]
  },
  {
   "cell_type": "code",
   "execution_count": 14,
   "metadata": {},
   "outputs": [
    {
     "name": "stdout",
     "output_type": "stream",
     "text": [
      "Evaluating RMSE of algorithm SVDpp on 5 split(s).\n",
      "\n",
      "                  Fold 1  Fold 2  Fold 3  Fold 4  Fold 5  Mean    Std     \n",
      "RMSE (testset)    0.8626  0.8631  0.8645  0.8609  0.8622  0.8626  0.0012  \n",
      "Fit time          379.25  374.29  374.50  374.94  376.85  375.97  1.88    \n",
      "Test time         70.59   70.05   68.16   66.86   69.93   69.12   1.39    \n"
     ]
    }
   ],
   "source": [
    "res = cross_validate(\n",
    "    SVDpp(),                    # SVD is singular value decomposition (SVD) algorithm.\n",
    "    data,                       # data to be used for cross-validation         \n",
    "    verbose=True,               # print the performance metric\n",
    "    cv=5,                       # 5-fold cross validation\n",
    "    measures=[\"RMSE\"],          # , \"MAE\"\n",
    "    n_jobs=-1,                  # use all available CPU cores for parallel processing.\n",
    "    pre_dispatch=\"2*n_jobs\",    # twice the number of available CPU cores.\n",
    "    return_train_measures=False, # return the train error measures.\n",
    ")"
   ]
  },
  {
   "attachments": {},
   "cell_type": "markdown",
   "metadata": {},
   "source": [
    "The SVDpp algorithm is an extension of SVD that takes into account implicit ratings.  \n",
    "Even without hyperparameter tuning, SVDpp is better than SVD on the MovieLens dataset.  \n",
    "\n",
    "Let's try to fine tune the SVDpp algorithm to get the best results.\n"
   ]
  },
  {
   "cell_type": "code",
   "execution_count": 15,
   "metadata": {},
   "outputs": [
    {
     "name": "stdout",
     "output_type": "stream",
     "text": [
      "[Parallel(n_jobs=-1)]: Using backend LokyBackend with 16 concurrent workers.\n",
      "[Parallel(n_jobs=-1)]: Done   1 tasks      | elapsed: 12.6min\n",
      "[Parallel(n_jobs=-1)]: Done   2 out of   5 | elapsed: 12.6min remaining: 19.0min\n",
      "[Parallel(n_jobs=-1)]: Done   3 out of   5 | elapsed: 12.7min remaining:  8.4min\n",
      "[Parallel(n_jobs=-1)]: Done   5 out of   5 | elapsed: 12.7min remaining:    0.0s\n",
      "[Parallel(n_jobs=-1)]: Done   5 out of   5 | elapsed: 12.7min finished\n"
     ]
    }
   ],
   "source": [
    "param_grid = {\n",
    "    # \"n_epochs\": [100],\n",
    "    # \"lr_all\": [0.002],\n",
    "    # \"reg_all\": [0.4],\n",
    "    \"n_factors\": [39],\n",
    "    \"random_state\": [42],\n",
    "    \"init_mean\": [0.1],\n",
    "    \"init_std_dev\": [0.045],\n",
    "    \"verbose\": [False],\n",
    "}\n",
    "gs_svdpp = GridSearchCV(algo_class=SVDpp, param_grid=param_grid, measures=[\"rmse\", \"mae\"], cv=5, return_train_measures=False,\n",
    "                  n_jobs=-1, joblib_verbose=100, refit=True, pre_dispatch='2*n_jobs',)\n",
    "\n",
    "gs_svdpp.fit(data)"
   ]
  },
  {
   "attachments": {},
   "cell_type": "markdown",
   "metadata": {},
   "source": [
    "## I bet we can get better results with the SVDpp algorithm.  \n",
    "## Could we really get RMSE under 0.86?  \n",
    "## Take a look ..."
   ]
  },
  {
   "cell_type": "code",
   "execution_count": 20,
   "metadata": {},
   "outputs": [
    {
     "name": "stdout",
     "output_type": "stream",
     "text": [
      "Best RMSE score is 0.8593545531308449\n"
     ]
    }
   ],
   "source": [
    "print(f'Best RMSE score is {gs_svdpp.best_score[\"rmse\"]}')\n"
   ]
  },
  {
   "cell_type": "code",
   "execution_count": 21,
   "metadata": {},
   "outputs": [
    {
     "name": "stdout",
     "output_type": "stream",
     "text": [
      "Best combination of parameters that gave the best RMSE score:\n",
      "{'n_factors': 39, 'random_state': 42, 'init_mean': 0.1, 'init_std_dev': 0.045, 'verbose': False}\n"
     ]
    }
   ],
   "source": [
    "print(f'Best combination of parameters that gave the best RMSE score:')\n",
    "print(gs_svdpp.best_params[\"rmse\"])"
   ]
  },
  {
   "attachments": {},
   "cell_type": "markdown",
   "metadata": {},
   "source": [
    "### OK. Fine!   Let's make some recommendations"
   ]
  },
  {
   "cell_type": "code",
   "execution_count": 17,
   "metadata": {},
   "outputs": [],
   "source": [
    "def give_recommendation(model, user_id, ratings, movies, users, n_items):\n",
    "   # Get a list of all movie IDs from dataset\n",
    "   movie_ids = movies[\"movieId\"].unique()\n",
    " \n",
    "   # Get a list of all movie IDs that have been watched by user\n",
    "   movie_ids_user = ratings.loc[ratings[\"userId\"] == user_id, \"movieId\"]\n",
    "#    movie_ids_user = ratings[ratings[\"userId\"] == user_id][\"movieId\"]\n",
    "\n",
    "    # Get a list off all movie IDS that that have NOT been watched by user\n",
    "    # returns an array containing the values in movie_ids that are not present in movie_ids_user.\n",
    "   movie_ids_to_pred = np.setdiff1d(movie_ids, movie_ids_user) # setdiff1d: Find the set difference of two arrays.\n",
    " \n",
    "   # Apply a rating of 4 to all interactions (only to match the Surprise dataset format)\n",
    "   test_set = [[user_id, movie_id, 4] for movie_id in movie_ids_to_pred]\n",
    " \n",
    "   # Predict the ratings and generate recommendations\n",
    "   predictions = model.test(test_set)\n",
    "   pred_ratings = np.array([pred.est for pred in predictions])\n",
    "   u_age = users[users['userId'] == user_id]['Age'].values[0]\n",
    "   u_gender = users[users['userId'] == user_id]['Gender'].values[0]\n",
    "   print(f\"Top {n_items} item recommendations for user_id {user_id} (age:{u_age}, gender:{u_gender}):\")\n",
    "   print(f\"{'-' * 40}\")\n",
    "   # Rank top-n movies based on the predicted ratings\n",
    "   # -pred_ratings negates all the predicted ratings. This is done because the argsort() function sorts the array \n",
    "   # in ascending order by default, but we want to find the items with the highest ratings, \n",
    "   # so we need to sort them in descending order.\n",
    "   # [:n_items] slices the sorted indices to select only the first n_items indices, which represent the items \n",
    "   # with the highest predicted ratings.\n",
    "   index_max = (-pred_ratings).argsort()[:n_items] \n",
    "   for i in index_max:\n",
    "       movie_id = movie_ids_to_pred[i]\n",
    "       print(f'{movies[movies[\"movieId\"]==movie_id][\"Title\"].values[0]:<65}:{pred_ratings[i]:.2f}')\n"
   ]
  },
  {
   "attachments": {},
   "cell_type": "markdown",
   "metadata": {},
   "source": [
    "### Let's define recommendations for a particular user."
   ]
  },
  {
   "cell_type": "code",
   "execution_count": 18,
   "metadata": {},
   "outputs": [
    {
     "name": "stdout",
     "output_type": "stream",
     "text": [
      "Top 10 item recommendations for user_id 23 (age:35, gender:M):\n",
      "----------------------------------------\n",
      "Go (1999)                                                        :4.29\n",
      "Raiders of the Lost Ark (1981)                                   :4.28\n",
      "Young Frankenstein (1974)                                        :4.21\n",
      "High Fidelity (2000)                                             :4.17\n",
      "South Park: Bigger, Longer and Uncut (1999)                      :4.13\n",
      "Monty Python and the Holy Grail (1974)                           :4.08\n",
      "Best in Show (2000)                                              :4.06\n",
      "Who Framed Roger Rabbit? (1988)                                  :4.06\n",
      "American Werewolf in London, An (1981)                           :4.06\n",
      "Toy Story 2 (1999)                                               :4.05\n"
     ]
    }
   ],
   "source": [
    "# define which user ID that we want to give recommendation\n",
    "userID = 23\n",
    "# define how many top-n movies that we want to recommend\n",
    "n_items = 10\n",
    "# generate recommendation using the model that we have trained\n",
    "give_recommendation(gs_svdpp,userID,ratings,movies, users, n_items)"
   ]
  },
  {
   "attachments": {},
   "cell_type": "markdown",
   "metadata": {},
   "source": [
    "### Let's predict a rating for a particular user and a particular movie."
   ]
  },
  {
   "cell_type": "code",
   "execution_count": 19,
   "metadata": {},
   "outputs": [
    {
     "name": "stdout",
     "output_type": "stream",
     "text": [
      "Predicted rating by user_id:23 (age:35, gender:M):\n",
      "for movie 'Toy Story (1995)' is 3.86\n"
     ]
    }
   ],
   "source": [
    "userID = 23\n",
    "movie_to_predict = 1\n",
    "title = movies[movies['movieId'] == movie_to_predict]['Title'].values[0]\n",
    "u_age = users[users['userId'] == userID]['Age'].values[0]\n",
    "u_gender = users[users['userId'] == userID]['Gender'].values[0]\n",
    "print(f\"Predicted rating by user_id:{userID} (age:{u_age}, gender:{u_gender}):\")\n",
    "print(f\"for movie '{title}' is {gs_svd.predict(userID, movie_to_predict).est:.2f}\")"
   ]
  }
 ],
 "metadata": {
  "kernelspec": {
   "display_name": "venv",
   "language": "python",
   "name": "python3"
  },
  "language_info": {
   "codemirror_mode": {
    "name": "ipython",
    "version": 3
   },
   "file_extension": ".py",
   "mimetype": "text/x-python",
   "name": "python",
   "nbconvert_exporter": "python",
   "pygments_lexer": "ipython3",
   "version": "3.11.3"
  },
  "orig_nbformat": 4
 },
 "nbformat": 4,
 "nbformat_minor": 2
}
