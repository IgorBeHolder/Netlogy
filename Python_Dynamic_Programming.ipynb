{
 "cells": [
  {
   "attachments": {},
   "cell_type": "markdown",
   "metadata": {},
   "source": [
    "[983. Minimum Cost For Tickets](https://leetcode.com/problems/minimum-cost-for-tickets/description/)"
   ]
  },
  {
   "attachments": {},
   "cell_type": "markdown",
   "metadata": {},
   "source": [
    "The problem can be solved using dynamic programming.  \n",
    "We can define a one-dimensional array `dp` of length `n+1`, where `n` is the largest day in the `days` array.  \n",
    "Each element `dp[i]` of the array represents the `minimum cost to travel up to day i`. \n",
    "\n",
    "We can then iterate over the elements of dp and update them according to the minimum of the following three options:\n",
    "* Buy a one-day ticket on day i, in which case the cost is dp[i-1] + costs[0].  \n",
    "* Buy a seven-day ticket that is valid starting from day i-6, in which case the cost is dp[max(0,i-7)] + costs[1].  \n",
    "* Buy a thirty-day ticket that is valid starting from day i-29, in which case the cost is dp[max(0,i-30)] + costs[2].  \n",
    "\n",
    "After iterating over the entire dp array, the final minimum cost will be stored in the last element `dp[-1]`.  \n",
    "\n",
    "The idea behind the dynamic programming approach is to build up the solution incrementally,   \n",
    "starting from smaller subproblems and working our way up to larger subproblems.  \n",
    "\n",
    "In this case, we start by considering the minimum cost to travel up to day 1,   \n",
    "which is simply costs[0] if day 1 is in the days array, or 0 if it is not.  \n",
    "\n",
    "We then consider the minimum cost to travel up to day 2, which can be computed by considering the minimum cost  \n",
    "of buying a one-day ticket on day 2, a seven-day ticket valid from day 1 to day 7, or a thirty-day ticket valid from day 1 to day 30.  \n",
    " \n",
    "We can then use this information to compute the minimum cost to travel up to day 3, and so on.  \n",
    "\n",
    "By iteratively building up the minimum cost to travel up to each day, we eventually arrive at the minimum cost  \n",
    "to travel up to the largest day in the days array, which is our final solution."
   ]
  },
  {
   "cell_type": "code",
   "execution_count": 30,
   "metadata": {},
   "outputs": [],
   "source": [
    "class Solution:\n",
    "    def mincostTickets(self, days, costs):\n",
    "        \n",
    "        ticket_duration = [1,7,30]\n",
    "        r = len(ticket_duration)\n",
    "        k = max(days) + 1       # start indexing from 1, 0 as initial state\n",
    "        dp = [0] * k            #  the minimum cost to travel up to day i. [0, 0, 0, 0 ...]\n",
    "\n",
    "        travel_days = set(days) # use a set for quick iterating\n",
    "        for i in range(1, k):   # iterate over dp  elements, actually over all range of days\n",
    "\n",
    "            if i not in travel_days:\n",
    "                dp[i] = dp[i-1] # copy previous cost\n",
    "\n",
    "            else:  # choose the minima among 3 variants\n",
    "                #       clipping index by 0, select cost backwards by ticket duration and add cost for that ticket\n",
    "                dp[i] = min( [dp[max(0, i - ticket_duration[ j ]) ]               + costs[ j ] for j in range( r ) ] )\n",
    "\n",
    "        return dp[-1]"
   ]
  },
  {
   "cell_type": "code",
   "execution_count": 31,
   "metadata": {},
   "outputs": [
    {
     "data": {
      "text/plain": [
       "44"
      ]
     },
     "execution_count": 31,
     "metadata": {},
     "output_type": "execute_result"
    }
   ],
   "source": [
    "days = [1,4,6,     9,10,11,12,13,14,15,     16,17,18,20,21,22,  23,27,28]    # sum  44\n",
    "costs = [3,13,45]\n",
    "sol = Solution()\n",
    "sol.mincostTickets(days, costs)"
   ]
  },
  {
   "cell_type": "code",
   "execution_count": 16,
   "metadata": {},
   "outputs": [
    {
     "name": "stdout",
     "output_type": "stream",
     "text": [
      "cost[0, 3, 3, 3, 6, 6, 9, 9, 9, 12, 15, 18, 19, 22, 22, 22, 25, 28, 31, 31, 34, 35, 35, 38, 38, 38, 38, 41, 44]\n",
      "days[0, 1, 1, 1, 4, 4, 6, 6, 6, 9, 10, 11, 12, 13, 14, 15, 16, 17, 18, 18, 20, 21, 22, 23, 23, 23, 23, 27, 28, 28, 28, 28, 28, 28, 28, 28, 28, 28, 28, 28, 28, 28, 28, 28, 28, 28, 28, 28, 28, 28, 28, 28, 28, 28, 28, 28, 28, 28, 28, 28, 28, 28, 28, 28, 28, 28, 28, 28, 28, 28, 28, 28, 28, 28, 28, 28, 28, 28, 28, 28, 28, 28, 28, 28, 28, 28, 28, 28, 28, 28, 28, 28, 28, 28, 28, 28, 28, 28, 28, 28, 28, 28, 28, 28, 28, 28, 28, 28, 28, 28, 28, 28, 28, 28, 28, 28, 28, 28, 28, 28, 28, 28, 28, 28, 28, 28, 28, 28, 28, 28, 28, 28, 28, 28, 28, 28, 28, 28, 28, 28, 28, 28, 28, 28, 28, 28, 28, 28, 28, 28, 28, 28, 28, 28, 28, 28, 28, 28, 28, 28, 28, 28, 28, 28, 28, 28, 28, 28, 28, 28, 28, 28, 28, 28, 28, 28, 28, 28, 28, 28, 28, 28, 28, 28, 28, 28, 28, 28, 28, 28, 28, 28, 28, 28, 28, 28, 28, 28, 28, 28, 28, 28, 28, 28, 28, 28, 28, 28, 28, 28, 28, 28, 28, 28, 28, 28, 28, 28, 28, 28, 28, 28, 28, 28, 28, 28, 28, 28, 28, 28, 28, 28, 28, 28, 28, 28, 28, 28, 28, 28, 28, 28, 28, 28, 28, 28, 28, 28, 28, 28, 28, 28, 28, 28, 28, 28, 28, 28, 28, 28, 28, 28, 28, 28, 28, 28, 28, 28, 28, 28, 28, 28, 28, 28, 28, 28, 28, 28, 28, 28, 28, 28, 28, 28, 28, 28, 28, 28, 28, 28, 28, 28, 28, 28, 28, 28, 28, 28, 28, 28, 28, 28, 28, 28, 28, 28, 28, 28, 28, 28, 28, 28, 28, 28, 28, 28, 28, 28, 28, 28, 28, 28, 28, 28, 28, 28, 28, 28, 28, 28, 28, 28, 28, 28, 28, 28, 28, 28, 28, 28, 28, 28, 28, 28, 28, 28, 28, 28, 28, 28, 28, 28, 28, 28, 28, 28, 28, 28, 28, 28, 28, 28, 28, 28, 28, 28]\n",
      "[1, 4, 6, 9, 10, 11, 12, 13, 14, 15, 16, 17, 18, 20, 21, 22, 23, 27, 28]\n"
     ]
    }
   ],
   "source": [
    "print ('cost'+''.join(str(dp)))\n",
    "print ('days'+''.join(str(temp)))\n",
    "print (''.join(str(days)))\n",
    "# cost[0, 3, 3, 3, 6, 6, 9, 9, 9, 12, 15, 18, 19, 22, 22, 22, 25, 28, 31, 31, 34, 35, 35, 38, 38, 38, 38, 41, 44]\n",
    "# days[0, 1, 1, 1, 4, 4, 6, 6, 6,  9, 10, 11, 12, 13, 14, 15, 16, 17, 18, 18, 20, 21, 22, 23, 23, 23, 23, 27, 28]\n",
    "#     [1,          4,    6,        9, 10, 11, 12, 13, 14, 15, 16, 17, 18,     20, 21, 22, 23,             27, 28]"
   ]
  }
 ],
 "metadata": {
  "kernelspec": {
   "display_name": "base",
   "language": "python",
   "name": "python3"
  },
  "language_info": {
   "codemirror_mode": {
    "name": "ipython",
    "version": 3
   },
   "file_extension": ".py",
   "mimetype": "text/x-python",
   "name": "python",
   "nbconvert_exporter": "python",
   "pygments_lexer": "ipython3",
   "version": "3.9.13"
  },
  "orig_nbformat": 4
 },
 "nbformat": 4,
 "nbformat_minor": 2
}
