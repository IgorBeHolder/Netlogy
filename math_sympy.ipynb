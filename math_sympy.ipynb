{
 "cells": [
  {
   "attachments": {},
   "cell_type": "markdown",
   "metadata": {},
   "source": [
    "## [`sympy`](https://docs.sympy.org/latest/guides/index.html#)"
   ]
  },
  {
   "cell_type": "code",
   "execution_count": 3,
   "metadata": {
    "colab": {
     "base_uri": "https://localhost:8080/"
    },
    "executionInfo": {
     "elapsed": 666,
     "status": "ok",
     "timestamp": 1664467018913,
     "user": {
      "displayName": "Igor Sorochan",
      "userId": "03601856735726836276"
     },
     "user_tz": -180
    },
    "id": "itONN87eais-",
    "outputId": "2c7b0a91-47cb-471d-c3a9-b87cd60e9a8e"
   },
   "outputs": [],
   "source": [
    "import sympy as sp # SymPy is a Python library for symbolic mathematics. \n",
    "from sympy import *\n",
    "from sympy import Matrix\n",
    "import pandas as pd\n",
    "import numpy as np\n",
    "\n",
    "\n",
    "# init_printing(use_unicode=True) #This will make all further examples pretty print with unicode characters.\n",
    "\n",
    "x, t, z, nu = symbols('x t z nu') #  define variables"
   ]
  },
  {
   "cell_type": "code",
   "execution_count": 4,
   "metadata": {},
   "outputs": [
    {
     "data": {
      "text/latex": [
       "$\\displaystyle \\left[\\begin{matrix}5 & -3 & x\\\\1 & 1 & -2\\\\2 & x + 2 & -1\\end{matrix}\\right]$"
      ],
      "text/plain": [
       "Matrix([\n",
       "[5,    -3,  x],\n",
       "[1,     1, -2],\n",
       "[2, x + 2, -1]])"
      ]
     },
     "execution_count": 4,
     "metadata": {},
     "output_type": "execute_result"
    }
   ],
   "source": [
    "A = Matrix([[5, -3, x], [1, 1, -2], [2, x + 2, -1]])\n",
    "A"
   ]
  },
  {
   "cell_type": "code",
   "execution_count": 5,
   "metadata": {},
   "outputs": [
    {
     "data": {
      "text/latex": [
       "$\\displaystyle x^{2} + 10 x + 24$"
      ],
      "text/plain": [
       "x**2 + 10*x + 24"
      ]
     },
     "execution_count": 5,
     "metadata": {},
     "output_type": "execute_result"
    }
   ],
   "source": [
    "det = A.det()\n",
    "# det  Calculates matrix determinant\n",
    "det"
   ]
  },
  {
   "cell_type": "code",
   "execution_count": 6,
   "metadata": {},
   "outputs": [
    {
     "name": "stdout",
     "output_type": "stream",
     "text": [
      "[-6, -4]\n",
      "-10\n"
     ]
    }
   ],
   "source": [
    "print(sp.solve(det))\n",
    "print(sum(sp.solve(det)))"
   ]
  },
  {
   "attachments": {},
   "cell_type": "markdown",
   "metadata": {},
   "source": [
    "symbolic power SymPy"
   ]
  },
  {
   "cell_type": "code",
   "execution_count": 7,
   "metadata": {},
   "outputs": [
    {
     "data": {
      "text/latex": [
       "$\\displaystyle 2 \\sqrt{2}$"
      ],
      "text/plain": [
       "2*sqrt(2)"
      ]
     },
     "execution_count": 7,
     "metadata": {},
     "output_type": "execute_result"
    }
   ],
   "source": [
    "sp.sqrt(8) # !!!"
   ]
  },
  {
   "attachments": {},
   "cell_type": "markdown",
   "metadata": {},
   "source": [
    "Take the derivative of $sin(x)e^x$"
   ]
  },
  {
   "cell_type": "code",
   "execution_count": 8,
   "metadata": {},
   "outputs": [
    {
     "data": {
      "text/latex": [
       "$\\displaystyle e^{x} \\sin{\\left(x \\right)} + e^{x} \\cos{\\left(x \\right)}$"
      ],
      "text/plain": [
       "exp(x)*sin(x) + exp(x)*cos(x)"
      ]
     },
     "execution_count": 8,
     "metadata": {},
     "output_type": "execute_result"
    }
   ],
   "source": [
    "diff(sin(x)*exp(x), x)"
   ]
  },
  {
   "attachments": {},
   "cell_type": "markdown",
   "metadata": {},
   "source": [
    "Compute $\\int_{}^{} e^x sin(x) + e^x cos(x) d(x)$"
   ]
  },
  {
   "cell_type": "code",
   "execution_count": 9,
   "metadata": {},
   "outputs": [
    {
     "data": {
      "text/latex": [
       "$\\displaystyle e^{x} \\sin{\\left(x \\right)}$"
      ],
      "text/plain": [
       "exp(x)*sin(x)"
      ]
     },
     "execution_count": 9,
     "metadata": {},
     "output_type": "execute_result"
    }
   ],
   "source": [
    "integrate(exp(x)*sin(x) + exp(x)*cos(x), x)"
   ]
  },
  {
   "attachments": {},
   "cell_type": "markdown",
   "metadata": {},
   "source": [
    "Compute $\\int_{-\\infty}^{\\infty} sin(x^2) dx$"
   ]
  },
  {
   "cell_type": "code",
   "execution_count": 10,
   "metadata": {},
   "outputs": [
    {
     "data": {
      "text/latex": [
       "$\\displaystyle \\frac{\\sqrt{2} \\sqrt{\\pi}}{2}$"
      ],
      "text/plain": [
       "sqrt(2)*sqrt(pi)/2"
      ]
     },
     "execution_count": 10,
     "metadata": {},
     "output_type": "execute_result"
    }
   ],
   "source": [
    "integrate(sin(x**2), (x, -oo, oo))"
   ]
  },
  {
   "attachments": {},
   "cell_type": "markdown",
   "metadata": {},
   "source": [
    "Find $\\lim_{x \\to 0} \\frac{sin(x)}{x}$"
   ]
  },
  {
   "cell_type": "code",
   "execution_count": 11,
   "metadata": {},
   "outputs": [
    {
     "data": {
      "text/latex": [
       "$\\displaystyle 1$"
      ],
      "text/plain": [
       "1"
      ]
     },
     "execution_count": 11,
     "metadata": {},
     "output_type": "execute_result"
    }
   ],
   "source": [
    "limit(sin(x)/x, x, 0)"
   ]
  },
  {
   "attachments": {},
   "cell_type": "markdown",
   "metadata": {},
   "source": [
    "Solve: $ x^2 - 2 = 0$"
   ]
  },
  {
   "cell_type": "code",
   "execution_count": 12,
   "metadata": {},
   "outputs": [
    {
     "data": {
      "text/plain": [
       "[-sqrt(2), sqrt(2)]"
      ]
     },
     "execution_count": 12,
     "metadata": {},
     "output_type": "execute_result"
    }
   ],
   "source": [
    "solve(x**2 - 2, x)"
   ]
  },
  {
   "attachments": {},
   "cell_type": "markdown",
   "metadata": {},
   "source": [
    "Solve the differential equation \n",
    "$y''  - y = e^t$"
   ]
  },
  {
   "cell_type": "code",
   "execution_count": 13,
   "metadata": {},
   "outputs": [
    {
     "data": {
      "text/latex": [
       "$\\displaystyle y{\\left(t \\right)} = C_{2} e^{- t} + \\left(C_{1} + \\frac{t}{2}\\right) e^{t}$"
      ],
      "text/plain": [
       "Eq(y(t), C2*exp(-t) + (C1 + t/2)*exp(t))"
      ]
     },
     "execution_count": 13,
     "metadata": {},
     "output_type": "execute_result"
    }
   ],
   "source": [
    "y = Function('y')\n",
    "dsolve(Eq(y(t).diff(t, t) - y(t), exp(t)), y(t))\n",
    "# The \"dsolve\" function is called with two arguments: the differential equation and \n",
    "# the dependent variable \"y(t)\". The \"dsolve\" function returns the general solution to the \n",
    "# differential equation, which can be displayed using the \"print\" function.\n",
    "\n",
    "# The output of the code is the general solution to the differential equation, which is \n",
    "# expressed in terms of unknown functions and constants. To find the specific solution for \n",
    "# a particular set of initial conditions, we would need to substitute specific values for \n",
    "# these unknowns and constants."
   ]
  },
  {
   "attachments": {},
   "cell_type": "markdown",
   "metadata": {},
   "source": [
    "Print  \n",
    "$\\int\\limits_{0}^{\\pi} \\cos^{2}{\\left(x \\right)}\\, dx$  \n",
    "  using LATEX"
   ]
  },
  {
   "cell_type": "code",
   "execution_count": 14,
   "metadata": {},
   "outputs": [
    {
     "data": {
      "text/plain": [
       "'\\\\int\\\\limits_{0}^{\\\\pi} \\\\cos^{2}{\\\\left(x \\\\right)}\\\\, dx'"
      ]
     },
     "execution_count": 14,
     "metadata": {},
     "output_type": "execute_result"
    }
   ],
   "source": [
    "sp.latex(Integral(cos(x)**2, (x, 0, pi)))"
   ]
  },
  {
   "attachments": {},
   "cell_type": "markdown",
   "metadata": {},
   "source": [
    "`simplify` performs only in cases valid for all possible values"
   ]
  },
  {
   "cell_type": "code",
   "execution_count": 15,
   "metadata": {},
   "outputs": [
    {
     "data": {
      "text/latex": [
       "$\\displaystyle \\sqrt{q^{2}}$"
      ],
      "text/plain": [
       "sqrt(q**2)"
      ]
     },
     "execution_count": 15,
     "metadata": {},
     "output_type": "execute_result"
    }
   ],
   "source": [
    "q = Symbol('q') # positive, negative and 0\n",
    "simplify( sqrt( q ** 2) )"
   ]
  },
  {
   "cell_type": "code",
   "execution_count": 16,
   "metadata": {},
   "outputs": [
    {
     "data": {
      "text/latex": [
       "$\\displaystyle q$"
      ],
      "text/plain": [
       "q"
      ]
     },
     "execution_count": 16,
     "metadata": {},
     "output_type": "execute_result"
    }
   ],
   "source": [
    "q = Symbol('q', positive = True) # positive, negative and 0\n",
    "simplify( sqrt( q ** 2) )"
   ]
  },
  {
   "cell_type": "markdown",
   "metadata": {
    "id": "Jh-pEPj-TcDQ"
   },
   "source": [
    "Вычислить с помощью Python значение первой производной для функции $8x(x+3)^2$ в точке $x=1$\n"
   ]
  },
  {
   "cell_type": "code",
   "execution_count": 17,
   "metadata": {},
   "outputs": [
    {
     "data": {
      "text/latex": [
       "$\\displaystyle 8 x \\left(x + 3\\right)^{2}$"
      ],
      "text/plain": [
       "8*x*(x + 3)**2"
      ]
     },
     "execution_count": 17,
     "metadata": {},
     "output_type": "execute_result"
    }
   ],
   "source": [
    "x = sp.Symbol('x')  # define x as analitycal parameter\n",
    "8*x*(x+3)**2"
   ]
  },
  {
   "cell_type": "code",
   "execution_count": 18,
   "metadata": {},
   "outputs": [
    {
     "data": {
      "text/latex": [
       "$\\displaystyle 8 x \\left(2 x + 6\\right) + 8 \\left(x + 3\\right)^{2}$"
      ],
      "text/plain": [
       "8*x*(2*x + 6) + 8*(x + 3)**2"
      ]
     },
     "execution_count": 18,
     "metadata": {},
     "output_type": "execute_result"
    }
   ],
   "source": [
    "res = sp.diff(8*x*(x+3)**2, x) #  Differentiate f with respect to symbols.\n",
    "res"
   ]
  },
  {
   "cell_type": "code",
   "execution_count": 19,
   "metadata": {},
   "outputs": [
    {
     "data": {
      "text/latex": [
       "$\\displaystyle 192$"
      ],
      "text/plain": [
       "192"
      ]
     },
     "execution_count": 19,
     "metadata": {},
     "output_type": "execute_result"
    }
   ],
   "source": [
    "# значение первой производной в точке x=1\n",
    "res.subs(x,1) #  change 'x' to 1"
   ]
  },
  {
   "cell_type": "code",
   "execution_count": 20,
   "metadata": {},
   "outputs": [
    {
     "data": {
      "text/latex": [
       "$\\displaystyle 192.0$"
      ],
      "text/plain": [
       "192.000000000000"
      ]
     },
     "execution_count": 20,
     "metadata": {},
     "output_type": "execute_result"
    }
   ],
   "source": [
    "res.evalf(subs={'x':1})"
   ]
  },
  {
   "cell_type": "code",
   "execution_count": 21,
   "metadata": {},
   "outputs": [
    {
     "data": {
      "text/latex": [
       "$\\displaystyle \\cos{\\left(x \\right)}$"
      ],
      "text/plain": [
       "cos(x)"
      ]
     },
     "execution_count": 21,
     "metadata": {},
     "output_type": "execute_result"
    }
   ],
   "source": [
    "# \n",
    "diff(sin(x), x)"
   ]
  },
  {
   "cell_type": "code",
   "execution_count": 22,
   "metadata": {},
   "outputs": [
    {
     "data": {
      "text/latex": [
       "$\\displaystyle \\frac{d^{2}}{d x^{2}} f{\\left(x \\right)}$"
      ],
      "text/plain": [
       "Derivative(f(x), (x, 2))"
      ]
     },
     "execution_count": 22,
     "metadata": {},
     "output_type": "execute_result"
    }
   ],
   "source": [
    "f = Function('f')\n",
    "diff(f(x), x, 2)\n",
    "#  Differentiate f with respect to symbols.\n",
    "#  diff(f(x), x, x, x) and diff(f(x), x, 3) both return the third derivative of f(x)."
   ]
  },
  {
   "cell_type": "code",
   "execution_count": 23,
   "metadata": {},
   "outputs": [
    {
     "data": {
      "text/latex": [
       "$\\displaystyle - \\sin{\\left(y \\right)} \\cos{\\left(x \\right)}$"
      ],
      "text/plain": [
       "-sin(y)*cos(x)"
      ]
     },
     "execution_count": 23,
     "metadata": {},
     "output_type": "execute_result"
    }
   ],
   "source": [
    "y = Symbol('y')\n",
    "a = Symbol('a')\n",
    "diff(sin(x)*cos(y), x, 1, y, 1)\n",
    "# The expression \"diff(sin(x)*cos(y), x, 2, y, 2)\" is a request to compute \n",
    "# the second partial derivative of the function \"sin(x)*cos(y)\" with respect to both\n",
    "#  x and y using the symbolic math library sympy.\n",
    "\n",
    "# The diff function in sympy is used to calculate the derivative of a given expression. \n",
    "# The first argument to the diff function is the expression that we want to differentiate, \n",
    "# and the subsequent arguments specify the variables with respect to which we want to \n",
    "# differentiate, and the order of differentiation. In this case, x, 2, y, 2 specifies that \n",
    "# we want to differentiate the expression twice with respect to x, and then twice with respect to y."
   ]
  },
  {
   "cell_type": "code",
   "execution_count": 24,
   "metadata": {},
   "outputs": [
    {
     "data": {
      "text/latex": [
       "$\\displaystyle \\sin{\\left(x \\right)} \\cos{\\left(y \\right)}$"
      ],
      "text/plain": [
       "sin(x)*cos(y)"
      ]
     },
     "execution_count": 24,
     "metadata": {},
     "output_type": "execute_result"
    }
   ],
   "source": [
    "res = diff(sin(x)*cos(y), x, 2, y, 2)\n",
    "res"
   ]
  },
  {
   "cell_type": "code",
   "execution_count": 25,
   "metadata": {},
   "outputs": [
    {
     "data": {
      "text/latex": [
       "$\\displaystyle - x y \\sin{\\left(x y \\right)} + \\cos{\\left(x y \\right)}$"
      ],
      "text/plain": [
       "-x*y*sin(x*y) + cos(x*y)"
      ]
     },
     "execution_count": 25,
     "metadata": {},
     "output_type": "execute_result"
    }
   ],
   "source": [
    "diff(sin(x*y), x, 1, y, 1)"
   ]
  },
  {
   "cell_type": "code",
   "execution_count": 26,
   "metadata": {},
   "outputs": [
    {
     "data": {
      "text/latex": [
       "$\\displaystyle - \\frac{d}{d x} a - 1$"
      ],
      "text/plain": [
       "-Derivative(a, x) - 1"
      ]
     },
     "execution_count": 26,
     "metadata": {},
     "output_type": "execute_result"
    }
   ],
   "source": [
    "# represents unevaluated derivatives\n",
    "idiff(x + a + y, [y, a], x)"
   ]
  },
  {
   "cell_type": "code",
   "execution_count": 27,
   "metadata": {},
   "outputs": [
    {
     "data": {
      "text/latex": [
       "$\\displaystyle - \\frac{x}{y}$"
      ],
      "text/plain": [
       "-x/y"
      ]
     },
     "execution_count": 27,
     "metadata": {},
     "output_type": "execute_result"
    }
   ],
   "source": [
    "circ = x**2 + y**2 - 4\n",
    "idiff(circ, y, x)"
   ]
  },
  {
   "cell_type": "code",
   "execution_count": 28,
   "metadata": {},
   "outputs": [
    {
     "data": {
      "text/latex": [
       "$\\displaystyle \\frac{- x^{2} - y^{2}}{y^{3}}$"
      ],
      "text/plain": [
       "(-x**2 - y**2)/y**3"
      ]
     },
     "execution_count": 28,
     "metadata": {},
     "output_type": "execute_result"
    }
   ],
   "source": [
    "idiff(circ, y, x, 2).simplify()"
   ]
  },
  {
   "cell_type": "markdown",
   "metadata": {},
   "source": [
    "### Задание 3\n",
    "Решите систему уравнений:\n",
    "\n",
    "4x + 2y + z = 4\n",
    "\n",
    "x + 3y = 12\n",
    "\n",
    "5y + 4z = -3"
   ]
  },
  {
   "cell_type": "code",
   "execution_count": 29,
   "metadata": {},
   "outputs": [],
   "source": [
    "from numpy import linalg\n",
    "\n",
    "a = np.array([[4,2,1],[1,3,0],[0,5,4]])\n",
    "b = np.array([4,12,-3]) "
   ]
  },
  {
   "cell_type": "code",
   "execution_count": 30,
   "metadata": {},
   "outputs": [
    {
     "data": {
      "text/plain": [
       "array([ 0.46666667,  3.84444444, -5.55555556])"
      ]
     },
     "execution_count": 30,
     "metadata": {},
     "output_type": "execute_result"
    }
   ],
   "source": [
    "linalg.solve(a, b)"
   ]
  },
  {
   "cell_type": "code",
   "execution_count": 31,
   "metadata": {},
   "outputs": [
    {
     "data": {
      "text/plain": [
       "True"
      ]
     },
     "execution_count": 31,
     "metadata": {},
     "output_type": "execute_result"
    }
   ],
   "source": [
    "#  решение СЛУ -  вектор, содержащий коэффициенты разложения вектора(матрицы) b по столбцам матрицы a,\n",
    "#  т.е. умножив a на решение, получаем b\n",
    "np.allclose( np.dot(a, linalg.solve(a, b)), b )"
   ]
  },
  {
   "cell_type": "markdown",
   "metadata": {},
   "source": [
    "np.reduce  , accumulate"
   ]
  },
  {
   "cell_type": "code",
   "execution_count": 32,
   "metadata": {},
   "outputs": [
    {
     "data": {
      "text/plain": [
       "array([1, 2, 3, 4, 5])"
      ]
     },
     "execution_count": 32,
     "metadata": {},
     "output_type": "execute_result"
    }
   ],
   "source": [
    "x = np.arange(1, 6)\n",
    "x"
   ]
  },
  {
   "cell_type": "code",
   "execution_count": 42,
   "metadata": {},
   "outputs": [
    {
     "name": "stdout",
     "output_type": "stream",
     "text": [
      "15\n",
      "[ 1  3  6 10 15]\n",
      "15\n",
      "[ 1  3  6 10 15]\n"
     ]
    }
   ],
   "source": [
    "print(np.add.reduce(x)) # 1 + 2 + 3 + 4 + 5\n",
    "print(np.add.accumulate(x)) # 1, 1 + 2, 1 + 2 + 3, ...)\n",
    "print(np.sum(x)) # 1 + 2 + 3 + 4 + 5\n",
    "print(np.cumsum(x)) # 1, 1 + 2, 1 + 2 + 3, ...) "
   ]
  },
  {
   "cell_type": "code",
   "execution_count": 43,
   "metadata": {},
   "outputs": [
    {
     "name": "stdout",
     "output_type": "stream",
     "text": [
      "120\n",
      "[  1   2   6  24 120]\n",
      "120\n",
      "[  1   2   6  24 120]\n"
     ]
    }
   ],
   "source": [
    "print(np.multiply.reduce(x)) # 1 * 2 * 3 * 4 * 5\n",
    "print(np.multiply.accumulate(x)) # 1, 1 * 2, 1 * 2 * 3, ...\n",
    "print(np.prod(x)) # 1 * 2 * 3 * 4 * 5  \n",
    "print(np.cumprod(x)) # 1, 1 * 2, 1 * 2 * 3, ... "
   ]
  },
  {
   "cell_type": "code",
   "execution_count": 45,
   "metadata": {},
   "outputs": [
    {
     "data": {
      "text/plain": [
       "array([[ 1,  2,  3,  4,  5],\n",
       "       [ 2,  4,  6,  8, 10],\n",
       "       [ 3,  6,  9, 12, 15],\n",
       "       [ 4,  8, 12, 16, 20],\n",
       "       [ 5, 10, 15, 20, 25]])"
      ]
     },
     "execution_count": 45,
     "metadata": {},
     "output_type": "execute_result"
    }
   ],
   "source": [
    "np.multiply.outer(x, x) #  outer product of two vectors (create a multiplication table)"
   ]
  },
  {
   "cell_type": "code",
   "execution_count": 47,
   "metadata": {},
   "outputs": [
    {
     "name": "stdout",
     "output_type": "stream",
     "text": [
      "74.7 ms ± 1.7 ms per loop (mean ± std. dev. of 7 runs, 10 loops each)\n",
      "534 µs ± 64.9 µs per loop (mean ± std. dev. of 7 runs, 1,000 loops each)\n"
     ]
    }
   ],
   "source": [
    "# NumPy’s version of the operation is computed much more quickly:\n",
    "big_array = np.random.rand(1000000)\n",
    "%timeit sum(big_array)\n",
    "%timeit np.sum(big_array)"
   ]
  },
  {
   "cell_type": "code",
   "execution_count": 51,
   "metadata": {},
   "outputs": [
    {
     "name": "stdout",
     "output_type": "stream",
     "text": [
      "[[0.5488135  0.71518937 0.60276338 0.54488318]\n",
      " [0.4236548  0.64589411 0.43758721 0.891773  ]\n",
      " [0.96366276 0.38344152 0.79172504 0.52889492]]\n",
      "7.478282790980994\n",
      "[0.4236548  0.38344152 0.43758721 0.52889492]\n",
      "[0.71518937 0.891773   0.96366276]\n"
     ]
    }
   ],
   "source": [
    "np.random.seed(0) #  set the random seed\n",
    "M = np.random.random((3, 4))\n",
    "print(M)\n",
    "print(M.sum())\n",
    "print(M.min(axis=0)) #  find the minimum value within each column by specifying axis=0\n",
    "print(M.max(axis=1)) #  find the maximum value within each row by specifying axis=1"
   ]
  },
  {
   "cell_type": "markdown",
   "metadata": {},
   "source": [
    "The `axis` keyword specifies the dimension of the array that will be collapsed,  \n",
    "rather than the dimension that will be returned.  \n",
    "So specifying `axis=0` means that the first axis will be collapsed:  \n",
    "for two-dimensional arrays, this means that values within each column will be aggregated.\n",
    "\n",
    "| Function Name          | NaN-safe Version          | Description                                      |\n",
    "|------------------------|---------------------------|--------------------------------------------------|\n",
    "| np.sum                 | np.nansum                 | Compute sum of elements                         |\n",
    "| np.prod                | np.nanprod                | Compute product of elements                     |\n",
    "| np.mean                | np.nanmean                | Compute median of elements                      |\n",
    "| np.std                 | np.nanstd                 | Compute standard deviation                      |\n",
    "| np.var                 | np.nanvar                 | Compute variance                                 |\n",
    "| np.min                 | np.nanmin                 | Find minimum value                               |\n",
    "| np.max                 | np.nanmax                 | Find maximum value                               |\n",
    "| np.argmin              | np.nanargmin              | Find index of minimum value                     |\n",
    "| np.argmax              | np.nanargmax              | Find index of maximum value                     |\n",
    "| np.median              | np.nanmedian              | Compute median of elements                      |\n",
    "| np.percentile          | np.nanpercentile          | Compute rank-based statistics of elements       |\n",
    "| np.any                 | N/A                       | Evaluate whether any elements are true          |\n",
    "| np.all                 | N/A                       | Evaluate whether all elements are true          |\n"
   ]
  },
  {
   "cell_type": "markdown",
   "metadata": {},
   "source": [
    "Broadcasting"
   ]
  },
  {
   "cell_type": "code",
   "execution_count": 53,
   "metadata": {},
   "outputs": [
    {
     "name": "stdout",
     "output_type": "stream",
     "text": [
      "[0 1 2]\n",
      "[[0]\n",
      " [1]\n",
      " [2]]\n"
     ]
    }
   ],
   "source": [
    "a = np.arange(3)\n",
    "b = np.arange(3)[:, np.newaxis]\n",
    "print(a)\n",
    "print(b)"
   ]
  },
  {
   "cell_type": "code",
   "execution_count": 54,
   "metadata": {},
   "outputs": [
    {
     "data": {
      "text/plain": [
       "array([[0, 1, 2],\n",
       "       [1, 2, 3],\n",
       "       [2, 3, 4]])"
      ]
     },
     "execution_count": 54,
     "metadata": {},
     "output_type": "execute_result"
    }
   ],
   "source": [
    "a + b   #  broadcasting -  the smaller array is broadcast across the larger array so that they have compatible shapes"
   ]
  },
  {
   "cell_type": "markdown",
   "metadata": {},
   "source": [
    "| Operator       | Equivalent ufunc   |\n",
    "| -------------- | ------------------- |\n",
    "| &              | np.bitwise_and      |\n",
    "| \\|             | np.bitwise_or       |\n",
    "| ^              | np.bitwise_xor      |\n",
    "| ~              | np.bitwise_not      |\n",
    "\n",
    "A AND B and NOT (A OR B) "
   ]
  },
  {
   "cell_type": "code",
   "execution_count": 61,
   "metadata": {},
   "outputs": [
    {
     "data": {
      "text/plain": [
       "array([-172, -171, -170, -169, -168, -167, -166, -165, -164, -163, -162,\n",
       "       -161, -160, -159, -158, -157, -156, -155, -154, -153, -152, -151,\n",
       "       -150, -149, -148, -147, -146, -145, -144, -143, -142, -141, -140,\n",
       "       -139, -138, -137, -136, -135, -134, -133, -132, -131, -130, -129,\n",
       "       -128, -127, -126, -125, -124, -123, -122, -121, -120, -119, -118,\n",
       "       -117, -116, -115, -114, -113, -112, -111, -110, -109, -108, -107,\n",
       "       -106, -105, -104, -103, -102, -101, -100,  -99,  -98,  -97,  -96,\n",
       "        -95,  -94,  -93,  -92,  -91,  -90,  -89,  -88,  -87,  -86,  -85,\n",
       "        -84,  -83,  -82,  -81,  -80,  -79,  -78,  -77,  -76,  -75,  -74,\n",
       "        -73,  -72,  -71,  -70,  -69,  -68,  -67,  -66,  -65,  -64,  -63,\n",
       "        -62,  -61,  -60,  -59,  -58,  -57,  -56,  -55,  -54,  -53,  -52,\n",
       "        -51,  -50,  -49,  -48,  -47,  -46,  -45,  -44,  -43,  -42,  -41,\n",
       "        -40,  -39,  -38,  -37,  -36,  -35,  -34,  -33,  -32,  -31,  -30,\n",
       "        -29,  -28,  -27,  -26,  -25,  -24,  -23,  -22,  -21,  -20,  -19,\n",
       "        -18,  -17,  -16,  -15,  -14,  -13,  -12,  -11,  -10,   -9,   -8,\n",
       "         -7,   -6,   -5,   -4,   -3,   -2,   -1,    0,    1,    2,    3,\n",
       "          4,    5,    6,    7,    8,    9,   10,   11,   12,   13,   14,\n",
       "         15,   16,   17,   18,   19,   20,   21,   22,   23,   24,   25,\n",
       "         26,   27,   28,   29,   30,   31,   32,   33,   34,   35,   36,\n",
       "         37,   38,   39,   40,   41,   42,   43,   44,   45,   46,   47,\n",
       "         48,   49,   50,   51,   52,   53,   54,   55,   56,   57,   58,\n",
       "         59,   60,   61,   62,   63,   64,   65,   66,   67,   68,   69,\n",
       "         70,   71,   72,   73,   74,   75,   76,   77,   78,   79,   80,\n",
       "         81,   82,   83,   84,   85,   86,   87,   88,   89,   90,   91,\n",
       "         92,   93,   94,   95,   96,   97,   98,   99,  100,  101,  102,\n",
       "        103,  104,  105,  106,  107,  108,  109,  110,  111,  112,  113,\n",
       "        114,  115,  116,  117,  118,  119,  120,  121,  122,  123,  124,\n",
       "        125,  126,  127,  128,  129,  130,  131,  132,  133,  134,  135,\n",
       "        136,  137,  138,  139,  140,  141,  142,  143,  144,  145,  146,\n",
       "        147,  148,  149,  150,  151,  152,  153,  154,  155,  156,  157,\n",
       "        158,  159,  160,  161,  162,  163,  164,  165,  166,  167,  168,\n",
       "        169,  170,  171,  172,  173,  174,  175,  176,  177,  178,  179,\n",
       "        180,  181,  182,  183,  184,  185,  186,  187,  188,  189,  190,\n",
       "        191,  192])"
      ]
     },
     "execution_count": 61,
     "metadata": {},
     "output_type": "execute_result"
    }
   ],
   "source": [
    "np.arange(365) - 172 "
   ]
  },
  {
   "cell_type": "code",
   "execution_count": 56,
   "metadata": {},
   "outputs": [
    {
     "data": {
      "text/plain": [
       "array([False, False, False, False, False, False, False, False, False,\n",
       "       False, False, False, False, False, False, False, False, False,\n",
       "       False, False, False, False, False, False, False, False, False,\n",
       "       False, False, False, False, False, False, False, False, False,\n",
       "       False, False, False, False, False, False, False, False, False,\n",
       "       False, False, False, False, False, False, False, False, False,\n",
       "       False, False, False, False, False, False, False, False, False,\n",
       "       False, False, False, False, False, False, False, False, False,\n",
       "       False, False, False, False, False, False, False, False, False,\n",
       "       False, False, False, False, False, False, False, False, False,\n",
       "       False, False, False, False, False, False, False, False, False,\n",
       "       False, False, False, False, False, False, False, False, False,\n",
       "       False, False, False, False, False, False, False, False, False,\n",
       "       False, False, False, False, False, False, False, False, False,\n",
       "       False, False, False, False, False, False, False, False, False,\n",
       "       False, False, False, False, False, False, False, False, False,\n",
       "       False, False, False, False, False, False, False, False, False,\n",
       "       False, False, False, False, False, False, False, False, False,\n",
       "       False, False, False, False, False, False, False, False, False,\n",
       "       False, False,  True,  True,  True,  True,  True,  True,  True,\n",
       "        True,  True,  True,  True,  True,  True,  True,  True,  True,\n",
       "        True,  True,  True,  True,  True,  True,  True,  True,  True,\n",
       "        True,  True,  True,  True,  True,  True,  True,  True,  True,\n",
       "        True,  True,  True,  True,  True,  True,  True,  True,  True,\n",
       "        True,  True,  True,  True,  True,  True,  True,  True,  True,\n",
       "        True,  True,  True,  True,  True,  True,  True,  True,  True,\n",
       "        True,  True,  True,  True,  True,  True,  True,  True,  True,\n",
       "        True,  True,  True,  True,  True,  True,  True,  True,  True,\n",
       "        True,  True,  True,  True,  True,  True,  True,  True,  True,\n",
       "        True, False, False, False, False, False, False, False, False,\n",
       "       False, False, False, False, False, False, False, False, False,\n",
       "       False, False, False, False, False, False, False, False, False,\n",
       "       False, False, False, False, False, False, False, False, False,\n",
       "       False, False, False, False, False, False, False, False, False,\n",
       "       False, False, False, False, False, False, False, False, False,\n",
       "       False, False, False, False, False, False, False, False, False,\n",
       "       False, False, False, False, False, False, False, False, False,\n",
       "       False, False, False, False, False, False, False, False, False,\n",
       "       False, False, False, False, False, False, False, False, False,\n",
       "       False, False, False, False, False, False, False, False, False,\n",
       "       False, False, False, False, False])"
      ]
     },
     "execution_count": 56,
     "metadata": {},
     "output_type": "execute_result"
    }
   ],
   "source": [
    "summer = (np.arange(365) - 172 < 90) & (np.arange(365) - 172 > 0)\n",
    "summer"
   ]
  },
  {
   "cell_type": "code",
   "execution_count": 67,
   "metadata": {},
   "outputs": [
    {
     "data": {
      "text/plain": [
       "True"
      ]
     },
     "execution_count": 67,
     "metadata": {},
     "output_type": "execute_result"
    }
   ],
   "source": [
    "summer2 = (np.arange(365) > 172 ) & (np.arange(365) < 262)\n",
    "# check if two arrays are equal element-wise\n",
    "np.array_equal(summer, summer2)"
   ]
  }
 ],
 "metadata": {
  "kernelspec": {
   "display_name": "base",
   "language": "python",
   "name": "python3"
  },
  "language_info": {
   "codemirror_mode": {
    "name": "ipython",
    "version": 3
   },
   "file_extension": ".py",
   "mimetype": "text/x-python",
   "name": "python",
   "nbconvert_exporter": "python",
   "pygments_lexer": "ipython3",
   "version": "3.11.3"
  },
  "vscode": {
   "interpreter": {
    "hash": "3f0fc0265faf3f010b6ea13d4d06fa8f6d9bd8f9a0a69886dc52220c62e8c74f"
   }
  }
 },
 "nbformat": 4,
 "nbformat_minor": 2
}
