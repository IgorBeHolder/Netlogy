{
 "cells": [
  {
   "attachments": {},
   "cell_type": "markdown",
   "metadata": {},
   "source": [
    "### EDA"
   ]
  },
  {
   "cell_type": "code",
   "execution_count": null,
   "metadata": {},
   "outputs": [],
   "source": [
    "import numpy as np\n",
    "import seaborn as sns\n"
   ]
  },
  {
   "attachments": {},
   "cell_type": "markdown",
   "metadata": {},
   "source": [
    "Drop redundant features"
   ]
  },
  {
   "cell_type": "code",
   "execution_count": null,
   "metadata": {},
   "outputs": [],
   "source": [
    "# when you want to drop a huge number of columns and keep only 4–5 columns. \n",
    "# In that case, instead of using df.drop() \n",
    "# you should use df.copy() with a selected number of columns.\n",
    "columns_to_drop = ['PassengerId', 'SibSp', \n",
    "                   'Parch', 'WikiId', \n",
    "                   'Name_wiki', 'Age_wiki']\n",
    "df1 = df.drop(columns_to_drop, axis=1)\n",
    "df1 = df[[\"Name\",\"Age\",\"Sex\",\"Survived\"]].copy()"
   ]
  },
  {
   "attachments": {},
   "cell_type": "markdown",
   "metadata": {},
   "source": [
    "Visualize the gaps"
   ]
  },
  {
   "cell_type": "code",
   "execution_count": null,
   "metadata": {},
   "outputs": [],
   "source": [
    "sns.heatmap(df.isna())\n",
    "\n",
    "# OR\n",
    "sns.heatmap(df.isna().transpose())"
   ]
  },
  {
   "attachments": {},
   "cell_type": "markdown",
   "metadata": {},
   "source": [
    "Summirize %% of missing data"
   ]
  },
  {
   "cell_type": "code",
   "execution_count": null,
   "metadata": {},
   "outputs": [],
   "source": [
    "print(\"Amount of missing values in - \")\n",
    "for column in df.columns:\n",
    "    percentage_missing = np.mean(df[column].isna())\n",
    "    print(f'{column} : {round(percentage_missing*100)}%')"
   ]
  },
  {
   "cell_type": "markdown",
   "metadata": {},
   "source": []
  },
  {
   "attachments": {},
   "cell_type": "markdown",
   "metadata": {},
   "source": [
    "#### Cleaning data\n",
    "1. Sources of errors: Did you use the right tools and functions to find the source of the errors in your dataset?\n",
    "\n",
    "1. Null data: Did you search for NULLs using conditional formatting and filters?\n",
    "\n",
    "1. Misspelled words: Did you locate all misspellings?\n",
    "\n",
    "1. Mistyped numbers: Did you double-check that your numeric data has been entered correctly?\n",
    "\n",
    "1. Extra spaces and characters: Did you remove any extra spaces or characters using the TRIM function?\n",
    "\n",
    "1. Duplicates: Did you remove duplicates in spreadsheets using the Remove Duplicates function or DISTINCT in SQL?\n",
    "\n",
    "1. Mismatched data types: Did you check that numeric, date, and string data are typecast correctly?\n",
    "\n",
    "1. Messy (inconsistent) strings: Did you make sure that all of your strings are consistent and meaningful?\n",
    "\n",
    "1. Messy (inconsistent) date formats: Did you format the dates consistently throughout your dataset?\n",
    "\n",
    "1. Misleading variable labels (columns): Did you name your columns meaningfully?\n",
    "\n",
    "1. Truncated data: Did you check for truncated or missing data that needs correction?\n",
    "\n",
    "1. Business Logic: Did you check that the data makes sense given your knowledge of the business?  \n",
    "\n"
   ]
  },
  {
   "attachments": {},
   "cell_type": "markdown",
   "metadata": {},
   "source": [
    "#### Review the goal of your project\n",
    "Once you have finished these data cleaning tasks, it is a good idea to review the goal of your project and confirm that your data is still aligned with that goal. This is a continuous process that you will do throughout your project-- but here are three steps you can keep in mind while thinking about this: \n",
    "\n",
    "1. Confirm the business problem \n",
    "\n",
    "1. Confirm the goal of the project\n",
    "\n",
    "1. Verify that data can solve the problem and is aligned to the goal "
   ]
  }
 ],
 "metadata": {
  "language_info": {
   "name": "python"
  },
  "orig_nbformat": 4
 },
 "nbformat": 4,
 "nbformat_minor": 2
}
