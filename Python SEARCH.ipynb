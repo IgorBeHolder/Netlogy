{
 "cells": [
  {
   "cell_type": "markdown",
   "metadata": {},
   "source": [
    "# search from  notebook"
   ]
  },
  {
   "cell_type": "code",
   "execution_count": 7,
   "metadata": {},
   "outputs": [
    {
     "name": "stdout",
     "output_type": "stream",
     "text": [
      ".gitignore\n",
      "ABD-22 LABa -Kuzmin Pandas.ipynb\n",
      "ABD-22 LABa.ipynb\n",
      "ABD-22 Total HW.ipynb\n",
      "bash.ipynb\n",
      "Constraint Programming.ipynb\n",
      "desktop.ini\n",
      "DLS  simpsons_baseline.ipynb\n",
      "DLS Python Base.ipynb\n",
      "lecture_04_andas.ipynb\n",
      "Netlogy ERRORS_DATES .ipynb\n",
      "Netlogy ERRORS_DATES HW.ipynb\n",
      "Netology Numpy _HW.ipynb\n",
      "Netology Pandas HW funcs group.ipynb\n",
      "Netology Pandas HW_SQL.ipynb\n",
      "Netology Pandas_basics.ipynb\n",
      "Netology Pandas_functions_groupby.ipynb\n",
      "Netology Pandas_JOIN.ipynb\n",
      "Netology Pandas_JOIN_HW.ipynb\n",
      "Netology Pandas_JOIN_SQL_HW .ipynb\n",
      "Netology Pandas_PIVOT_and_PYMYSTEM.ipynb\n",
      "Netology Pandas_pivot_and_str.ipynb\n",
      "Netology Pandas_presentation_mode.ipynb\n",
      "Netology Pandas_vs_set_and_dict.ipynb\n",
      "NETOLOGY PySpark ����� 7.ipynb\n",
      "Netology Python  FUNCTIONS DICTS_sorting args  kwargs.ipynb\n",
      "Netology Python  LAB.ipynb\n",
      "Netology Python  netology Functions HW4 .ipynb\n",
      "Netology Python _Bases2.ipynb\n",
      "Netology Python CLASSES.ipynb\n",
      "Netology Python Datatypes LOOPs.ipynb\n",
      "Netology python DICT Recursion HW3.ipynb\n",
      "Netology python HW classes 20221017.ipynb\n",
      "Netology Python HW1 �᭮��.ipynb\n",
      "Netology Python HW2.ipynb\n",
      "Netology Python intro.ipynb\n",
      "Netology Python list dict.ipynb\n",
      "Netology python open files.ipynb\n",
      "Netology Python Scrapping HW.ipynb\n",
      "Netology Python_7_ERRORS_DATETIME.ipynb\n",
      "Netology RegEx .ipynb\n",
      "Netology_Python_FILES Read-Write_and_pip JSON.ipynb\n",
      "Netology_REGEX_practice.ipynb\n",
      "Netology_SCRAPING PARSING.ipynb\n",
      "Pandas. Change value on condition.ipynb\n",
      "Pandas_MULTIindex.ipynb\n",
      "pyda-lab-0620.ipynb\n",
      "Python DateTimeTimeZone.ipynb\n",
      "Python Decorator.ipynb\n",
      "Python MathPlotLib VIZ.ipynb\n",
      "Python PARSING.ipynb\n",
      "Python SEARCH.ipynb\n",
      "Python SQL.ipynb\n",
      "Python_9_Numpy Matrix.ipynb\n",
      "Python_Tricks.ipynb\n"
     ]
    }
   ],
   "source": [
    "!ls"
   ]
  },
  {
   "cell_type": "code",
   "execution_count": 6,
   "metadata": {},
   "outputs": [
    {
     "name": "stdout",
     "output_type": "stream",
     "text": [
      "Netology Pandas_basics.ipynb\n",
      "Netology_SCRAPING PARSING.ipynb\n",
      "Python PARSING.ipynb\n",
      "Python SEARCH.ipynb\n"
     ]
    }
   ],
   "source": [
    "import glob\n",
    "\n",
    "# pattern = '../**/*.ipynb'\n",
    "pattern = '*.ipynb'\n",
    "\n",
    "# q = 'SQL'\n",
    "q = 'parsing'\n",
    "# q = 'permut'\n",
    "\n",
    "for filepath in glob.iglob(pattern, recursive=True):\n",
    "    with open(filepath, encoding='UTF-8') as file:\n",
    "        # print(file)\n",
    "        s = file.read()\n",
    "        if (s.find( q ) > -1):\n",
    "            print(filepath)"
   ]
  }
 ],
 "metadata": {
  "kernelspec": {
   "display_name": "Python 3.10.8 64-bit (microsoft store)",
   "language": "python",
   "name": "python3"
  },
  "language_info": {
   "codemirror_mode": {
    "name": "ipython",
    "version": 3
   },
   "file_extension": ".py",
   "mimetype": "text/x-python",
   "name": "python",
   "nbconvert_exporter": "python",
   "pygments_lexer": "ipython3",
   "version": "3.10.8"
  },
  "orig_nbformat": 4,
  "vscode": {
   "interpreter": {
    "hash": "62904c1132972672803069004015d497d78640672cb35a40da7f1355a4c1bbc5"
   }
  }
 },
 "nbformat": 4,
 "nbformat_minor": 2
}
