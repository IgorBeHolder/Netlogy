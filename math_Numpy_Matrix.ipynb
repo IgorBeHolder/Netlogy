{
 "cells": [
  {
   "cell_type": "markdown",
   "metadata": {},
   "source": [
    "# Что сегодня сделаем\n",
    "Рекомендательный алгоритм сопутствующих товаров для пользователя"
   ]
  },
  {
   "cell_type": "markdown",
   "metadata": {},
   "source": [
    "# Numpy и матричная алгебра"
   ]
  },
  {
   "cell_type": "code",
   "execution_count": 1,
   "metadata": {},
   "outputs": [],
   "source": [
    "import numpy as np\n",
    "import matplotlib.pyplot as plt\n",
    "from numpy import linalg"
   ]
  },
  {
   "cell_type": "code",
   "execution_count": 2,
   "metadata": {},
   "outputs": [],
   "source": [
    "v = np.array([1, 2, 3, np.pi, 5.25])\n",
    "y = np.array([4, 5, 6, np.nan, 0])"
   ]
  },
  {
   "cell_type": "code",
   "execution_count": 3,
   "metadata": {},
   "outputs": [
    {
     "data": {
      "text/plain": [
       "(array([5.  , 7.  , 9.  ,  nan, 5.25]), array([ 4., 10., 18., nan,  0.]))"
      ]
     },
     "execution_count": 3,
     "metadata": {},
     "output_type": "execute_result"
    }
   ],
   "source": [
    "v + y, v* y"
   ]
  },
  {
   "cell_type": "code",
   "execution_count": 4,
   "metadata": {},
   "outputs": [
    {
     "data": {
      "text/plain": [
       "(2.8783185307179586, nan)"
      ]
     },
     "execution_count": 4,
     "metadata": {},
     "output_type": "execute_result"
    }
   ],
   "source": [
    "# дополнительные методы\n",
    "v.mean(), y.mean()"
   ]
  },
  {
   "cell_type": "markdown",
   "metadata": {},
   "source": [
    "### Поэлементные операции"
   ]
  },
  {
   "cell_type": "code",
   "execution_count": 5,
   "metadata": {
    "scrolled": true
   },
   "outputs": [
    {
     "data": {
      "text/plain": [
       "[1, 2, 3, 4]"
      ]
     },
     "execution_count": 5,
     "metadata": {},
     "output_type": "execute_result"
    }
   ],
   "source": [
    "[1, 2] + [3, 4]"
   ]
  },
  {
   "cell_type": "code",
   "execution_count": 6,
   "metadata": {},
   "outputs": [
    {
     "data": {
      "text/plain": [
       "(array([ 4.,  5.,  6., nan,  0.]),\n",
       " array([1.        , 2.        , 3.        , 3.14159265, 5.25      ]))"
      ]
     },
     "execution_count": 6,
     "metadata": {},
     "output_type": "execute_result"
    }
   ],
   "source": [
    "y, v"
   ]
  },
  {
   "cell_type": "code",
   "execution_count": 7,
   "metadata": {},
   "outputs": [
    {
     "data": {
      "text/plain": [
       "array([5.  , 7.  , 9.  ,  nan, 5.25])"
      ]
     },
     "execution_count": 7,
     "metadata": {},
     "output_type": "execute_result"
    }
   ],
   "source": [
    "v + y"
   ]
  },
  {
   "cell_type": "code",
   "execution_count": 8,
   "metadata": {},
   "outputs": [
    {
     "data": {
      "text/plain": [
       "array([-3.  , -3.  , -3.  ,   nan,  5.25])"
      ]
     },
     "execution_count": 8,
     "metadata": {},
     "output_type": "execute_result"
    }
   ],
   "source": [
    "v - y"
   ]
  },
  {
   "cell_type": "code",
   "execution_count": 9,
   "metadata": {
    "scrolled": true
   },
   "outputs": [
    {
     "data": {
      "text/plain": [
       "array([ 4., 10., 18., nan,  0.])"
      ]
     },
     "execution_count": 9,
     "metadata": {},
     "output_type": "execute_result"
    }
   ],
   "source": [
    "v * y"
   ]
  },
  {
   "cell_type": "code",
   "execution_count": 10,
   "metadata": {
    "scrolled": true
   },
   "outputs": [
    {
     "name": "stderr",
     "output_type": "stream",
     "text": [
      "/var/folders/qw/qq8zb5hx0w9cgzgkf9_v2sh00000gq/T/ipykernel_79370/163835318.py:1: RuntimeWarning: divide by zero encountered in divide\n",
      "  v / y\n"
     ]
    },
    {
     "data": {
      "text/plain": [
       "array([0.25, 0.4 , 0.5 ,  nan,  inf])"
      ]
     },
     "execution_count": 10,
     "metadata": {},
     "output_type": "execute_result"
    }
   ],
   "source": [
    "v / y"
   ]
  },
  {
   "cell_type": "code",
   "execution_count": 11,
   "metadata": {
    "scrolled": false
   },
   "outputs": [
    {
     "data": {
      "text/plain": [
       "array([  1.,  32., 729.,  nan,   1.])"
      ]
     },
     "execution_count": 11,
     "metadata": {},
     "output_type": "execute_result"
    }
   ],
   "source": [
    "# элементы массива x возводятся в соответствующие степени элементов массива y\n",
    "v ** y"
   ]
  },
  {
   "cell_type": "code",
   "execution_count": 12,
   "metadata": {
    "scrolled": true
   },
   "outputs": [
    {
     "data": {
      "text/plain": [
       "array([ 0.,  1.,  0., nan,  0.])"
      ]
     },
     "execution_count": 12,
     "metadata": {},
     "output_type": "execute_result"
    }
   ],
   "source": [
    "# остаток от деления\n",
    "# обратите внимание, что для удобства данного примера x и y идут в другом порядке\n",
    "\n",
    "y % v"
   ]
  },
  {
   "cell_type": "markdown",
   "metadata": {},
   "source": [
    "### Автоматическое наполнение массивов"
   ]
  },
  {
   "cell_type": "code",
   "execution_count": 13,
   "metadata": {},
   "outputs": [
    {
     "data": {
      "text/plain": [
       "array([0, 1, 2, 3, 4, 5, 6, 7, 8, 9])"
      ]
     },
     "execution_count": 13,
     "metadata": {},
     "output_type": "execute_result"
    }
   ],
   "source": [
    "# аналог range\n",
    "\n",
    "np.arange(0, 10)"
   ]
  },
  {
   "cell_type": "code",
   "execution_count": 14,
   "metadata": {},
   "outputs": [
    {
     "data": {
      "text/plain": [
       "[0, 1, 2, 3, 4, 5, 6, 7, 8, 9]"
      ]
     },
     "execution_count": 14,
     "metadata": {},
     "output_type": "execute_result"
    }
   ],
   "source": [
    "list(range(10))"
   ]
  },
  {
   "cell_type": "code",
   "execution_count": 15,
   "metadata": {
    "scrolled": true
   },
   "outputs": [
    {
     "data": {
      "text/plain": [
       "array([1, 1, 1, 1, 1, 1, 1, 1, 1, 1])"
      ]
     },
     "execution_count": 15,
     "metadata": {},
     "output_type": "execute_result"
    }
   ],
   "source": [
    "# создать массив из 10 чисел, заполненных единицами\n",
    "np.full(10, 1)"
   ]
  },
  {
   "cell_type": "code",
   "execution_count": 16,
   "metadata": {},
   "outputs": [
    {
     "data": {
      "text/plain": [
       "array([[0, 0, 0, 0, 0],\n",
       "       [0, 0, 0, 0, 0]])"
      ]
     },
     "execution_count": 16,
     "metadata": {},
     "output_type": "execute_result"
    }
   ],
   "source": [
    "# создать матрицу 2х5 из нулей\n",
    "np.full([2, 5], 0)"
   ]
  },
  {
   "cell_type": "code",
   "execution_count": 17,
   "metadata": {},
   "outputs": [
    {
     "data": {
      "text/plain": [
       "[1, 2, 3, 4, 5, 6]"
      ]
     },
     "execution_count": 17,
     "metadata": {},
     "output_type": "execute_result"
    }
   ],
   "source": [
    "[1, 2, 3] + [4, 5, 6]"
   ]
  },
  {
   "cell_type": "code",
   "execution_count": 18,
   "metadata": {},
   "outputs": [
    {
     "data": {
      "text/plain": [
       "(array([0, 1, 2, 3, 4, 5, 6, 7, 8, 9]), array([10, 13, 16, 19]))"
      ]
     },
     "execution_count": 18,
     "metadata": {},
     "output_type": "execute_result"
    }
   ],
   "source": [
    "# объединить массивы в один\n",
    "a = np.arange(10)\n",
    "b = np.arange(10, 20, 3) # start - stop - step\n",
    "a, b"
   ]
  },
  {
   "cell_type": "code",
   "execution_count": 19,
   "metadata": {},
   "outputs": [
    {
     "data": {
      "text/plain": [
       "array([ 0,  1,  2,  3,  4,  5,  6,  7,  8,  9, 10, 13, 16, 19])"
      ]
     },
     "execution_count": 19,
     "metadata": {},
     "output_type": "execute_result"
    }
   ],
   "source": [
    "\n",
    "# обратите внимание на двойные скобки\n",
    "np.concatenate((a, b)) "
   ]
  },
  {
   "cell_type": "code",
   "execution_count": 20,
   "metadata": {},
   "outputs": [
    {
     "data": {
      "text/plain": [
       "array([8, 2, 9, 5, 6, 4, 1, 0, 3, 7])"
      ]
     },
     "execution_count": 20,
     "metadata": {},
     "output_type": "execute_result"
    }
   ],
   "source": [
    "# перемешать элементы массива\n",
    "import random\n",
    "\n",
    "nums = np.arange(10)\n",
    "random.shuffle(nums)\n",
    "\n",
    "nums"
   ]
  },
  {
   "cell_type": "markdown",
   "metadata": {},
   "source": [
    "### Изменение размерности"
   ]
  },
  {
   "cell_type": "code",
   "execution_count": 21,
   "metadata": {},
   "outputs": [
    {
     "data": {
      "text/plain": [
       "array([0, 1, 2, 3, 4, 5, 6, 7, 8, 9])"
      ]
     },
     "execution_count": 21,
     "metadata": {},
     "output_type": "execute_result"
    }
   ],
   "source": [
    "x = np.arange( 0, 10 )\n",
    "x"
   ]
  },
  {
   "cell_type": "code",
   "execution_count": 22,
   "metadata": {},
   "outputs": [
    {
     "data": {
      "text/plain": [
       "(10,)"
      ]
     },
     "execution_count": 22,
     "metadata": {},
     "output_type": "execute_result"
    }
   ],
   "source": [
    "# 10 - количество строк\n",
    "\n",
    "x.shape"
   ]
  },
  {
   "cell_type": "code",
   "execution_count": 23,
   "metadata": {},
   "outputs": [
    {
     "data": {
      "text/plain": [
       "array([[0, 1],\n",
       "       [2, 3],\n",
       "       [4, 5],\n",
       "       [6, 7],\n",
       "       [8, 9]])"
      ]
     },
     "execution_count": 23,
     "metadata": {},
     "output_type": "execute_result"
    }
   ],
   "source": [
    "# первый аргумент - количество строк\n",
    "# второй - столбцов\n",
    "\n",
    "x.reshape(5, 2)"
   ]
  },
  {
   "cell_type": "code",
   "execution_count": 24,
   "metadata": {
    "scrolled": true
   },
   "outputs": [],
   "source": [
    "# x.reshape(3, 3)"
   ]
  },
  {
   "cell_type": "code",
   "execution_count": 25,
   "metadata": {},
   "outputs": [
    {
     "data": {
      "text/plain": [
       "array([[1, 3, 5],\n",
       "       [2, 4, 6]])"
      ]
     },
     "execution_count": 25,
     "metadata": {},
     "output_type": "execute_result"
    }
   ],
   "source": [
    "# транспонирование матриц\n",
    "\n",
    "np.array(\n",
    "    [\n",
    "        [1, 2],\n",
    "        [3, 4],\n",
    "        [5, 6]\n",
    "    ]\n",
    ").T"
   ]
  },
  {
   "cell_type": "code",
   "execution_count": 26,
   "metadata": {},
   "outputs": [
    {
     "data": {
      "text/plain": [
       "[1, 2, 3, 4, 5, 6]"
      ]
     },
     "execution_count": 26,
     "metadata": {},
     "output_type": "execute_result"
    }
   ],
   "source": [
    "# склеивание набора списков\n",
    "[1, 2, 3] + [4, 5, 6]"
   ]
  },
  {
   "cell_type": "code",
   "execution_count": 27,
   "metadata": {},
   "outputs": [
    {
     "data": {
      "text/plain": [
       "array([1, 2, 3, 4, 5, 6])"
      ]
     },
     "execution_count": 27,
     "metadata": {},
     "output_type": "execute_result"
    }
   ],
   "source": [
    "# склеивание массива из списков\n",
    "\n",
    "x = np.array( [ [1, 2, 3], [4, 5, 6] ] )\n",
    "x.ravel() #  Return a contiguous flattened array."
   ]
  },
  {
   "cell_type": "code",
   "execution_count": 28,
   "metadata": {},
   "outputs": [
    {
     "data": {
      "text/plain": [
       "array([1, 2, 3, 4, 5, 6])"
      ]
     },
     "execution_count": 28,
     "metadata": {},
     "output_type": "execute_result"
    }
   ],
   "source": [
    "# можно и так\n",
    "\n",
    "x.reshape(6)  #  or -1"
   ]
  },
  {
   "cell_type": "code",
   "execution_count": 29,
   "metadata": {},
   "outputs": [
    {
     "data": {
      "text/plain": [
       "(1, 6)"
      ]
     },
     "execution_count": 29,
     "metadata": {},
     "output_type": "execute_result"
    }
   ],
   "source": [
    "# результат разный, если добавить 1 в качестве количества строк\n",
    "\n",
    "x.reshape(1, 6).shape"
   ]
  },
  {
   "cell_type": "markdown",
   "metadata": {},
   "source": [
    "### Создание матриц"
   ]
  },
  {
   "cell_type": "code",
   "execution_count": 30,
   "metadata": {},
   "outputs": [
    {
     "data": {
      "text/plain": [
       "array([0., 0., 0., 0., 0., 0., 0., 0., 0., 0.])"
      ]
     },
     "execution_count": 30,
     "metadata": {},
     "output_type": "execute_result"
    }
   ],
   "source": [
    "# нулевой вектор заданной размерности\n",
    "\n",
    "np.zeros(10)"
   ]
  },
  {
   "cell_type": "code",
   "execution_count": 31,
   "metadata": {},
   "outputs": [
    {
     "data": {
      "text/plain": [
       "array([[1., 0., 0., 0., 0.],\n",
       "       [0., 1., 0., 0., 0.],\n",
       "       [0., 0., 1., 0., 0.],\n",
       "       [0., 0., 0., 1., 0.],\n",
       "       [0., 0., 0., 0., 1.]])"
      ]
     },
     "execution_count": 31,
     "metadata": {},
     "output_type": "execute_result"
    }
   ],
   "source": [
    "# единичная матрица\n",
    "\n",
    "np.eye(5)"
   ]
  },
  {
   "cell_type": "code",
   "execution_count": 32,
   "metadata": {},
   "outputs": [
    {
     "data": {
      "text/plain": [
       "array([[ 0,  2,  0,  0,  0],\n",
       "       [ 0,  0, 17,  0,  0],\n",
       "       [ 0,  0,  0, 32,  0],\n",
       "       [ 0,  0,  0,  0, 47],\n",
       "       [ 0,  0,  0,  0,  0]])"
      ]
     },
     "execution_count": 32,
     "metadata": {},
     "output_type": "execute_result"
    }
   ],
   "source": [
    "# более общий случай диагональной матрицы\n",
    "\n",
    "np.diag(np.arange(2, 50, 15), k=1) # k - diagonal bias"
   ]
  },
  {
   "cell_type": "code",
   "execution_count": 33,
   "metadata": {},
   "outputs": [
    {
     "data": {
      "text/plain": [
       "array([0.07085525, 0.25275328, 0.38517612, 0.25232787, 0.72615918,\n",
       "       0.19343532, 0.30511845, 0.23539294, 0.60651805, 0.53897303])"
      ]
     },
     "execution_count": 33,
     "metadata": {},
     "output_type": "execute_result"
    }
   ],
   "source": [
    "# матрица со случайными значениями\n",
    "# Return random floats in the half-open interval [0.0, 1.0)\n",
    "np.random.random(10)"
   ]
  },
  {
   "cell_type": "code",
   "execution_count": 34,
   "metadata": {},
   "outputs": [
    {
     "name": "stdout",
     "output_type": "stream",
     "text": [
      "\u001b[0;31mSignature:\u001b[0m\n",
      "\u001b[0mnp\u001b[0m\u001b[0;34m.\u001b[0m\u001b[0mlinspace\u001b[0m\u001b[0;34m(\u001b[0m\u001b[0;34m\u001b[0m\n",
      "\u001b[0;34m\u001b[0m    \u001b[0mstart\u001b[0m\u001b[0;34m,\u001b[0m\u001b[0;34m\u001b[0m\n",
      "\u001b[0;34m\u001b[0m    \u001b[0mstop\u001b[0m\u001b[0;34m,\u001b[0m\u001b[0;34m\u001b[0m\n",
      "\u001b[0;34m\u001b[0m    \u001b[0mnum\u001b[0m\u001b[0;34m=\u001b[0m\u001b[0;36m50\u001b[0m\u001b[0;34m,\u001b[0m\u001b[0;34m\u001b[0m\n",
      "\u001b[0;34m\u001b[0m    \u001b[0mendpoint\u001b[0m\u001b[0;34m=\u001b[0m\u001b[0;32mTrue\u001b[0m\u001b[0;34m,\u001b[0m\u001b[0;34m\u001b[0m\n",
      "\u001b[0;34m\u001b[0m    \u001b[0mretstep\u001b[0m\u001b[0;34m=\u001b[0m\u001b[0;32mFalse\u001b[0m\u001b[0;34m,\u001b[0m\u001b[0;34m\u001b[0m\n",
      "\u001b[0;34m\u001b[0m    \u001b[0mdtype\u001b[0m\u001b[0;34m=\u001b[0m\u001b[0;32mNone\u001b[0m\u001b[0;34m,\u001b[0m\u001b[0;34m\u001b[0m\n",
      "\u001b[0;34m\u001b[0m    \u001b[0maxis\u001b[0m\u001b[0;34m=\u001b[0m\u001b[0;36m0\u001b[0m\u001b[0;34m,\u001b[0m\u001b[0;34m\u001b[0m\n",
      "\u001b[0;34m\u001b[0m\u001b[0;34m)\u001b[0m\u001b[0;34m\u001b[0m\u001b[0;34m\u001b[0m\u001b[0m\n",
      "\u001b[0;31mDocstring:\u001b[0m\n",
      "Return evenly spaced numbers over a specified interval.\n",
      "\n",
      "Returns `num` evenly spaced samples, calculated over the\n",
      "interval [`start`, `stop`].\n",
      "\n",
      "The endpoint of the interval can optionally be excluded.\n",
      "\n",
      ".. versionchanged:: 1.16.0\n",
      "    Non-scalar `start` and `stop` are now supported.\n",
      "\n",
      ".. versionchanged:: 1.20.0\n",
      "    Values are rounded towards ``-inf`` instead of ``0`` when an\n",
      "    integer ``dtype`` is specified. The old behavior can\n",
      "    still be obtained with ``np.linspace(start, stop, num).astype(int)``\n",
      "\n",
      "Parameters\n",
      "----------\n",
      "start : array_like\n",
      "    The starting value of the sequence.\n",
      "stop : array_like\n",
      "    The end value of the sequence, unless `endpoint` is set to False.\n",
      "    In that case, the sequence consists of all but the last of ``num + 1``\n",
      "    evenly spaced samples, so that `stop` is excluded.  Note that the step\n",
      "    size changes when `endpoint` is False.\n",
      "num : int, optional\n",
      "    Number of samples to generate. Default is 50. Must be non-negative.\n",
      "endpoint : bool, optional\n",
      "    If True, `stop` is the last sample. Otherwise, it is not included.\n",
      "    Default is True.\n",
      "retstep : bool, optional\n",
      "    If True, return (`samples`, `step`), where `step` is the spacing\n",
      "    between samples.\n",
      "dtype : dtype, optional\n",
      "    The type of the output array.  If `dtype` is not given, the data type\n",
      "    is inferred from `start` and `stop`. The inferred dtype will never be\n",
      "    an integer; `float` is chosen even if the arguments would produce an\n",
      "    array of integers.\n",
      "\n",
      "    .. versionadded:: 1.9.0\n",
      "\n",
      "axis : int, optional\n",
      "    The axis in the result to store the samples.  Relevant only if start\n",
      "    or stop are array-like.  By default (0), the samples will be along a\n",
      "    new axis inserted at the beginning. Use -1 to get an axis at the end.\n",
      "\n",
      "    .. versionadded:: 1.16.0\n",
      "\n",
      "Returns\n",
      "-------\n",
      "samples : ndarray\n",
      "    There are `num` equally spaced samples in the closed interval\n",
      "    ``[start, stop]`` or the half-open interval ``[start, stop)``\n",
      "    (depending on whether `endpoint` is True or False).\n",
      "step : float, optional\n",
      "    Only returned if `retstep` is True\n",
      "\n",
      "    Size of spacing between samples.\n",
      "\n",
      "\n",
      "See Also\n",
      "--------\n",
      "arange : Similar to `linspace`, but uses a step size (instead of the\n",
      "         number of samples).\n",
      "geomspace : Similar to `linspace`, but with numbers spaced evenly on a log\n",
      "            scale (a geometric progression).\n",
      "logspace : Similar to `geomspace`, but with the end points specified as\n",
      "           logarithms.\n",
      "\n",
      "Examples\n",
      "--------\n",
      ">>> np.linspace(2.0, 3.0, num=5)\n",
      "array([2.  , 2.25, 2.5 , 2.75, 3.  ])\n",
      ">>> np.linspace(2.0, 3.0, num=5, endpoint=False)\n",
      "array([2. ,  2.2,  2.4,  2.6,  2.8])\n",
      ">>> np.linspace(2.0, 3.0, num=5, retstep=True)\n",
      "(array([2.  ,  2.25,  2.5 ,  2.75,  3.  ]), 0.25)\n",
      "\n",
      "Graphical illustration:\n",
      "\n",
      ">>> import matplotlib.pyplot as plt\n",
      ">>> N = 8\n",
      ">>> y = np.zeros(N)\n",
      ">>> x1 = np.linspace(0, 10, N, endpoint=True)\n",
      ">>> x2 = np.linspace(0, 10, N, endpoint=False)\n",
      ">>> plt.plot(x1, y, 'o')\n",
      "[<matplotlib.lines.Line2D object at 0x...>]\n",
      ">>> plt.plot(x2, y + 0.5, 'o')\n",
      "[<matplotlib.lines.Line2D object at 0x...>]\n",
      ">>> plt.ylim([-0.5, 1])\n",
      "(-0.5, 1)\n",
      ">>> plt.show()\n",
      "\u001b[0;31mFile:\u001b[0m      ~/opt/anaconda3/lib/python3.10/site-packages/numpy/core/function_base.py\n",
      "\u001b[0;31mType:\u001b[0m      function\n"
     ]
    }
   ],
   "source": [
    "# более универсальный вариант создания матриц\n",
    "\n",
    "?np.linspace"
   ]
  },
  {
   "cell_type": "code",
   "execution_count": 35,
   "metadata": {
    "scrolled": false
   },
   "outputs": [
    {
     "data": {
      "text/plain": [
       "array([ 5.        ,  5.68965517,  6.37931034,  7.06896552,  7.75862069,\n",
       "        8.44827586,  9.13793103,  9.82758621, 10.51724138, 11.20689655,\n",
       "       11.89655172, 12.5862069 , 13.27586207, 13.96551724, 14.65517241,\n",
       "       15.34482759, 16.03448276, 16.72413793, 17.4137931 , 18.10344828,\n",
       "       18.79310345, 19.48275862, 20.17241379, 20.86206897, 21.55172414,\n",
       "       22.24137931, 22.93103448, 23.62068966, 24.31034483, 25.        ])"
      ]
     },
     "execution_count": 35,
     "metadata": {},
     "output_type": "execute_result"
    }
   ],
   "source": [
    "np.linspace(5, 25, 30) # start, stop, count"
   ]
  },
  {
   "cell_type": "markdown",
   "metadata": {},
   "source": [
    "### Более сложные распределения\n",
    "\n",
    "https://docs.scipy.org/doc/scipy-0.14.0/reference/generated/scipy.signal.gaussian.html"
   ]
  },
  {
   "cell_type": "markdown",
   "metadata": {},
   "source": [
    "# Скалярное произведение векторов"
   ]
  },
  {
   "cell_type": "markdown",
   "metadata": {},
   "source": [
    "\\begin{equation*}\n",
    "\\LARGE\n",
    "\\vec{a} \\dot{} \\vec{b} = |\\vec{a}| \\space |\\vec{b}| \\space cos(\\vec{a}, \\vec{b})\n",
    "\\end{equation*}"
   ]
  },
  {
   "cell_type": "markdown",
   "metadata": {},
   "source": [
    "Пусть \n",
    "\\begin{equation*}\n",
    "\\LARGE\n",
    "\\vec{a} = (a_1, a_2, a_3) \\\\\n",
    "\\LARGE\n",
    "\\vec{b} = (b_1, b_2, b_3)\n",
    "\\end{equation*}"
   ]
  },
  {
   "cell_type": "markdown",
   "metadata": {},
   "source": [
    "Тогда скалярное произведение векторов равно\n",
    "\\begin{equation*}\n",
    "\\LARGE\n",
    "\\vec{a} \\dot{} \\vec{b} = a_1 b_1 + a_2 b_2 + a_3 b_3\n",
    "\\end{equation*}"
   ]
  },
  {
   "cell_type": "code",
   "execution_count": 36,
   "metadata": {},
   "outputs": [],
   "source": [
    "a = np.array( [4, 3] )\n",
    "b = np.array( [2, 1] )"
   ]
  },
  {
   "cell_type": "code",
   "execution_count": 37,
   "metadata": {},
   "outputs": [
    {
     "data": {
      "text/plain": [
       "(array([4, 3]), array([2, 1]))"
      ]
     },
     "execution_count": 37,
     "metadata": {},
     "output_type": "execute_result"
    }
   ],
   "source": [
    "a, b"
   ]
  },
  {
   "cell_type": "code",
   "execution_count": 38,
   "metadata": {},
   "outputs": [
    {
     "data": {
      "text/plain": [
       "11"
      ]
     },
     "execution_count": 38,
     "metadata": {},
     "output_type": "execute_result"
    }
   ],
   "source": [
    "4*2 + 3*1 # sum of pairwise  products"
   ]
  },
  {
   "cell_type": "markdown",
   "metadata": {},
   "source": [
    "Пример расчета скалярного произведения векторов"
   ]
  },
  {
   "cell_type": "code",
   "execution_count": 39,
   "metadata": {},
   "outputs": [
    {
     "data": {
      "text/plain": [
       "11"
      ]
     },
     "execution_count": 39,
     "metadata": {},
     "output_type": "execute_result"
    }
   ],
   "source": [
    "np.dot( a, b ) # dot product of 2 arrays\n",
    "# The dot product, also called scalar product, is a measure of how closely two vectors align"
   ]
  },
  {
   "cell_type": "markdown",
   "metadata": {},
   "source": [
    "Можно посчитать и таким образом"
   ]
  },
  {
   "cell_type": "code",
   "execution_count": 40,
   "metadata": {},
   "outputs": [
    {
     "name": "stdout",
     "output_type": "stream",
     "text": [
      "(4, 2)\n",
      "(3, 1)\n"
     ]
    }
   ],
   "source": [
    "# первый шаг: split to pairs\n",
    "\n",
    "for pair in zip( a, b ):\n",
    "    print( pair )"
   ]
  },
  {
   "cell_type": "code",
   "execution_count": 41,
   "metadata": {},
   "outputs": [
    {
     "data": {
      "text/plain": [
       "[8, 3]"
      ]
     },
     "execution_count": 41,
     "metadata": {},
     "output_type": "execute_result"
    }
   ],
   "source": [
    "# второй шаг: pairwise multiplication\n",
    "\n",
    "[ pair[0] * pair[1] for pair in zip( a, b ) ]"
   ]
  },
  {
   "cell_type": "code",
   "execution_count": 42,
   "metadata": {},
   "outputs": [
    {
     "data": {
      "text/plain": [
       "11"
      ]
     },
     "execution_count": 42,
     "metadata": {},
     "output_type": "execute_result"
    }
   ],
   "source": [
    "# итоговый результат: SUM\n",
    "\n",
    "sum( [ pair[0] * pair[1] for pair in zip( a, b ) ] )"
   ]
  },
  {
   "cell_type": "markdown",
   "metadata": {},
   "source": [
    "# Косинусное сходство между векторами"
   ]
  },
  {
   "attachments": {},
   "cell_type": "markdown",
   "metadata": {},
   "source": [
    "\\begin{equation*}\n",
    "\\LARGE\n",
    "cos(\\vec{a}, \\vec{b}) = \\frac{\\vec{a} \\dot{} \\vec{b}}{|\\vec{a}| \\space |\\vec{b}|}\n",
    "\\end{equation*}  \n",
    "`скалярное произведение / произведение евклидовых норм`"
   ]
  },
  {
   "cell_type": "code",
   "execution_count": 43,
   "metadata": {},
   "outputs": [],
   "source": [
    "import matplotlib.pyplot as plt"
   ]
  },
  {
   "cell_type": "code",
   "execution_count": 44,
   "metadata": {},
   "outputs": [
    {
     "data": {
      "text/plain": [
       "(array([4, 3]), array([2, 1]))"
      ]
     },
     "execution_count": 44,
     "metadata": {},
     "output_type": "execute_result"
    }
   ],
   "source": [
    "a, b"
   ]
  },
  {
   "cell_type": "code",
   "execution_count": 45,
   "metadata": {},
   "outputs": [
    {
     "data": {
      "image/png": "[encoded data removed]",
      "text/plain": [
       "<Figure size 640x480 with 1 Axes>"
      ]
     },
     "metadata": {},
     "output_type": "display_data"
    }
   ],
   "source": [
    "ax = plt.axes()\n",
    "\n",
    "plt.xlim( [0, 5] )\n",
    "plt.ylim( [0, 4] )\n",
    "\n",
    "ax.arrow( 0, 0, a[0], a[1], head_width=0.1, head_length=0.1, fc='r', ec='r' )\n",
    "ax.arrow( 0, 0, b[0], b[1], head_width=0.1, head_length=0.1, fc='b', ec='b' )\n",
    "\n",
    "plt.show()"
   ]
  },
  {
   "cell_type": "code",
   "execution_count": 46,
   "metadata": {},
   "outputs": [],
   "source": [
    "def cosine( a, b ):\n",
    "    \"\"\"\n",
    "    Подсчет косинуса угла между векторами a, b по их координатам\n",
    "    \"\"\"\n",
    "    \n",
    "    # длины векторов\n",
    "    aLength = np.linalg.norm( a ) # евклидова норма\n",
    "    bLength = np.linalg.norm( b )\n",
    "    \n",
    "    return np.dot( a, b ) / ( aLength * bLength )"
   ]
  },
  {
   "cell_type": "code",
   "execution_count": 47,
   "metadata": {},
   "outputs": [],
   "source": [
    "# длины векторов можно было посчитать и так\n",
    "\n",
    "aLength = np.sqrt( (a*a).sum() )\n",
    "bLength = np.sqrt( (b*b).sum() )"
   ]
  },
  {
   "cell_type": "code",
   "execution_count": 48,
   "metadata": {
    "scrolled": true
   },
   "outputs": [
    {
     "data": {
      "text/plain": [
       "0.9838699100999074"
      ]
     },
     "execution_count": 48,
     "metadata": {},
     "output_type": "execute_result"
    }
   ],
   "source": [
    "cosine( a, b )"
   ]
  },
  {
   "cell_type": "code",
   "execution_count": 49,
   "metadata": {},
   "outputs": [
    {
     "data": {
      "text/plain": [
       "0.17985349979247847"
      ]
     },
     "execution_count": 49,
     "metadata": {},
     "output_type": "execute_result"
    }
   ],
   "source": [
    "# угол между векторами в радианах\n",
    "\n",
    "np.arccos( cosine( a, b ) )"
   ]
  },
  {
   "cell_type": "code",
   "execution_count": 50,
   "metadata": {},
   "outputs": [
    {
     "data": {
      "text/plain": [
       "10.304846468766044"
      ]
     },
     "execution_count": 50,
     "metadata": {},
     "output_type": "execute_result"
    }
   ],
   "source": [
    "# угол между векторами в градусах\n",
    "\n",
    "np.arccos( cosine( a, b ) ) * 360 / 2 / np.pi"
   ]
  },
  {
   "cell_type": "code",
   "execution_count": 51,
   "metadata": {},
   "outputs": [
    {
     "data": {
      "text/plain": [
       "10.304846468766009"
      ]
     },
     "execution_count": 51,
     "metadata": {},
     "output_type": "execute_result"
    }
   ],
   "source": [
    "np.rad2deg(np.arccos(np.dot(a,b)/ \\\n",
    "    np.linalg.norm(a)/np.linalg.norm(b)))"
   ]
  },
  {
   "cell_type": "markdown",
   "metadata": {},
   "source": [
    "## Задача 4 домашнего задания"
   ]
  },
  {
   "cell_type": "markdown",
   "metadata": {},
   "source": [
    "Имеется матрица покупок в интернет-магазине. Столбец А - ID пользователя. Остальные столбцы - количество покупок категорий товаров этим пользователем:"
   ]
  },
  {
   "cell_type": "code",
   "execution_count": 52,
   "metadata": {
    "scrolled": true
   },
   "outputs": [],
   "source": [
    "# from IPython.display import Image\n",
    "# Image(\"user_matrix.JPG\")"
   ]
  },
  {
   "cell_type": "markdown",
   "metadata": {},
   "source": [
    "Матрица в виде numpy array"
   ]
  },
  {
   "cell_type": "code",
   "execution_count": 53,
   "metadata": {},
   "outputs": [],
   "source": [
    "users_stats = np.array(\n",
    "    [\n",
    "        [2, 1, 0, 0, 0, 0],\n",
    "        [1, 1, 2, 1, 0, 0],\n",
    "        [2, 0, 1, 0, 0, 0],\n",
    "        [1, 1, 2, 1, 0, 1],\n",
    "        [0, 0, 1, 2, 0, 0],\n",
    "        [0, 0, 0, 0, 0, 5],\n",
    "        [1, 0, 0, 0, 0, 0],\n",
    "        [0, 1, 1, 0, 0, 0],\n",
    "        [0, 0, 0, 1, 1, 3],\n",
    "        [1, 0, 0, 2, 1, 4]\n",
    "    ], \n",
    "    np.int32\n",
    ")"
   ]
  },
  {
   "cell_type": "markdown",
   "metadata": {},
   "source": [
    "На сайт заходит очередной посетитель, о покупках которого известно следующее:"
   ]
  },
  {
   "cell_type": "code",
   "execution_count": 54,
   "metadata": {},
   "outputs": [],
   "source": [
    "next_user_stats = np.array([0, 1, 2, 0, 0, 0])"
   ]
  },
  {
   "cell_type": "markdown",
   "metadata": {},
   "source": [
    "Найдите самого похожего пользователя. Т. е. посчитайте косинусное сходство между этим пользователем и всеми пользователями из массива user_stats"
   ]
  },
  {
   "cell_type": "code",
   "execution_count": 55,
   "metadata": {},
   "outputs": [],
   "source": [
    "import scipy.spatial"
   ]
  },
  {
   "cell_type": "code",
   "execution_count": 56,
   "metadata": {},
   "outputs": [],
   "source": [
    "# compute Cosine similarity using SCIPY\n",
    "\n",
    "similar_scipy = []\n",
    "for r in range(users_stats.shape[0]):\n",
    "    # Cosine similarity =  1 - cosine distance.  https://en.wikipedia.org/wiki/Cosine_similarity            \n",
    "    # https://docs.scipy.org/doc/scipy/reference/generated/scipy.spatial.distance.cosine.html\n",
    "    similar_scipy.append( 1- scipy.spatial.distance.cosine(users_stats[r],next_user_stats)  )\n",
    "\n",
    "# print(similar)"
   ]
  },
  {
   "cell_type": "code",
   "execution_count": 57,
   "metadata": {},
   "outputs": [
    {
     "name": "stdout",
     "output_type": "stream",
     "text": [
      "[0.2, 0.8451542547285166, 0.4, 0.7905694150420948, 0.4, 0.0, 0.0, 0.9486832980505138, 0.0, 0.0]\n"
     ]
    }
   ],
   "source": [
    "# реализация только инструментами Numpy в 3 раза быстрее, чем SCIPY\n",
    "similar_numpy = []\n",
    "for r in range(users_stats.shape[0]):\n",
    "    dotprod = np.dot(users_stats[r],next_user_stats)\n",
    "    euclidprod = np.sqrt(sum(users_stats[r]**2)*sum(next_user_stats**2))\n",
    "    similar_numpy.append( dotprod / euclidprod  )\n",
    "print(similar_numpy)"
   ]
  },
  {
   "cell_type": "code",
   "execution_count": 60,
   "metadata": {},
   "outputs": [
    {
     "data": {
      "text/plain": [
       "True"
      ]
     },
     "execution_count": 60,
     "metadata": {},
     "output_type": "execute_result"
    }
   ],
   "source": [
    "np.allclose( similar_numpy, similar_scipy  )"
   ]
  },
  {
   "cell_type": "code",
   "execution_count": 62,
   "metadata": {},
   "outputs": [
    {
     "name": "stdout",
     "output_type": "stream",
     "text": [
      "Клиент магазина  [0 1 1 0 0 0] с индексом 7  имеет  наибольшее косинусное сходство: 0.949 \n",
      "c новым клиентом [0 1 2 0 0 0] \n"
     ]
    }
   ],
   "source": [
    "ind = similar_numpy.index(max(similar_numpy)) # look up MAX\n",
    "print(f'Клиент магазина  {users_stats[ind]} с индексом {7}  имеет  наибольшее косинусное сходство: {max(similar_numpy):.3} ' )\n",
    "print(f'c новым клиентом {next_user_stats} ')"
   ]
  },
  {
   "cell_type": "markdown",
   "metadata": {},
   "source": [
    "# Перемножение матриц"
   ]
  },
  {
   "cell_type": "markdown",
   "metadata": {},
   "source": [
    "**Определение**\n",
    "\n",
    "Пусть даны две матрицы a и b размером l x m и m x n соответственно. l - количество строк, n - количество столбцов.\n",
    "\n",
    "\\begin{equation*}\n",
    "\\LARGE\n",
    "a = \n",
    "\\begin{bmatrix}\n",
    "    a_{11} & a_{12} \\dots a_{1m} \\\\\n",
    "    a_{21} & a_{22} \\dots a_{2m} \\\\\n",
    "    \\vdots & \\vdots \\dots \\vdots \\\\\n",
    "    a_{l1} & a_{l2} \\dots a_{lm}\n",
    "\\end{bmatrix}\n",
    "\\end{equation*}\n",
    "\n",
    "<br>\n",
    "\n",
    "\\begin{equation*}\n",
    "\\LARGE\n",
    "b = \n",
    "\\begin{bmatrix}\n",
    "    b_{11} & b_{12} \\dots b_{1n} \\\\\n",
    "    b_{21} & b_{22} \\dots b_{2n} \\\\\n",
    "    \\vdots & \\vdots \\dots \\vdots \\\\\n",
    "    b_{m1} & b_{m2} \\dots b_{mn}\n",
    "\\end{bmatrix}\n",
    "\\end{equation*}"
   ]
  },
  {
   "cell_type": "markdown",
   "metadata": {},
   "source": [
    "Тогда произведением матриц a и b будет матрица c размерностью l x n:\n",
    "\n",
    "\\begin{equation*}\n",
    "\\LARGE\n",
    "c = \n",
    "\\begin{bmatrix}\n",
    "    c_{11} & c_{12} \\dots c_{1n} \\\\\n",
    "    c_{21} & c_{22} \\dots c_{2n} \\\\\n",
    "    \\vdots & \\vdots \\dots \\vdots \\\\\n",
    "    c_{l1} & c_{l2} \\dots c_{ln}\n",
    "\\end{bmatrix}\n",
    "\\end{equation*}\n",
    "\n",
    "<br>\n",
    "\n",
    "\\begin{equation*}\n",
    "\\LARGE\n",
    "c_{ij} = \\sum_{k=1}^m a_{ik} b_{kj}\n",
    "\\end{equation*}"
   ]
  },
  {
   "cell_type": "markdown",
   "metadata": {},
   "source": [
    "<img src = 'https://wikimedia.org/api/rest_v1/media/math/render/svg/1f96c71f0a99eac3ee872e7baf22e84324d7b4c9' style=\"width: 80%\"></img>"
   ]
  },
  {
   "attachments": {},
   "cell_type": "markdown",
   "metadata": {},
   "source": [
    "##### `number of A rows must be equal number B columns`"
   ]
  },
  {
   "cell_type": "code",
   "execution_count": null,
   "metadata": {},
   "outputs": [],
   "source": [
    "a = np.array( \n",
    "    [\n",
    "        [1, 2],\n",
    "        [3, 4]\n",
    "    ] \n",
    ")"
   ]
  },
  {
   "cell_type": "code",
   "execution_count": null,
   "metadata": {},
   "outputs": [],
   "source": [
    "b = np.array( \n",
    "    [\n",
    "        [5, 6],\n",
    "        [7, 8]\n",
    "    ] \n",
    ")"
   ]
  },
  {
   "cell_type": "code",
   "execution_count": null,
   "metadata": {},
   "outputs": [
    {
     "data": {
      "text/plain": [
       "array([[19, 22],\n",
       "       [43, 50]])"
      ]
     },
     "execution_count": 304,
     "metadata": {},
     "output_type": "execute_result"
    }
   ],
   "source": [
    "c = np.dot( a, b )\n",
    "c"
   ]
  },
  {
   "cell_type": "markdown",
   "metadata": {},
   "source": [
    "В numpy есть специальный тип matrix, который отличается от ndarray"
   ]
  },
  {
   "cell_type": "code",
   "execution_count": null,
   "metadata": {},
   "outputs": [
    {
     "data": {
      "text/plain": [
       "array([[ 5, 12],\n",
       "       [21, 32]])"
      ]
     },
     "execution_count": 305,
     "metadata": {},
     "output_type": "execute_result"
    }
   ],
   "source": [
    "a * b"
   ]
  },
  {
   "cell_type": "code",
   "execution_count": null,
   "metadata": {},
   "outputs": [],
   "source": [
    "aMatrix = np.matrix( [ [1, 2], [3, 4] ] )\n",
    "bMatrix = np.matrix( [ [5, 6], [7, 8] ] )"
   ]
  },
  {
   "cell_type": "code",
   "execution_count": null,
   "metadata": {},
   "outputs": [
    {
     "data": {
      "text/plain": [
       "numpy.matrix"
      ]
     },
     "execution_count": 307,
     "metadata": {},
     "output_type": "execute_result"
    }
   ],
   "source": [
    "type(aMatrix)"
   ]
  },
  {
   "cell_type": "code",
   "execution_count": null,
   "metadata": {},
   "outputs": [
    {
     "data": {
      "text/plain": [
       "matrix([[19, 22],\n",
       "        [43, 50]])"
      ]
     },
     "execution_count": 308,
     "metadata": {},
     "output_type": "execute_result"
    }
   ],
   "source": [
    "aMatrix * bMatrix"
   ]
  },
  {
   "cell_type": "code",
   "execution_count": null,
   "metadata": {},
   "outputs": [
    {
     "data": {
      "text/plain": [
       "(numpy.matrix, numpy.ndarray)"
      ]
     },
     "execution_count": 309,
     "metadata": {},
     "output_type": "execute_result"
    }
   ],
   "source": [
    "type( aMatrix ), type( a )"
   ]
  },
  {
   "cell_type": "code",
   "execution_count": null,
   "metadata": {
    "scrolled": true
   },
   "outputs": [
    {
     "data": {
      "text/plain": [
       "matrix([[19, 22],\n",
       "        [43, 50]])"
      ]
     },
     "execution_count": 310,
     "metadata": {},
     "output_type": "execute_result"
    }
   ],
   "source": [
    "# mat : Interpret the input as a matrix.\n",
    "np.mat( a ) * np.mat( b )"
   ]
  },
  {
   "attachments": {},
   "cell_type": "markdown",
   "metadata": {},
   "source": [
    "# Линейные уравнения\n",
    "$A \\cdot x = B$    \n",
    "A - coef. matrix  \n",
    "\n",
    "B - constants  \n",
    "\n",
    "|  multiply by $A^{-1}$\n",
    "\n",
    "$A^{-1} \\cdot A \\cdot  x = A^{-1}\\cdot B$  \n",
    "\n",
    "#### $ x = A^{-1}\\cdot B$"
   ]
  },
  {
   "cell_type": "markdown",
   "metadata": {
    "tags": [
     "parameters"
    ]
   },
   "source": [
    "Дана система линейных уравнений\n",
    "\n",
    "\\begin{equation*}\n",
    "\\LARGE\n",
    "x + 3*y = 9 \n",
    "\\end{equation*}\n",
    "\n",
    "\\begin{equation*} \n",
    "\\LARGE\n",
    "2*x - 4*y = 8\n",
    "\\end{equation*}"
   ]
  },
  {
   "cell_type": "code",
   "execution_count": null,
   "metadata": {},
   "outputs": [],
   "source": [
    "# коэффициенты при переменных в левой части уравнения\n",
    "\n",
    "a = np.array( [ [1, 3], [2, -4] ] )"
   ]
  },
  {
   "cell_type": "code",
   "execution_count": null,
   "metadata": {},
   "outputs": [
    {
     "data": {
      "text/plain": [
       "-9.999999999999998"
      ]
     },
     "execution_count": 312,
     "metadata": {},
     "output_type": "execute_result"
    }
   ],
   "source": [
    "# is there an answer?\n",
    "np.linalg.det(a)"
   ]
  },
  {
   "cell_type": "code",
   "execution_count": null,
   "metadata": {},
   "outputs": [],
   "source": [
    "# значения в правой части уравнения\n",
    "\n",
    "b = np.array( [9, 8] )"
   ]
  },
  {
   "cell_type": "code",
   "execution_count": null,
   "metadata": {},
   "outputs": [
    {
     "data": {
      "text/plain": [
       "array([6., 1.])"
      ]
     },
     "execution_count": 314,
     "metadata": {},
     "output_type": "execute_result"
    }
   ],
   "source": [
    "# manually\n",
    "#  @  -   matmul   -   dot\n",
    "(np.linalg.inv(a))  @  b"
   ]
  },
  {
   "cell_type": "code",
   "execution_count": null,
   "metadata": {},
   "outputs": [
    {
     "data": {
      "text/plain": [
       "array([ True,  True])"
      ]
     },
     "execution_count": 163,
     "metadata": {},
     "output_type": "execute_result"
    }
   ],
   "source": [
    "np.matmul(np.linalg.inv(a), b) == np.dot(np.linalg.inv(a), b)"
   ]
  },
  {
   "cell_type": "code",
   "execution_count": null,
   "metadata": {},
   "outputs": [
    {
     "data": {
      "text/plain": [
       "array([6., 1.])"
      ]
     },
     "execution_count": 315,
     "metadata": {},
     "output_type": "execute_result"
    }
   ],
   "source": [
    "# using linalg\n",
    "linalg.solve(a, b)"
   ]
  },
  {
   "cell_type": "code",
   "execution_count": null,
   "metadata": {},
   "outputs": [],
   "source": [
    "# the opposite has no answer and return ERROR\n",
    "# linalg.solve(b, a)"
   ]
  },
  {
   "cell_type": "code",
   "execution_count": null,
   "metadata": {},
   "outputs": [
    {
     "data": {
      "text/plain": [
       "True"
      ]
     },
     "execution_count": 318,
     "metadata": {},
     "output_type": "execute_result"
    }
   ],
   "source": [
    "# проверка верности\n",
    "\n",
    "np.allclose( a @linalg.solve(a, b), b )"
   ]
  },
  {
   "cell_type": "code",
   "execution_count": null,
   "metadata": {},
   "outputs": [
    {
     "data": {
      "text/latex": [
       "$\\displaystyle \\left[\\begin{matrix}5 & -3 & x\\\\1 & 1 & -2\\\\2 & x + 2 & -1\\end{matrix}\\right]$"
      ],
      "text/plain": [
       "Matrix([\n",
       "[5,    -3,  x],\n",
       "[1,     1, -2],\n",
       "[2, x + 2, -1]])"
      ]
     },
     "execution_count": 322,
     "metadata": {},
     "output_type": "execute_result"
    }
   ],
   "source": [
    "import sympy as sp # SymPy is a Python library for symbolic mathematics. \n",
    "from sympy import Matrix\n",
    "\n",
    "x = sp.symbols(\"x\")\n",
    "A = Matrix([[5, -3, x], [1, 1, -2], [2, x + 2, -1]])\n",
    "A"
   ]
  },
  {
   "cell_type": "code",
   "execution_count": null,
   "metadata": {},
   "outputs": [
    {
     "data": {
      "text/latex": [
       "$\\displaystyle x^{2} + 10 x + 24$"
      ],
      "text/plain": [
       "x**2 + 10*x + 24"
      ]
     },
     "execution_count": 325,
     "metadata": {},
     "output_type": "execute_result"
    }
   ],
   "source": [
    "det = A.det()\n",
    "det"
   ]
  },
  {
   "cell_type": "code",
   "execution_count": null,
   "metadata": {},
   "outputs": [
    {
     "data": {
      "text/plain": [
       "[-6, -4]"
      ]
     },
     "execution_count": 326,
     "metadata": {},
     "output_type": "execute_result"
    }
   ],
   "source": [
    "b = sp.solve(det)\n",
    "b"
   ]
  },
  {
   "cell_type": "code",
   "execution_count": null,
   "metadata": {},
   "outputs": [
    {
     "data": {
      "text/latex": [
       "$\\displaystyle -10$"
      ],
      "text/plain": [
       "-10"
      ]
     },
     "execution_count": 330,
     "metadata": {},
     "output_type": "execute_result"
    }
   ],
   "source": [
    "sum(b)"
   ]
  },
  {
   "cell_type": "code",
   "execution_count": null,
   "metadata": {},
   "outputs": [
    {
     "data": {
      "text/latex": [
       "$\\displaystyle 2 \\sqrt{2}$"
      ],
      "text/plain": [
       "2*sqrt(2)"
      ]
     },
     "execution_count": 331,
     "metadata": {},
     "output_type": "execute_result"
    }
   ],
   "source": [
    "sp.sqrt(8) # !!!"
   ]
  },
  {
   "attachments": {},
   "cell_type": "markdown",
   "metadata": {},
   "source": [
    "## Линейные отображения:\n",
    "* поворот - умножение на **ортогогональную** матрицу\n",
    "* растяжение - умножение на **диагональную** матрицу\n",
    "* масштабирование и поворот - умножение на **симметричную** матрицу"
   ]
  },
  {
   "cell_type": "code",
   "execution_count": null,
   "metadata": {},
   "outputs": [],
   "source": [
    "A = [\n",
    "        [0,0],\n",
    "        [0,1],\n",
    "        [1,1],\n",
    "        [1,0],\n",
    "        [0,0]\n",
    "    ]\n",
    "A = np.array(A)"
   ]
  },
  {
   "cell_type": "code",
   "execution_count": null,
   "metadata": {},
   "outputs": [],
   "source": [
    "def print_lintransf(matr):\n",
    "    x = matr[:,0]\n",
    "    y = matr[:,1]\n",
    "    plt.plot(x,y)\n",
    "    plt.xlim([-2,5])\n",
    "    plt.ylim([-2,5])"
   ]
  },
  {
   "cell_type": "code",
   "execution_count": null,
   "metadata": {},
   "outputs": [
    {
     "data": {
      "image/png": "[encoded data removed]",
      "text/plain": [
       "<Figure size 640x480 with 1 Axes>"
      ]
     },
     "metadata": {},
     "output_type": "display_data"
    }
   ],
   "source": [
    "print_lintransf(A)"
   ]
  },
  {
   "cell_type": "code",
   "execution_count": null,
   "metadata": {},
   "outputs": [
    {
     "data": {
      "text/plain": [
       "[array([0, 0]), array([0, 1]), array([2, 1]), array([2, 0]), array([0, 0])]"
      ]
     },
     "execution_count": 259,
     "metadata": {},
     "output_type": "execute_result"
    }
   ],
   "source": [
    "# matrix linear transformation B for matrix A\n",
    "B = np.array([\n",
    "    [2,0],\n",
    "    [0,1]\n",
    "])\n",
    "# manually\n",
    "res = []\n",
    "for i in A:\n",
    "    res.append(B@i)\n",
    "\n",
    "res"
   ]
  },
  {
   "cell_type": "code",
   "execution_count": null,
   "metadata": {},
   "outputs": [
    {
     "data": {
      "text/plain": [
       "((5, 2), (2, 2))"
      ]
     },
     "execution_count": 414,
     "metadata": {},
     "output_type": "execute_result"
    }
   ],
   "source": [
    "A.shape, B.shape"
   ]
  },
  {
   "cell_type": "code",
   "execution_count": null,
   "metadata": {},
   "outputs": [
    {
     "data": {
      "text/plain": [
       "array([[0, 0],\n",
       "       [0, 1],\n",
       "       [2, 1],\n",
       "       [2, 0],\n",
       "       [0, 0]])"
      ]
     },
     "execution_count": 417,
     "metadata": {},
     "output_type": "execute_result"
    }
   ],
   "source": [
    "(B@A.transpose()).transpose()"
   ]
  },
  {
   "cell_type": "code",
   "execution_count": null,
   "metadata": {},
   "outputs": [
    {
     "data": {
      "text/plain": [
       "array([[0, 0, 2, 2, 0],\n",
       "       [0, 1, 1, 0, 0]])"
      ]
     },
     "execution_count": 278,
     "metadata": {},
     "output_type": "execute_result"
    }
   ],
   "source": [
    "# another way\n",
    "# res2 = B@A.transpose()\n",
    "# res2 = res2.transpose()\n",
    "\n",
    "res2 = B@A.transpose()\n",
    "res2"
   ]
  },
  {
   "cell_type": "code",
   "execution_count": null,
   "metadata": {},
   "outputs": [
    {
     "name": "stdout",
     "output_type": "stream",
     "text": [
      "[[0 0]\n",
      " [0 1]\n",
      " [2 1]\n",
      " [2 0]\n",
      " [0 0]]\n"
     ]
    }
   ],
   "source": [
    "print(res2.transpose())"
   ]
  },
  {
   "cell_type": "code",
   "execution_count": null,
   "metadata": {},
   "outputs": [
    {
     "data": {
      "image/png": "[encoded data removed]",
      "text/plain": [
       "<Figure size 640x480 with 1 Axes>"
      ]
     },
     "metadata": {},
     "output_type": "display_data"
    }
   ],
   "source": [
    "print_lintransf(res2)"
   ]
  },
  {
   "cell_type": "code",
   "execution_count": null,
   "metadata": {},
   "outputs": [
    {
     "data": {
      "image/png": "[encoded data removed]",
      "text/plain": [
       "<Figure size 640x480 with 1 Axes>"
      ]
     },
     "metadata": {},
     "output_type": "display_data"
    }
   ],
   "source": [
    "print_lintransf(res2.transpose() )"
   ]
  },
  {
   "cell_type": "code",
   "execution_count": null,
   "metadata": {},
   "outputs": [
    {
     "data": {
      "text/plain": [
       "array([[ 0, -1, -2, -1,  0],\n",
       "       [ 0,  3,  4,  1,  0]])"
      ]
     },
     "execution_count": 274,
     "metadata": {},
     "output_type": "execute_result"
    }
   ],
   "source": [
    "res3 = np.array([[-1,-1],[1,3]])@A.transpose()\n",
    "res3"
   ]
  },
  {
   "cell_type": "code",
   "execution_count": null,
   "metadata": {},
   "outputs": [
    {
     "data": {
      "image/png": "[encoded data removed]",
      "text/plain": [
       "<Figure size 640x480 with 1 Axes>"
      ]
     },
     "metadata": {},
     "output_type": "display_data"
    }
   ],
   "source": [
    "print_lintransf(res3.transpose())"
   ]
  },
  {
   "attachments": {},
   "cell_type": "markdown",
   "metadata": {},
   "source": [
    "##  Matrix decomposition  \n",
    "`Spectral decomposition of a symmetrical matrix `  \n",
    "$ A = ( Q\\cdot dM \\cdot Q^{T})$,  where:  \n",
    "* $Q$ consists of the `eigenvectors` of $A$ and  \n",
    "* the diagonal elements of $dM$ are corresponding `eigenvalues`.\n",
    "<p id=\"B9780124095205500266-p3405\"><span>For every real <a href=\"/topics/mathematics/symmetric-matrix\" title=\"Learn more about symmetric matrix from ScienceDirect's AI-generated Topic Pages\" class=\"topic-link\">symmetric matrix</a> </span><em>A</em><span> there exists an <a href=\"/topics/mathematics/orthogonal-matrix\" title=\"Learn more about orthogonal matrix from ScienceDirect's AI-generated Topic Pages\" class=\"topic-link\">orthogonal matrix</a> </span><em>Q</em><span> and a <a href=\"/topics/mathematics/diagonalmatrix\" title=\"Learn more about diagonal matrix from ScienceDirect's AI-generated Topic Pages\" class=\"topic-link\">diagonal matrix</a> </span><em>dM</em> such that <em>A</em>&nbsp;<!-- -->=<!-- -->&nbsp;<!-- -->(<em>Q<sup>T</sup> dM Q</em><span>). This decomposition is called a <span class=\"topic-highlight\">spectral decomposition</span> of </span><em>A</em> since <em>Q</em><span> consists of the <a href=\"/topics/mathematics/eigenvector\" title=\"Learn more about eigenvectors from ScienceDirect's AI-generated Topic Pages\" class=\"topic-link\">eigenvectors</a> of </span><em>A</em> and the diagonal elements of <em>dM</em> are corresponding eigenvalues.   \n",
    "The terminology derives from the fact that the set of eigenvalues of a matrix is also called the “spectrum” of the matrix."
   ]
  },
  {
   "attachments": {},
   "cell_type": "markdown",
   "metadata": {},
   "source": [
    "[`Singular value decomposition`](https://en.wikipedia.org/wiki/Singular_value_decomposition)"
   ]
  },
  {
   "attachments": {},
   "cell_type": "markdown",
   "metadata": {},
   "source": [
    "<img alt=\"\" src=\"//upload.wikimedia.org/wikipedia/commons/thumb/b/bb/Singular-Value-Decomposition.svg/220px-Singular-Value-Decomposition.svg.png\" decoding=\"async\" width=\"600\" height=\"570\" class=\"thumbimage\" srcset=\"//upload.wikimedia.org/wikipedia/commons/thumb/b/bb/Singular-Value-Decomposition.svg/330px-Singular-Value-Decomposition.svg.png 1.5x, //upload.wikimedia.org/wikipedia/commons/thumb/b/bb/Singular-Value-Decomposition.svg/440px-Singular-Value-Decomposition.svg.png 2x\" data-file-width=\"800\" data-file-height=\"600\">  \n",
    "<div class=\"thumbcaption\"><div class=\"magnify\"><a href=\"/wiki/File:Singular-Value-Decomposition.svg\" class=\"internal\" title=\"Enlarge\"></a></div>Illustration of the singular value decomposition <b>UΣV</b><sup>⁎</sup> of a real 2×2 matrix <b>M</b>.<style data-mw-deduplicate=\"TemplateStyles:r1126788409\">.mw-parser-output .plainlist ol,.mw-parser-output .plainlist ul{line-height:inherit;list-style:none;margin:0;padding:0}.mw-parser-output .plainlist ol li,.mw-parser-output .plainlist ul li{margin-bottom:0}</style><div class=\"plainlist\"><ul style=\"margin-left:1em;text-indent:-1em\"><li><b>Top:</b> The action of <b>M</b>, indicated by its effect on the unit disc <i>D</i> and the two canonical unit vectors <i>e</i><sub>1</sub> and <i>e</i><sub>2</sub>.</li><li><b>Left:</b> The action of <b>V</b><sup>⁎</sup>, a rotation, on <i>D</i>, <i>e</i><sub>1</sub>, and <i>e</i><sub>2</sub>.</li><li><b>Bottom:</b> The action of <b>Σ</b>, a scaling by the singular values <i>σ</i><sub>1</sub> horizontally and <i>σ</i><sub>2</sub> vertically.</li><li><b>Right:</b> The action of <b>U</b>, another rotation.</li></ul></div></div>"
   ]
  },
  {
   "attachments": {},
   "cell_type": "markdown",
   "metadata": {},
   "source": [
    "## Principal Component Analysis"
   ]
  },
  {
   "cell_type": "code",
   "execution_count": null,
   "metadata": {},
   "outputs": [],
   "source": [
    "from sklearn.decomposition import PCA"
   ]
  },
  {
   "cell_type": "code",
   "execution_count": null,
   "metadata": {},
   "outputs": [],
   "source": [
    "X = np.array([[-1,-1],[-2,-1],[-3,-2],[1,1],[2,1],[3,2]])"
   ]
  },
  {
   "attachments": {},
   "cell_type": "markdown",
   "metadata": {},
   "source": [
    " <!-- Linear dimensionality reduction using Singular Value Decomposition of the\n",
    "data to project it to a lower dimensional space. The input data is centered\n",
    "but not scaled for each feature before applying the SVD. --> -->"
   ]
  },
  {
   "cell_type": "code",
   "execution_count": null,
   "metadata": {},
   "outputs": [
    {
     "data": {
      "text/html": [
       "<style>#sk-container-id-2 {color: black;background-color: white;}#sk-container-id-2 pre{padding: 0;}#sk-container-id-2 div.sk-toggleable {background-color: white;}#sk-container-id-2 label.sk-toggleable__label {cursor: pointer;display: block;width: 100%;margin-bottom: 0;padding: 0.3em;box-sizing: border-box;text-align: center;}#sk-container-id-2 label.sk-toggleable__label-arrow:before {content: \"▸\";float: left;margin-right: 0.25em;color: #696969;}#sk-container-id-2 label.sk-toggleable__label-arrow:hover:before {color: black;}#sk-container-id-2 div.sk-estimator:hover label.sk-toggleable__label-arrow:before {color: black;}#sk-container-id-2 div.sk-toggleable__content {max-height: 0;max-width: 0;overflow: hidden;text-align: left;background-color: #f0f8ff;}#sk-container-id-2 div.sk-toggleable__content pre {margin: 0.2em;color: black;border-radius: 0.25em;background-color: #f0f8ff;}#sk-container-id-2 input.sk-toggleable__control:checked~div.sk-toggleable__content {max-height: 200px;max-width: 100%;overflow: auto;}#sk-container-id-2 input.sk-toggleable__control:checked~label.sk-toggleable__label-arrow:before {content: \"▾\";}#sk-container-id-2 div.sk-estimator input.sk-toggleable__control:checked~label.sk-toggleable__label {background-color: #d4ebff;}#sk-container-id-2 div.sk-label input.sk-toggleable__control:checked~label.sk-toggleable__label {background-color: #d4ebff;}#sk-container-id-2 input.sk-hidden--visually {border: 0;clip: rect(1px 1px 1px 1px);clip: rect(1px, 1px, 1px, 1px);height: 1px;margin: -1px;overflow: hidden;padding: 0;position: absolute;width: 1px;}#sk-container-id-2 div.sk-estimator {font-family: monospace;background-color: #f0f8ff;border: 1px dotted black;border-radius: 0.25em;box-sizing: border-box;margin-bottom: 0.5em;}#sk-container-id-2 div.sk-estimator:hover {background-color: #d4ebff;}#sk-container-id-2 div.sk-parallel-item::after {content: \"\";width: 100%;border-bottom: 1px solid gray;flex-grow: 1;}#sk-container-id-2 div.sk-label:hover label.sk-toggleable__label {background-color: #d4ebff;}#sk-container-id-2 div.sk-serial::before {content: \"\";position: absolute;border-left: 1px solid gray;box-sizing: border-box;top: 0;bottom: 0;left: 50%;z-index: 0;}#sk-container-id-2 div.sk-serial {display: flex;flex-direction: column;align-items: center;background-color: white;padding-right: 0.2em;padding-left: 0.2em;position: relative;}#sk-container-id-2 div.sk-item {position: relative;z-index: 1;}#sk-container-id-2 div.sk-parallel {display: flex;align-items: stretch;justify-content: center;background-color: white;position: relative;}#sk-container-id-2 div.sk-item::before, #sk-container-id-2 div.sk-parallel-item::before {content: \"\";position: absolute;border-left: 1px solid gray;box-sizing: border-box;top: 0;bottom: 0;left: 50%;z-index: -1;}#sk-container-id-2 div.sk-parallel-item {display: flex;flex-direction: column;z-index: 1;position: relative;background-color: white;}#sk-container-id-2 div.sk-parallel-item:first-child::after {align-self: flex-end;width: 50%;}#sk-container-id-2 div.sk-parallel-item:last-child::after {align-self: flex-start;width: 50%;}#sk-container-id-2 div.sk-parallel-item:only-child::after {width: 0;}#sk-container-id-2 div.sk-dashed-wrapped {border: 1px dashed gray;margin: 0 0.4em 0.5em 0.4em;box-sizing: border-box;padding-bottom: 0.4em;background-color: white;}#sk-container-id-2 div.sk-label label {font-family: monospace;font-weight: bold;display: inline-block;line-height: 1.2em;}#sk-container-id-2 div.sk-label-container {text-align: center;}#sk-container-id-2 div.sk-container {/* jupyter's `normalize.less` sets `[hidden] { display: none; }` but bootstrap.min.css set `[hidden] { display: none !important; }` so we also need the `!important` here to be able to override the default hidden behavior on the sphinx rendered scikit-learn.org. See: https://github.com/scikit-learn/scikit-learn/issues/21755 */display: inline-block !important;position: relative;}#sk-container-id-2 div.sk-text-repr-fallback {display: none;}</style><div id=\"sk-container-id-2\" class=\"sk-top-container\"><div class=\"sk-text-repr-fallback\"><pre>PCA(n_components=2)</pre><b>In a Jupyter environment, please rerun this cell to show the HTML representation or trust the notebook. <br />On GitHub, the HTML representation is unable to render, please try loading this page with nbviewer.org.</b></div><div class=\"sk-container\" hidden><div class=\"sk-item\"><div class=\"sk-estimator sk-toggleable\"><input class=\"sk-toggleable__control sk-hidden--visually\" id=\"sk-estimator-id-2\" type=\"checkbox\" checked><label for=\"sk-estimator-id-2\" class=\"sk-toggleable__label sk-toggleable__label-arrow\">PCA</label><div class=\"sk-toggleable__content\"><pre>PCA(n_components=2)</pre></div></div></div></div></div>"
      ],
      "text/plain": [
       "PCA(n_components=2)"
      ]
     },
     "execution_count": 308,
     "metadata": {},
     "output_type": "execute_result"
    }
   ],
   "source": [
    "# Linear dimensionality reduction using Singular Value Decomposition of the\n",
    "# data to project it to a lower dimensional space. The input data is centered\n",
    "# but not scaled for each feature before applying the SVD.\n",
    "#  'singular_values_',\n",
    "#  'svd_solver',\n",
    "#  'tol',\n",
    "#  'transform',\n",
    "#  'whiten'\n",
    "pca = PCA(n_components= 2)\n",
    "pca.fit(X)\n"
   ]
  },
  {
   "cell_type": "code",
   "execution_count": null,
   "metadata": {},
   "outputs": [
    {
     "data": {
      "text/plain": [
       "(array([7.93954312, 0.06045688]), array([0.99244289, 0.00755711]))"
      ]
     },
     "execution_count": 315,
     "metadata": {},
     "output_type": "execute_result"
    }
   ],
   "source": [
    "pca.explained_variance_, pca.explained_variance_ratio_"
   ]
  },
  {
   "cell_type": "code",
   "execution_count": null,
   "metadata": {},
   "outputs": [
    {
     "data": {
      "text/plain": [
       "array([6.30061232, 0.54980396])"
      ]
     },
     "execution_count": 316,
     "metadata": {},
     "output_type": "execute_result"
    }
   ],
   "source": [
    "pca.singular_values_"
   ]
  },
  {
   "cell_type": "code",
   "execution_count": null,
   "metadata": {},
   "outputs": [
    {
     "data": {
      "text/plain": [
       "36"
      ]
     },
     "execution_count": 320,
     "metadata": {},
     "output_type": "execute_result"
    }
   ],
   "source": [
    "# let's do it manually\n",
    "# first calculating scalar pairwise multiplications\n",
    "res = []\n",
    "for i in X:\n",
    "    for j in X:\n",
    "        res.append(i@j)\n",
    "len(res)"
   ]
  },
  {
   "cell_type": "code",
   "execution_count": null,
   "metadata": {},
   "outputs": [
    {
     "data": {
      "text/plain": [
       "True"
      ]
     },
     "execution_count": 322,
     "metadata": {},
     "output_type": "execute_result"
    }
   ],
   "source": [
    "X.shape[0]**X.shape[1] == len(res)"
   ]
  },
  {
   "cell_type": "code",
   "execution_count": null,
   "metadata": {},
   "outputs": [],
   "source": [
    "def partition(l,n):\n",
    "    for i in range (0, len(l), n):\n",
    "        yield(l[i:i + n])  #  slices by 6 elements"
   ]
  },
  {
   "cell_type": "code",
   "execution_count": null,
   "metadata": {},
   "outputs": [
    {
     "data": {
      "text/plain": [
       "6"
      ]
     },
     "execution_count": 328,
     "metadata": {},
     "output_type": "execute_result"
    }
   ],
   "source": [
    "len(X)"
   ]
  },
  {
   "cell_type": "code",
   "execution_count": null,
   "metadata": {},
   "outputs": [
    {
     "data": {
      "text/plain": [
       "[[2, 3, 5, -2, -3, -5],\n",
       " [3, 5, 8, -3, -5, -8],\n",
       " [5, 8, 13, -5, -8, -13],\n",
       " [-2, -3, -5, 2, 3, 5],\n",
       " [-3, -5, -8, 3, 5, 8],\n",
       " [-5, -8, -13, 5, 8, 13]]"
      ]
     },
     "execution_count": 327,
     "metadata": {},
     "output_type": "execute_result"
    }
   ],
   "source": [
    "res2 = list (partition(res, len(X)))\n",
    "res2"
   ]
  },
  {
   "cell_type": "code",
   "execution_count": null,
   "metadata": {},
   "outputs": [
    {
     "data": {
      "text/plain": [
       "array([ 3.96977156e+01, -2.73309532e-16,  3.02284396e-01,  1.98401330e-17,\n",
       "        6.18334655e-16, -5.68240243e-32])"
      ]
     },
     "execution_count": 330,
     "metadata": {},
     "output_type": "execute_result"
    }
   ],
   "source": [
    "eigens = np.linalg.eigvals(np.array(res2))\n",
    "eigens"
   ]
  },
  {
   "cell_type": "code",
   "execution_count": null,
   "metadata": {},
   "outputs": [
    {
     "data": {
      "text/plain": [
       "array([ 9.92442890e-01, -6.83273829e-18,  7.55710991e-03,  4.96003326e-19,\n",
       "        1.54583664e-17, -1.42060061e-33])"
      ]
     },
     "execution_count": 331,
     "metadata": {},
     "output_type": "execute_result"
    }
   ],
   "source": [
    "# normalization\n",
    "eigens / eigens.sum()"
   ]
  },
  {
   "cell_type": "code",
   "execution_count": null,
   "metadata": {},
   "outputs": [
    {
     "data": {
      "text/plain": [
       "array([0.99244289, 0.00755711])"
      ]
     },
     "execution_count": 332,
     "metadata": {},
     "output_type": "execute_result"
    }
   ],
   "source": [
    "pca.explained_variance_ratio_"
   ]
  },
  {
   "cell_type": "code",
   "execution_count": null,
   "metadata": {},
   "outputs": [
    {
     "name": "stdout",
     "output_type": "stream",
     "text": [
      ",  0.9924428900898052,  0.007557109910194771"
     ]
    }
   ],
   "source": [
    "for i in eigens / eigens.sum():\n",
    "    if i > 1e-5:\n",
    "        print (\", \",i, end=\"\")"
   ]
  }
 ],
 "metadata": {
  "kernelspec": {
   "display_name": "base",
   "language": "python",
   "name": "python3"
  },
  "language_info": {
   "codemirror_mode": {
    "name": "ipython",
    "version": 3
   },
   "file_extension": ".py",
   "mimetype": "text/x-python",
   "name": "python",
   "nbconvert_exporter": "python",
   "pygments_lexer": "ipython3",
   "version": "3.9.13"
  },
  "vscode": {
   "interpreter": {
    "hash": "3f0fc0265faf3f010b6ea13d4d06fa8f6d9bd8f9a0a69886dc52220c62e8c74f"
   }
  }
 },
 "nbformat": 4,
 "nbformat_minor": 2
}
