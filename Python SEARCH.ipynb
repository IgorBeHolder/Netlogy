{
 "cells": [
  {
   "cell_type": "markdown",
   "metadata": {},
   "source": [
    "# `Searching Notebooks for a Code Snippet`  \n",
    "From September 2022 I started learning Python online.\n",
    "Until everything is settled in my head,  \n",
    "I am faced with the need to search for my own code snippets among all this variety of information.  \n",
    "This piece of code will help you look up your Python notebooks.  \n",
    "It seems to me it's quicker than using a 'grep'.\n",
    "You can define a strict search logic or case sensetive one.  \n",
    "Hope it helps.  \n",
    "Enjoy)"
   ]
  },
  {
   "cell_type": "code",
   "execution_count": 3,
   "metadata": {},
   "outputs": [
    {
     "name": "stdout",
     "output_type": "stream",
     "text": [
      "Looking for: ['sympy'] in ../**/*.ipynb files\n",
      "Incl. all occurrences: True\n",
      "Case sensetive       : False\n",
      "\n",
      "File:                                                 :  Search result:\n",
      "................................................................................\n",
      "../Netlogy/Netology math_LA_HW_4.ipynb                : sympy as sp\\n\",\n",
      "    , \n",
      "../Netlogy/Netology math_LA_HW.ipynb                  : sympy as sym\"\n",
      "      , \n",
      "../Netlogy/Python SEARCH.ipynb                        : sympy.ipynb         , \n",
      "../Netlogy/Netology math_Numpy Matrix.ipynb           : sympy as sp # SymPy , \n",
      "../Netlogy/DLS Python Base.ipynb                      : sympy as sp\\n\",\"from, \n",
      "../Netlogy/math_sympy.ipynb                           : sympy`](https://docs, \n",
      "../Netlogy/Python_Tricks.ipynb                        : sympy.ipynb\\n\",\"out., \n",
      "../Netlogy/Netology Numpy _HW.ipynb                   : sympy as sp\\n\",\n",
      "    , \n"
     ]
    }
   ],
   "source": [
    "import glob\n",
    "\n",
    "# !ls  # look around\n",
    "\n",
    "# pattern = '../../**/*.ipynb'  # two levels up in the directory hierarchy \n",
    "pattern = '../**/*.ipynb'       # one levels up in the directory hierarchy \n",
    "# pattern = '*.ipynb'           # current directory\n",
    "\n",
    "all_occurs = True   # search logic:  and  or\n",
    "case_sens = False   # case sensetive search\n",
    "res_length = 20\n",
    "\n",
    "inq = input('Input search strings separated by whitespace:').split()\n",
    "# inq = ['kwarg','arg']\n",
    "print(f'Looking for: {inq} in {pattern} files\\nIncl. all occurrences: {all_occurs}')\n",
    "print(f'Case sensetive       : {case_sens}\\n')\n",
    "print('File:',\" \"*47,\":  Search result:\")\n",
    "print(\".\"*80)\n",
    "\n",
    "for filepath in glob.iglob(pattern, recursive=True): # recursive= True: include subfolders\n",
    "\n",
    "    with open(filepath, encoding='UTF-8') as file:\n",
    "\n",
    "        s = file.read()\n",
    "        chunk = ''\n",
    "        for search_str in inq:\n",
    "            if case_sens:\n",
    "                ind = s.find( search_str )\n",
    "            else:\n",
    "                ind = s.lower().find( search_str.lower() )\n",
    "\n",
    "            found = ( ind != -1 ) \n",
    "            if found:\n",
    "                chunk +=  (s[ind:ind + res_length]) + \", \"\n",
    "            if (not found) and all_occurs:\n",
    "                break       \n",
    "            \n",
    "                     \n",
    "        if found:\n",
    "            print(filepath.ljust(50),\" \"*3 + \":\", chunk)"
   ]
  },
  {
   "cell_type": "code",
   "execution_count": 2,
   "metadata": {},
   "outputs": [],
   "source": [
    "# data = pd.read_csv('/Users/velo1/SynologyDrive/GIT_syno/data/video_games_sales.csv')\n",
    "# data.head()"
   ]
  },
  {
   "cell_type": "code",
   "execution_count": 2,
   "metadata": {},
   "outputs": [
    {
     "name": "stdout",
     "output_type": "stream",
     "text": [
      "Looking for: ['org'] in ../**/*.ipynb files\n",
      "Incl. all occurrences: True\n",
      "Case sensitive: False\n",
      "File:                                                 : Search result:\n",
      "................................................................................\n",
      "../Netlogy/Netology Pandas_JOIN_HW.ipynb              : organic;\\n\",\n",
      "    \"* \n",
      "../Netlogy/Netology python DICT Recursion HW3.ipynb    : orget about  .items(\n",
      "../Netlogy/Netology stats_Case_study HW.ipynb         : orgridcolor\": \"white\n",
      "../Netlogy/Netology stats_Practice_AB.ipynb           : org/wiki/Сочетание\\n\n",
      "../Netlogy/Netology Pandas_pivot_and_str.ipynb        : orgeeks.org/python-p\n",
      "../Netlogy/Netology stats_case_study_linreg_confidence_interval.ipynb    : orgr7sN4jrMKhCcUTv+v\n",
      "../Netlogy/Netology math_Numpy Matrix.ipynb           : org/doc/scipy-0.14.0\n",
      "../Netlogy/Netology_SCRAPING PARSING.ipynb            : org/2000/svg\\\" heigh\n",
      "../Netlogy/Netology stats_A_B-testing HW.ipynb        : org/wiki/Сочетание\\n\n",
      "../Netlogy/PYTHON MathPlotLib VIZ.ipynb               : orgG5kyzL2Lp1Kzp06KB\n",
      "../Netlogy/Netology Pandas_PIVOT_and_PYMYSTEM.ipynb    : organic'. А для оста\n",
      "../Netlogy/Netology Pandas HW_SQL.ipynb               : org/psycopg/docs/ins\n",
      "../Netlogy/Netology stats Power Min_sample size_W.ipynb    : orguyqaQxsvlETPEkgX+\n",
      "../Netlogy/Netology stats_case_study_Darwinbooks_recommend.ipynb    : org/3/library/glob.h\n",
      "../Netlogy/ABD-22 LABa.ipynb                          : org/2000/svg\\\" heigh\n",
      "../Netlogy/Netology Pandas_JOIN.ipynb                 : organic', 'paid', 'o\n",
      "../Netlogy/ABD-22 Total HW.ipynb                      : org/2000/svg\\\" heigh\n",
      "../Netlogy/Netology Pandas_JOIN_SQL_HW .ipynb         : organic;\\n\",\n",
      "    \"* \n",
      "../Netlogy/math_sympy.ipynb                           : org/latest/guides/in\n",
      "../Netlogy/Netology_REGEX_practice.ipynb              : orgwROf7SxZ8VoFa1dFK\n",
      "../Netlogy/DLS  simpsons_baseline.ipynb               : org/whl/{accelerator\n",
      "../Netlogy/Netology Python_7_ERRORS_DATETIME.ipynb    : org/3/library/dateti\n",
      "../Netlogy/Netology stats Case_Power_MinSampleSize_HW.ipynb    : orguyqaQxsvlETPEkgX+\n",
      "../Netlogy/Netology stats_t-Tests.ipynb               : org/wikipedia/common\n",
      "../Netlogy/Python Decorator.ipynb                     : orgeeks.org/response\n",
      "../Netlogy/Netology stats Визуализация данных HW.ipynb    : org/wiki/Exploratory\n",
      "../Netlogy/Netology stats_Confidence_Intervals.ipynb    : orgridcolor\": \"white\n",
      "../Netlogy/NETOLOGY PySpark Лекция 7.ipynb            : org] [Waiting for he\n",
      "../Netlogy/bash.ipynb                                 : org/images/file_mana\n",
      "../Netlogy/Netology stats_case_study_bs_conf_int.ipynb    : org/wiki/%D0%97%D0%B\n",
      "../Netlogy/Netology Pandas HW funcs group.ipynb       : org/datasets/moviele\n",
      "../Netlogy/Netology Pandas_presentation_mode.ipynb    : org/datasets/moviele\n",
      "../Netlogy/Netology stats_Confidential_intervals HW.ipynb    : orgridcolor\": \"white\n",
      "../Netlogy/ABD-22 LABa -Kuzmin Pandas.ipynb           : org/2000/svg\\\" heigh\n",
      "../Netlogy/Netology Pandas_lecture_04.ipynb           : organization']})\\n\",\n",
      "../Netlogy/Netology Python intro.ipynb                : org.ua/AByteOfPython\n",
      "../Netlogy/Python DateTimeTimeZone.ipynb              : org/3/library/dateti\n",
      "../Netlogy/Netology Numpy _HW.ipynb                   : org/wiki/Cosine_simi\n",
      "../Netlogy/Practice_AB/Practice_AB.ipynb              : org/wiki/Сочетание\\n\n"
     ]
    }
   ],
   "source": [
    "import glob\n",
    "\n",
    "# Search pattern: one level up in the directory hierarchy\n",
    "pattern = '../**/*.ipynb'\n",
    "\n",
    "# Search logic: All occurrences must be found\n",
    "all_occurs = True\n",
    "\n",
    "# Case sensitive search\n",
    "case_sens = False\n",
    "\n",
    "# Result length\n",
    "res_length = 20\n",
    "\n",
    "# Search strings\n",
    "# inq = ['kwarg', 'arg']\n",
    "inq = input('Input search strings separated by whitespace:').split()\n",
    "\n",
    "# Print search information\n",
    "print(f'Looking for: {inq} in {pattern} files')\n",
    "print(f'Incl. all occurrences: {all_occurs}')\n",
    "print(f'Case sensitive: {case_sens}')\n",
    "print('File:', \" \"*47, ': Search result:')\n",
    "print('.'*80)\n",
    "\n",
    "# Use a generator expression to reduce memory usage\n",
    "for filepath in (f for f in glob.iglob(pattern, recursive=True) if any(inq_str in open(f, encoding='UTF-8').read() for inq_str in inq)):\n",
    "    with open(filepath, encoding='UTF-8') as file:\n",
    "        s = file.read()\n",
    "\n",
    "        # Use a list comprehension to reduce code duplication\n",
    "        chunks = [s[s.find(search_str) : s.find(search_str) + res_length] for search_str in inq if case_sens and search_str in s or not case_sens and search_str.lower() in s.lower()]\n",
    "\n",
    "        # Concatenate the chunks and print the result if any chunks were found\n",
    "        if chunks:\n",
    "            chunk = ', '.join(chunks)\n",
    "            print(filepath.ljust(50), ' '*3 + ':', chunk)\n"
   ]
  }
 ],
 "metadata": {
  "kernelspec": {
   "display_name": "Python 3.10.5 64-bit",
   "language": "python",
   "name": "python3"
  },
  "language_info": {
   "codemirror_mode": {
    "name": "ipython",
    "version": 3
   },
   "file_extension": ".py",
   "mimetype": "text/x-python",
   "name": "python",
   "nbconvert_exporter": "python",
   "pygments_lexer": "ipython3",
   "version": "3.10.5"
  },
  "orig_nbformat": 4,
  "vscode": {
   "interpreter": {
    "hash": "aee8b7b246df8f9039afb4144a1f6fd8d2ca17a180786b69acc140d282b71a49"
   }
  }
 },
 "nbformat": 4,
 "nbformat_minor": 2
}
