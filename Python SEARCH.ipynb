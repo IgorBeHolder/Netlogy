{
 "cells": [
  {
   "cell_type": "markdown",
   "metadata": {},
   "source": [
    "# search from  notebook"
   ]
  },
  {
   "cell_type": "code",
   "execution_count": 5,
   "metadata": {},
   "outputs": [],
   "source": [
    "# !ls"
   ]
  },
  {
   "cell_type": "code",
   "execution_count": 8,
   "metadata": {},
   "outputs": [
    {
     "name": "stdout",
     "output_type": "stream",
     "text": [
      "Netology Pandas_JOIN_HW.ipynb\n",
      "Netology python DICT Recursion HW3.ipynb\n",
      "Netology stats_Case_study HW.ipynb\n",
      "Netology stats_Practice_AB.ipynb\n",
      "Netology Pandas_pivot_and_str.ipynb\n",
      "Netology stats_case_study_linreg_confidence_interval.ipynb\n",
      "Netology_SCRAPING PARSING.ipynb\n",
      "DLS Python Base.ipynb\n",
      "Netology Pandas_PIVOT_and_PYMYSTEM.ipynb\n",
      "Netology python HW classes 20221017.ipynb\n",
      "ABD-22 Total HW.ipynb\n",
      "Netology Pandas_JOIN_SQL_HW .ipynb\n",
      "Netology Python  FUNCTIONS DICTS_sorting args  kwargs.ipynb\n",
      "Netology_REGEX_practice.ipynb\n",
      "Python_Tricks.ipynb\n",
      "DLS  simpsons_baseline.ipynb\n",
      "Netology Pandas_functions_groupby.ipynb\n",
      "Netology stats_Confidence_Intervals.ipynb\n",
      "Netology Python HW2.ipynb\n",
      "Netology stats_case_study_bs_conf_int.ipynb\n",
      "Netology Pandas HW funcs group.ipynb\n",
      "Netology Pandas_lecture_04.ipynb\n",
      "Netology Python  LAB.ipynb\n",
      "Netology Numpy _HW.ipynb\n"
     ]
    }
   ],
   "source": [
    "import glob\n",
    "\n",
    "# pattern = '../**/*.ipynb'\n",
    "pattern = '*.ipynb'\n",
    "\n",
    "# q = 'SQL'\n",
    "# q = input()\n",
    "inq = input('Input search strings separated by whitespace:').split()\n",
    "\n",
    "for filepath in glob.iglob(pattern, recursive=True): # recursive= True: include subdirs\n",
    "    with open(filepath, encoding='UTF-8') as file:\n",
    "        # print(file)\n",
    "        s = file.read()\n",
    "        found = 1\n",
    "        for search_str in inq:\n",
    "            # if (s.find( q ) > -1):\n",
    "            found = found * (s.find( search_str ) > -1)\n",
    "                \n",
    "        if found == 1:\n",
    "            print(filepath)"
   ]
  },
  {
   "cell_type": "code",
   "execution_count": 4,
   "metadata": {},
   "outputs": [
    {
     "ename": "NameError",
     "evalue": "name 'pd' is not defined",
     "output_type": "error",
     "traceback": [
      "\u001b[0;31m---------------------------------------------------------------------------\u001b[0m",
      "\u001b[0;31mNameError\u001b[0m                                 Traceback (most recent call last)",
      "Cell \u001b[0;32mIn [4], line 1\u001b[0m\n\u001b[0;32m----> 1\u001b[0m data \u001b[39m=\u001b[39m pd\u001b[39m.\u001b[39mread_csv(\u001b[39m'\u001b[39m\u001b[39m/Users/velo1/SynologyDrive/GIT_syno/data/video_games_sales.csv\u001b[39m\u001b[39m'\u001b[39m)\n\u001b[1;32m      2\u001b[0m data\u001b[39m.\u001b[39mhead()\n",
      "\u001b[0;31mNameError\u001b[0m: name 'pd' is not defined"
     ]
    }
   ],
   "source": [
    "data = pd.read_csv('/Users/velo1/SynologyDrive/GIT_syno/data/video_games_sales.csv')\n",
    "data.head()"
   ]
  }
 ],
 "metadata": {
  "kernelspec": {
   "display_name": "Python 3.10.5 64-bit",
   "language": "python",
   "name": "python3"
  },
  "language_info": {
   "codemirror_mode": {
    "name": "ipython",
    "version": 3
   },
   "file_extension": ".py",
   "mimetype": "text/x-python",
   "name": "python",
   "nbconvert_exporter": "python",
   "pygments_lexer": "ipython3",
   "version": "3.10.5"
  },
  "orig_nbformat": 4,
  "vscode": {
   "interpreter": {
    "hash": "aee8b7b246df8f9039afb4144a1f6fd8d2ca17a180786b69acc140d282b71a49"
   }
  }
 },
 "nbformat": 4,
 "nbformat_minor": 2
}
